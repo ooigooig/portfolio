{
 "cells": [
  {
   "cell_type": "code",
   "execution_count": 99,
   "id": "b67a0798-7f1e-4daa-8238-2a7f6920b9bb",
   "metadata": {},
   "outputs": [],
   "source": [
    "import os\n",
    "import requests\n",
    "from dotenv import load_dotenv\n",
    "from bs4 import BeautifulSoup\n",
    "from IPython.display import Markdown, display, update_display\n",
    "from openai import OpenAI"
   ]
  },
  {
   "cell_type": "code",
   "execution_count": 100,
   "id": "a7cd7413-1cb0-4162-8416-aeeb5b1be513",
   "metadata": {},
   "outputs": [],
   "source": [
    "# Load environment variables\n",
    "# Save OPENAI_API_KEY in the .env\n",
    "load_dotenv(override=True)\n",
    "api_key = os.getenv('OPENAI_API_KEY')\n",
    "openai = OpenAI()"
   ]
  },
  {
   "cell_type": "code",
   "execution_count": 101,
   "id": "f6a22ecf-0fc6-4f61-9bb4-6b0b99ec9840",
   "metadata": {},
   "outputs": [],
   "source": [
    "system_prompt = \"You are an assistant that analyzes the contents of a portfolio website \\\n",
    "and provides a short summary, ignoring text that might be navigation related. \\\n",
    "Respond in markdown.\""
   ]
  },
  {
   "cell_type": "code",
   "execution_count": 102,
   "id": "97a529ed-a72e-4230-ae5b-aedb307fa855",
   "metadata": {},
   "outputs": [],
   "source": [
    "def user_prompt_for(website):\n",
    "    user_prompt = f\"You are looking at a website titled {website.title}\"\n",
    "    user_prompt += \"\\nThe contents of this portfolio website is as follows; \\\n",
    "please provide a short summary of this website in markdown. \\\n",
    "If it includes CV, then summarize these too.\\n\\n\"\n",
    "    user_prompt += website.text\n",
    "    return user_prompt"
   ]
  },
  {
   "cell_type": "code",
   "execution_count": 103,
   "id": "952a91f5-9144-4d01-b654-7d74b8252a14",
   "metadata": {},
   "outputs": [],
   "source": [
    "headers = {\n",
    " \"User-Agent\": \"Mozilla/5.0 (Windows NT 10.0; Win64; x64) AppleWebKit/537.36 (KHTML, like Gecko) Chrome/117.0.0.0 Safari/537.36\"\n",
    "}\n",
    "\n",
    "class Website:\n",
    "\n",
    "    def __init__(self, url):\n",
    "        \"\"\"\n",
    "        Create this Website object from the given url using the BeautifulSoup library\n",
    "        \"\"\"\n",
    "        self.url = url\n",
    "        response = requests.get(url, headers=headers)\n",
    "        soup = BeautifulSoup(response.content, 'html.parser')\n",
    "        self.title = soup.title.string if soup.title else \"No title found\"\n",
    "        for irrelevant in soup.body([\"script\", \"style\", \"img\", \"input\"]):\n",
    "            irrelevant.decompose()\n",
    "        self.text = soup.body.get_text(separator=\"\\n\", strip=True)"
   ]
  },
  {
   "cell_type": "code",
   "execution_count": 104,
   "id": "6cfcd09b-ee48-4045-8dcb-54f2f4c5140f",
   "metadata": {},
   "outputs": [],
   "source": [
    "def messages_for(website):\n",
    "    return [\n",
    "        {\"role\": \"system\", \"content\": system_prompt},\n",
    "        {\"role\": \"user\", \"content\": user_prompt_for(website)}\n",
    "    ]"
   ]
  },
  {
   "cell_type": "code",
   "execution_count": 105,
   "id": "23656f5a-f94d-4263-87af-3dda80653e86",
   "metadata": {},
   "outputs": [],
   "source": [
    "def summarize(url):\n",
    "    website = Website(url)\n",
    "    response = openai.chat.completions.create(\n",
    "        model = \"gpt-4o-mini\",\n",
    "        messages = messages_for(website)\n",
    "    )\n",
    "    return response.choices[0].message.content"
   ]
  },
  {
   "cell_type": "code",
   "execution_count": 106,
   "id": "1080e75f-8575-4f6c-88c7-3d106c864778",
   "metadata": {},
   "outputs": [],
   "source": [
    "def display_summary(url):\n",
    "    summary = summarize(url)\n",
    "    display(Markdown(summary))"
   ]
  },
  {
   "cell_type": "code",
   "execution_count": 107,
   "id": "85952600-0278-47a2-947c-8360e64b85ac",
   "metadata": {},
   "outputs": [
    {
     "data": {
      "text/markdown": [
       "# Summary of Howard (Huaye) Zhan's Portfolio Website\n",
       "\n",
       "## About\n",
       "Howard (Huaye) Zhan is currently a student in the AI-Software Engineering Technology program at Centennial College, with a focus on Big Data and Machine Learning. He is seeking a position as a Data Engineer/Machine Learning Engineer in the Greater Toronto Area starting in Spring/Summer 2025. He holds a Bachelor’s degree in Robotics Engineering and Automation from Guangdong University of Technology, where he completed a thesis on Human Pose Estimation Based on Deep Learning. His experience includes working at ZMROBO as a ROS software engineer, developing AI robots and educational courses.\n",
       "\n",
       "## Projects\n",
       "Howard has participated in multiple projects, including:\n",
       "- **Sentiment Analysis on Movie Reviews** using a predictive model with pre-trained BERT.\n",
       "- **Facial Recognition and Identification** through unsupervised learning.\n",
       "- **ETL study on Environmental Quality vs. Housing Prices** in Canada.\n",
       "- **Modeling Traffic Collision Events in Toronto**.\n",
       "- **Infant Gut Microbial Biomarkers** presentation at IUBDC.\n",
       "- Secured third place in the **TTC-Hackathon** at Centennial College.\n",
       "\n",
       "## CV Summary\n",
       "- **Current Education:** AI-Software Engineer Technology, Centennial College.\n",
       "- **Previous Education:** Bachelor's in Robotics Engineering and Automation, Guangdong University of Technology.\n",
       "- **Work Experience:** \n",
       "  - ROS software engineer at ZMROBO.\n",
       "  - Designed educational courses and developed robotic products.\n",
       "\n",
       "## Personal Interests\n",
       "In his free time, Howard enjoys jogging, playing frisbee, reading, listening to various music genres, and exploring new interests.\n",
       "\n",
       "## Blog\n",
       "Howard has shared insights on various topics in his blog, including AI ethics, MySQL syntax, and neural networks.\n",
       "\n",
       "--- \n",
       "\n",
       "This summary highlights Howard Zhan's educational background, professional experience, projects he has worked on, and personal interests, providing a comprehensive overview of his portfolio."
      ],
      "text/plain": [
       "<IPython.core.display.Markdown object>"
      ]
     },
     "metadata": {},
     "output_type": "display_data"
    }
   ],
   "source": [
    "display_summary(\"https://howardzhan2025.top\")"
   ]
  },
  {
   "cell_type": "markdown",
   "id": "a8082271-480b-49eb-95ee-128d09b0e9cf",
   "metadata": {},
   "source": [
    "## Add streaming "
   ]
  },
  {
   "cell_type": "code",
   "execution_count": 108,
   "id": "1a5e93c6-33d8-4554-b6fa-376c2632d6a9",
   "metadata": {},
   "outputs": [],
   "source": [
    "def stream_display(url):\n",
    "    website = Website(url)\n",
    "    stream = openai.chat.completions.create(\n",
    "        model=\"gpt-4o-mini\",\n",
    "        messages=[\n",
    "            {\"role\": \"system\", \"content\": system_prompt},\n",
    "            {\"role\": \"user\", \"content\": user_prompt_for(website)}\n",
    "          ],\n",
    "        stream=True\n",
    "    )\n",
    "    \n",
    "    response = \"\"\n",
    "    display_handle = display(Markdown(\"\"), display_id=True)\n",
    "    for chunk in stream:\n",
    "        response += chunk.choices[0].delta.content or ''\n",
    "        response = response.replace(\"```\",\"\").replace(\"markdown\", \"\")\n",
    "        update_display(Markdown(response), display_id=display_handle.display_id)"
   ]
  },
  {
   "cell_type": "code",
   "execution_count": 109,
   "id": "8367a95f-c018-43d7-aa18-48e9b2da75c0",
   "metadata": {},
   "outputs": [
    {
     "data": {
      "text/markdown": [
       "# Howard (Huaye) Zhan - Portfolio Summary\n",
       "\n",
       "Howard (Huaye) Zhan is a current student in AI-Software Engineering Technology at Centennial College, focusing on Big Data and Machine Learning. He obtained his Bachelor's degree in Robotics Engineering and Automation from Guangdong University of Technology, where he conducted his thesis on Human Pose Estimation using Deep Learning. \n",
       "\n",
       "## Current Interests\n",
       "- Data Engineer\n",
       "- Machine Learning Engineer\n",
       "\n",
       "## Work Experience\n",
       "- **ZMROBO**: Worked as a ROS software engineer designing AI robots and developing educational courses.\n",
       "\n",
       "## Projects & Achievements\n",
       "- Participated in various projects, including:\n",
       "  - *Sentiment Analysis on Movie Reviews* (Dec 2024)\n",
       "  - *Facial Recognition and Identification* (Nov 2024)\n",
       "  - *ETL Study on Environmental Quality and Housing Prices in Canada* (Aug 2024)\n",
       "  - *Traffic Collision Model for Toronto* (Aug 2024)\n",
       "  - Presented a paper on **Infant Gut Microbial Biomarkers** at IUBDC 2024.\n",
       "\n",
       "- Achieved third place in the TTC-Hackathon at Centennial College (Mar 2024).\n",
       "\n",
       "## Interests\n",
       "In his free time, Howard enjoys jogging, playing frisbee, reading, and listening to rap and rock music.\n",
       "\n",
       "## Blog\n",
       "- Latest topics include AI ethics, MySQL syntax, and a blog post on Generative AI tools.\n",
       "\n",
       "## CV Summary\n",
       "- **Education**: \n",
       "  - B.Sc. in Robotics Engineering and Automation\n",
       "  - Currently studying AI software engineering.\n",
       "\n",
       "- **Skills & Focus Areas**:\n",
       "  - Big Data\n",
       "  - Machine Learning\n",
       "  - ROS (Robot Operating System)\n",
       "  - Deep Learning\n",
       "\n",
       "- **Professional Experience**:\n",
       "  - Developed educational content and advanced robotic technologies at ZMROBO.\n",
       "\n",
       "Howard is actively seeking opportunities as a Data Engineer or Machine Learning Engineer, aiming to start in Spring/Summer 2025 in the Greater Toronto Area (GTA)."
      ],
      "text/plain": [
       "<IPython.core.display.Markdown object>"
      ]
     },
     "metadata": {},
     "output_type": "display_data"
    }
   ],
   "source": [
    "stream_display(\"https://howardzhan2025.top\")"
   ]
  }
 ],
 "metadata": {
  "kernelspec": {
   "display_name": "Python 3 (ipykernel)",
   "language": "python",
   "name": "python3"
  },
  "language_info": {
   "codemirror_mode": {
    "name": "ipython",
    "version": 3
   },
   "file_extension": ".py",
   "mimetype": "text/x-python",
   "name": "python",
   "nbconvert_exporter": "python",
   "pygments_lexer": "ipython3",
   "version": "3.12.2"
  }
 },
 "nbformat": 4,
 "nbformat_minor": 5
}
