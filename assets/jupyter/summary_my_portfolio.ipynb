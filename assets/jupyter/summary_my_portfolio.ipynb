{
 "cells": [
  {
   "cell_type": "code",
   "execution_count": 24,
   "id": "b67a0798-7f1e-4daa-8238-2a7f6920b9bb",
   "metadata": {},
   "outputs": [],
   "source": [
    "import os\n",
    "import requests\n",
    "from dotenv import load_dotenv\n",
    "from bs4 import BeautifulSoup\n",
    "from IPython.display import Markdown, display\n",
    "from openai import OpenAI"
   ]
  },
  {
   "cell_type": "code",
   "execution_count": 25,
   "id": "a7cd7413-1cb0-4162-8416-aeeb5b1be513",
   "metadata": {},
   "outputs": [],
   "source": [
    "# Load environment variables\n",
    "# Save OPENAI_API_KEY in the .env\n",
    "load_dotenv(override=True)\n",
    "api_key = os.getenv('OPENAI_API_KEY')\n",
    "openai = OpenAI()"
   ]
  },
  {
   "cell_type": "code",
   "execution_count": 26,
   "id": "f6a22ecf-0fc6-4f61-9bb4-6b0b99ec9840",
   "metadata": {},
   "outputs": [],
   "source": [
    "system_prompt = \"You are an assistant that analyzes the contents of a portfolio website \\\n",
    "and provides a short summary, ignoring text that might be navigation related. \\\n",
    "Respond in markdown.\""
   ]
  },
  {
   "cell_type": "code",
   "execution_count": 27,
   "id": "97a529ed-a72e-4230-ae5b-aedb307fa855",
   "metadata": {},
   "outputs": [],
   "source": [
    "def user_prompt_for(website):\n",
    "    user_prompt = f\"You are looking at a website titled {website.title}\"\n",
    "    user_prompt += \"\\nThe contents of this portfolio website is as follows; \\\n",
    "please provide a short summary of this website in markdown. \\\n",
    "If it includes CV, then summarize these too.\\n\\n\"\n",
    "    user_prompt += website.text\n",
    "    return user_prompt"
   ]
  },
  {
   "cell_type": "code",
   "execution_count": 28,
   "id": "952a91f5-9144-4d01-b654-7d74b8252a14",
   "metadata": {},
   "outputs": [],
   "source": [
    "headers = {\n",
    " \"User-Agent\": \"Mozilla/5.0 (Windows NT 10.0; Win64; x64) AppleWebKit/537.36 (KHTML, like Gecko) Chrome/117.0.0.0 Safari/537.36\"\n",
    "}\n",
    "\n",
    "class Website:\n",
    "\n",
    "    def __init__(self, url):\n",
    "        \"\"\"\n",
    "        Create this Website object from the given url using the BeautifulSoup library\n",
    "        \"\"\"\n",
    "        self.url = url\n",
    "        response = requests.get(url, headers=headers)\n",
    "        soup = BeautifulSoup(response.content, 'html.parser')\n",
    "        self.title = soup.title.string if soup.title else \"No title found\"\n",
    "        for irrelevant in soup.body([\"script\", \"style\", \"img\", \"input\"]):\n",
    "            irrelevant.decompose()\n",
    "        self.text = soup.body.get_text(separator=\"\\n\", strip=True)"
   ]
  },
  {
   "cell_type": "code",
   "execution_count": 29,
   "id": "6cfcd09b-ee48-4045-8dcb-54f2f4c5140f",
   "metadata": {},
   "outputs": [],
   "source": [
    "def messages_for(website):\n",
    "    return [\n",
    "        {\"role\": \"system\", \"content\": system_prompt},\n",
    "        {\"role\": \"user\", \"content\": user_prompt_for(website)}\n",
    "    ]"
   ]
  },
  {
   "cell_type": "code",
   "execution_count": 30,
   "id": "23656f5a-f94d-4263-87af-3dda80653e86",
   "metadata": {},
   "outputs": [],
   "source": [
    "def summarize(url):\n",
    "    website = Website(url)\n",
    "    response = openai.chat.completions.create(\n",
    "        model = \"gpt-4o-mini\",\n",
    "        messages = messages_for(website)\n",
    "    )\n",
    "    return response.choices[0].message.content"
   ]
  },
  {
   "cell_type": "code",
   "execution_count": 31,
   "id": "1080e75f-8575-4f6c-88c7-3d106c864778",
   "metadata": {},
   "outputs": [],
   "source": [
    "def display_summary(url):\n",
    "    summary = summarize(url)\n",
    "    display(Markdown(summary))"
   ]
  },
  {
   "cell_type": "code",
   "execution_count": 32,
   "id": "99f008b3-aa1c-4db1-92a7-b40d2ca3fa0a",
   "metadata": {},
   "outputs": [
    {
     "data": {
      "text/plain": [
       "\"# Summary of Howard (Huaye) Zhan's Portfolio\\n\\n**About:**\\nHoward (Huaye) Zhan is a student pursuing AI-Software Engineering Technology at Centennial College, focusing on Big Data and Machine Learning. He aims to secure a position as a Data Engineer or Machine Learning Engineer in the Greater Toronto Area by Spring/Summer 2025. Howard holds a Bachelor's degree in Robotics Engineering from Guangdong University of Technology, where he completed his thesis on human pose estimation using deep learning. His professional experience includes working as a ROS software engineer at ZMROBO, designing AI robots and developing educational courses.\\n\\n**Projects:**\\nHoward has participated in a variety of projects, including:\\n\\n- **Sentiment Analysis on Movie Reviews** using PyTorch (Dec 2024)\\n- **Facial Recognition and Identification** modeling with unsupervised learning (Nov 2024)\\n- **Environmental Quality and Housing Prices** ETL study (Aug 2024)\\n- **Traffic Collisions Model** in Toronto (Aug 2024)\\n- **Infant Gut Microbial Biomarkers** research presented at IUBDC 2024 (Jul 2024)\\n- Various hackathons and data science competitions, achieving accolades such as securing third place at a Centennial College hackathon.\\n\\n**CV Summary:**\\n- **Education:**  \\n  - Currently studying AI-Software Engineering Technology at Centennial College.  \\n  - Bachelor's in Robotics Engineering from Guangdong University of Technology (2015-2019).  \\n\\n- **Work Experience:**  \\n  - Worked as a ROS Software Engineer at ZMROBO, focusing on AI robotics and educational course development.  \\n\\n- **Extracurricular Activities:**  \\n  - Engagements in hackathons, volunteering at conferences, and active participation in academic projects.  \\n\\n**Interests:**\\nIn his leisure time, Howard enjoys jogging, playing frisbee, reading, and music, particularly rap and rock.\\n\\n**Blog Posts:**\\nRecent blog entries cover topics such as AI ethics, MySQL syntax, generative AI, neural networks, and CI/CD practices with GitLab.\""
      ]
     },
     "execution_count": 32,
     "metadata": {},
     "output_type": "execute_result"
    }
   ],
   "source": [
    "summarize(\"https://howardzhan2025.top\")"
   ]
  },
  {
   "cell_type": "code",
   "execution_count": 33,
   "id": "85952600-0278-47a2-947c-8360e64b85ac",
   "metadata": {},
   "outputs": [
    {
     "data": {
      "text/markdown": [
       "# Portfolio Summary: Howard (Huaye) Zhan\n",
       "\n",
       "**Current Focus:**  \n",
       "Howard (Huaye) Zhan is pursuing a Data Engineer/Machine Learning Engineer position, anticipated to start around Spring/Summer 2025. He is a student in AI-Software Engineer Technology at Centennial College with a primary focus on Big Data and Machine Learning.\n",
       "\n",
       "**Education:**  \n",
       "- **Bachelor’s Degree in Robotics Engineering and Automation**  \n",
       "  Guangdong University of Technology (2015-2019)  \n",
       "  - Thesis: *Human Pose Estimation Based on Deep Learning*\n",
       "\n",
       "**Professional Experience:**  \n",
       "- **ROS Software Engineer** at ZMROBO  \n",
       "  - Designed multiple AI robots and developed educational courses based on the company's robotic products.\n",
       "\n",
       "**Interests:**  \n",
       "In his personal time, Howard enjoys jogging, playing frisbee, reading, listening to rap and rock music, and exploring new experiences.\n",
       "\n",
       "---\n",
       "\n",
       "## Projects\n",
       "\n",
       "Howard has participated in various projects, showcasing his skills in data science and machine learning, including:\n",
       "- **Sentiment Analysis on Movie Reviews** (Dec 11, 2024)\n",
       "- **Facial Recognition and Identification** (Nov 01, 2024)\n",
       "- **Environmental Quality and Housing Prices in Canada** (Aug 20, 2024)\n",
       "- **Traffic Collision Events in Toronto** (Aug 10, 2024)\n",
       "- **Infant Gut Microbial Biomarkers** (Jul 15, 2024)\n",
       "\n",
       "**Significant Achievements:**\n",
       "- Led Team 10 to third place in the **TTC-Hackathon of Centennial College** (Mar 28, 2024)\n",
       "- Developed courses on ROS Car for the university while at ZMROBO \n",
       "\n",
       "---\n",
       "\n",
       "## CV Highlights\n",
       "- **Education:** \n",
       "  - Bachelor of Engineering in Robotics and Automation, Guangdong University of Technology.\n",
       "  - Current studies in AI-Software engineer technology at Centennial College.\n",
       "  \n",
       "- **Work Experience:** \n",
       "  - ROS Software Engineer at ZMROBO with hands-on experience in robotics and AI course development.\n",
       "\n",
       "- **Technical Skills:**\n",
       "  - Proficient in various machine learning frameworks and data science tools.\n",
       "\n",
       "---\n",
       "\n",
       "**Latest Blog Posts:**\n",
       "- *AI Ethics* (Oct 20, 2024)\n",
       "- *Understanding MySQL Syntax* (Sep 25, 2024)\n",
       "- *Generative AI* (Sep 13, 2024)\n",
       "- *Neural Networks* (Aug 23, 2024)\n",
       "- *GitLab CI/CD* (Jul 01, 2024)\n",
       "\n",
       "--- \n",
       "\n",
       "**Conclusion:**  \n",
       "Howard's portfolio reflects a strong foundation in engineering and practical experience in machine learning and robotics, complemented by a commitment to ongoing learning and contribution to relevant projects in his field."
      ],
      "text/plain": [
       "<IPython.core.display.Markdown object>"
      ]
     },
     "metadata": {},
     "output_type": "display_data"
    }
   ],
   "source": [
    "display_summary(\"https://howardzhan2025.top\")"
   ]
  },
  {
   "cell_type": "code",
   "execution_count": null,
   "id": "d2d2dcf3-49dd-428e-b717-7535199e8497",
   "metadata": {},
   "outputs": [],
   "source": []
  }
 ],
 "metadata": {
  "kernelspec": {
   "display_name": "Python 3 (ipykernel)",
   "language": "python",
   "name": "python3"
  },
  "language_info": {
   "codemirror_mode": {
    "name": "ipython",
    "version": 3
   },
   "file_extension": ".py",
   "mimetype": "text/x-python",
   "name": "python",
   "nbconvert_exporter": "python",
   "pygments_lexer": "ipython3",
   "version": "3.12.7"
  }
 },
 "nbformat": 4,
 "nbformat_minor": 5
}
