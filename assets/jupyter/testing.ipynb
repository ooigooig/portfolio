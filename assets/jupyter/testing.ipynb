{
 "cells": [
  {
   "cell_type": "markdown",
   "id": "766eefac-0969-41f1-bbe6-353e61bbcd59",
   "metadata": {},
   "source": [
    "### interview\n",
    "### https://github.com/ni3choudhary/Sentiment-Analysis-Google-Play-App-Reviews/blob/main/sentiment_analysis_with_bert_and_hugging_face_using_torch.ipynb"
   ]
  },
  {
   "cell_type": "markdown",
   "id": "83952a04-dbd5-4af2-88ef-bc5266999265",
   "metadata": {},
   "source": []
  }
 ],
 "metadata": {
  "kernelspec": {
   "display_name": "",
   "name": ""
  },
  "language_info": {
   "name": ""
  }
 },
 "nbformat": 4,
 "nbformat_minor": 5
}
