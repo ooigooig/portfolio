{
 "cells": [
  {
   "cell_type": "code",
   "execution_count": 2,
   "metadata": {
    "id": "xrbsJ9W5tlsY"
   },
   "outputs": [],
   "source": [
    "import pandas as pd\n",
    "\n",
    "df = pd.read_csv('train.tsv', sep='\\t')\n"
   ]
  },
  {
   "cell_type": "code",
   "execution_count": 3,
   "metadata": {
    "colab": {
     "base_uri": "https://localhost:8080/",
     "height": 206
    },
    "id": "1F7kUABkHkj1",
    "outputId": "e7667d98-1929-4a6d-a60d-c0c34500b248"
   },
   "outputs": [
    {
     "name": "stdout",
     "output_type": "stream",
     "text": [
      "<class 'pandas.core.frame.DataFrame'>\n",
      "RangeIndex: 156060 entries, 0 to 156059\n",
      "Data columns (total 4 columns):\n",
      " #   Column      Non-Null Count   Dtype \n",
      "---  ------      --------------   ----- \n",
      " 0   PhraseId    156060 non-null  int64 \n",
      " 1   SentenceId  156060 non-null  int64 \n",
      " 2   Phrase      156060 non-null  object\n",
      " 3   Sentiment   156060 non-null  int64 \n",
      "dtypes: int64(3), object(1)\n",
      "memory usage: 4.8+ MB\n"
     ]
    }
   ],
   "source": [
    "df.info()\n",
    "df.isnull().sum()\n",
    "df.drop(['SentenceId','PhraseId'],axis=1,inplace=True)"
   ]
  },
  {
   "cell_type": "code",
   "execution_count": 4,
   "metadata": {},
   "outputs": [
    {
     "data": {
      "text/plain": [
       "Sentiment\n",
       "2    79582\n",
       "3    32927\n",
       "1    27273\n",
       "4     9206\n",
       "0     7072\n",
       "Name: count, dtype: int64"
      ]
     },
     "execution_count": 4,
     "metadata": {},
     "output_type": "execute_result"
    }
   ],
   "source": [
    "df['Sentiment'].value_counts()"
   ]
  },
  {
   "cell_type": "code",
   "execution_count": 5,
   "metadata": {},
   "outputs": [],
   "source": [
    "df['label'] = df.pop('Sentiment')"
   ]
  },
  {
   "cell_type": "code",
   "execution_count": 6,
   "metadata": {},
   "outputs": [],
   "source": [
    "sentiment_mapping = {\n",
    "    0: \"negative\",\n",
    "    1: \"somewhat negative\",\n",
    "    2: \"neutral\",\n",
    "    3: \"somewhat positive\",\n",
    "    4: \"positive\"\n",
    "}\n",
    "\n",
    "# Adding the label_name column\n",
    "df['label_name'] = df['label'].map(sentiment_mapping)"
   ]
  },
  {
   "cell_type": "code",
   "execution_count": 7,
   "metadata": {},
   "outputs": [
    {
     "data": {
      "text/html": [
       "<div>\n",
       "<style scoped>\n",
       "    .dataframe tbody tr th:only-of-type {\n",
       "        vertical-align: middle;\n",
       "    }\n",
       "\n",
       "    .dataframe tbody tr th {\n",
       "        vertical-align: top;\n",
       "    }\n",
       "\n",
       "    .dataframe thead th {\n",
       "        text-align: right;\n",
       "    }\n",
       "</style>\n",
       "<table border=\"1\" class=\"dataframe\">\n",
       "  <thead>\n",
       "    <tr style=\"text-align: right;\">\n",
       "      <th></th>\n",
       "      <th>Phrase</th>\n",
       "      <th>label</th>\n",
       "      <th>label_name</th>\n",
       "    </tr>\n",
       "  </thead>\n",
       "  <tbody>\n",
       "    <tr>\n",
       "      <th>0</th>\n",
       "      <td>A series of escapades demonstrating the adage ...</td>\n",
       "      <td>1</td>\n",
       "      <td>somewhat negative</td>\n",
       "    </tr>\n",
       "    <tr>\n",
       "      <th>1</th>\n",
       "      <td>A series of escapades demonstrating the adage ...</td>\n",
       "      <td>2</td>\n",
       "      <td>neutral</td>\n",
       "    </tr>\n",
       "    <tr>\n",
       "      <th>2</th>\n",
       "      <td>A series</td>\n",
       "      <td>2</td>\n",
       "      <td>neutral</td>\n",
       "    </tr>\n",
       "    <tr>\n",
       "      <th>3</th>\n",
       "      <td>A</td>\n",
       "      <td>2</td>\n",
       "      <td>neutral</td>\n",
       "    </tr>\n",
       "    <tr>\n",
       "      <th>4</th>\n",
       "      <td>series</td>\n",
       "      <td>2</td>\n",
       "      <td>neutral</td>\n",
       "    </tr>\n",
       "    <tr>\n",
       "      <th>...</th>\n",
       "      <td>...</td>\n",
       "      <td>...</td>\n",
       "      <td>...</td>\n",
       "    </tr>\n",
       "    <tr>\n",
       "      <th>156055</th>\n",
       "      <td>Hearst 's</td>\n",
       "      <td>2</td>\n",
       "      <td>neutral</td>\n",
       "    </tr>\n",
       "    <tr>\n",
       "      <th>156056</th>\n",
       "      <td>forced avuncular chortles</td>\n",
       "      <td>1</td>\n",
       "      <td>somewhat negative</td>\n",
       "    </tr>\n",
       "    <tr>\n",
       "      <th>156057</th>\n",
       "      <td>avuncular chortles</td>\n",
       "      <td>3</td>\n",
       "      <td>somewhat positive</td>\n",
       "    </tr>\n",
       "    <tr>\n",
       "      <th>156058</th>\n",
       "      <td>avuncular</td>\n",
       "      <td>2</td>\n",
       "      <td>neutral</td>\n",
       "    </tr>\n",
       "    <tr>\n",
       "      <th>156059</th>\n",
       "      <td>chortles</td>\n",
       "      <td>2</td>\n",
       "      <td>neutral</td>\n",
       "    </tr>\n",
       "  </tbody>\n",
       "</table>\n",
       "<p>156060 rows × 3 columns</p>\n",
       "</div>"
      ],
      "text/plain": [
       "                                                   Phrase  label  \\\n",
       "0       A series of escapades demonstrating the adage ...      1   \n",
       "1       A series of escapades demonstrating the adage ...      2   \n",
       "2                                                A series      2   \n",
       "3                                                       A      2   \n",
       "4                                                  series      2   \n",
       "...                                                   ...    ...   \n",
       "156055                                          Hearst 's      2   \n",
       "156056                          forced avuncular chortles      1   \n",
       "156057                                 avuncular chortles      3   \n",
       "156058                                          avuncular      2   \n",
       "156059                                           chortles      2   \n",
       "\n",
       "               label_name  \n",
       "0       somewhat negative  \n",
       "1                 neutral  \n",
       "2                 neutral  \n",
       "3                 neutral  \n",
       "4                 neutral  \n",
       "...                   ...  \n",
       "156055            neutral  \n",
       "156056  somewhat negative  \n",
       "156057  somewhat positive  \n",
       "156058            neutral  \n",
       "156059            neutral  \n",
       "\n",
       "[156060 rows x 3 columns]"
      ]
     },
     "execution_count": 7,
     "metadata": {},
     "output_type": "execute_result"
    }
   ],
   "source": [
    "df"
   ]
  },
  {
   "cell_type": "markdown",
   "metadata": {
    "id": "xD5LhDhnQRgU"
   },
   "source": [
    "## Dataset Analysis"
   ]
  },
  {
   "cell_type": "code",
   "execution_count": 8,
   "metadata": {
    "id": "_DvujVrytoTQ"
   },
   "outputs": [],
   "source": [
    "import matplotlib.pyplot as plt\n"
   ]
  },
  {
   "cell_type": "code",
   "execution_count": 9,
   "metadata": {
    "colab": {
     "base_uri": "https://localhost:8080/",
     "height": 452
    },
    "id": "GzFPtGPQtsXq",
    "outputId": "95963253-95fc-4454-86c9-38ce9b305de2"
   },
   "outputs": [
    {
     "data": {
      "image/png": "[encoded data removed]",
      "text/plain": [
       "<Figure size 640x480 with 1 Axes>"
      ]
     },
     "metadata": {},
     "output_type": "display_data"
    }
   ],
   "source": [
    "label_counts = df['label'].value_counts(ascending=True)\n",
    "label_counts.plot.barh()\n",
    "plt.title(\"Frequency of Classes\")\n",
    "plt.show()"
   ]
  },
  {
   "cell_type": "code",
   "execution_count": 10,
   "metadata": {},
   "outputs": [
    {
     "data": {
      "text/plain": [
       "<Axes: title={'center': 'Words per review'}, xlabel='label_name'>"
      ]
     },
     "execution_count": 10,
     "metadata": {},
     "output_type": "execute_result"
    },
    {
     "data": {
      "image/png": "[encoded data removed]",
      "text/plain": [
       "<Figure size 640x480 with 1 Axes>"
      ]
     },
     "metadata": {},
     "output_type": "display_data"
    }
   ],
   "source": [
    "df['Words per review'] = df['Phrase'].str.split().apply(len)\n",
    "df.boxplot(\"Words per review\", by=\"label_name\")\n",
    "#df.drop(['Words per review'],axis=1,inplace=True)"
   ]
  },
  {
   "cell_type": "markdown",
   "metadata": {
    "id": "FuYL-p2KvY1R"
   },
   "source": [
    "## Text to Tokens Conversion\n",
    "- Transformer models like BERT cannot receive raw strings as input; instead, they assume the text has been tokenized and encoded as numerical vectors.\n",
    "- Tokenization is the step of breaking down a string into the atomic units used in the model"
   ]
  },
  {
   "cell_type": "markdown",
   "metadata": {
    "id": "yJACVjT0_ZE1"
   },
   "source": [
    "![image.png](data:image/png;base64,iVBORw0KGgoAAAANSUhEUgAABjoAAAIMCAIAAADD0OKlAAAgAElEQVR4Aey96Xcbx5m3/XxNMufMOfk4f9n7vhNbFFYC4Cp5UxwvWeaJEyexZybPM8kkdmJLBLqqG6QsL/HE0b5wB0GggUYDBKldovaFG5buek9VAWBLoiTubAA/nj5UE2h0V113N3zq8l13/S+GHxAAARAAARAAARAAARAAARAAARAAARAAARBwDYH/5ZqWoCEgAAIgAAIgAAIgAAIgAAIgAAIgAAIgAAIgwKCrcBOAAAiAAAiAAAiAAAiAAAiAAAiAAAiAAAi4iAB0lYuCgaaAAAiAAAiAAAiAAAiAAAiAAAiAAAiAAAhAV+EeAAEQAAEQAAEQAAEQAAEQAAEQAAEQAAEQcBEB6CoXBQNNAQEQAAEQAAEQAAEQAAEQAAEQAAEQAAEQgK7CPQACIAACIAACIAACIAACIAACIAACIAACIOAiAtBVLgoGmgICIAACIAACIAACIAACIAACIAACIAACIABdhXsABEAABEAABEAABEAABEAABEAABEAABEDARQSgq1wUDDQFBEAABEAABEAABEAABEAABEAABEAABEAAugr3AAiAAAiAAAiAAAiAAAiAAAiAAAiAAAiAgIsIQFe5KBhoCgiAAAiAAAiAAAiAAAiAAAiAAAiAAAiAAHQV7gEQAAEQAAEQAAEQAAEQAAEQAAEQAAEQAAEXEYCuclEw0BQQAAEQAAEQAAEQAAEQAAEQAAEQAAEQAAHoKtwDIAACIAACIAACIAACIAACIAACIAACIAACLiIAXeWiYKApIAACIAACIAACIAACIAACIAACIAACIAAC0FW4B0AABEAABEAABEAABEAABEAABEAABEAABFxEALrKRcFAU0AABEAABEAABEAABEAABEAABEAABEAABKCrcA+AAAiAAAiAAAiAAAiAAAiAAAiAAAiAAAi4iAB0lYuCgaaAAAiAAAiAAAiAAAiAAAiAAAiAAAiAAAhAV+EeAAEQAAEQAAEQAAEQAAEQAAEQAAEQAAEQcBEB6CoXBQNNAQEQAAEQAAEQAAEQAAEQAAEQAAEQAAEQgK7CPQACIAACIAACIAACIAACIAACIAACIAACIOAiAtBVLgoGmgICIAACIAACIAACIAACIAACIAACIAACIABdhXsABEAABEAABEAABEAABEAABEAABEAABEDARQSgq1wUDDQFBEAABEAABEAABEAABEAABEAABEAABEAAugr3AAiAAAiAAAiAAAiAAAiAAAiAAAiAAAiAgIsIQFe5KBhoCgiAAAiAAAiAAAiAAAiAAAiAAAiAAAiAAHQV7gEQAAEQAAEQAAEQAAEQAAEQAAEQAAEQAAEXEYCuclEw0BQQAAEQAAEQAAEQAAEQAAEQAAEQAAEQAAHoKtwDIAACIAACIAACIAACIAACIAACIAACIAACLiIAXeWiYKApIAACIAACIAACIAACIAACIAACIAACIAAC0FW4B9xCwLIsxtjKykq1WpU7bmkZ2gECIAACIAACIAACIAACIAAC7UFADscYY7ZtyzGabdvt0XX00l0EoKvcFY+2bU25XGaMLS0tOQk0viidL2IfBEAABEAABEAABEAABEAABEBgJwg0hmDValVaqkqlshMXwjlB4KUEoKteiggH7B4BS/wsLy9Ll797F8aVQAAEQAAEQAAEQAAEQAAEQAAERFKVbdsNbyVHZwADArtPALpq95njimsQePDgwf379x8+fPj48eNHjx7dv39/ZWVlfn7+Hn5AAARAAARAAARAAARAAARAAAR2hcCdO3ceP368uLj4+PHjxrCtoa4ar2AHBHaBAHTVLkDGJV5O4F/+5V/+6Z/+6Z/Fzw9+8IPvf//73/ve9374wx/KV/AbBEAABEAABEAABEAABEAABEBgpwn88Ic/lGOxYDDIGJO1qzAf8OUDWhyxAwSgq3YAKk65cQLf//73l5aWqtVqqVSSn25U9bPxAwIgAAIgAAIgAAIgAAIgAAIgsPME5Fjso48+6u/vZ4w1RmcbH+HhEyCwVQLQVVsliM9vC4F//ud/vn//vjwVZkdvC1KcBARAAARAAARAAARAAARAAAQ2RGBlZYUx9vHHH0ciEcZYtVqV9YU3dBIcDALbQgC6alsw4iRbJfC9731Pzo5uLJIqs6u2el58HgRAAARAAARAAARAAARAAARAYN0EqtXqf/zHf/T398vV2xtTAtd9AhwIAttDALpqezjiLFsk8IMf/GBhYaHhqho7WzwtPg4CIAACIAACIAACIAACIAACILB+ArZtf/TRR729vViuff3QcOROEICu2gmqOOeGCUBXbRgZPgACIAACIAACIAACIAACIAAC200Aumq7ieJ8myQAXbVJcPjY9hKArtpenjgbCIAACIAACIAACIAACIAACGyCAHTVJqDhIztBALpqJ6jinBsmAF21YWT4AAiAAAiAAAiAAAiAAAiAAAhsNwHoqu0mivNtkgB01SbB4WPbSwC6ant54mwgAAIgAAIgAAIgAAIgAAIgsAkC0FWbgIaP7AQB6KqdoIpzbpgAdNWGkeEDIAACIAACIAACIAACIAACILDdBKCrtpsozrdJAtBVmwSHj20vAeiq7eWJs4EACIAACIAACIAACIAACIDAJghAV20CGj6yEwSgq3aCKs65YQLQVRtG1rIfsBh7auNdtcVW7/RTB1j11/EvCIAACIAACIAACIAACIDAlghAV20JHz68fQSgq7aPJc60BQLQVVuA12wflebJ5s2uVm3HX8yyKrZVYqzMbLHxnQqzuauqik18yOLH2BV+WHWZVVbEfs1YiQMkEKm0mg0O2gsCIAACIAACIAACIAACe0oAumpP8ePiqwSgq1ZZYG8PCUBX7SH83b50Q1DVd6pVu1JpZEgJG9UwVkJXyeyqKmPLFf63zbjY4kqL8a20+KiekMXFVv0HuqpOAv+CAAiAAAiAAAiAAAiAwLoJQFetGxUO3FkC0FU7yxdnXycB6Kp1gmqdw7irslipzMoVPvlPqKtKlVkil0p0sz7jzxY74vUVxpYZW2GswthSubK8vGjb1bqraggv8WnpwlqHF3oCAiAAAiAAAiAAAiAAArtBALpqNyjjGusgAF21Dkg4ZOcJQFftPGOXXUHqpKrFKla1zOf6rTC2wNg9xu4y9kBsDxl7yNgjx3bL5gc8EK9IaVVl/AR1Y+XoI3SVAwZ2QQAEQAAEQAAEQAAEQGCdBKCr1gkKh+00AeiqnSaM86+LAHTVujC13EEVoZqWGbtZYRM3LW369od/zx1URg6QkX4y1k9H+unIATJ8gJ4/QM+/oZz++JvJvxl39PvsWpWbrMeMPa7w9CpZ06ourTANsOVuFHQIBEAABEAABEAABEBgtwhAV+0WaVznJQSgq14CCG/vDgHoqt3h7Kqr8FpUIqNqboGp45ff10YPxia6Vd1H0l7N9Mgtbni1jDeu+zQ9TBP9h88dGjjzS214aOr65SpPs7pfZSXoKlfFFY0BARAAARAAARAAARBoZgLQVc0cvZZqO3RVS4WzeTsDXdW8sdtoy+UsPZtxzfSIscw9Frtw+afKaO9fR3piepjm98fyPm3WG5/1abN+dSao5oJatlPNRmimK5o4SKZejw6/S4cHhi/mF3mO1bJYNFCkVlXqqwTyOlaOsusbbSOOBwEQAAEQAAEQAAEQAIE2JQBd1aaBd1+3oavcF5O2bBF0VZuEveGqbKGZ8otsYOzaoSPn+j4f7lfTYZLxKYY/XvSqRa9a8KlmgBpBvmVChG8R1QhGp3uUZN/A8HvKhWOp+asV7rwqNXwVvlagXRHqCrqqTe4pdBMEQAAEQAAEQAAEQGA7CUBXbSdNnGsLBKCrtgAPH90+AtBV28dyL8/0ZH3z+tJ+fOU/y7IqDVe1UuW11R8z9uXMgzcGR3uVCz3xRFBJBLW0h6Yas/8Cairo2AJqxqOYfnUmTHNdsak3YiM/o+fOX154KBK1eC4VF1XQVXt5A+DaIAACIAACIAACIAACzU4AuqrZI9gy7YeuaplQNndHoKuaO3711q9HV1UZK9tcV9222H+ezQeVkU46EYonfTQRHMp41WmflgqofKu5KqoH1IxPNXhBK3V2Py16ST5M9APKxKHo2cHElXmRqCWm/lWYDV1VDwb+BQEQAAEQAAEQAAEQAIGNE4Cu2jgzfGJHCEBX7QhWnHSjBKCrNkrMnce/QFfZdtXmk/T4Qn5VMX1vdoG9SUc9h8c7tXRAVFgPD5l+qgepHqK6mP1nBIkZIEUvnfWolz3q5f3alVfp7H5SCGlmj5I4cPjsf3yTKC6zxVr5qtXsqidb4k5aaBUIgAAIgAAIgAAIgAAIuI4AdJXrQtKuDYKuatfIu6zf0FUuC8gmm/OkJFqdDGhzSWU1dFVFTN9L3ljsHRj1kExgaGY/NfZTw6/l9yt6UMvKSlUhUtNVPjrrpau6ykNngmo+FEseHLjwzsBJ4xFbqJWvshqTAe2awNpkR/AxEAABEAABEAABEAABEGhPAtBV7Rl3F/YausqFQWnHJkFXtUbU19JVFa6SntRVZaGrzs3e7SaJjsHZfUMXfxSf2RcvvqrlX1Uy/kEzoOpBNRWictODNBOkhk81PXTGoxX5ioEkF4olX6cTb3123Fjg1dZLnKDFy1eJUuvQVa1xR6EXIAACIAACIAACIAACu0wAumqXgeNyzyMAXfU8Mnh9VwlAV+0q7h272HN1Va3auiVnApZsbpdO5252xyY8WnGfOtMxOOs5enFfvPgKzXnjeZ+aedJYpYKigpWHGD5tJqAV/UomrEy/oSUPfX4iu8hktXXeLeiqHQsuTgwCIAACIAACIAACINAOBKCr2iHKTdFH6KqmCFPrNxK6qjVivCFddSZ3/Y3Pz3fF0p2xNJ/3p+b96oxPm/HQvFczfaoRoKubTzV4tXWa89Jcp1bwK+luVT9IJt86clrqqhXG6tXWLWbz/WprMEUvQAAEQAAEQAAEQAAEQGAXCUBX7SJsXOpFBKCrXkQH7+0aAeiqXUO9uxdaLV/FmFWt8mrrVbGQ3wpjZ80bbx0+f0DRuxU9HNMDUT1Azc7Buf3E9NGCTzWf3QLU8CmZADWCNNMTz3UPjL15+FRmdTKgnA/Iu/ikONvdTuNqIAACIAACIAACIAACINC0BKCrmjZ0rdZw6KpWi2iT9ge6qkkDt75mr0oruTJgSRirM+b8a9FRWVU9yA2UzKXilipATWdqVWPfT7Kdas5PcsJYGd1K8lD0vP6YrwwoUqv4hVbzqsRL62shjgIBEAABEAABEAABEAABEOAEoKtwH7iEAHSVSwLR7s2ArmqRO8CR1OTYFUlPsnyVKLouddWp/Hx/bLyhota1s6qruNKKkNRb0WH9MVvh+ESddcbLY1VkehV/pUW4ohsgAAIgAAIgAAIgAAIgsDsEoKt2hzOu8lIC0FUvRYQDdoMAdNVuUN6FazgclWMXumoX0OMSIAACIAACIAACIAACILANBKCrtgEiTrEdBKCrtoMizrFlAtBVW0bojhM4HJVjF7rKHdFBK0AABEAABEAABEAABEDgZQSgq15GCO/vEgHoql0Cjcu8mAB01Yv5NM27Dkfl2IWuapoAoqEgAAIgAAIgAAIgAAJtTgC6qs1vAPd0H7rKPbFo65ZAV7VI+B2OyrELXdUi4UU3QAAEQAAEQAAEQAAEWp4AdFXLh7hZOghd1SyRavF2Qle1SIAdjsqxC13VIuFFN0AABEAABEAABEAABFqeAHRVy4e4WToIXdUskWrxdkJXtUiAHY7KsQtd1SLhRTdAAARAAARAAARAAARangB0VcuHuFk6CF3VLJFq8XZCV7VIgB2OyrELXdUi4UU3QAAEQAAEQAAEQAAEWp4AdFXLh7hZOghd1SyRavF2Qle1SIAdjsqxC13VIuFFN0AABEAABEAABEAABFqeAHRVy4e4WToIXdUskWrxdkJXtUiAHY7KsQtd1SLhRTdAAARAAARAAARAAARangB0VcuHuFk6CF3VLJFq8XZCV7VIgB2OyrELXdUi4UU3QAAEQAAEQAAEQAAEWp4AdFXLh7hZOghd1SyRavF2Qle1SIAdjsqxC13VIuFFN0AABEAABEAABEAABFqeAHRVy4e4WToIXdUskWrxdkJXtUiAHY7KsQtd1SLhRTdAAARAAARAAARAAARangB0VcuHuFk6CF3VLJFq8XZCV7VIgB2OyrELXdUi4UU3QAAEQAAEQAAEQAAEWp4AdFXLh7hZOghd1SyRavF2Qle1SIAdjsqx+1xddSA2GqSZADV8qhmgZoAaQZqRW0DN+FT+ulcteNVC7QCSDdNcQMnJgyMk+VbsvP6YLUt8lsVsy2as+hKaFrNfcgTe3hQBizG5berT+BAIgMDOEqg/ofLbufH72Ys++fVdf7/+cf6Y4wcEQAAEQKCVCUBXtXJ0m6pv0FVNFa7WbSx0VYvE1jHIceyuravOmDdejw6HiR6g3En5aCFAjRDVwzTZpaWCVN9PjX1qsSN+qSN+yaPOekk+ohaCA9lOJReO5wMkHYmNH/jseG6ZLTLGDVTVYtUKq1Zt264wVhavNUZkdUNlMVZh9qpVqb8ujm6RMOxcNwS3OrL6vxKdAMsqHG9NWgkt2AiAo1GN18SOZTeOdxyDXRAAgW0lIL/6KsyuMMviUr9hn+QDKS9Wezi5+q9r/cZx8ukWZ5AffvJJ3tbW4mQgAAIgAAJ7SQC6ai/p49oOAtBVDhjY3TsC0FV7x35br+wY9jh2n6ur3hy4UNdVRa8qdVUqTJP+aCKoZQNH5zoG516lMx6t6FdnOmnef1jvooUQMb3RdETTXxuafit6KrvIdZVVZWylxMolVi0zuyJzrBqDqWpNRknb0hhu8b7XnMuTzd1WKK10slVd9QQwDrGhq+TgVvS6EYAnGTRebuw8+T7+AgEQ2HYC9SfUFr6+4aDEN+AzT2LDVclmyKPruqqhpBsfkzvb3mScEARAAARAYI8IQFftEXhc9mkC0FVPE8Hfe0IAumpPsG//RR2DFsfu83TV/GvR4RDJ+Ghjuh/PrgpS3aeaHq3QoRU9WqFTzXXRdC+Z6lGSvZrZ/8WlAMn6B6a7VL03Nvb64ePZRfaolt9TYdUVVl1ipQVmrcg0n8Z4SnS2MURzKBVJ4cnmbj+ZFjmj4Pbk+Lbm+2od5LOEGswbbzVeeR4G4H8eGbwOAttCwOZfiFaJi33u9huPZFXMnpYiqiS+NOUrjQOeeTaf+fLclvbhJCAAAiAAAm4iAF3lpmi0dVugq9o6/O7pPHSVe2KxpZY4RjaO3bV11an8/IHYaIAasjpVo3AVL2V19PKr6lwHLYQ0s0+Z7Pvs9BuHz7xDR9+LJ37xjfHB3wu/PXnx49OXPvou+19/T86usAXGShazy8vMWmb2CrN5ghWznTWsni+qZIefbO6WILTyh1dzLiSwZ7HJV9Yc8Tbs1dOE7Nrg+enX8TcIgMA2EbAZK4lNmin5hDp/P/W68wF37jtV1zY1DacBARAAARBwHQHoKteFpF0bBF3VrpF3Wb+hq1wWkM02x2EvHLvP1VV9yrhX44lUfCagmgny1KqMVy38q3rx1cEr/nixKzb1+ucnfx47/sd/JI9NzU3ffHBlqfqAsXuM3WHsAWN3bO6qZCaVzayKtVKuVqoiR6AiJIjoSX0WTK1Yy2pmwapAebK5m+0/PvcE27q0clanqudnOUfA0FW4cUBghwnI+dEN2VS72pOP4Wo5q/rr9X95qSu5Veo7jVOtfovucBdwehAAARAAgV0jAF21a6hxoRcTgK56MR+8u0sEoKt2CfROX0YObsRVHLtr66qThfk+ZdLDdVXRo5lBmhEzAbmu+pF6Zf/gVb+S7j1y4aMvR/9h3CyssFt1S3VH7Ny0ubS6x9htxu4KdfWIsYeMTwx8LLZFIa3EUMpRY1jMgqlrFO5Waj9PNrf+Kv7dEgEB9RlXxepVnCXz+u/VWGzpmvgwCIDA2gTqj1r9e6/2t0iZtCxef11ussi6fFecSe42dJUzD8tx1NoXxasgAAIgAALNSAC6qhmj1pJthq5qybA2X6egq5ovZmu22DF2cexuTFf5VNM7dMVD8300+R8nzPOXH80zNs+YYbFvrlt/nJr/4Lv8v31jvD+Y+rEy8b429a469rPB4ffpqV8ePfOXc/qJuQfZx+y6UFfLwljVq4CLGYJCVzWGW3VFIgZs9T/W7BlebBSlqqHguOrcZLCf/b269phAzmdoNra1pBUogwAI7BiBRoJVPTFKTpEWS3k6H8zGY8u9Vf0Zr5e7aqRZrSH9d6zlODEIgAAIgMAuE4Cu2mXguNzzCEBXPY8MXt9VAtBVu4p75y7mcFSO3bV11an8/OpkQM0MqDy7qpZgRXOdseSvvyucn+fJUzcY+3Zm4aMTM13qRCie4usGRqe7onro8HQvzXYrqR6aiCjDfeTCQXL2jYGTP49f0Kbumos82WpFjLK4trJXGCszR13hemkrx/S0nSPT/GdujHWF1pPQpHtyAGwYK0sMdBvj3lpGVcNV1T/oGAw3PyH0AARcToCnOopS67XfNnMkP9rSXsnfUkY7nlP+LPOfxiPu3HF5t9E8EAABEACBjRKArtooMRy/QwSgq3YILE67MQLQVRvj5dqjHY7KsftcXdUfG/WphlczvUJXBakeJnqEpA4MpiN/PXX6hn1DzPU7mrz2jjrRHZuI0MkwnYyQRLeS6lb07lgmomRCJBPSsl5lyk8SXYPT3WSye2DkncHsH09dMh7xylYVxlaWH8sS7OVyuVbZqqaxmEgfEBkErqXqjoZJXVWuVQSzmF0SJe15zlq1UuLDXvkjA89nFVWZzez6D7Ns25L178VbzLKqK1Z1pVYuxy6LHXd0Fa0AgRYkYLFqiac3skrVFptQVxW+TqD4afinupPij2RlhVkyL7ViVcti/QrprRq/n5JcLQgOXQIBEACBNiQAXdWGQXdnl6Gr3BmXtmsVdFWLhNzhqBy7z9VVB2LDAVWXusqnGgE1EyZ6j5LoP3L2D2fyVxmf0/dd/t6vvpwIHR6NDJohmgzRZJgmudVSMmHFCBEzQE1fPO/VDF88G4gbfiXlPzLVHZ1+W50eGL58aZktSbhWSSRYsZUqF1iVmq6yxPS0WuJAi0RhZ7phM1a2ebll7qXsMquKdRitEh/NihcrjJUtvkRjqWxbguhT84YqNsfOX6zpQT7QteySiEZZ5L4hEDsTPJwVBJjFrArjyonP/rMZW7HtkngkK/Zq3SrLYhWbp6GWxWNpMdvmT6lVrUqhbHFp5cyafGIflEEABEAABFqEAHRViwSy+bsBXdX8MWyJHkBXtUQYV/+nfGPOSL1ftf8Db4n/O19ibJmxU/kbB2IXgmqqlmClFnyqGSZ6f2z8XeX02auLtxmbvmP97qvxgwMXvNG0b3DOq5k+1eBii5pBUgjQgo/yVQU7qOmNz/gGC17N9JNsiGTCsXT352NvRy/8PXvnkVAkrLoidVXJqukq3rZGxZaavaq3F/8+Q4CPb6tcNvHBKk+GKtfnV1oVxpZtrgUXxbYs5mAui/3HjCe4LTjq3y+K6PODy1bJqtp8uFsWryHB6hnoeAEEtouAbbFSiZUrrGrZ5UqpykriOV0Rv0uM/ym3FfE0ymf5sdjnx1hspdpIoZTf51L7I7tquyKE84AACICAiwhAV7koGO3dFOiq9o6/a3oPXeWaUGytIY6UKsfu87KraroqoGZ8quHRuHsKE/1AbPT33yYKyzy16ovUlbdi5/vUdOfg3I+UvFhDsOhVuaLyqsXG1kEL3viMVy14iOEn2XA8163lepTkwYGR3x6bvCdGXNxMVRar1aqcDLiqXcRUFznTrT6fbWsQWvTTjeyqcnnFtkrCMXHBJFXTI7FKY3GBjV1dvFC8Pzxz90LhzujcwvDFpeGLSxcu8W3kytLUrUruEV/P8aFwWI+qPNPDZpWVlQdi1Izsqha9e9CtPSdgM1ax+Cak86J4Bq+WWfpWdbS4OFpcGp/h22hxcWT28cjs4wsXH56/+PDM7J3MnfJtseLqsvBZyxX5NdkwVtBVex5aNAAEQAAEtp8AdNX2M8UZN0UAumpT2PCh7SYAXbXdRPfofA5H5dh9nq6aPxAbDory6gE149G4fgqRzIHY6MAF86rNZivsT6dzvbExv5LuHCp2KHmPOss3rSg2Ka34b786wzeS95OcX8nw4xU9QtP9avqNw+fyCzy7h09teUpX8dQqkXJl8xFYbZrbHpFz/2UbpdZXyssiu6pSqZQqIoXqHmPZx+yofuf33+V+eXTi3wbH/k0b/YU68jN1+D11RG7v0uGfxsd+/eXUv/9P6svsHXOJS6sFMQAWswtLvBhWvZyz+2mghSDQZAT4pD5WLtmPq1wWX2Ps5PXFT0dmf/td5l117D068VPCt/fo2LvqyLvahXf4NvLzo5P//p1+eLh49iJfoXWBsUUxI1j0HaKqyW4BNBcEQAAE1k8Aumr9rHDkjhKArtpRvDj5eglAV62XlMuPczgqx+5zdVV/bFSUV08FKddVHq0YpMaB2Cgdn71isewy+/W3qS5V3xfVO9VskBpi9p/IrhLV2Xm9KjE3MKjmg8QMEjOkFoLE9MZ0r5IKatnOWPo1ZerU3MIiY7ZdFZLFqvL0AlmASegqa4VBV63jvmroKpERxevblKzqMmN3GTt/eeH/nsj1fXYm/NcLB0iyl0x1HxnvHhjrjvEC+V3KRDdJRGITkYGx3tjY63Tsx7ELH389NXJt+QHjUwhLfI6RWIMMumodgcAhILA5AuUST2Z8xJi5yEj6yvtfjnQNnAlHR3rIdA9J9yrpXjLdS6Z6aKJLnYioiU4y3RlLhj8f7vnLyV8OjR6dulJ87FDMvBENY7W5FuFTIAACIAACLiUAXeXSwLRfs6Cr2i/mruwxdJUrw7LxRjkclQPDYvsAACAASURBVGN3dVTzZO2q+f7YeJBmwiQVojrXVepskJj9sUl1/OJliyWX2PvH0uEhvm5giEz1adNiHUCTeys1E1B1n6YHVD1IM51KNhTLhRUzQoudWtGnmh7N9Mbz3ljuAEl9m3+8wBifBSiWn6tU7bquKjNriW92Rc4QxGTAF4S8MRlQ6D5LLDPGx66jVx58MHj+TWW0W0l2Dc10Ds51KLn9xAwdm/NqGa+W8cVz/kFeDt9DMj6SDinTr9HEwb+e/MPf0/pti4eG3yC2XEnwBQ3AWyAAAlshUKnw6lS3LXZ06tJP6OnIkdMRdSoczwVoIUiKYuO6X37BejXDc/SS5+glv5bvVvU3lNF3o6diZ3OXHvPKg6u5qPKL/smv+600Ep8FARAAARBwAwHoKjdEAW1gjEFX4TZwBQHoKleEYeuNcAxaHLvP1VV9ymSAGiHKdRUvmk5nA7TQF0uQiYs3GMuW2U+/1ANqxj9YCA5MHIynI4ouVgPMBKkeUFMBNRWkepDqnYoeimU7lVxA4UMvbkY0Xn89ODQXOjx+5nJFZFfZYh33qqNholg4r10l03tEytXWIbTuGSS6ilW2+RpjvLD67Ar7/d+n3xg4208SIWJ0KPl9apGPcgcvv0LyHfHCq6rximq+qs3sixf3aXmvZnbGjVAs+RpNvnH4zB+/0y+K0a8llBUC0Lr3Dnq2xwREBiO7vcL+kb37yy/Gej8/3atORQZzrw6kvXTWSy/66KzYaumrHVrx/6Vzrw5d36/OBGmml6Z6Pzvzq6OT3xl3H4o6c2IOb315Dce36h73E5cHARAAARDYDgLQVdtBEefYBgLQVdsAEafYOgHoqq0zdMUZHIMWx+6LdBVf5o9nSOn1uX6FbsJ11TXGsovsgy/TYWUqqGXDlK/3FyJGkPJNZFdlGr/li+IMfNFAMUOQ//ao2V6SOF14tFKjwyt51xtm1RZqF9NZULtqXfePZVerfC2/qqg59YCxI8m7B9VEjzIZIakQMX204NEKHs0M0EKAmgHKZ2t6azM3eZZcgM/oNPxKpjtudsWmfzI4PZS+e1eczbJQZ31dQcBBILAJAlWx4oR+l/3m20K/mo5EExGaDlK+zIVcvEI+sI2n1aOZHRovFOgn2U6SDpFMl6r3q9Nvk7GZFZ5WWebfpFX+fWrZ5bJYu2ITzcJHQAAEQAAEXEkAusqVYWnHRkFXtWPUXdhn6CoXBmUzTaqrIIcVkqeplTh5ajJgnzLJ1ZKY0xcimaDwHRGSJBNzNxjLLbAPj011KZO8CpWaC5Ka7JDK46W/+TCM6v1k4kz+UUk2SJRGEjP+uKuyZaWkVV0FXfKymNvMtji3MrOXGJsrsQ9PXvVHk2GSChM9xANUEMNdI0TkJpQiF4jSIRpBmhGBMwPxgi+a7SHTfzx/eWaZTy/CTMyX0cf7ILB5ArJq1cni4qHBbIgYnUqWP4xE92s5qaik/edzALlfFpZZLfhUk/9/AiUdoEZQzYU08yCZOnWl9Kg2h7cs9b/Ijtx82/BJEAABEAABtxGArnJbRNq2PdBVbRt6d3Ucuspd8dh0a6CrNo2uKT5os2q1bLFqRcwGSt6qvPNFNqikNqGr/FreHzPCA5O/+jo1dauyBF3VFDcAGtm0BCqM3bGYNnGl5/C4tMkBwgv/NfIfpa6Sf9Z+azNSV4WJLv/3QJAa/bHJz88XHj6pq5jNbPjmpr030HAQAAEQeJYAdNWzTPDKnhCArtoT7Ljo0wSgq54m0qR/Q1c1aeDW2WybWValalekrhq+9OgtbborbmxUV/lJzqeanTTfFZv6+dDE6NVF6Kp1RgCHgcDmCFQYu11lR84Vuj8fC9NcmOa4rtKyXpp1Zlc1dJVPNb0iuypMMlJX+Uk2QLI90fGPvxx9KKZSizxLsU4CdNXmooJPgQAIgIBbCUBXuTUybdcu6Kq2C7k7Owxd5c64bLhV0FUbRtZUH+AJFHwNP1Gjnp00bx2MTXSS9EZ1VYCaXpoLazPdSvJng+Nj15YwGbCp7gM0tvkIVBibr7DPzuX7lSk+t5oaAaJ3xg0PyUhdFaQZOVfXp8qqc6aH5vlzWtdVPMGKZHtjE789euEhY8u8XFWF51VVLUzlbb4bAi0GARAAgRcSgK56IR68uXsEoKt2jzWu9AIC0FUvgNNMb0FXNVO0NtxWPi4VuqrErBXGjhs336BTAZKWazuuv3ZVUM3L7KpINPHT+Bh01YYjgQ+AwAYJVBi7WWZ/OZN7TU0FSFYsT5F5ga4KUNOjcK0conqI8smAPtUMUqM3NvGRyK5aqojFBkWpdcwE3GA0cDgIgAAIuJ0AdJXbI9Q27YOuaptQu7uj0FXujs+6WwddtW5UTXmgJcam9eyq48bNQ0PpTjWzUV3F1yCLFzppPnRk4meD4+PXl5Fd1ZT3AxrdPARkdtUnp40+mvTG9HA8z3Op1NXaVUGa4etd8LU7uZbiKZCEZ1c9pav6lMmPvhx90MiusmzG5wg3Dwi0FARAAARAYB0EoKvWAQmH7AYB6KrdoIxrvJQAdNVLETXHAdBVzRGnzbaSV6ipNkqt/12/9tZgyq+kpK4SSzfWVgYMUr4yoBwPB55ZGdCnGMHBmZBaCA9M/uLo5MSNFdSu2mxI8DkQWBeBEmN3bPbnU9keJeGJpruPFnmddZIOxE05GZCvAPiErjJ8tOBTDaGrUmJxTzNAzR4l8Ztjo3cZK/GpwZVqpYQ66+sKAA4CARAAgaYiAF3VVOFq5cZCV7VydJuob9BVTRSsFzUVuupFdJr/PVG7SuqqZcZOmLfe0JJBPlcoFaJ6kJg+ui5dJQVWQMn1kOn3tVHoqua/M9ADtxMoidpVn57JdZOETzV43XT1ieyqp3RVkL5IV91jrMx7XGHM4vODHd/8bgeB9oEACIAACKyDAHTVOiDhkN0gAF21G5RxjZcSgK56KaLmOMAxaHHs8vrccrOYXWWsxNgyY6fy833KpE81fJoeUHX+P/aF74iQJJmYu8FYboF9eGyqS5kMalleG5jwAsDr3/gSV1TvJxNn8o9KjIliwHzKilhv3WKsYvNW1Zpm83XZMaHlZXcZdNXLCOF9EHAngQ3pKpEayYtViewqnj7ZWCiwmyR+/eXoE7rKrkJXuTPoaBUIgAAIbJoAdNWm0eGD20sAump7eeJsmyQAXbVJcG77mMNROXbrTohXOIGuclvMNtYem1kVVpXCcc3sKo9mejXjxZMBkV21Meg4GgS2TKChq3qUhFzj76naVc7sqvXoqhXeJJFdBV215ejgBCAAAiDgNgLQVW6LSNu2B7qqbUPvro5DV7krHptujcNROXahqzYN1HUfXI+u8sShq1wXODSozQnIUuufnsk9T1c9VWqdTwZcM7tKSf762Pg9xqCr2vyOQvdBAARamwB0VWvHt4l6B13VRMFq5aZCV7VIdB2OyrELXdUi4RVTKV+eXQVd1TrxRk9ahYDUVX95oa7i+VarKwO+SFfdrekqMcsb2VWtcpOgHyAAAiDQIABd1UCBnb0lAF21t/xx9RoB6KoWuRUcjsqxC13VIuFdU1fxumM0FayXWvdoJnRV68QbPWkVAuvXVT61ViWwkV0VVHntKo9W8KlmhPDsKuiqVrkv0A8QAAEQWJsAdNXaXPDqrhOArtp15LjgWgSgq9ai0oSvORyVYxe6qglD+ZwmPzsZELrqOajwMgi4iEBDV/XFEkFqBEj2qdpVQZqR2VXQVS4KG5oCAiAAAntEALpqj8Djsk8TgK56mgj+3hMC0FV7gn37L+pwVI7dbdNVIWKECF8ckK8nKLaAyodYYjMC1JQ1vMVbGZ+m+6l+QHGuDFhurFHI+OrrqysDrv65/VBa6ow2J1itiLUdT5h33tCSQVrLrgpQ06sWvKul1sXoV83wHA3K8zKeHAabfpLrIdPva6MTN1aW14ZkyXUca7/XPgavggAIvJxAXVdl+5RJqavkKqtyyT+vWqjrKv6cNrYANeTrXrUgs6u6SeI3XzRqV2Ey4MvJ4wgQAAEQaEYC0FXNGLWWbDN0VUuGtfk6BV3VfDFbs8UOR+XY3R5dFSJmd8zojhlBYnrFjDOvlgmofJH1MNFDsWxAyfvVWa9a2E8zHm0qMJTqJNMHYqPn5hYWbcaqK8x6zCoLzF5hrCJclRxrWcyu8E3aqzX7hRcdBGy7WmVskbHj+Tuvx5O8QrOYDMiDIqYLySFuiNR1FS141aKXzvLf0meJ336S6yXTP1NHJ2+siLLNIhw8Co2twux6jFhdXTEur568uxyNwy4IgMBaBCqM3aqwv5xN9ynjAWr4SbbmkWnt2ZSrefr408o3Hy1InxUkpo8WO7TZjnghoGb6lPHfHR19yFi5dhXLRu2qtYDjNRAAARBoagLQVU0dvlZqPHRVK0WzifsCXdXEwXM23WERHLvbpqsiMTOs8BSqmq6K60Guq5JdajZCckFS9NFZnzbrHyz4BjNedToQm+47Mnrq4vICr7pUZtYCKz9i1gqXV0J5iLY35IizJ9h/PgHLlrrqO66rUmvqqhDJ8I3qQcqzq7xq0UeLYgDMy+LUMuNItp5dVRa6Sl5RpLw1jJVtcWNV22oxg656fmzwDgisTYBnV1W5ruohXFd5ac6pq3y0KHJXMzJHUqZDBtQM34Ru3hef3cd1ld5Hhn/3xfBDUWpdfJFaFjdXqzZ57cvjVRAAARAAgaYiAF3VVOFq5cZCV7VydJuob9BVTRSsFzXV4agcu9ujqwKUJ++IzfRqhk/TA6rUVXqA6Hx6Cy34lRkvmfFpsz51zkeLnXSmNzr13cVKfdl1npVTZawktkpdWskXHQLrRV3Ee2yduorqYcJz38SI1xC5G5luJdWtJCP8db2TpHvo1Lvx8ZGb1oKIhQyB7UTcUFONHee72AcBEFgfgRJjN6vs07PZbjLpU/lUXDl7OkBlIpUZJpmw+CIVk3ZNn2oEVN2n6XK24CuDxVeGDF882UMv/PbY+QeMLTFW4ZtVZuV6sur6moKjQAAEQAAEXE8Ausr1IWqXBkJXtUukXd5P6CqXB2i9zXM4Ksfu9ugqn2p2xM19g6aYA6jzpeioLqer+LV8UM13qjle2Sqq+wcy/lihk852UbN/YOJ/Zkt3GXtss+UqK9lsxYKuWm881z5unbpKjH5DIkZ86EuNEOG6qieWiih6mOgBko6oU28PTl6YZ4/F0LfqEIhPXLrhqmp3FRLinsCDP0DgpQSkrvrkbK6bJBq6KkjMIOH5qkFqRBQ9QniypPxSFalV/H8J8HRIWtgXL+wb5Lqqj1z47RfDDl3FKqz6hGJ+aVNwAAiAAAiAgOsJQFe5PkTt0kDoqnaJtMv7CV3l8gCtt3kOR+XY3R5dJSaRZQKqHqbJME1KD+LReFEV/9BFDzGC0ak+OnVQTfQpkz2x1AFN7/3swo8Pnz5RfPhATF2RNqRsNyof1atWoXDVegMsjlu3rgoRnlTl0Qr74sV98aJHKwSJGeIj5ALPlVOzndr0oaHxC/PWUr0c1VNiqnYXydFw4z0+80gaqw21GweDQPsSKDF2vcr+dC7frSSlrpLFqoKUVwMMESNCUhHCv1fri1eI+bzECCuFICnywnOaGaKpA7HRj4fGHzG2Uv8itcX6C3z+LqxV+95f6DkIgECrEYCuarWINm1/oKuaNnSt1XDoqhaJp8NROXa3R1fxYRXVg2oyTBMhyhek82oGLwCszfrVmc7o1MGBkZ/Gxz78cvJXRyd/Ojj5vjr+0ZeTf/h6eKx4+6FIqqralsXsMl/XTjSJV1gv87ksdhn6YwN34Hp1lRHiiRvcVf1osPjKYLEjXgiSQoiPfhu6aurQ0OjIfJmvDPjUWLcxGJZvNVwV3xGekVWe/sgG+oBDQaC9CNR01dmZbiXJpwGSbK3AHMnwHCtqhEkqLLOrRMkqKa14QSvxwPLac6oZJqnXosP/PjT6pK6qzwV86hFuL8DoLQiAAAi0FAHoqpYKZzN3BrqqmaPXQm2HrmqRYDoclWN323RVQE354klfPOkZTHYM6vsGMx1xM6BmepTEB19nyfCVc7kH2ZvVS4/ZpTK7vML4zr2FhWqtsDpfwapRw1vu1JJ0ZHnvFgnCjndjg7qqI26+MmjymURqJqJkeqKZ7hivkuOn0xFt7O2h8yPzK1xX1bIzRM3mxt0jdxp/1qwWdNWOBxkXaDECJcauWexPdV3VqWRFsSqeQiWLWIWoXp+6ywtX+dSM3ERaq+mJG564HtQm+8m5332xWruqyiwxuxqLq7bY/YLugAAItDsB6Kp2vwNc03/oKteEor0bAl3VIvF3aAXH7jbqqoxP071x3RPXOwZ1bzwV5FP/Rj8ZvX7hqn3TYo8Ye8jYA8ZuMzbP2D3G7jP+4gLj1ZEWGVsWswJLolJSPRVATCuT3qr+UouEY4e6sV5dlQkrYjJgPMPF4qAudJXRHTMiCq9j5afT4fhTuqoxPdMhrRrGSnaHxwi1q3YotDhtyxJoZFf1KEk++y8mdZUeIhm+DiAtyJJVXrXgVQt80UDV8GoZr5aR63h64hnPYCqojfeTM789dv6e+FIVX6SVCi8GuMLk+oAtyw8dAwEQAIH2IgBd1V7xdnFvoatcHJx2ahp0VYtE2+GoHLurfsFiPMGpJLTRqfx8nzLJx0Jijb+QmJPio4UISZKJuRuM5RbYh8emupTJoJbtVHNBYkZo0XMk51PM8GDBH010KyM/JmePGbfmKtxM3WMs94j9T/52dGLuk4mLf5q8+t/j8/89fufPY7f/PHrzkwtXPx++PJi49g/j1sx9+4HNB1hVzt1i9gorPWTVJcaLWOHnZQTWp6vCJBOJpkLRVOfRrGcw5f3C6CB6J53tJHO+GF+6sUPNRI6l3v5idPhmaYWJYJTFxEw+PVMsOMYn/TmKWr2sXXgfBEDgeQSkrvrkzAzXVdQIieUOwiTDJ1kPXeqghX0xw6fN+Icu7ldn9lPDr+V88ZxHzfoUXnzdF8/64+mwljhAz/8qftahq1iZlWxrRXx5WrZtW1YtWdWy+J/Paw9eBwEQAAEQcDMB6Co3R6et2gZd1Vbhdm9noavcG5sNtczhqBy726WrCiF1ruNwrmvoaiCa7RlIvD84NTh9bbbMRVXq1tLhM/pP6YnXDh/vjZ3pVc6HoyNhZTqk8PSBMNG7YtO9RybeiI28T4Z/c3Tsq+T13F17gbFFPgetyqwlVn4MXbWuaK9bV/WouS7V8CpTryqT+9Vk6Gg+pBZ9h82gMhuKz3YoyU5y/m315PDVRyV5j9gWKy9Vlh7bJaEOua6CsVpXTHAQCLyYAF8ZsMI+PZPviyVERSq+OqecCdihze6Pz/kG53zaDHdVxOSKivCa611DZk/cDEZT3mgyRJNd6ljf4RMffzl6T+SrymTVKs92fO5kwIa9enHz8C4IgAAIgICrCEBXuSoc7dwY6Kp2jr6L+g5d5aJgbKUpDkfl2N0eXRWgpm+wuI/kQkMX/UeSr5PkX0dvFKvsFmNnL9779GzmLXq2KzbcM6j3xHNdJBOOpbtUXk6YpxJoZkQ1IzTTHZvqHRgP//n0T+jEH89cHr7NP/5IzA3EsGq9kV+fruJrAg6YPlrwUr3ri1yQTERIInJk+iAxuqPpfjXdq5x/Sz3x4dB3ySu3qpbIrrJkLkZ9rl+1wqyqMFZ1aSWaKG8tpG2sN144DgRETuvNakNXZUJKOiyElE8196nFjvglj1bcT0wPzYfi+S41G4kmepRE95Hx3sPjB2JTB7TpPnW8L3b+zYHjv/9yZL7K51av1Fdc5d+glRWRO8ts266KH5lpVa2KHFaEAARAAARAoKkIQFc1VbhaubHQVa0c3SbqG3RVEwXrRU11OCrH7jbqqoInbvgHpnsGEh98ZY7e4QWqph+w/z109oByxhcd4cVW4jMdSj4wkOtWZ7pUvpigT8n4SS5A+epXfApMLN0bz/Jkq+jkB9/OGFVe6GpR2BIYkBcFt/HeOnUVMb101h+fC1K9h070Dpx+Vx357Tf6n89e/qpQ/rq4/HXh3vG52+eKV28u8xGtVa2NflcYW64yLrBEYXWrKtZtrBXFl6/xWZzVZ9YSbDQQOyAAAk8R4NlVVfbJWZldxXVViPL8KZ9qdmizr9DZ/XwdTyOkGRGa7o1NHDxy/u3oyP+OJ/50/GJ8+vGXM9UviuUvi0v/mFscnnm4IPxXRTyq/GuzkQhZv6plWRBVdRj4FwRAAASajwB0VfPFrEVbDF3VooFttm5BVzVbxJ7TXoejcuxuj64KUqNTzUZouuuz0beOjJKxu1cZu8jYn89efGsoERqafmXQ/H8Gi/9ffO5f1Rm/MhNRC2E106mKwiuqEZAf17JdajYYS3dpfJ5a5K8jaur+bVFLC2VWnhPUZ15en64KUNOrXfLQfB+d+sWxsS/Tl2ceWbLs/SNRAv+eqIt/x+ZV8JcYe2TXyuQ/FPluS0+Vw+dlxSqiyDqvZwVd9UxU8AIIvIhArXbVWrpqf3xun1rs1Ao98VwkNtH12dn3tNE/Hc+NzC5dW+DrVDxi7JbNE1FvM3bbYo/K3CaXV1i1xC1z7YFcLjObOetV2eLnRW3CeyAAAiAAAm4lAF3l1si0Xbugq9ou5O7sMHSVO+Oy4VY5HJVjd5t0FeHpURGSepMk3h24MHqDp1aN3mbv0NFIbNyj6j8aLP7r0OyrRy/uH7oYoAVfTPfFUgGS5jWDVcNLs36qdyp6MJb2Kcb+WC48WOxTM++r48ZDXv29YUM23Ot2+8D6dBVf+0/J9NLUf527dP7qygOxlNitFWbeWkjPL01eezhx9UHi5mLi2uL41ZXxa9WJm2z4emXyDrsoipE9EilvK2IWoCiHL3UVN1bQVe12x6G/WydQWxnwXL5HSQRpppOsZlftU2c8WjFMs13Rid7Pzv18aOJY5vZsiS+xykXVEjNvsMkr5fEb1ti8PXqtMnWplLm0nLm4kLu2lL+1fOl++d4Sd8kyO7VarcqJ1XJWYKWC9Su2Hj2cAQRAAAR2mwB01W4Tx/WeQwC66jlg8PLuEoCu2l3eO3Y1h6Ny7G6PrgrQgkcr+kn2NZr4xeDwTIVdY2wodfPQwJn+2HiEZoJqzktzPsXwx4wQMcM05+OuKusfNH1xbqwCaoZPflEy4WNXfzSQ6yAz/V8U3zh87u+Zm2JEVZbJOztGp1VOvD5d1a0kX49e+PRcIfuQ18K/z9jw7L0jF+Z+f/riT45l3/zCeHNIfzOefludflud/omaeSee/rejyd98lfj0lPmP3N2ZR3y0vMJYiespUcuZlYVSrNgipQOTAVvlfkI/doNAibFrFvvT2ZlndJXRQU1fPB+KJXuPXPj115m/mY8uVXgiVWaFfZ1f+MPx3G++nv75V6m3hiYPDo2/8cXUO0PJ9+KJd4emDmmjh74Y+8XfU59MXD93beXuCs+nkp1p7OxG33ANEAABEACB7SYAXbXdRHG+TRKArtokOHxsewlAV20vzz07m8NROXa3R1f5aGF/fNanGuEjo7/+ZvoaY9cZ+8M/UoeUCz1KQlQOznRRs1vNR0guRIxONRcQy7F7NWM/zXgI91niRdNDZzzqrC9+0RfTf6xNRs+bXFdVV6Cr1nXn1HXV8fydN7RkkGZCVA+oGa9merSCVy3IJLjXosN/OJ7MLfBxb3GZHT6p/2/1/GvR0bAy7SGGN87LWvlJPqwY3TxqM+GY3jMw8SaZeHPgwqHPT/zhu+nx66U79bJiQlSVWc1YcYOFQmPrChYOAgFBoJZdxXXVZJDqAcKf2YDKa1d5+UxAsyc6+q468kX6/lXx1Xr+eulX3+pvDk72Dgz3xsYiaiJAJ33xZPBoOkCng0oyFNd9JBkYSvkHp3zK+KGh8a+Ss3N3FmQJ9nLF4nmQNrNrVeieDYOsTvfs63gFBEAABEBg7wlAV+19DNACQQC6CjeCKwhAV7kiDFtvhMMiOHa3R1cFqOHj4yu9i6Z//bfcTYvdKLP/PlPoU8b56IsaIWKEFf47SHmlqgCt7fD66xqvYBUkZpCXE+abT+WL1gVpppeO/XW0uCyqekOBvOwW4Gv22TavI7XI2Anzzo/ViTDRQ/F8B8l6tIJvcG4fyYc0s+/I6K++GEveKt1mLFtmvz998ZCaOECneGZHdCpADa9mejUehSDlKW8yXp6BVO/RfBdNd8cme49c+Pmx5N+v8CmfYqpmmdkVZldsi88HrNYmCb6svXgfBEBAEOC6qsI+OTPTp4wG1ZSXZuUDyP83QKzQO5jvP3Lyk7M5Xp2Ksb/NrfxkaKKbTIZJKkxSoii7HlBrhkumqUrbJX7ztyIk8WMy/NHfkoZYrZU/s3LWrpgMKOSy8FO1/zDIfEkYK9ydIAACIOBSAtBVLg1M+zULuqr9Yu7KHkNXuTIsG2+Uw1E5drdHV3EJpaaCaipCM7/6W+GWxW6W2R/PzHaTSV6aShML/5FMqCakhK4S5a6krgrWdFVBLhHIR1nU5PJLnfhkbG4Rumo90RbL8zl01a2f0PEISQXi5quKsV/N+4dmO8hMkBpvkdHohcINi12xmDJ9/3V1Ongk2UnSYZLqEoNeGTI5Q1OkePAI+uPFQLzgJ1m/ko6QVHds8lcnrwzf4YXYeXZVQ1fxis5Qi+sJGI4BgRoBvjJghX16ZqZfGQ6qSS/NedWCj/LNrxS7SOad+NnEfT4DN3OH/eY7szM2Iv83gFTJL/0donqPkjg0NP1Z+t6cWLyCT+Fdrsg1Pm3+h9h4xpX8L0Jt5QRECARAAARAwIUEoKtcGJT2bBJ0VXvG3XW9hq5yXUg21yCHo3LsQldtjqb7PvUcXRVUcx0ku58a/qFZj1YMxtI/Ozp9/lr5HmOJWys/i092HR7jSVgkE1LSES0rEuVEgpsoKNbQVcHBGS/NSV3VE8+Gjkz0RMdjU/N3+FzN2nCXZ1fZrF4h/HJy7wAAIABJREFUx32I0CIQcCWBhq6S2VV+kpWuykcLnepc6Eji4+P6DcZuVtkXE7cOHD4boWLOYD1T9eW6imQi0URvbOyQNjr2gGdfci9VqjJLro0AXeXK2wKNAgEQAIHnEICueg4YvLzbBKCrdps4rrcmAeiqNbE034sOR+XYXXUNFrOrYm7XMmOn8vN9Ck+M8ml8LkmIZIKET9CLkCSZmLvBWG6BfXhsqkuZDGrZTjWH7CoX3A88qcm2+SpgYjKgzK5KysJV+6nhi+e9aiGkpD/81ihW2V3G4mMzb0WHe8h0d9zsVHOdJN1J0g1dJSZsygI6PLvKQ4xA3OzUTL+S7taMblXvik78+pv03IOyxWQVZ3kH8QmJLqCBJoBA0xCQuuqTMzM9ZDSgpgIk25gW3akVOw+PD+Xu3WQsfZt9/EXy4MBIz2CqMUv3pa5KPsgiI3KiN3ouOnXlceNbv1QSkwKhq5rmVkFDQQAEQID/Hwfb/uijj3p7e+U+mIDAXhGArtor8rjuEwSgq57A0bx/OByVY7cxcOFTuKCrmje8PMXpCV11R0wGTAaIHhzM8/l9NOtTzW5V//1x87oogvPbwdNvkrGQMu2N6T7FCMdzfuVpXSVHxT7V5AXI4vkA5WXyg7F0ZyzVG8++dvh08ur9FYs7Mn5T8TtITAXkSRv4AQEQWBeBuq4qdpPxgJrqVLIhwmdM8wm51OyOTU4+YDcZOz1Xejc2fJBMBaNTG9VVXWq2myRei4//7tvEzSXxuFrMKpWhq9YVIRwEAiAAAm4iAF3lpmi0dVugq9o6/O7pPHSVe2KxpZY4HJVjF7pqS1Dd9GFeGtmRXfWUrsp4qe4n2T41/V8nzXnGbjH2k8++el2dDCqpjljGr+W7hvLe6HSt1L3wU41S6z7VCA3m/FT3RNORoRm/kvEenuobyvf89fS5wvyiWBSwLqh4psbzVxxzEzC0BQTcQaDE2HyZfXKmGKGTPk0PKXqYyMRGvtBBnzKZX+LpkMeyD96KjvQoyaCSaqxZsb7sKiOiGqFYsk+d/OCrycJdnlQlHbMsuY7aVe64EdAKEAABEFgXAeiqdWHCQTtPALpq5xnjCusgAF21DkjNcIjDUTl2oauaIXbrauNzdZVfy/H1wrRsgOh9NPnHE7l5xhf1e/fI/xygkyHN8Gkz/ngxFM/7Yimuq2ihlk7Fq+Nn5MA4pBl+Je0nWZljFSDZcDx/MDZxIndjScwhrYrsdJFdZTGrinLr6woaDgIB8fhIXRUWuioc0yOKHqS6T810xo2+I6MzS7zOOk3dOaBMdJFMSOPZjhvaeFJkdLpLmfj1t6nc7VLFFo5ZpEJWeQjEfECUWsfdCAIgAALNQAC6qhmi1BZthK5qizC7v5PQVe6P0bpa6HBUjt36QEWs54bJgOsi6dKDuK6yVmtX1bKrgjTjIekASUcGcwGi98Ym/vtE9hZj1xj7Rfxs6PBIKJ73xmc7KF/1T6iotXVVgOidaiZyNO+N6QFqhgeL3oHMQTL1D+PW4tO6qsKsMnSVS28TNMt9BOrZVTNhmvCpmXAs3S11laZ3qtm+z8/fKLN7jJHMvW4yGaZZf2xjroqXr1JznYrerSY/+Fu6cM9akdN3oavcdzOgRSAAAiDwUgLQVS9FhAN2hwB01e5wxlVeQgC66iWAmuVth6Ny7EJXNUv8XtrOmq4q1Uqtr+oqL9VDfMm/6bCa6Y+Nf3KK66rrjL1HTneThE81PVrRoxXryRp8WcAANYPU4MsF1rOrgpSnewRUPjvJp3KlFaCFvljiuHnvMWMrcmoRL7JuMbsitpc2GAeAAAhwAg1dFeHPI9dVEZLi2VUaf+hej41cecweMXYkfTdEJkXVqg1nV8knOkyT//a3lHnfKsnq6iKdCtlVuAtBAARAoLkIQFc1V7xauLXQVS0c3GbqGnRVM0XrBW11OCrHLnTVC5A111sv0lWd8TV01TvkzNO6ituomq7itdU3qassZou0jebih9aCwB4R4Lqqwj45M9OtJPlzp0yHSSqgcl0VUPU3YiPXHrEFxj7X7wbopJicy4Vy3S+vJ9NK+mWjpqvuMeiqPQo1LgsCIAAC20AAumobIOIU20EAumo7KOIcWyYAXbVlhO44gcNROXahq9wRnW1oxaquWmDsuHnvx+qEGPTyIusb1VWN2lWNBchE2XWeXeVTRXYVz8AS2VX5O47sKnE7cVcFXbUNEcUp2oSA1FWfnsn3xFJBYnaSdIimfPxZ4wXXua563NBVU0FqBMnmdJXZ0FVlS67lyefsIruqTW4zdBMEQKBlCEBXtUwom70j0FXNHsEWaT90VYsE0uGoHLvQVS0SXlEsmdeuKjE+sl2PrnrvmewqKaf4XD/HyoDCTxl8GmDNVXFdJZI7zP7Y5PH8nYXVyYByDCwnGrUMWHQEBHaWQImxm1X26Zl8XzQVImaApANqyqsZPpVnTgldZdezqxq6aj1JVY1jZHZVTVcV7lk1XVWrXWWJubz8j/r6npWd7TDODgIgAAIgsAUC0FVbgIePbicB6KrtpIlzbZoAdNWm0bnrgw5H5diFrnJXlLbQmmeyq2giTPQANbw02xk3AiQdptn+2KSjdtWZHiURoKZXLXrVIs/aoPXSVHVdFVAzXs30ypXI6qlV0lUFiXkgOn7CvNVYGdCSg90nb68t9AgfBYG2IFDXVbkDA6mQUvBS3RPXPZrpVQt1XVWVuqqTTDXKyW16MmBNV4kEK/GwQle1xW2GToIACLQMAeiqlglls3cEuqrZI9gi7YeuapFAOiSCYxe6qkXCu0Z2VV1XedRsIG74aZqvMqZM/rleav195UxfLBEkpo8WvWpBTPdb1VU8s0NkVHk106OZMtGjnnglC7EbB6LjJ6GrWuYOQkf2iIDUVX85k3vtSCqsFDyqvm8w49EKXrUYoObrfDIg11VH9NuddDLEFz0wRAWrRvLUy3fE2gi8dtUvv0mt6iquuJnNarrK8d8F8cYe0cBlQQAEQAAEXkwAuurFfPDurhGArto11LjQiwhAV72IThO95xiLOHahq5oohC9uKp/L45wMeEhNhKjOF/5Tc4G46ad6XVflbjF2k7GarqKGjxZ8tOAsrN6YAOhTM566rnJUreKj5RAxXouOns7dXBZLm1UZvzr/efL2enGj8S4IgEBDV71+JBWJFfdr+itDmQ6t6KWzPlpw6qoQmQzRlDDLL1dUzvSruq5KSF1V5Y9rQ3FDV+EeBAEQAIFmIgBd1UzRaum2Qle1dHibp3PQVc0Tqxe21CERHLvbqKv0oJqK0Myv/mbestjNMvuvs7Ni4Tk+myxEuN1YrRCsZsSUFl5LWJRo4XW7ZUUkmTXA99VMlzrxydjcojQgz+9cvd6KPEIOwtowO0CUnrFZpV676pA68ZSuCmrZHp5dtaqrepREY6ExrqsonzxY22rFquqTAdWMo+w6nzYYIpnXosOnc9eXReWbVV31/EjhHRAAgWcJNHSVzK7arz2dXXV5wX7E2ED6dlip6ar6cyrXB3T+5s+vTL+S03ul25LV6BrZVdX612S91HpF2ub6d2kbfn8+Gxa8AgIgAAIuJQBd5dLAtF+zoKvaL+au7DF0lSvDsvFGORyVY3d7dFWAiqrAqt5F07/+W+6WxW5U2P89NxshCT6hTGTi8BLCIosnoGaCaipMkyGakoWTOrTZDq3oiRt8JSyS9ZOch+a9NNtDJz4dnVmo5+vIZj81oJLDrXqPZJpAuVY5eOOQmvkTomyyxdf5WmTseP7Om9q4SMQw/CTXqZl+kvVruW4y+cnJ3G3GrjP2DjkXITwEclgrJhnpMq+qMTFQjopDJBMhqQhJiWO4t2roqjO56yticTEeAlGquT4AbmaWaDsI7CKBRu0qOTnXS3WvxjWxT+XP5uuxkblF9pAxJXW7O8YddIDyt/gmLL/8HaAF/iyT2kTdEMmE+aZHFD1EMvL4MNF/+XV2tdS6zb8uKo4vWN5prOy5i6HHpUAABEBgEwSgqzYBDR/ZCQLQVTtBFefcMAHoqg0jc+cH6kbnmdlatf/PbjG7KmZ1LTN2Kj/fp0xyc6HpAZWPdkSFo0KEJMnE3A3Gcgvsw2NTXcpkUMt2qjkxfOKljnpI+sNvslJX/Z9zF8M0IVNywoohVrwq8jkpqh5UkyGuq/QA5fVZOrRiR7zgjesBrrH4CX3aTIAaverkX0bnHgkbUm04EY63No9F9km+VV0twtKuuopxWWULXfVd4VZDVwWUXEgtrKmrwkT3UV61KkR14bae1VVy9JuJKHzcW6/FLu1k5kBs9LTQVbVZgOKfRqTc+RygVSDgNgIlxuYr7NMzObH0geGnuliFk+dMSV01u8geMEamb/fGxhruqWaspLeqL9ZZt8+GnNsrpBV/bMXBRphkarqKf3Xyb9FKfSbv6n8foKvcdn+gPSAAAiDwJAHoqid54K89IwBdtWfocWEnAegqJ40m3l8djjxVXGgPdFVATfk0bkZERkBBejHusNREF02HSYavPUf0Xjrx59GLDxwDqjr/5+mqhslqw8ksgsmGdVVKZHBIXdUY1pr17CqzMfqVvtKjFUUqHM+G86qFPmX8pMlrV1VFYGyb+yrHjVYPF/4FARB4PoGN6yq5DAK3Wo1N5kU2fssFPZ2/AyqXzh98rc/cq/LJgHaF2ZVGdtXqlGs8wM+PFN4BARAAATcQgK5yQxTQBsYYdBVuA1cQgK5yRRi23gjHIMSxu+p3djO7iusqXrWKTw/kZooPulIhNRGmkxGS5LpKyQVj6T5l9C8jszK7qj4HUIKo6So5xHJkV7WzK9kRXSUqNHNp5aNFjzq7T7v4Spxv++KzHq3Qo0yeECsD1uYTcV3FReGTwdr6vYszgEArE9iUrtKDPAnLufFSgD7V8GqGXM3ToxU64nzjiwxqvN5chKQ++Fov3i1blsXsMrPLzqm7T/53oZWBo28gAAIg0NQEoKuaOnyt1HjoqlaKZhP3BbqqiYPnbLpjLOLY3RtdFVRTAfWJ7Co+5ZDrqkSEpMKKESDFTiV7QBk7Mlwocf/BKwE/Z6spKjnuauOZaJvQVWfCZDW7Sox+M1614FULsmSVXDGQ+8S6rurQZvfF+cazqzSzTxk/kb+51Ch/U9NVqzLReQNiHwRAYE0Cm9JVPK9KZkEGKVdX9Y2/LqSV6dG4qOJlATWewRqkeoQkP/g6VdNVVplZZVZLjeTPrPzvAlzzmjHCiyAAAiDgHgLQVe6JRZu3BLqqzW8At3QfusotkdhiOxyOyrG7V7oqKYxVRhRf5+LDp2ZCaiJCEuFYulPJecicl8z0ksTnF2bEiKr0YmMlM3ra21htTFfdZOw9cibyMl3lVQurCVaq6VVlpobp1fh0pP7Y6Emzpqt47TDoqi0+pPh4WxLYuK7iddaFR5aLAPJlOkX5OV5nUC66Kpa/MPlkQCGgha6qZVfVJwPWdJXwUzVdJSoAIjuyLe9CdBoEQKB5CEBXNU+sWryl0FUtHuBm6R50VbNE6iXtdDgqx+4e6qokT+chRR+d5ek8aiZME91ksoekw2SmQ7veEb8W0sw/jdx4zEQReD6oEovfydbLP59IueKjLOfEwJcAabW3t6Kr+EQhWUZdZmTIKs61gS6vxc4rN4eJLlcPDKqpEE2FaPK12IXT5rXlRnExUbtKpGm0Ye2wVruf0J9dI7BhXcWXWOXfnAFSDJJCkJghwsuoR5TakggRRRfLAmZChK9xwQvPcb1lyJUBzfsWnwQoalfVp+5WRIrkaqbqrvUdFwIBEAABENgoAeiqjRLD8TtEALpqh8DitBsjAF21MV6uPdrhqBy7e6Wr+GRAMeOsECSFEMl0k8nXYufejJ56V534sZruH5rtHSq+OaQfHr+6XB9RrTVLxaoNumqzBVeN1VoHuzY229KwDeiqu4w9mV31Il0lq62Hic7naZJUmCbFlghzXXXutHltSegqPl1TQLf5v9BV2xJTnKQtCGxCV3nprJdebBirEDHDitNYcXXFjZVihBWegSVXBgyRzC++MXP32XJN+jcqzfGy67Uv2vb76myLmwydBAEQaCEC0FUtFMzm7gp0VXPHr2VaD13VIqF0OCrH7o7rKr+S7tTMzmgmGDOCdNavzgS1jIemOsQacxFa7CP6ITr20beJo8nC2JVbxYfVmYcsv8jyS6xYYvNlxiplVuXZAAsVJnMAKiKLSsoRPsqqLMuywcyu2mJCGl/3qu1+tqqrZMmb/erMfnXGp5p+LV+vY2V2qrlORecbSYeoHtH0sDodoqn+6PnThVuLjEljxVcZs6pcW9lyqcC2iwE6DAKbILBZXTUrdVWAculfy7FSjAjNhmkuTHMhYgSUnD9m+EnOS3MeYoQ082ffFKbvsAVbJFKJB1XoqQpjZblOAn8DPyAAAiAAAi4mAF3l4uC0V9Ogq9or3q7tLXSVa0OzsYY5HJVjd8d1VUgzgmouFMuGaT5Aih7FDKg6N1ZawUOM7s8nPv6u+E3+gbHAbjP2gLEFsT1i7D5j9xh7WM/ceWzx/QXG+FtVJiegiYGVXOJqhdkrrLIiR1w1k7UxQM1+9CZ01eluRZZa59lVUlf5Buc8WtFDDE807SE8KSNIDb+S6dQKvNCYYviUTIDoAZIOUr1fGT6em19gbLE+H7Bqi2Ygu6rZ7ya0fxcJbFhXqaZcBkFO2q3XseLVrLiZiumeaMZDDL+WD8QLfi3vIUaAGn6qd6rZn31TSN/nD6wsUyVnT4uZgGVmi9nW8gnexe7jUiAAAiAAAhsiAF21IVw4eOcIQFftHFuceQMEoKs2AMvNhzoclWN3x3VVZND0KXxOSkQtNHRVREsFjoy+oU7++WQheZuLqluMFRg7f6t6LDV/NHljKHElPnlZSVwZmLo5kLgXnbzzZerGscnZ8xcfXq6yu0JsPWRsRQLnRVikrlqWU1qQXfVd4dab2niIpoKUZ1iE1IKfZP1arptMfnIyV58MuIau6qB8QbGgmgtQo1MrRIZmewbzEdX00lmPetGrzfm0Wb+WD6q5oJbtU8b/kbv7SOiqZTHkrVQqVrVsW3xiEX5AAATWQ2Djusrgk6nl+qqa7lMzXi3j1QyPZvqHZvzHZgNfXvIend2n5V+huX1a3j9odsUzXVoqrEz/7CsjfY97/zJjK1X+WzyrIrtKTqnmyZHtmJ66nkjhGBAAARBwAwHoKjdEAW1gjEFX4TZwBQHoKleEYeuNcDgqx+6O66qQxvN0IiQXUQt+ZYYvM6fqETr+pnLh998mr1V5RtXFZXbmysL7Q6M/+SL5+sDoG0cuvHn41JtHTr8Wu9BLEl0k1xPTD0WH3z58/CdHTvyCnD0yXEzeYTft2qCLyxFrWRirMnSVLeTRVnSVP14MxfNBmvHzRKpsOJYOKbo3mvfyuvgFP8kFSG1W4IHY6AnzzgKrJbvVZgDymYAVTCna+iOLM7QJgY3rqkxQTQbVREBL+rSUN657tYwnbnTEjR+RzL8q+o9IpkPN+OI5XzzrUzN+kuwh4weUsd6B8V99k+G1q+qrUtR0lV2uTwasL2fRJujRTRAAARBoQgLQVU0YtNZsMnRVa8a16XoFXdV0IVu7wQ5H5djdcV0VILo3pner+U4l51dmgvFZH0n1xM7/5zej+QfWPZtdW2GDiSsHPz/RrSY7DiciJNet6H3Rif7YeA9NRGial2WJGV2HJw5Exw/GJno/O/M2HfnT2eK5K8v3hCixmG1Vl0WuFS+/UrXbci6gXCSxyjXRImOb0FVyZUCvZvqEq+ok6WAsHSKZHpLupaleJX1AzR6MZw7Qqf7YeH9stD82/taR02fNG49ttmizkhjninvPgq5a+xnEqyCwFoHt0lWeuBEYyncOmeGhXETTO5WJcHSsWxk7QIbfHDj+4+jJQ9Gz//ltKndrZVnWrhKpVcIyW3VdtVb78BoIgAAIgICbCEBXuSkabd0W6Kq2Dr97Og9d5Z5YbKklDkfl2N0NXeUn2R6tEIhmpa7yxJJvDU2eLNy4z9h8lWkjF39CRrqUSY+a7Tx2xU+42BIZPdMBOu2nuk8xfdFc39FZaU9649nu2GT3pyf/89tU5gFPsBJr0pWYXeKpVXa1atXKsmwJV/N9eKu1qxq6ykOMoJLqUvVuzYjQTFeM+6mDfz39c23s99/l/jpyWUnOD+YeDOYXv87dm7u71Kh/LzWhVakylFpvvvsHLd4zAhvXVQafCShSq3waT63yaoZXM3yq4VdSwehUZGC8Pzrytjbx4d9Sfzo7Exu/9FXm+tfZG0OZWyeKD+eXxDekMFZy2Qpe8k/MBLRRZ33P7gJcGARAAATWSwC6ar2kcNwOE4Cu2mHAOP36CEBXrY+T649yOCrH7o7rKilBpK4K0lkfLXiV6d+cvZRf4tMAvzMfv6cmwyTjjc90xAv7Vb6aVRfJhmm2M254B3O+eK5T5aWXXo3mPOqsL37RS/Jhmu1Xpt5Vx/56KnNlmU9ssZll2SVpruQArP2GXVvXVXpAzQTiBZ9qhqjepeqdsWRwIPH6UOZ3/ygm5u2Lj9gtm9e/vyO264zdsNlSxeYZbUIRVmT1Ztc/CmggCLiKwMZ1lelTuZyqlVqnBR9fHNAMk0x3dPpAdPIXQ9MDI9cnbrIbYrb1PZt/2d5m7Cpj82JVhP+fvTeBb+O6731hS44TW0ntNM5WN3VdvzSf1DdJkza5fb23yXtp+9K0eb1db9o4FoVtsHDX5iXes1hxHTvekji2bEsiMHNmAEqyLcnWLkoUN+zLYCFAipRIiRJFUVyxDM79/M8AECRLsiiLJED+8ZlAB4NZzvn9zyA+X/4XGL4CVVQnMxSqroJvJuSwyipUYRirrPTBzqACqAAqgAqUKoC4qlQNbM+jAoir5lF8vPU5BRBXndOiolsljKqkeY1xVTUJ/Hx7eEihgxn6UkuvVXBDCiQhbBWjnD1kdiQh7TrxbgiODLH06k9vCxvWt5ube/+Tj+o2J3VS1MQHLULIQsJGIq8QI1VQli5ghDThvVpnX5XUu1yImZoTVhKofqPlJ47DHccmTyuw0mI12QHZqM4+iKsuk2r9JKXHKH1IOFAjuM1CyCKEzEJIBYtaEtORsJUE6gR3XdPhR7cGxG4lwYw1SumQQrvPUv/QpOdkyj1CA2doZGg8fvxMeGCsZyTXM5I7laZjJams8laAimNqvTFwwCqaprRd0c8Wdh4V+CAKXA2uYogK6L8Y17E/A5iFUL3d/aC947UDvR1D9DjjU8dztHeMRk5nvUNTXacyHSPUM0L9xycjJ8YSJ8d7hqcHU/SUks89p/5ywkCKj+gHGRWeiwqgAqgAKjA7CiCumh1d8aozVgBx1YwlwxNmQwHEVbOh6jxcs4QNlDSvIa6KGolcTQLrdoSP5/K4CmiIBDXUjULQQsIcO6DB1nrwFPypv7V/Yq3Qxdl8ZkdMJ0V1JMIKrkc5IWpmAEUvRnVSFFx+iGwsLM+YQ4FsFENWwdtob2/qODqYgxKB4CqgQO6qXKFG+zyIPJ+3nIF31QlKk5TeJ7bW8521vLfeFqyxh8xCVE8SVSTOOWP6TW2r+UNPbznc2jc1SGkfpa6z9K1E5jeH+p7aIf/47dDDbwYe3BJ4YLP/4S3eh5xdj27xPblNfubd2G8P9r3dnQmMgTfHBEuHA0vfbJpOT0AufJrOMp6ozsAssxTTDCuRzefUwXvPrwIzxlXwY5gwiMkVRDY0d2ub+6tI1ELcqzbudRxKnEiDC2Rvlu4bpK92Dr/QcuTxtzyPbfU//GbogbdiD7wV+9Fb0YffDD221f/EVu8zu6IbOgfbTtHENB1VHa+UNM1OMb48v6rg3VEBVAAVQAUurgDiqovrgnvnXAHEVXMuOd7wYgogrrqYKhW4r4RRlTSvGa4ykvNw1bEM/VVLbw3zrtKRoIEPcCRoFkJ1xP8gf9g9CjEp78ZP19s69HY/J4UNJMiJER2J6BmWAgcrAShVIeYlxAmAsc7bQ0K1vOs3h/p6M+AdAC8FKgMqOcjMsvheM8NV3ZSukVob7O31vKve5q+xy5wAa2At6dbx/jrS9cSWdvfQ9Enmo7EnkX5yW+w+R6i2qctqc1sEv0UMmaWw1Rmp2Rw3S2GLGAJ/N7untqlrjRh48u3woYGp41kgVoAP02mamaaZiXRmIkOVFPPeyJ2X5hlx1eKbsDjiggJXi6u6q4TgCilcJSV1JNIgdbzaFu8dg4cuMUYd3qOPbZEtTZ4a0cvZOy28z8wHDUJEJ8SYB2XEKATMvG/llrBlw+H7Rbfdeyo4Qs+Ca5XCqqziI1kwD/6LCqACqECZKYC4qswMsni7g7hq8dq+rEaOuKqszHH1nSlhVCXNucBVejFkFIIcCZr4YL0YeFjsCE7RQUq3+I/VbDxsFIIGAptJioLn1Axx1TM7I7GJAq6CVOuIq96/MuAQpT2UPkgAV9XybisfNAuq/1rCIHZbSWi1vY34Tx5nMYBvBk49wrc12jqrbe5qu6eaBCxiSG/36+1+lggf2gY+YBICFt5ntbmrbe76psNPbm7fFj42TOm4GgWYAdPkaCZVwFWUUUUWdaQGIeHy+OofbjyzohWYMa4SozohZpBiOhLU8X4jH6kjwR9v93eO0mFKA8dTmw4GfiTsM69v5Tb5rASwlFXwW+BHGNJdQfVPERxUzcRvbHLXEb91Y9sa++EXtnkip7MpSqem8vy/olXFzqMCqAAqsFAVQFy1UC1bceNCXFVxJluYHUZctUDsWsKoSppzgasMUpgjIZMY4uyBWsGn4qqTlDo9fbWb2iyOCFAPIWBi8YAzxVVPvuWTzyKuKtgxC7F3E5TujA9dPndVP+SuOthgb7cKXo4E9aKsEyFhs5GP1PLedW8FYwogxcMD009IbfUbDtXy7moSqJHk2uaoxRFh4Zmy2RHjxJja5kjIKoVrHeEaMVhj76pmkoihAAAgAElEQVTbsP/p7Z6WvvFRNRVOlmYyqSxjVZDSmU3BwjxEXLVAfmNwGFenwNXgKhLWi7LJIZuEQB0fup/4bd7jRyntpXTDAfm+pnfrmvbXOcL1m5MWErYIQSvkBARcZSTsrwIMV8GfEIRAnVOulUL1vGv16/vshxJHJyG2elE6qF6d9fAsVAAVQAXmWgHEVXOtON7vEgogrrqEMLh7bhVAXDW3es/a3QpsoMAKijfK58BWaC7LcpdMUbovdqKed0EgnhQ0ihDEx0Fio7hV8ApdPYOURsbpU1s91byLk8ImMcIiAS8eDAjOU3BM2CyFVVz1EGkPTELuKsnVW2/rqG6O6YWAGgyoFeSZ4qqfbvWcw1UsGFDNXVUc3qJpzCAYcJhCJuZH+QMN9k4z8eskucoRrWI1AatFuXZD+1vh0SEK6Wxeete7kj9c7wwY7R693ZdPey+EdSRikGKcs9sgdqvFBHX2oIFn+dqFoBGcsDyrScdL+6IDbFKBZSD6D3w38rgq702lliTLsNpki8ZWOFBUoESBmeMqWS+GDCRocUC6wNU2z5NOv3cE+PLu/vQTWzprbPurHS6WNzCq3RS0ilEzHzCrNSsEiLnWEYi/NgoBqzO6YpPHKIRrJLne1vUI6dgdHxtVH9KSHmITFUAFUAFUoHwUQFxVPrZY5D1BXLXIJ0C5DB9xVblY4gP2Y55wlYEP6EiQI5DqyMQHawVfEVeJXT0N9k6LIwLxLCyf+lXgqp+96UVcxabGzHDVCUqfsAGu4kiwyhH9oTPOcJVcJ0Xu47s8J+kQpft7z95v220ROlYIPs4ZMTpkgxQxSBGIJyIRLR/V8hCUpCdxgxRTU+AbJDjM5IBQI66pa7WttWOITuRojoX+ZWg2QxVw3MgV8RTiqg/4YOPpFa/AVeAqo0PWC36OhGp4/9qNHS/vigxTOkDpMzvDtbbDZtHFSYEVfBD8JUncLMatJGQFF9cIJ0IUISdGTGIYPF6lsJ6XLZuP6Oxhiz2wytb56sF++Qw4WOELFUAFUAFUoDwVQFxVnnZZhL1CXLUIjV6OQ0ZcVY5WuYo+zROuMgpBvQhONyYxZOKDdcRfxFWSq7eR7zKJYR3vB8BB5KtItX4ersqmWIKkxRnJMjNcNUTpE/b9DXYXR0JVjvgPnYkqBxRhNNu9P3s7HBoB9zfSmfyRs93s8GuboyuksFaETQdRSFG24u02kjgndnNit0GKMR8reQUJrSAhrRg2OCEFe92mVsk7NJpnVTSVg8qAOapQ1aUvP43P+3AVUxtPQQUqWoGrwFUmwFUBnT1YKwTWbji0xXPiDKWJKfqQ2GWyew2OkN4R1gohoyNuELtXNEHeQBOkWge/yKJrlZG5tVbZQ0Znr5Z01zq7q23uxzf7A6OF8OqKlhU7jwqgAqjAAlUAcdUCNWzlDQtxVeXZbEH2GHHVAjHrPOEqCEhxyBfgKv8E0JBmb/8q4uZISC8ELM1q1b8Zp1ovBgPmIAgQcdUV5a4aplCZ8fE8rpKrpMRyR0InRTkSrLZ7ntvfk5ygQzm6viW8kj+83OatcnavcMZ0zohOknUEVrxGEmVZq6JQT5CXDQJ4XRkkdoAkGzbHlksxk0Nu5Lte2Rsfp+BdNTWdzlHItg6RRgojVszLaoE8XzgMVOBqFZg5ropyYgTYkz1c74iu3di6Nzl2SqHy6exaoYP9hSBqcMa1QmgFHzQ4wfkRvB1JiLlA5vOsQ6lWAv5ZAJql5A+bZBOJ1Yuhxk2HW48jrrpaW+J5qAAqgArMvgKIq2ZfY7zDFSmAuOqKZMKDZlsBxFWzrfAcXX+ecBVbI+W9qzh7oNS7yunpY8FokISFk8IGAdx2MHfV1c6HmXlXsdxV++t5F0dknZjQSgkjkc0kaBW8/7UnGp+kgzn6amuszt6md0SWOxJaKaqTQnoRNiORucJmFqJq2whFx2SdFNJJIa1DXi7FOClcb+t4oyU5rkb/gUtVOr9lz+EqVhzwageN56ECla/AVeAqli4wricJEx9ew7fvPTp1htKuo2dWky4TiRmEmJFETWLYKAbhsXVEIBEhPJ7nlQU0E79ZgMcZ6gyK3UYhXCsEVja1tZ5AXFX5swpHgAqgAgtXAcRVC9e2FTYyxFUVZrCF2l3EVQvEsoirFoghLzWMGeCqkyzNzSPCgVreDbXtCdQENAshqHZPvE/ticcnlcEcfaW1u8bepXfEqqSEToLszsCqwE0DcJVZOLfliRU7QC+GdJK8ApLjhBpsbRtbuifVuoXgVzXNtjQt4KpsvkjgpQaF+1GBha/AVeAqTogbhYSOJA1CuFFs33VsaoTSrv7R1YLbRGIme8wsRC1iiBP9OkdQ74AyguAaKca1ElQGhLBf4rcIfjMkFgRcxYndJj5cJ/hWNbW2oXfVwp90OEJUABWoYAUQV1Ww8RZW1xFXLSx7VuxoEFdVrOnO7zjiqvP1WHCfZoarjlH6UAFXQQoqIWrlg4CrhOC6PYkEw1Uvt/ZU8y6DFNNKCT2rfK+GFHEE3OXMwrlN3QOBRYxn6UVIX2URAyubWje2xKbycy9D6STiqgU38XBAH1SBD4ir6qT2dwanhintOAq4ykJiFlvMao9aCeAqvXRxXGWBh13FVSGDACnYzXywgfes2XSo7bgy9UHHhOejAqgAKoAKzJYCiKtmS1m87gwVQFw1Q8Hw8NlRAHHV7Og651dFXDXnks/tDa8CVx2s5b0ckSERFZGtgt8qQHDQuj29yXF6QqEvtx6ptns4MaIT4ywAECjVBZtZuHCPCq0ugavQu2puJwXerRIUuApcZSTgXaVn3lV1UvuOwRTDVWMqrqq2RWrsUQsJcySol4IGKcxcI88LBrwMrmpHXFUJ0wb7iAqgAotWAcRVi9b05TZwxFXlZpFF2h/EVQvE8IirFoghLzWMmeGqAUof4VtVXKV6TlkFr1XwmgV53e6+I2P0ZJa+3NpfbfeYRIgkKiarYngLyjiqW+nH4jFGImvFiEkKNNha88GAkKFKydF0DtJXnUu1rgYDXmpIuB8VWAwKXAWugoA+EjWSuEkI1Ivt7wxkGK6aWEWg1qrFFrHaoyYxono7clJYbZyfuyoI3lWF3FXoXbUYZhqOERVABRaGAoirFoYdF8AoEFctACMuhCEgrloIVlRzXReSWpeQKzWrEJAOheaylKYoJNndFztRz7sgO68UNIpB8KARIAm6VfAKXT2DlEbG6VNbPdW8i5PCsCiChROU9qsmgXU7wsdz9FiG/qqlt0Zghf9YUSqTGMJU67M5l2aAq4YphVTr9rZa3guJliUwtIW4LcTLCdGndh07OkpPp+krh1Rclc9XZRby0KrIqoBzFbhVMf86HCZEtWKEk0L1trbXD0Kq9VwOShZmaSarFgdknc1nYJ9NUfDaqED5K3BVuApyyXFEtvC+RrF95zFlBIIBVVwVMtvDFj5qkGIqaLaQMMtRFVQzWKl42gyVASFxlV6Makm34VzuKgwGLP8pgz1EBVCBRa0A4qpFbf5yGjziqnKyxiLuC+KqBWL8EkZV0kRctUDMS6HunkKzQIUmKN0ZH1ordbJC9bKRj5jFuEEIG6RIjeB6dW9kmNITlD5uA1ylF+UqZ0jrCHKiiqvi/7VzcHCEjk7TVw8eA+8qKaCXYFkLRQDZZiSQrVkvqlXG8m2IKGTfmgVw+lghxgxSuM7e8drBnjFKszmaZV5VGfCxYmUBFVAeCCpzvFowZsCBoAIzVWDmuApKcAJiFoI1ds8qoX3XUQUqA/ZNrRI7OClg4oOcENU5urUSS0tHwixNld8IxRCgRGAxtheeYjG+giR0Uo9BiFQTyDeHlQFnakE8HhVABVCBuVQAcdVcqo33uowCiKsuIw5+NXcKIK6aO61n9U4ljKqkOYu46qUS7yqjGLrAu2qY0mZ3b4O9kyMhlaToSERdO6lV6tQoFZWJQE0rVtBKpSRQyQ4yfwdrBNdP3uwMj0HBOaAeSprmMsyLhzGQi+ipXOqLixxbYbuuGleFtA7AVUbJywrbR3+x8+ixMxfBVUVWdSlcVSRWRhLXkhgnhWvsXa8cOjIKflXFTckjKoarmMYFV6sKExy7iwpcGwWuBlc5ICmViqvW8O17+s/DVUYhaCSAq3RiHlcBuRbP4SrVwQoiBAmUCwRc5Ugirro25sSroAKoACowywogrpplgfHyV6oA4qorVQqPm1UFEFfNqrxzd/ESRlXSnF1cZS0EA74XV52hdKsr2WjrhDLqJKJ3xLQkppXiWimhE+NQdY6wFRdUXk9UOeI/dMaXO+I6ktSTpF7oBWIlBS1i+4/faguPQwwjeBel01TJ5KiSYnDkvGHmXXgyNMfgSMl3Jc25s8Ys3GkGuOpkPhjwYL09H60J8YAsQZWVDz6zK9F3lg5nzgsGLA36K7ZVN43ix9KGQQhbxFC13fNya/+Y6kEFY34vmVL3nGNXs6AMXhIVKGsFrgJXsdTpAJss9sAavn1vf0YNBlxNOkwi/AHASKIGKaKG6JrEsFGEsG72hObdIfVQxDPIKidApjm9I2YgwVriWbOptX0QQsLxhQqgAqgAKlCeCiCuKk+7LMJeIa5ahEYvxyEjripHq1xFn0qoTEmzSBCufe6ql1p6S3EVJ53LXRWaoOfhKiGml7rP4SopquZVUf/yr+Kq5U65yiEbhQTH9xoBVyV0UsgstT/2dkdgooirsjR7DledS+OtDjin0FyGbczHCgAWvM5XI7+zAv+ZGa5iqdYP1vMuhgUhfw0r/xet4f3P7ooeGaNDhVTrFhIu5VBX1BZDJj5oJSEL7/tN67ExUDNTYFVApko0R1xVgXMNu3xNFbgqXAV8WS9GzXxgDd9ZwFVjq1mqdYMA5RFMYkSlUWqqdch1xQJ19STOnFUBV8EvrRDSkYhBihhIoJZ41m5s7Rxk/qrXdIx4MVQAFUAFUIFrpQDiqmulJF7nAyqAuOoDCoinXxsFEFddGx3n/SolhKCkOT+4KjBJT1O6JR8MKOuEmEHs1gkxKFwlQqCfWmSdI6F89J8oc6LXQtw19lCNLW6xJzk+qZNkTnQ/vM3jnWC+AFmqFp2jhbizAo8q0pEiGTkPV827Za5RBxBXXSMh8TKowNwqMJ+4SggVcBV4V1Uz7yrEVXNrf7wbKoAKoAIzUwBx1cz0wqNnTQHEVbMmLV54JgogrpqJWmV8bAmjKmnOG65iuav66nkXBK0IEYMUY7mrwF/AKIasgtcqeNX0VVBzUAyZRbdVcNfag7W2qNWeMPNxoxiyENdjb3l845BcnAUDAqnKMU+ec6zqnDNPAVep4z/viDI23JV2DXHVlSqFx6ECZaXA3OAq40W9qwQoL6iGY+sAV/nWbGrDYMCymh7YGVQAFUAFLlAAcdUFguDH+VIAcdV8KY/3PU8BxFXnyVG5H0oYVUlz3nDVSUqd7v4iruLECORbYal/ORJkuMrN6qzDagqiAqWQXgyZhajVHrfao1Y+ZBXc9ULrT99sk9VU60o+4GyaQiQLg1Hn86n32q7IrRYCukJc9V4D4x5UoAIUmEtcxQnxQjCgDACLMFzFwrF1JGwVfasQV1XAlMEuogKowKJWAHHVojZ/OQ0ecVU5WWMR9wVx1QIxfgmjKmnOD67yT9IhSiVPf73dbSSyQQgDriJBwFWwglJxlZfhKpkjkKWlyhGtckT1JM4JcbMQtQghK3E1CAeffPOgPMaCAQsVAVOUpbKiaqYqBnEuRaMQV2HuqgXyeOMwKliBecdVWhLTObq1YthKAoirKngmYddRAVRgcSiAuGpx2LkCRom4qgKMtBi6iLhqgVi5hFGVNOcbV/EucJ4SwlC7SmC4isDf/Iu5qyASkEApq+VOebkzqpXiOjEBZQFF2Sh5reLhx99uC0zQcdWdSsnSXJqlsCq851iG7wKuKuKpvE1hv5KvFVjxZkbvqoo3IQ5gcSowr7hK5oRoEVdZxMDKpo42rAy4OCcijhoVQAUqRAHEVRViqIXfTcRVC9/GFTFCxFUVYab372QJoypplgOuChmFYB5XgSMVwCmOBDkCZdchlRXDVVUOqAyoZbnY1XTsKq567O0O7yQdZYGAVEnT3DSlk2xjxErFVUydIqsqwKvC2OGYjBo9+P4ylu8RiKvK1zbYM1TgMgogrrqMOPgVKoAKoAKowAUKIK66QBD8OF8KIK6aL+XxvucpgLjqPDkq90MJoyppFpANVRSay7IwuilK98VO1PMuKJQuBaHYuQAV0PUkbhW8QlfPIKWRcfrUVk817+KksEmMqD5QRiJXk8C6HeHjOXosQ19q6bUKblbdj4X4SSHOHqgj/odIuxoM6PT0Ndg7zSRoEgIqrtKLUBmwio+YHTGzI7bCHoGbNidZXfaQXgoaSFDPhzgxYnVGrA6v1Xbwp9u6gtP0DKXjClVyNJuZUr2rckoqn8uKKrlcTh2ykgMqhbjqJKUDlD7CH6z/wMGAatIxNZxTbet5MLeFhKvFsIX3/frQ0XF4alQ3tyxLiV9qBUbZIE8+vlCBRarAPOIq9sMbXiFEV4ixFQTcWlduPNxxnIVXL1Jr4LBRAVQAFSh3BRBXlbuFFk3/EFctGlOX90ARV5W3fa64dyWcpqQ5b7gKUq0Drmov4irGpKL38lG9s4dzdhuEsI5EODHGEdnM+2qFzpVC52rRtYp31W1qrXvjwGr7gUeklv9qPuA7OX1W9a4CMQB/5IC8QSOjZBUKrEp9Vwf+HlylEpMrVrJMD2SjYIURJyjdGR9aK3WaiR9iLfmIWYwbhLBBitQIrlf3Rq4hrgKr8aFSXKWmzDc0+cx8wGz3/upg/1lQjOEqZpRzpRoL9lIZVpnqit1CBWZZgXnEVUYhaJaiRilhbO42OqK1zuDqpva2AcRVs2xyvDwqgAqgAh9AAcRVH0A8PPVaKoC46lqqide6agUQV121dOV1YgmjKmnOL67qvQBXgWuVlNQ1967gw3q73+qMg2PXho41fPvPna1v7PK84x9wD2YS4/TIJO0Zy8VPjZ8YT2eY0Ll0hmaUXDpFczSbzaYzSpbS0u28UeezVjFXq/O+KC+jzaQ384OrTFKUEyOcGDFJ0WKbk8JmIVQjyTVi8Ldtg+e8qxBXzcSieOwiUWAucZWRFCsDhoxi3rNVRyJVQrDK7rMK7tUbD7UdzU4vEulxmKgAKoAKVKACiKsq0GgLs8uIqxamXStuVIirKs5kF+9wCZQpac4brhoC76qL4Cqts7dKSuh5CEupEYPVtq6HN/vWt/YGh+mpLD1LYRvO0RHWGKf0jAKOAOMZms6BA0+GxTNOKnSawqYGBGYYt4JRg6PVuSHnY9JKvK0uLl1l7J0fXKUWdtTzIZ09qOdDEAlIZE4KG21+1bvqvGBAxFWVMZewl3OqwNzgKr0IMd0X4Kpqh1ztkCGMV4oYSKBO9NzX1OoahBSA+EIFUAFUABUoTwUQV5WnXRZhrxBXLUKjl+OQEVeVo1Wuok8ljKqkeY7dzH3uKsnTV893cgRSrXNSWEfCOjF+L4lrSazGGaknnrpNrU9uD21LTkVT9CSlJyiNnKUH+7Jvy2POwBkpcNYRHHOGxjcHxzcHRraFRneEz7T0TCWm6GkGs6YoPctgloqrFKBTatxf8f0qdCzbU+YHV0HoH5GLm+ppxUnhailSI8lWwf+b1mNF76qcooYEYu6qsp1F2LF5UGAOcVXcKEBlVZ0U1UtBTvSb7F7O5jPwIbMzYnYEa/iOlev3tB9NIa6ah3mAt0QFUAFU4MoUQFx1ZTrhUbOuAOKqWZcYb3AlCiCuuhKVKuCYEkZV0pw3XHWC0vfgqohOjOscSR2JVPOu+qZD67YF9h9ThiiwKs8wtXccf4K0r910aI2to9HmqtvU1cD76myeeru30e5ZxbtW2dof4Nt//nbotZZE+GR2RKETlPleZSEqEJyocmmay7BNJVYLyb9qfnAVJ+bz4quRgFDMkQ9p7T4LCVtJSM1dNQaPR4bmsoirKuCHArs45wrMOq4SI3oxpBdDRpLHVVBxVQRcVS0GzbzPwAfMUthMvPV8+/0b9nmOo3fVnE8CvCEqgAqgAlesAOKqK5YKD5xdBRBXza6+ePUrVABx1RUKVe6HlTCqkuZ84irR21/LuyCajKjeVRGdFOWaezgSsm5sfWxz1/bE+BClp3K0JXb8YXK4dlOHeWN7neitd4YsxGu2u60kUCOFYMVFvCbBUy15q4nHau9cy7f+ZltbV3JonOGqCQVwFaRgV1LAqiiDVuBphbjKZSZBYEysJqORRGt4/7O7okfG6FCWvtzaX233WMh5/lNFRyq1oeZZB0RlC+jsQZVemRwyZw9YSUitDHgWdE6XuLahd1W5/1pg/+ZSgbnCVfJ7cZXJ5qomAXjGhYCJd68iXT/aeKDz6DR6V83lBMB7oQKoACowIwUQV81ILjx49hRAXDV72uKVZ6AA4qoZiFXOh5YwqpJmeeAqVrQOggGl6AohaiWhB/j21w51x9IQAHig+8RT4r5GvqvGGbE4Inq7T8f7zE7Z4pANvF9n8xrFoFEMaonf6AybHGEd76snnvvfePe3OzoO9Y6eVpNYKdlMhmWyyntXnYtKU9Oxl7Pprqxvs+tdpRdlvShzJATBmyRa3DgxYhFD1byrzt6x2uF9fEf30/sHftl6/MXDQ79qO/HCgaNvyiMTQKqyigIOVjQHQZnqDCwkDct7ul3ZMPEoVGChKTBnuEpP4kYS54SoRQjV8u5Ge/vDzZ6n93S/0Dr4/KGB5w8eXX+4/5V3g4kzkPivWKei5P8v1Ef13AN7/oO80OyC40EFUAFUoDwVQFxVnnZZhL1CXLUIjV6OQ0ZcVY5WuYo+law5Sprzg6sCkxDf5/T01QqdelHWkYhBiulIWC/KWhKrFwNP8vv9JzL9lB44RX+2I1LT1GERggyUyEYx9L6bRfA38l1r+fan9ySD03Sc0k5XxxNPPPb2W5tPDh6l2VQ2my2kXQd0otYWBGerfC52aKjt4h5FUYrtbJZ5a1FaujOXyykKeGzN02sWcRXYyBnRikGr5DfzPr0toidJPUmYHUmjELY2dT4mtmz29bmG0rFxsGzfBD2WpgMZeiJDhxXQfxpIFUuFryhUoalpmmIRmumMokxPMJe3eZRuniyGt0UFmAKzjatMYsQohrRCSL+lRyfGuU2+tbzvpe3hluRY9xhNTtL+DD2eo8dTdGCCnkrBAztF6STb1IIVaRUtA+tPw5ZNQWwvpRMp+CnMh1qjNVEBVAAVQAXmRAHEVXMiM97k/RVAXPX+GuERc6AA4qo5EHkublHCqEqa84arhgu4SifJOiFmELsNAuAqnRCrt3tff8czOEX7KV3vGmyQgiYSuyAG7fIfwQnI5rHa3JYmF5HHT2ZpIOT/5jf/54c//KHbPvHx7/3Dd3/605++vX1bPBo7ffpUOqPkKE2n00UapXIr9WM2m70ohCo9uBRazYUpL36P2cVVVUQ2bYlxvNtk91qbe7U2uVqKGTd6VjpC67uGPafpKQoZ7k9RenQctr5x2jdG+8cBXR2Zon0peiyVPjE1PTKeTmWgYuMUpWMKNIBVTY2zUMGLDwz3ogILW4E5wFVmIWQVIeza2OT++bt9W4NTR6boKKVnKD1O6ZFphpgn6LGztG8UHtsj47R3kvawh3eYQhJAKLqaSjFQpYZUA75XmKdkFlHzwp6gODpUABUoMwUQV5WZQRZvdxBXLV7bl9XIEVeVlTmuvjMljKqkWS64ijsfV23zHDtDaTxLH9vcYdrYaRbjl+dTF3wL2a9IaOWWmFXwP7One4TSsYnxFStWaDSa69i2dOnSZR/76J9++Ss63Yrnnn9x2/Z3ksnk5OSkKm86nb6UzkVK9V6GlcvlLnPipS547fbPKq6KVtlk89YenT2oFULc5oRRCDTa2x8ih9/oGDjCcuH3pujhwVxT+5H1ByK/2h18YY/83J7oc3viv9wT/8W+6NP7Qs/u9by02y22xd7xD8TGwAnrFCvgmIOF8DTiqms3E/BKFabAbOMqCwnXkfBK3l/z2oFfvhtpP0qHGVyOjVGH/9gr7clf7pef2Rt+cU/spT2RX+0Kw/O7K/Tblu6XD8Rf3R91uvsP9Y72TeShVaHEakZJTbKyFRmawee3wqYcdhcVQAUqWgHEVRVtvoXUecRVC8maFTwWxFUVbLzSrpcwqpJmWeAqgxAr4io9ia8Sg/uiI6dz1HWa3mffb7V5jXzkAiB1+Y8cCek2uc28r9YRWbWh5dgU1KU7cLBl3bp1/9/f/vUnP/kJjeZ6zXWaJdddDwDruiV/cMed3/jGN+65556XX35ZlmVwIii8VM8pNTZQfVcUJZPJhw9m2eu96Kpw9lz+O4u4imWqiuuEGCvd2L2cD9RvDvzItqvZ3XtEoUOUdk/S1/Z3P9bs+9HWcO3GlpWkvUHoqhM8tYKvmgRMks8keSxSVx1pe4Bvf4Rve+6dyPb4WB9z7kjl0oir5nKi4L3KTYHZxlVWEq61+1c2daxzdrqHwKPqNKV75JPPb/c8KHXUS26zCFu16K4VOhuFtlViR+2mtka+q66pvWHjwfv51h87DwvtvZGz9Czzi5zKZMHdSpmmObYpKcTN5TapsD+oACqwgBVAXLWAjVtZQ0NcVVn2WrC9RVy1QExbwqhKmuWEq0gQqq2T+FqnfCA+OkLpwWPT9/MHqknAIMwMVxmJbJZkMwnWOmP1bxzoGcupCVYmpianpyePHOl5++3tZqvl63/253fddectt3x86Q03ajSapUuX3sBen//856urq5ubm/1+/8DAwNjYWBFaXWoyKOx1qW/nZP+s4iq5Wupe0RTWO3pXOJL32v11pGP9ns6jU7lhSl0D6Zfe9q3d2GbY4Fm+0V/dHDXaPSYoNBY28jGd0L1cTNzj6L7XEdGKYVOTr8Hmb9zY9bDY1Rw4MW1LoK0AACAASURBVMB8q5QsemfMyRzBm5SlArONqyxiyLSp/UGn693E6DCFjHLvehM/FXav3HTAbHdrxUiVI17liGvFsI73m+x+Mx8wiRGzI6a6qdaLgeoNrWs2HXp+R8B1IneG0rGcWms1Q7OTVJkCaMUKrZalutgpVAAVQAUWmgKIqxaaRSt2PIirKtZ0C6vjiKsWiD1LGFVJs7xwlZHhqjWO4P7YmVGGq9baDpjtXk6cWe4q1ffKJIb19uBqe4dvcDxTKHQFA1YgWRXkCR4/Gwj4nn/++R/cc+/3vve9u+66a+nSpUvYS6PRXH/99bfddtt3vvOdVatWiaIYCAROnDgxOTlZTNOey+UymUx5uFYV7Jhl46J0Z3xordRpJn6OyEY+YhbjBlZ+sUZwvbo3cpLSAUof4Q/W8y4zCRqJrBejOoi4jNbw/md3RY+M0aEsfbm1v9rusZAwR2RIfMOHtGJSKyZNUnSl7ZB74Ow4pf1T9OV3XD+yH67jA3qxR7f56L32oNkZMQshsyCb+YRe6F0u9f1AOvIDR8+9UkLbFK0R4o0kWr+p8yHbge3Bo9ML5AHDYaACV6nA7OOqgNXe/uzB7l4KCQFbkieeknau2rQT/KocsRXswVzuSFY5u3WObiOJG+zRe20RnSOpE+NaAdC/lYQsmzoaNh78zf64PAlJrxigyrFUVmlK04irrtL2eBoqgAqgAjNXAHHVzDXDM2ZFAcRVsyIrXnSmCiCumqliZXp8CaMqaRYwB1UUqN2Wz4G9L3ainnfpRVkvBY1i0CyEOCGqJ3Gr4BW6egYpjYzTp7Z6qnkXJ4Wh7BSJsk2uJoF1O8LHc/RYhr7U0msV3BwJ6VktP04KcfZAHfE/RNoDk5A8xenurxU6dZJsECIApIQg4CoxusYRPBAfHaW0dTC9smkfZ/MYpBnjKoMQtjZ363n5foffc2wsxVIFg48VK+qnKpDN5GNYptOpRCKxZ8+e5557Tq/Xf/WrX73ppps0Gs2SJUtUr6tbbrnl85///He+850HHnjg7bff7unpKU1TVUxoNa+mn0XvKo6EzLzPKoW1fNQo9dQQ+Rc7u09SOkJpc1f3Q8IB7foDRkd0efPR7/MJrSBbhGCd4KvjA3X2iIWP60iySkoudyS1UoIjPcaNUcMbgVUk3Lix5cUd7iOjEA2oVh6bVwHx5qjA/Cgw27jKKvrWbHVLPeN9lLYP0xf2BBuadtc2e+C33dFtEJM6IaYVIzpHzOCMm8UeTkjohG6jM2lwxqvsAa0tYGTAuo741wodgm9okGWdm2KPLUtlNT+64V1RAVQAFVicCiCuWpx2L8NRI64qQ6Msxi4hrlogVi9hVCXN+cdVevE8XGWQYmudoZbuM6dytGUgtdp+wEoCWkFWcdjlU1aVfqsXo0ZHXM/LKwWXZ2B8iuGqDFtfQU50Vg2QUiWVnqCUZnP50lapVGp0dPT48ePt7e3r1q373ve+99nPfnbZsmXXs5caLXjrrbfecccdf//3f79u3TqXyzU8PDwxMZFKpdTMVvM3W2YXV5l4t1UK6nm5prnH/JprSzR7mtLkOH3qrY4G0mZpDt8rxf6D9KzYclTPy1bBX2PvqrO56poCFnvYSMB1SyvBu56P1m7u0zXJdc5YTVPbmg27D8RHxpnv2/xJh3dGBeZTgdnGVdXE85Pt3sNnaTeluwdofdMho63D/GbsXiFg5CMWErOKUU4Ka8XwCilsJHFOiBvE7hV82CCEzc4I54wZpJhejBr4QD3vemKzK8KqCqo/qlMZ9heA+dQP740KoAKowOJSAHHV4rJ3GY8WcVUZG2cxdQ1x1QKxdgmjKmmWC64ykZhRCBjFoOpddTAB3lUHB9MqrgL2BA5c8pVvejGq5aMmKd5g7/QOThS9q1QvnoICCqNYl3PtOXPmzJ49ex555JF//Md/vPvuu2+99dYlS5Zcd911GvZaunTpXXfddc899zz33HN79+5NJpNjY2NFxys141Xp/Cn6YV0QQngB6ioepp6rJne/YGfpZVl7lnGV4FNDC6tJtPYNd9sZKO23Nza82nbQQrw6SV7uiBf8pwBXWYnLSlw1vN/CnOZ0UkjnCOocQQ7Ww7JWjBiksFl0ryRtL+0KHM+BWx++UIHFqcBs46oGwf3bvXIiRXspffbdvmp7AAiyo7tKCFuEUA0ftAhBjgS1jlCVM6QX8z+z4FNJYD9zepWBNYtytd3zgNi5Kz4yynKuZwpeq4vTcDhqVAAVQAXmRQHEVfMiO970vQogrnqvJrhnHhRAXDUPos/GLQuEhqoeRuduwTDHfAQDNrNgQNW7SsVVsDQiEAx4Ia4ikFbpylmVmozpmuAqVadsNjs8PBwKhZxO54MPPviv//qvd955ZzFU8IYbbtBoNJ/61Kf+7u/+TqfTPfPMM21tbaMA3M69inwqm80W28UKg+eOY60imSo2ACu+Tzb3WcRVRjHEkZBRCHL2UA2RG5q6OsehIOB2+VSDvZPFe8qq85ROinJEBjtKXqPkNROIJIXlrhTUS369w8tJAaMYgqTOzrBO8tSKHc/sDPYpkAoHX6jA4lRgtnFVI++2t0QGMrQnS598M2G2QUULnaNbK8hWPo+rjGKoyiFXOWQ1dtsIT3HITPwMUgf1oqyV4jopauZ9a/m27eGhsyxhlWqvHIbyLs6Ji6NGBVCBeVIAcdU8CY+3vVABxFUXKoKf50UBxFXzIvu1v2nZ4yqTEGC4Sl7jDBRx1Sr7AQvLv341uEqQP7h3VZEoFRnT5OTkwMBAR0dHc3NzY2PjF7/4xevY60Mf+pDqcnXrrbfeeeedX//61w0GgyiKAwMDKmwqBVVFd6pMJlOau714l+IppcTqsrNiNnEVkTmx2yDE9LZwtRheyXe4p+kJSt8MHG+wuyy8bOFlswDrW70o66RolSO/gUcGievFKNR8lPwMYPk5EtSRsN4RNoieaqHt6XeCvSnEVZe1LX65oBWYfVzVtbk9cZrS7jR9mHisNq+K/qHwHw+bmaUm1EoQscuRoBmKtEb1otqGB1YvylVSQivFAVc1tW7z9U1SmstlaS5NcxmazVzOQ3VB2w4HhwqgAqjA3CuAuGruNcc7XlQBxFUXlQV3zrUCiKvmWvFZul9Z4aoJSLVe9K4y8hETiV2Aq86wYEAVV7E4lJl7VzFc1Wjr9JUEA6rqFsR4/2DAy1hDRU5TU1PxeJwQYjKZvvSlL91xxx0333yzWljw+uuvv+6662677bavfvWrjz32mCRJkUhkeHh4cnJSvWyRhRXvcqm4vyuAVrOKq6IcSRqFhM4eqRaDK/nD7hTgqi3+Y402t4WPWnlw01Dj/qoc0R864z90JpY7EjqS1MMGYURGMciJEBtoFkJqmUIj8dXZ257ZFuidxGDA4hTAxqJTYC5wVWfyNKWRDL3Pfqga6oH6jULAKqqgOcoJCaOQ0JOEkUThCSVBcL8S46qDFUdCOimqhvpahOCappa3PUn4CVPSVJlm71gZcNFNWhwwKoAKzKMCiKvmUXy8dakCiKtK1cD2vCmAuGrepL+2Ny4QmrIIBpwJrjKJoavAVRAPyIfMUrTR3u4bHC/mrlJFLYhxRbgqzV7qiel0Ol9bMJcr9YSilKbT6f7+frW84L333vuNb3zj05/+tJrlaunSpWqFwc9//vM/+MEPfvaznwmC4Pf7JycnU6mUmuKqNNYPksGn05lMRv2qyKqKjYtNjVnHVRyBCmJWElhpa/FOQu6qtwIFXGUHYmURIGZQCyvb+HJHQismjUIvx/cahSQnxDkim0nQIoQsvMwJUbMUtQj+Rnv7C28HjyKuuphFcd8iUWC2cVWD4BY6EkOUhildZdtdR9rMgovj/RZHzEjiRiHB8UmOT5r5BEPPIbMg68SETkxcgKuqpISZBFc1Hdru64Xo3WyK4aoMzWF5wEUyVXGYqAAqUBYKIK4qCzNgJyhFXIWzoCwUQFxVFmb44J0oEJrywlW8C/xuLutddU1wVYbVniukWIE6gKzNEE++PWOJiwF9Kl1Sz1dh1vj4eCAQ2L59+69+9avvf//7n/nMZ5YuXXr99der0YJLliz5zGc+8xd/8Rf//M///Mtf/nL37t0nT568FIp6b772S3R0VnGVDPXCxG4jiVYT3+pN+3zj9DSl24MD9XY3LHeFOBAohqvUeECtxIKJhISZT3LqAWo2HAFYlZ7EjY64mfhX8h0vbgsdm6KZS4wKd6MCC16BOcBVtvbEcUojlK4SdjaKbWahC0pbOOJaCVwgjQKwqhp71GqPmlkZVp2Y0JM448t+FhsoL3ckq6QkR0KrbIe3+/sBV+WyNJumytX+gC54u+IAUQFUABWYHQUQV82OrnjVGSuAuGrGkuEJs6EA4qrZUHUerlk5uGqtA3JXFYMBrw5XcSRk4CHaZZXtcGDw7FXjqiJFyrKXajjV7+kCI6pHFl2ucrlcJpOZnp4eGRkZGBjYuXPnY4899q1vfev2229ftmyZyq00Gs1NN920bNkytbzg+vXrvV7vqVOnpqenp6amVPJVepfixUt3FtqziatEyLNuYu91gm/txn3yGB2ldFvgWA3vr5J6l0u9WilhzPtPQTARJ3pZ6F/el4olv5d1kqwXozqR+V41J/RSsFbofI6tfbEyYMGO+O+iU2DWcRXvEdr7jlMap3SV/d2VpM3CuzgxphWTDEKpMYChWlvIIuS9I9njHLUK3hrBbRH8RgK4arnUayRyg63tTf/ABKVKjuZyNJOjWQRWi27O4oBRAVRgPhVAXDWf6uO9SxRAXFUiBjbnTwHEVfOn/TW9c1niqnq+0yiGwLtKjEDhORIyEhlwVXLkDKUtxzON/EGLCJlT9OLMclcZRcBVZumiuAqEBe8q+J9SIswlBS9Cq+IRRZZUREiljeK3cJOSulnZbDaZTBJCGhoavv3tb999990f/ehHVXSllhfUaDRf/epXV65cabPZDhw4cPTo0enp6dIrFDtw0UZOATelcUp3xk6tcXRyIqwzDULEJEUNJGiQIjWC69W9kSFKj1H6kNBay7uhch8BiqQn4CFVw/uf2xntG1OGsvTl1v5qu89CwpCYWbWOEKgTPA9s3B+doGcp3eYbqOH9y6XeHzp6lzuSehEcrCxC0CL4zcTLiV6oLAYuV7KRAKvSOmS9I6JzxO6Vulc4u7VSoJrveHaHv28Kc1dd1J64c1EoMAe4ytF57ATDVaubdjUKbRbeY3YkV5AE4CpH3EhkixCs4SGvnJp7jiWukq2C1yrAU2wkshZSrQPYqmvq3OI9Nl7wV01T+M0pOK4uCnvhIFEBVAAVmF8FEFfNr/5496ICiKuKUmBjPhVAXDWf6l/De5dQmZIm8Bp1UyC0A6jBFKX7YifqWZieXgoaRVjDqAFcVsErdPUMUhoZp09t9VTzLk4KA2kiUbVyXzUJrNsRPp6jxzL0pZZeq+Bm1eJCRjHESSHOHqgj/odIe2ACMh81u/sb7J2AqIQgJ0Z0JMKYVPQ+ydeaGD5D6YHjtNF+2CIGIGCQIY8ZvZfmrjrfuwpknRGu+uB2KAIstaEoysDAQGdn50svvbRq1aq/+Zu/uf3229Voweuuu27JkiU33HDDH/3RH33ve99bs2bN66+/7vF4RkdHc4WEWel0+gJnrnQGfBwyzHyncvTd+On7mt1G4tM7witIQC8FdbzPKIZqeddv98onKO2n9AG+3WrzcgTqJ3IiZLGxkEi93fv8u/LRs8rJLH3l0LEam89CYkbIxJyE4oAkWEvca5v2hieYd5UbggF1YqJKgq2YYgz4lBgyijB5OAKTB+aPGNVJsg6qjIX0YtQgxXTsas/vCCCu+uATDK9QuQrMOq4S3GL7kZOUxnP0fltLnb0LqiJAMnUo9qeTokYxZGYFAdWs6joxbiRRSDZ3LrxXfaJDJhKrs7m2eo+ruEr9IUVWVblzD3uOCqAClagA4qpKtNqC7DPiqgVp1sobFOKqyrPZRXtcwqhKmvOEq1ii7mZ3H8NVQaMAjj+Aqwgsk87hqkHaYG+3kgCwjxniKr0oa4VzqdbP4arC0qoUV2Uvqtg13XlRD6lMJpPNZicmJgYGBg4fPvzrX/+6qqrqrrvuKoYKqgnaP/e5z/3hH/7hN7/5zYcffnjfvn1nzpyBNMfZ7PQ0JJBRs7zTHOQ7TmXpNAW/p3ejw6uEdk70ryCBFVKQa5Y5KWQSw/W869X9URVXPcgfrrF79PagngfvKoPYbRbjtbxX9a5iuKq/zuaxChFOiEPSdNJjIIFqsasUVzXaXEYC8X2w7hXjqgXzxgIsxUgl4Kq4iqsMYM0gACwxZhDCtcTz/I7AUfSuuqaTDS9WWQrMBa7q6DlJaUKhDzQdqrO5mE9l/oHVizIwZZJ3blX/9gBPKCSbk+GHFJCWzAHP8jNc5dnqPT7BvKuKf+2oLMGxt6gAKoAKVLQCiKsq2nwLqfOIqxaSNSt4LIirKth4pV0vYVQlTcRVEAw4B7iqNCpQUZR0Oq0GD5ZiLLU9NjbW29v74osv/su//Mvdd999++23XxAtuGzZsr/6q7/68Y9/vH///mQyefLkSSBV6Qmanabp6VwO/ONakiMPiF0Gm9sgRbRS1CCFtXaf0eav3dSxfo88TOkJSh8nB1cKLpMQ0PNQexGSLgsxixB6Zleid4wOZemrB4/U27pqBR+U/BMSHKRkDtSKHWubdodZMOAO97FVtk51TQs+GszJTl3lArFCXFX6AGIbFbiEAoirLiEM7kYFUAFUABW4iAKIqy4iCu6aDwUQV82H6njP9yiAuOo9klTmjhJGVdJEXDVHuCqXy2Wz2WJ+q2JY30Un09TUlHpkb28vIeSxxx77/ve/f/fdd3/84x9funSpGi2o0WhuvPHGr33ta1VVVU+ve/Lgzm0nkhE6NU5zdCJL94QGHxQ6aqWQQQhrBRbIIwRrHdE1xPfa3sgJhquesO9eyXdUi0GTQ9ZJ0eViYoXYzRH5v3YnE+P0BOSuOlJn76olHosQBFwFwYC+6ovgKvCiYj4a4I5hFkL5fFWIqy5qXdyJCpyvAOKq8/XAT6gAKoAKoAKXUwBx1eXUwe/mUAHEVXMoNt7q0gogrrq0NhX1TQmjKmkirpojXKXOlYtSqnQ6nclk1K9Kna0ymYx61tTU1MjIiCzLmzdvfvTRR7/97W/fdttt119//XXspdFobr755v/rrjv//M+++v3v/+cLv3qlw5/Y7u79kb29ZpOr1hGpliI1kszZwElqJe99bX/3SQq5wx7duL1+Q0s18ZmlsFYMLxe7Dc29RhJdt6c3NkmP5uhLhwctvMciBsBVqoCrrFLHmqa9IZa7inlXtZsJ5KiC9GQEQJUFcVVF/TBgZ+ddAcRV824C7AAqgAqgAhWkAOKqCjLWwu4q4qqFbd+KGR3iqoox1eU7WsKoSpqIq+YIVxX9qtRIQNXTqph/vWi6bDZbJFYqxlKjCBVFyeVymUxmampqfHx8YGBgy5YtJpPpK1/5yic+8YmPfuwWzfU3aJbedN2Hli39yO/87qfu+OwX/vwLf33PP6x8bvl/OQwvbW/Y0FK3qbXO5lrd1P76vuhJNRjQvr/B1mYVfZzo1wqBKhI1OpMcCT21O6niqhfbBs28j5PAc8ooJAxit070WaSulfa9/il6htJtHggGLOAqyH2julahd1XRoNhABd5XAcRV7ysRHoAKoAKoACpQVABxVVEKbMyvAoir5ld/vHteAcRVC2QqlDCqkibiqjnCValUqkisSmeUCqFURKWwl/ptkWQVzyruUeMK1cMmJiZ8Pt/6jfZ/M9b/9+/++6f+8Iua629YotFcp9ForvuIZsmyG26789Nf+stv/NO9/1Dz6PInNzX85s3Xd7pPUJqg9EGhs0EKmsSwUQgYSNAghDkSquG9z+yKJsfpoEJ/fbjfwntMEnhX6QngKq0UMDm6Guwtvik6TOlb3uMNdhfUdlRTqrPczJi7qtS+2EYF3lcBxFXvKxEegAqgAqgAKlBUAHFVUQpszK8CiKvmV3+8e14BxFULZCqUMKqSJuKqOcJV6iwqBVKlydeL36qNoo9VafBg0esKbKYo6umpVIpSmsrR0wr19B7fvr/lpV//yqRf8bUvf2npRz6quf5mzZKbNUuXaT70O5qbP33dnX/+mf/+3X/W1by2+d3OIbp6/a6VgqeG91psnTWit1oMmu3uet713E75yJhyQqG/ae2v5l0WMQBAisQLuMpdbz/knoZwwq3eoXq7G2CWCBsrCBjVi7BhqvUF8ruBw5h9BRBXzb7GeAdUABVABRaOAoirFo4tK3wkiKsq3IALpfuIqxaIJUsYVUkTcdWc4qpZm0uKQtM5ms4qU1llenTs7JZ39+sffPrbugdu/bPvaj7+ec1Nv6/56O2aD39Kc8PHbvzI0k998tY/+MKXP/e1v/7LH67598dfbVi/c1XToeoNrXVNnY22zhd3RY9N0RMKfelAT43dVecImknQRLoNQkznCHIOz2pnV/sEPU7pFu+pWt5tdET1jsgKEqriI1oS00oJLYkBscJU67Nmb7zwQlJAxVWvtURrebdBCKu+ijoS4cQIR+TV9rbkBMTeCr6TdfYOswDBuYUtauYDa/jOvf2ZEUo7jo6tJl0mMWwQwnpRNsHpIY7IDYJb7Og5SWlCoQ80HaqzucwCAGidGNeTOCuSEOIIBPOqxNlIopwQVd0k9aKsleI6SeZI0Ez8JhKrs3m2eo9P5AuqKpSq20IyCI4FFUAFUIGyVgBxVVmbZzF1DnHVYrJ2GY8VcVUZG2cmXSthVCVNxFULA1dlKB2jdCybPZujSorSg/Kxn5BDda/vf6DZZ/ztzn969JW7/6P+lq///U13/elHPnbTEo0Gcl0tWaa58dOaG39Pc/uXP/f//Nu3TI//28Mvm56RfuE4cOTU2VNp+kbHQD3xWnifmQ9ahUi1FOOkgJHvqG1qcU/TIUrfCow08B5Y0IphnSRD6qvmI3pH7wqxG3HVTB5OPHZRK6DiqtcPxgD+EpmTwpwURly1qOcEDh4VQAVQgUsrgLjq0trgN3OqAOKqOZUbb3YpBRBXXUqZCttfwqhKmoirFgauUiidonQ6o0ynKB2ndHfs1ENOTzUJ6O1+jgTrmkPVfJf21b33/HzTivt+2vDwT7/779plt/+J5mOf09z4Sc0Nt2huWKb58O9qPvaZz/63v/x///F//+r5Z7ft3POLN93WJpehyWcVo9ZNvhq7x8x3Njg7V/MtfoartrqON9ryuav0YkgryMvt8nIhVkXiBin2Xu8qrRg2kIBRDILvhhgzCOFa4nl+R+DoFIWYRnyhAotSgSKuqhM8pbgK2uhdtSinBA4aFUAFUIHLKIC46jLi4FdzqQDiqrlUG+91SQUQV11Smsr6ooRRlTQRVy0UXKVMUjqdy2VVXLVDPrmKdxn4gNGZrCLRKiFocshWZ6Te1vHK3tCgQuWhVO1PXvzrqtVf+vsffuJP/kJz48c1N3xcc9OnAF0t+cgnPnrj79/+2du+8u0/+l91317966oX3rnf5voR6arnWxr5fWs27pCnITrpLVf/GnsbpGMXICM7RCFJMaMzadnaZwBXrLBeTcEuRDkhriMRxFWV9ZuBvZ0bBVKUHk9TNRgQcdXcaI53QQVQAVSgchVAXFW5tltgPUdctcAMWqnDQVxVqZa7oN8ljKqkibhqQeCqXIYqk1QZp7k0pXSS0j3RoQclV21ztEoI651xvSNiFENmSa63dWw4EB2mkCh9nbBnzWs7V2/Yu+r1nT9Yt/F/WNfd/ncmzR3/U/PJP771lmU3f0gDadpv+DiQrJs/86E//B//7X9Vf++BZwzPvrHq13zoVHqS0oOhwUeFww1CVzXfYSWuaslvJsEVfPDepgAnwh1LcZVejCKuuuChxI+oAJRKKMFVpbmr0LsKpwcqgAqgAqjAexVAXPVeTXDPvCiAuGpeZMebXqgA4qoLFanQzyWMqqSJuGph4CqFZtNUmaaKklPoRI7ujQ7dZzts5n16McRtjkOknt1nIeG6ps71e+QTlPbk6OOk5T7SWdPUVmfvqBFcdU6Za3Jzr7ZYfsHf9+gT//Gf//Z7X/iK5tbf09z0O5qlN2s+8vuaG2/XfPgzms998Y6//Nv71j0vOre/an9z1UvNDRv2rRLaGkib1dZmsrnMUrh6SxwrA1bo7wR2e+4VwFTrc6853hEVQAVQgcpVAHFV5dpugfUccdUCM2ilDgdxVaVa7oJ+lzCqkibiqgWBqyjNZamSprkczVA6QWnbkYmHJVeN4DYSn1EMGnjwe6prjjfY3K/ujZ+gtI/SB4RDNU1tXFNXncPP8W4jQ1pmPvDsnp7uM5nekcnnmvf/+wPPfuP71jv+8h+WfOLzmhs/pfnQxzUf/h1IdPWhm//gs5/7wp/82Wf+/Ltf+s+V//L4K6bfbquzHaojXVbRZ+D9RiFoIMFS7yqDFNM7Ipi76oLnEj+iAilKT+XohtbuOsFjEMIGEjSKIUy1jhMDFUAFUAFU4KIKIK66qCy4c+4VQFw195rjHS+iAOKqi4hSibtKGFVJE3HVQsFVOZplpeWncoCrOo5OPO5sbxC6ON5r3RwzOyNGm99sCzRu7HptX88JSo9QupZvrRFcHO+tbZZ1vE8nyQYpZhXlp3YnE+P0eJa+eqC7cWNL48b9jb/dvuYF6Z61P//Tf9bd9MVvaG69XXPjRz+89AaN5gbNh2/X3PLHmtv+RHPH12/75v/+VvVPtM9Ita/trbd11Ni7LLzLQrwWIWQVIhYSNolhkxAwkyBHZJMYMQmBRr7jxe3egUmao5TmMjSnUKpU7uMFo4BXfhSFj2x0sDNDKcy34gaDZicUj1TPz78Xj7v41+cde8kPhaf9wosV9hf7cMkrXMMvYCCqOArYmo2r2LEsqMG+LXx1Tqnzj4QeL5s+XgAAIABJREFUFU+7ku4VDy5tsBPfs4OZKQeWUqeiesCV3OSqj8lQOkJpU1tyFXFzKquSZK0YMUgxsyCvsXX0jEOqOMF3st7WYQYKLOsh0lbWi1EzH1jDd+7tz4zAUz+2mnRBCjkhrBfhEeNIiCNyI+92tPcMUxpX6P22wzV2l1kI6cWonsSNJKqGHII7JInCTjFqJFGOyGYBEr0bSVQnRfWibCZBi+C3klBDU8dW38A4+7VhRsywJ1cdvTrJVfUursfV6pk3B1y0aDOwEcyoHNvAXsWZA1+dM+LFulKYh/kpV3gUL3ZoYTKwGXtuAOdfodAHtTPFPp47/OJXxr2oACqACsxYAcRVM5YMT5gdBRBXzY6ueNUZKoC4aoaClevhJf/VXNI8t3pUwEEHsqhMUbovdqKed8FySAoaxaBZCHECrG2sglfo6hmkNDJOn9rqqeZdnBQ2iRG25oFlTzUJrNsRPp6jxzL0pZZeq+DmSCGBkRTi7IE64n+ItAcmIXdSs7uvwd4JyzMhaJAiOhJRl0/3Sb7WxPAZSg8M0gZ7uxVqyYXYakq+8ne9KGuFkFmKNtrbfYPjGba4gjUvW/fm/4X2QsBVORVUZfIWHKO0P0OffrNtNWnXN7mMzqTRcYQjyZVibO0m12u7AVf1U/qQcLCWdzF4BEtfnQhrVysffGZXvHeMDmXpK4eO1Nm7agVfjeCutbXX8+01fMdq0t7wouOZpq3V9Svv/srXln7uy5pb/1jzERYneMPHNUtv0Xzkkzd/7u6v/N0P/4Z79N9/vP7eF9+qtnVW27qqN3Y1Cv4GmANho81vEYINonfl67tf29F18myWZhWanYSQxvRUJpNiU1RRaLZ07UcpzWZzSuacEcvkYcuxlXGa0jRbMdPcNFUyuRydysD0YtZRFHi2Jml2ajoLLcYW83NPNZ/6VBamp7omZ8tvpWSRrD6livpt4Z0dBVKoJ7P3/DOeKyy02R0zrJ9ZVbXCRYp3n10xi8MDEjQNEmUyNEszBTXYXpqiKaqkaBaEg9msAoEs9BtmA/uByqgjVXEEQ1ww4nPXP79dRArqtMlkC0cqSjadVQBpqD96abiKAtnfcpOQCS43TWlGtexsz7gMpWcU2nY0e7+9zbip3bq1+x5B1jp7qvgI1xR8wNaZOEtHKXX4R2o3tZmJV0v8M8JVK+3u5rbkGUpjOarWRmB55WT4hd/ktYpytTO5vClicB5Z4UjqHVDT00IihqZAjSNhIjGDEDFLUc7mqxcD9baO+5sOvOk5OsZmFM2m4LFNT4KlwARskkNt0mn28IK/Z0Hw/AxVqbo6Va94yinwbOVSEPOczsK9YG6waQFPWCZNU1k6TZUpmk7BV3D1aZbED4zIptF5t2JzS30aCu8q5yr0tvAvuxLcjx0GKQLZLARKBvdlWzpH0zk6naPTWXhPZ2HLZCn8UKmza7bnz3ljww+oACqwCBRAXLUIjFwZQ0RcVRl2WvC9RFy1QEys/gc4G0xJE3HVQsBV+fU7WwKmFCgOOELpZl9v4xs7a6UA5+xebost3xCusQVWb2hfvzc5SOkxSh/hD9YzXGUk4Kah4qoa3v/srugRhqtebu2vtnssJGwkMgQoOaJV9pBxk+tHQkd0gg5PZna3uVc8+uI3ucfu/Nt7fudL37rh976guekTkKB9yTLNkls0yz6ruf1Ln/i///Gu/9/4N3VPan+24b5Xdj1i73jqncTP9x19al/fC/uTr+4L7/Emh89OA5hKTdMssBR1QZtSstlcJptLKbmUAku/c3NXAYxQXi8V+jASpDAWM51iIAZWwbnsdC6dAZY1SWEpS1MKLHZVVxDVM6SwaFaXxQxy5eDFjoP3bDbLPufX/nBWlvmiFRbWcHDhlc3BUh4+XwZXFU9kgp87uXCRa/+vekdFRQ9pmgZWpBIoJUezOWUayJECRGA6BT9MWcb/CqRZXflPq548KrBIQ9eVHCibOScVyAKUsEjxGOWEC59jVcyVD46iqRydyuUBYgFXTQOxmkNclWVwJXySPvu2ZyXfZnIE/8Pm1zX3mrccqRVjD9rdfZPgXeUMnKlvOmwVPXrBq5dUH6sr8q5aae/acjg5ynDVanubWfCotMsILlQhMx808RGDmFwu9lRJCb0Ysoi+Wt7bwPtqm9x1NtcT7/Q8vX/gqV2JF/YnX94bfWNfsC156gyLO2bzM0OzipJWJ1xGUcYoPUvppEKzWZj8bL/6zo6+alyVU6bzszpDgQRnJ2nuLFXG4B1+8EaoMkLTE0A24TlU+SewqlwOuqFuhVkNBErlTQr0niGtfCcLHc4fqvJO9QEtAcdw1Llnt4Cu8tdkT2f+d6wwfwt3xn9RAVQAFfjACiCu+sAS4gWujQKIq66NjniVD6gA4qoPKGC5nF78b/EL/ms878AALhzoXVUuxpppP1RYwtbwAEaYi1x8gv58a2etrd0kBIwkCo5mzsAqe+tvW7qPMu+qmeEqIWJx9pjEHm5TYM3GjngGlqTvuuIP2Q7UNx02r9+te3Hzf/745W8Z7/+9v/onzR1f1tzwu+Bp9aFbINHVDcs0y279V53pnQ5/+FS6O0VjCg1P08gUTU7QoWlw6EsVnFymWOfHFeAIefpDM8znJQsTlE1jIB7l9VLAzQSwSZpRlzTNwXodHHaUDM1NZsDxI5eiSjZX8M5QV8HqU5n3wMr7YqhSXPCeAReS9BSk0we/EVUx1WsDvIQyU+rdFZpOg28SY1UqrioIVbhV4avz9xc+zcq/bHoyhsAun/8pYgpkwGcmC55WDAWAT04GepiidELlTTnwnJmi4LEzBiAiwxxtpiFVG+MSKSZIqVxFlxbAGuyEaeZOo4KSyXQmm1OUFKDDonOlqhhYB15Fj6wiqpj1CZejdDRDt/mOPiodqua7TA5Z74j9x2teky1Uu761e5yeoJT3nKpvOlzr8JokSEh35cGAK+1dRe+q1fY2C+9RvavAH1aCMGFdU6h685EqPmKQIhzvrmlqXbup5SdS+4bDRw4PUXmSRsZocpL2TdIjZ9P9Z1OnM2CRqYL/0hRlbkXgZaTCw8kcncpmoUqp+sCyOZdHsnnrM6Fn8qZkmYMi/LoBpkwDnEr10XQfTR+huR6aO0LT/TQ1DOUmCsgbfLDyVJhZNQdej4qiqORX9c4qkmL261IwPcBONchR3ZPnqlMsM+AUu36+8+p4CufB3Cl90s7N9ZmMFY9FBVABVOCyCiCuuqw8+OXcKYC4au60xjtdRgHEVZcRp5K+KlkllDTPrc0QV1WSNS/oqxqzlGIuBVmFKuC5Mkrp3p7xx7d46vlO/aYOE9/VIHQ0bNz165Zg/1XgKrusa5I50lMrJdY0eULTdJjSbb6+lU1tFgEytXO29mr74UbhcL3tQN36HVU//e0/mO//gz/95m1/8IW/+vbfbt2x40xqeiRHT1N6JEujKdqdpT0K7c3SviztV2hPivamaG+aHs3Alc+qi2HGcRirgqVjLp0Bv6q5cAS6QN/3/ciCyABJwcqdrafhn2l23nRWOZ6h3VM0ciYdHZ7uPZU+eirVdzLddzLdewq2nlPZxHC2+3Q2fjobHVGiI9nIiBI5k42cyYZH4T1yJp0Yne4+MxUbTcXHaOQsjY3So1PgUjLJyA7zMcooOTUWCVw8mKMQ3L64dj73ge08z8llliUFSgBEKh/GpwICtWeM3mWAUTFipMbljVN6itKeydyR0VzfWRo9lQkMp0NjSujsdPzMRM/p0f5To/2nxnqGJ+Mj6fAZJTSqREfS0TPT8ZHpC95BsbPp5NlMfGT6eJb2T9ETCpCvgrdeHjOoKqmaFKCo+tvI6BgDW+87CT7IAbl0KkvpwDRtOhRbYz9UY++qFsN1zlijI7pqU1t/DqKnBf/puo1ttcRjEmaGqxr5Lmd78nQhGLDa7uNIPrwaQrmFoIEPWZ1xAx+wCP5aofMBsf31g7GeLB2itC9HBylsJxTYjmfZewbCvY/9H/bewz+KK833/h/2s++sDRKSkMD2eHx3Z7x3ZnbSptnZ3Xf33veze9/3brizMxgJRUCAydhjexwneJC6Wi3AESR1qOoWNsnGYIJAOUsd1GqUhXLuVF3peT/POd2txoBACMkKR59yU11dXeE5p8p1vv17fo8EtxUYArxgJwjHIV2f1nsI58WG+x9SHJosS2Dk/PsbvcPh9jH90AvyAIxV+ltLRq6823fu1Y4zR4auvg2txTBwFaad4O9FbiX5SLFUksGnkWIUYXVW+KBQ04faKjKFhXoR7IQKvQixIjosGZNU1TtwVfTSinzpq5wTV4huZNGJ50K6H/suiwCLwMqKAMNVK6u9VvHRMly1iht3JZ0aw1UrqbXmOFb6bE1WiJlluGpVJANSOQHqe4hQRVE1tHLBIe4XnYGCsq79Qu0eS+U+y/W9RedPlDX0zB9X5dg6Uktc28wd23nPzlM1dV6Ue5yzD+80N6TZ2tNKPeGqf3xzprV5h605x1S7p+Tmaye/yDdedPZOzJABrcMPn3UHTjaMGm4OHCsfM9wYyb9+O+9Gb96N3sKqoeMVt98v7zHVDVzp9Lb7kMX4Sa6WLIdI1UM0YtcUFFnMf7Q7x4Xx2D4KhYIkL03SZJ8kiUFAYtgbhCsdM4XlXb8+bz8o1BwwVx8wNe47VXuopOpwSeXhkspDxspDJVUHjeFpv7Fmv6kq/Gqq2m8KLz9QUnnQWHXAVLvfVHWgpPJXQg13uc1Sf/tmj3eQ8BeUXIUoLhC14DT1rSdJSSqBWURkotJBOAaQMiPUr9GEwcWMKTkMUUH7Idwd1UNFqJCEWE+RICBppEpAdwCu90gf3vS8eab6oPHaIWP5YVPVYXPNAUvNi+aqPZbKFy3lB03lJHoYqFy+Lpev2W++cch0/bDx+ldeXxbKcSOm6weN194+3/i7i60nG4cv94aGNCR9GAQlqMmotIoiX+osht0C9TVSWGWDKGLx/lRCQlAj1z6lCfUDb3xSv/PDsl3F1buKq/efutotEVzlmNllrMuxYNnNiPnUQyUD7jHX2ao7xwmuOmis2mFsRht1C7oN4iQ4Mm2uTEvzTr5x+6mbb5x3CK1jtwFZVY8Kdi986hg9ds19vLw7/1pnwY1+7mY/d723oKznRPnt9272fljea6kfLO8J9UnY4RE0E30T6VcULkdZFWZtEgxEet1Dh5M2DWkJCdRhkJ3g+HDkXHbXB//Yk/+DkYIfjJ/40ciJHw7pfzBw4mdjpanea69AmxG6P4Oxagh4QBkCdZpYX6FAM8KsiN4KewBR9IVpGrYy/f9j5FXSIKCBT0PIGSAImiQYxqx2j/PAq4lCLHqdEXx8j/XYIhYBFgEWgUeJAMNVjxI19p1FiADDVYsQVLbJ+UeA4ar5x2xZfiOGUcXMRp+qWTLgsmy1hz8oCh0kkjSmSKCpIQUHWOMAVUPwcVXP259Wv1x04aWPS03ljcOP4F1ldmyzODNLu3bYPLtL6lpCOJr9pHU4u6R+C+/ZYu1IPd297fStVKsrlXemC47tNsf24srCy+7uENruDKpwwTXyu8/Rmme7sTbX2Jhb0ryjqHGnqWWnzbmj1J5pakovrs0pqnjRWP4rvrzgYuM1z8SQjMQKZTeaQogVjgCXJ67C/DWEhECUTaIGMCbBtfZp7nPHQWNVTlHFbmvDYVvdrz9p/s2Fjt9c6HjrnOOt863h6ZwD355zfmV6+6wzMrW9febWG5+2v37a+frpljdON79mqzliKjtUdPlta4Wlrtc5jaQAxVw0/VASUTGCmVkqcfIhI2fMQyQTLl9SXEWG7kRtRnppDK5SNRBlxUeTAX0K1PcGP7ze8Vpp/RG+6rBQ/dLphtfOtLxz3vnOWcebZ1pfP+d49ULbqxfaXj/f9ta5tndIfF674Hz1M8cbF5rfPneP6c1zTW+cbXyltO71M00HTeUHjDf3Fl0/YiorqepsGAr6iDaNBiOKq6jZEF55YWkM5Q4Pfyk+wpoyaKKiYEUIH0B/CG50+U9cdrzJl/+qpOwN8xX3pDQIYLZP7zQ3bOfdGUI7yQR8+MqAdUJN52gMrso2u7IQV7m3WdtTeWemzZlhqt1rqX7JUsHbx28Bwmj7NJwqc71iunbQVL7XUptradwu2HMEVzbvzDLbcywtu/iWncU1O09VHjJVv/Npo7Gmt35EGie6SKRCEso8MYbY1wiUxFfM+iTL5xGlMK7CTflA8kCfZdT6X13c8yO6p+WCp6S8xODRDaH8RJlLCRY8PXns2wMnftR9/O/7iv5j7NPcQNk7YC+CwasgOkHtg9AAKOOgzqCbvhyCUAhEGY3RsQIAUX6Rayiqs1NQWkVd2wPUew7XxGzk8BShWl+BXLPOVtTWiqw/j1Nmq7IIsAiwCMwRAYar5ggO+2gpI8Bw1VJGm+3rvhFguOq+oVlZH8QwqphZhqtWg7pKo3YuaNRCB10hTJ0j9kk+4kI8AtARhOahQEX77YauwXHAFJ55eFcJjgxra6bNnm5zpZsat5+83iQSXNXcv1toTrd2pAodW0kFsXSLM9Pclm1q3VFU+ZsLrTf75UHA/D5rted1W8WukvJsc+MOq2u31bnb1LqzpGG7sSHT1LTV1JRqdaXb3LvPtO/9xL6z6Ebu+xfftFUU32jrCyGxQtNtCRkc4iolxlR8eVyDGmBVsIj9FhIinwbXnYPv8BUHS+r2883v1U/U+uG2CqOiNhnQRn3yIEl77JcxOP0yDEjhaTAEgyEYEnEaCc5OwyIMizAWgikFJhRonwiebfRw58qPFF0+bLxuuOqpHEYBToC4+oQFJBFLLHR1R2so4sVDvXyI6xMdk4fH2YsbSZosKSG4UNBVP5wWiP9iPTWZKOmaBnzchbpdH32ZW3zz6LXOS7c1D0k6G5VhTIShAIzLMCjCQAinQRqiEIyLykhIG5Cg715Tvwb9GiacdopQ0TNz2TV08nLjKx+d2/fhF/ov3Td6AwPEGIsmT0adwcPBiKKIxQ0O3oSJ5ozY8AMqeaY0GJGgcxrKbo1ed98ek7UJxFWTO8wt6bxnq6UjTXA/vHfVbksdX9s5QnDVoZKq3JLmHJOb4qo0W/sLvGObzZFlrj5suVFS220PQj/A1UH47YXWg6byQ6VNu/jGHEsL1ng1k5oMfFua4M4Q2nIEVw7v2M637haasz66sa+4rOBLZ/WQMkWIlRSiSIeamku0al4YV80KnB4qsmFrPmwOH0zXeT/bPVL4F9O6zXB8MxxN0P6wQclLVrlNav7GUH7idH7ihC55svC5ccOfjhm+PWz47vCJn4wX/fPM6S3ez3KhrxhGLsBMLYQ6QZkk6jniBx/1nMIjilb9Qwf/2c4wC6moVT+hb5EVaGeJ4Vx4FZKJyhsf6kzZSiwCLAIsAg8TAYarHiZKbJ0liADDVUsQZLaLB0eA4aoHx2hFrBHDqGJmGa5aDbhKIeNDYr9NfYskBfObVI24fVNn7hkNrZFFAL+CAGh4nrhqm9C4TWhMFVqz+Ka9porWEMKRz+z9O4urMoT2DFtnOu/OMDmyLY4csyvX2PiSpep063AfkXFZ63pesZTlllTn8K0ZQvs2S1uGsXm7qXm30JrLt2SRmoO/tLb/QnC/YG7JMDflCk17+YZ9pqr9p65ecE4OEF9nSQ4PFmV52dUFpBcUZS5+kgNY7hnIs5Yd/vDKfmPDruJa7mZ/7TQCPnSf1iRQEUxQcyv6GusUHjtPU4lCgPlIaE2mYVVBdBAnFPKWBsfKbx221e34qOydC64vu6RBkgQqRSqY0QEzyfOLEqvZMfed94FFvYthWb6we5USqdGGu5dUJShjphbU9E8fu1iz78NzuR9fOWirf+tiW9koQtVJBU8Zw0ZldQQpUTP1SNYeUgO0Zr/X5AVEPz7SKDRVbVSGi/bBV2wN2z8u/5VQ86ljsosIAEUiq4moZmIg3lKECfkI5vGqWBoTxURUpEfEVhMqdpVpAGPTcI6xIY3vSLN1p1rnhasazARXeTQ4XFK5i+CqbLM7w+Lewru3Wt3ppfYcc+Vr/JXGCbwzNMzA6+edmaeqdlqasbSoMex1lWlFNVZ4sjhTTfZtvD1TcGaYW3adbtturN1VVJZ/sbXmtuRDRSTp7ihEkhXAypjE9Z5IruaPq0LUDF+dhtGyzsK/m9Q9LXIJ4h++AboNkBcfOpoUykuW85MkLl7Ux4UMGwJcnFiQKOo3BrmkmfzEqfzkSf0zY8ef7+S+2/Px/xw5n+uryVM8n8BIDfg7QRoBeRotsRQvqPdI+gv3BnrpoH97RHlHQXDk0qE9JUKporgKv83+WARYBFgEHmMEGK56jMFkm1pIBBiuWkj02HcfWwQYrnpsofx6NxQz6IqZZbhq9eAqPxIQpALUQYmoacjYN1LEPVpUXiTGNPNSV6VbmzJsjalCc7a18UXjjZYAmiufb+7aY6rOsjgyeFcG7yKsyr7D5NhjrH/HWuHwwQDAjTF4SajOKalJMzrThK6tQu9WoTOdd2UhqEJWlSa4t1o7ttg8W2zuNMGRwduzLS05lpYd5pbdxoZf2xorBnCsHiKXj6aiZkPBQf0y+yNF5QKAmY8OPxw9X7fv/YsfVY58XDtxxFL7YknFby45z3V4+8iJyLIqEgZBWRUtskZdnL1Y/w7Pd4pMkwRLjRPr8XGyxEsQxjRpwV6ANoDjTZN7bI27TdWvWiuF2u4OL36dshtaXRHxBzI+zA0kmVnoAkYmjCGVrixuNHEfkVTEqIQJVWgiaLJXhS4FPqhoO1x0nvuytbhp+I2zzbuNVW+edZQ2jXb7UTJGvICIWkxGDiKSIMyQQAUIvKOZWvTVRz6lrzSesa/ThNXaPMrLn3VlFdUesLWeKL9dO4JIizh5KVhpkYQpFHZeIsK0iIhmMQJFmiBGg0Nv0GTvlDUrIPsAzM2DuZbGbZb2VKFjXsmAuy0NpjpUVxFcVR7BVWhftdXq+T9me9anru3mm8aa9hGAPg1OVvQRGReaW2XwjiyLI4tcleTCbMq2tGRb8MpFv3bBQY8ESwry9h2WhkN87bHLzgkSQKyWiS2HJC6EtJK2I8U98wtkBLmOBZwl3e/91VTBxqA+TtQ/IXHrRC4hyKX4uZQglxTUx/kN3wgWPCFy8SKXJOqS6eTXJ/v0ydOGlMnCZ0aPPzdw7Pne4z/o+fDvRiz/Fvg8Ry5/Bdo+hKEvINgKcg/Ik6TyIB4t5cVhvEYTrqM4ihJghUKsqCV/xFGelrqMNOX8zpatzSLAIsAiMGcEGK6aMzzsw6WLAMNVSxdrtqc5IsBw1RzBWUkfxTCqmFmGq1YJriLDWjWCq2hKIPFYiYppogMnotMZmae6Kl1oybA1b+Nbc4TmF43lsbiKVhnLQAJlz7bYc8z2vcba975oHADoBni/pnenpRqrj1m7X7D0bRV6U4WOdMGRIbRkCC3pggMTCYXOLTbPVpsrXbBn4DCYjIR5T7bZtcfUyDdP9cvILPBPFlE1hiZRy+pPBSkIxC67n2CFQ6brhZfddRPQB1AxAO+eqdt38vIRvuJUTX+fhHbUFEgNhaBtVKlsH/28vvNslftMtftMnefTes8n9R2f1HeUNnTYcOoSGrv4xh6+sau0wfNpfdu5OueZOndpfZepaeBk04S+ZuKVi517ESOW7y++/F5Za6tXGybIBk13QjjqJumKsoI5gIRY0cJnJAEqRoG1aCGl4/ywkxGlQoCsSgmAqvoBPu/x7jV++SvzlfIRtQ+gdhx0X3bsLyp7teTae5eaOnwwTrSBAQ2mZegeV6s6Ji4095bWd9nquk/XdZ6u8Zyr9ZyvddPpXC2+pdOZOg+ZOs7UzU5CQ/9H9ZOvftaZY2zKKanfb64/eqH1RscEtbJC4ZsKQQ2Pk2iDiNP/YuIqAg0pTCRNFYaJKCqjPl8a6V5C4+095rpMMxLeR8NVHSocLinPLWnONruzzYiYt5Z2/RfvTLO27LVWXukcnQKoH5J/d64lx2xPFTpSBU+aEIFWvJ1CK0qZM3gHvfDTBFeq1Z1qu5VqdWfwju3G2jdON7aMoQAQEe4srkLS/OjW/tiJZdAQV/Wc+MlUQaK/IJ4QqziRiw9yyUEuJahPCBasCxr+WCz4hqyLl/OT5PxkOT9ZItAqyCX59QkzXLzXED9zLHH62MbJguQJfcp4wVMjx74zUPQPvZZ/Hzm/W64zQN8l8LpAGgBpDJQpzEBEmIl+/OigpyiggBxQqFMduWZURRU1CGkgEgd/WhuUQGGsPkigF+Fti3aBsQ2zCLAIrK0IMFy1ttp7GZ8tw1XLuHHW0qExXLVKWjuGUcXMMly1GnAVVWdQU+2wURH+tk/KwIWLwVElAO3L6rzVVURkkSk4t1nacnjniyVVLQE0cT/X3LfLXJ8muHG8itlJqLZIFxy7TbVnG3qmAOwiHBHKdljqt/H2DFv3NnNHltmTbXFk8w1ZQn26tSlNcKTynVuFTvp1KrlClxzBvVXoTOM7sk32dy91OKZQLoQjPlVCbcayG/thspuiaDMAzdPw5qc1h41Xq/oCMyTjb1pC36XPGm69LtzcV1z21ln7uS6omgRz48Q71rpDH199qejaq6abrxhvvFR07dCpK4dOXTlQdO1A0bX94alsX/GVF42X9pVcPFB88XDRxZdPXnr548svfXzt8Mc3D5ysPGxq2vFh5fZTVUfOOndaKl/44OIB/urp5o5OvzpN0CQ6f6kIPgKgyFRjFbZdx5guzWia3nNI3UpM3CNNGUBcFZLHZci70rbLVM43DY6S0nIzAIMafNY2+tvzVUf4Ky/z10vbpitH4KIn+O75xjdPVx0yXd9bdHVv0fUXSypySyp3Ft3YV3ztQNGV2Gl/8RWcZsMYjee1fcVlh/jaA6bafSXVhyz1h801L3545ZXiq+9danGMaeMqopawu5YmIyFFH+6Ih9Gi/P8gonrDvUQyOQlYybdXAAAgAElEQVTcoeoqimlLG3v3mSu3mxoxfzYsa3qoyoC7LeFkQMRVxhs7jM3ZZtRCUly1xeZJs7S8fLbRNYNZmeeabuM65ia6C7y0Bc9WKzJlxMrWzi3Wjq1oV+ehMIuCM4TO1o5tpZ50U+Oe4srSplEvzQckmEkDNYRTNKrzDCJVAMoSKJNBu7Xn+N9N6Z/y6TeLumRZF6/lx8HRJC0vScmPl7l1MvcNhfsG5K2DvHgtL0HJT6DEiiCtJB+3wV8QHzBsCBYmiAUbgvp4kUsIFGz0Fn5zrODZYe5bt3Xf6eb+ov+Df/Kd2w6170LvJzBSBj4nqANE6RhQQJZIpiNqr1RFVpWIOE6WIBTSREULoYcgVocgAjnK7JbdLWueTcBWZxFgEVhOEWC4ajm1xpo+Foar1nTzL5+TZ7hq+bTFgo4khlHFzDJctRpwFekYURkVgQG0jcMyDeKxjUNFVHBoRAQ0P+8q3pVlcWXy7enmWzmWtr3FdS1+xFVnmm/vMtenWjGliMqjsDKg1bXTUnujc3IaoHJEfbHkWq6tJdXcss3SnmFBwVQO5vo1ZAkN6UJLqtVFR8Io4hAc2XxTNt+UQTIEf2nt3mLtzBTajtia6kZR3oAjPizLRXO0FnQ1POYvI/2RVVkZ16Csz3fIdPX3Fxr6JeI2JYWbw6tAxe3Q7z535RbXvWhuOWSqPmK6+Rpf9duzzQVXbn1U1W9qGLW2TlmaxmOmSUsTmZpHza39ltYeobnf2jRwumHkk/rRM3XjZ+rGP6kZPds09WmLt6Ru1HCj++j1W69dtO8zXflV0dnCs1fbxyQ/gI+wKmJthp0AgebSqquiSVUySCHiM0VUNgEUWKnQOaHtN5W/dLalYQJTIIMh1DSFSOZj9Xgo/1rLHnPZi3z1S9am/cUV+4rLXjtdrbvm+qi+v6R11OiYPuXwFdlnSlrHjS2j5pbR6KuRzN/v9aOqfnPTiK1xqLii69hl528/bXiFr3nZXJV3trGs0ztJwQr2NHLtKESi9pg7TezmIkb4FFeRT2jQaLooENZT2ti731S53VyXxbekC3bCieaBq0YBOjTEVQi8LGFcRdlTBu9484Kzww9jAMbqrgMlFTss9Vl8C7kSUTyF6boIqrp/SaYt1k5KrKj2Kp13pVraX7B40j/pwqqgxZWFV93TxIELT4jAPmo3Fs4HnC+70VRkRLIP5PFQq7Xv+E9nuGf83NOiLoXgqnVwNAGOJsm6BImLl7g4WRen5a/DKS+e4KpwVmCQS5YLN4UMSSIXH9LFSfnrZV2cysUr5K3IxSuFSeqJTUFD8iSXMsJ9c7Dw+/3v//2gZcvEpZcC9cflznMwUQtSB8AAyOirRjJ3faCJpG5pRPIZvvdG78P0zhzb3GyeRYBFgEVgQRFguGpB4WNffnwRYLjq8cWSbWkBEWC4agHBW05fjWFUMbMMV60KXIXJVkRLFTtSCve+qHADHak1kg42b6t1xFXuOXAVcZ7ybMVhLU47LPUVff4RgOu35UPW6h221jRLK3qxW9worULjG8wETBMcZH3UZaTxnnR0v2rJsTQRQyvXL20o5ciyuveYqmsGQz48RTKqVzVM0VpWfzicFkFRJ1X4rG34kPHL98s9k0RaRbOftFBAVVG6cmMQfnvl9s5T1S+dvPTepZornlGXF24D+taPAQxpyGumyTQT0RnRmVg/Jj9xaxIBs48UDdP9qPn6cAhuy9AwIhbdaHnT+NmvT549dua6c1jEbZJkuiAR7BDqF/GuIuhvvvRgvrGn5IXkgqHfdsQiHXOmNIDGXu9+U+Xbl291y5hMhYBDDoEmBWVpmhCWo2Wu3Zabh0rrf3267lp3sHlU6pMwXNTSa4pkatHkythXav5Fg/mV1ykS8BHCGyYAhiRwzYClaXx/0c3dH179/ad1Ze7hKYlq+FDrJKPt0qL+RXAVqX1JmHJY9RaOEVHJlTb0vWiuyrLUp1ntafNUV/E1XRRXHTJdzzY3oiMVSblFwZTlVjbf9pvP2jzT2qgKJfUDu03VOyz12XxTRO2IYq503pXOu9N4D06YjehO5zFPkE4ZFneqybntdOc2q3O7ue4PXzgmiKYPT0PBtLgosnyUzqbJaIIuj4EyJNlNg8d+FNBtxOw/Lkni1kn6J2RdgqhL9hakTBtw8umTUTalX0ccrBLQ04pmC3LEyopLCuUnSroEtGbPS5T+kBB8Nz6o2+DLj5v+w5NT7z7hz0+QCzeJhSkz+sRJ/cbxwqdHT3x76P0fjZz6H1PCL+TP98o33oGhczBdjl5XUjeERkGcgZCClRRIoQSspkDErppGy10stjpvUTsn2ziLAIvAsosAw1XLrknW6gExXLVWW36ZnTfDVcusQR71cGIYVcwsw1WrAlcBqbxGS6cRABG1AyaDQ0qsorgKc53mq67K4FFdtc3STtRVNS1+tFo/13R7t4kkA2K6kIck9OE4dpe5/nr3zAjAzSHtJVt9prE+U3Bml3rSzOh3kxGTykSyCIn3jdCRzrujXs7pgmMLCjo6MgXHi8by6n6/HwAd1lGpgchtef3hmFQCFYYlMFW5D5uulNqHqXW3ooAkIozQCJC62OE/IjS+bKk7U9/pGpmeIahlSoUZ4rxOawLKBCrNtmCEKNHLdnY5tUmnS9HOS1WJx34AYEyD8l6f4WL9ax+fO3auzD2pzABMyVRaRSO3pIoPiiqIbZZIjLcRYhABkxyQ4UrrwEG+trB6ZJQYsqNQRZ4BLG0JoyI0jUmv2sr2Gr88esneOIOIyh9mAnIIgx7CrCsSIhq3r0SPmmTTIEVfKd2bUQlLIexvBrAKYeMMnLjR91JR2bvCjbqeGZoSKGOy1yL/hRuRZrmi/pEkkoURD8JZUg7S2jC421KXKrRusblSrdTj/KHUVXvMDUJN1zhApwqHTFezLPXpgoOIpxxptu4tJk+WyfnOhbaOKW0CoLhlLNtYgyJHgRZDQI1VBm9Hw/VIUQVaWiEjyqp413bBta2kNc3WvlWwZ/P1v/vCPk66MVrsywTekKs2rK6abzhRUxkAdRLUEcluGjr2FyFdHHqocwmi/gmcuAQ/lzJl2DxRuHm6YLNPn+wriPcXxPkL4v16iquIwIpLCuoSQ/mJofwNMpeo6JPVgs2KfpOk3+TPT1BPbIL3npENKf68DYH8eCLUWicZ1oUK1/kL4qZ1cZN5Gyd1z3oN35t6/6ddH/7PLssLk5ePQMv7MHAZplvA1wO+YQgFsAoixVPYcbDmIynzuNwQ+3zbgK3PIsAisIwiwHDVMmqMtX0oDFet7fZfNmfPcNWyaYqFHQgdEZFtxMwyXLVacBXNWoqM22PBB9Wr0JQcMo+F1eZvte7IsDq3WZw5vGNvSUWrH3VAF5p69hpJZUALKqcww8jsyjG79hpry7omxwEqhuGIuXpnSUM278w87XmBd2y1ubYSN5xUwYPqDPRcb8KsQKEDnaos9h3mphwL5gPialZ3Nt+033yjum9KxK4b1gQtPj+Y/7VGgMJtET641nrYfPVSjy9Ix6qk7H0oiEl5NePwqlD7srnq5LVbkypKMahvFM1u1DRNFNFIPnYiTmR3XLRRpVKIpNL5MXkOTXMIDMI1ZQnbdxCg0Qt556tePvnp2UZPbwAZZZjyhUfR2PPxL0px6NtFeaUnJYEWILITFIUppIqlSHuRqeK9hvFh9P6RQfOC5tMU1KkMyXDqeutrxouGi/UdAbSox8KQqD4KqRqxvkZQSwJGTyb6Gj2p8AztObGvEihBNRRQFEkm6imRiK1cM3CyvOvIqevHr7jbfGSPEWq0KIGJbjRyUyb/Rop7goytQ3qJDMA3jmznm39ua/8/pzu22lwPnwy4x9xgq+6ZiMFVaVZ7hoBXWaq1a6ulK8vU9vZZZ48XGfQHjSOZlsY0qz3VSnfhooZ0FFFlWTAvOMuCNu3RKcvi2GlxZBlb0m3uF4SWLKH+t5cdYVwlyyCJWBWQCKwIPaQNFj3zB8/QGJC2DQTspSOFP5Tz1yt5JPsvjKuSglyKV4+gCmVTOnRhp7iKulPRhbIuHgxJSsEGiYsL6NbN6NZN6+JmuASvPtGviw/kxwfyE8S8hFD+RplLUfSbZG4jLuGSQgXJQUNyoCDFyyVP5W+azNs8qXt2Sv/tUf3z/dz3u4/97aD5PwLXj4DjGAxfgIly8LtAvg3aNM0T1LB6IPtjEWARYBF4bBFguOqxhZJtaGERYLhqYfFj335MEWC46jEF8uveTGQ4FB2fRg4oPDxWUaWAo8EgwLX2YWKh7Uqz2tMF/F09w4JpIDmWJktd1yBAmw9+d6Zxu7k+w+rMFNpIVggmhmznW3/zuXNIw6Qkw43uHEsDsc1G++0MqyPD1JrLt7zMV7cGMPvpdEPvblMtam2wbFxbKt9GMsLcB63NFR3jUwBlg7DbVJ3Dt0ZSUcKJJ9EMlDlm0gTXVouDppI1D/qo5gIHPHRAS//F+dWFqyIEJIqrIqdLWhmtrLDZHwlX2TOsjlTemcO3Iq4KUFzVtddYnY2yCxzBElbloLjqRvfEOED5kHawpGKf1ZFptqfyTmRVYVzVgfUBeQ8mJQkNGUIT2jbzHVmYKmjPwWxBas3jyrQ0HzBXVHdPhGjbyWEpTaT3Lpd/NZJtNwJwssxx0Hjly14/8jUFPa1AVhSAUQ1MTWP7i8q4800DJH1vlhPhtUlJStRljNR2RJEGnWbtt6mvcwiTD2enEPIARVHCPvSyhtxhGOBGr++NkgvvCFdqBv1YqS0crXCfp8qj2cNYxFhG9H1YDRABkxaxePcDfNbce9BSXdw6OUZxGhrWiwqxBbre4f/Vyc+40usttxH/+URyuSKgknBCRBsD9+h8dAm949FXmio7+ypDcBoFO7idyA0Q/bGRTzWPwe8+qT948upnt4KjZA1QkJItYniiN+Wwkk4muyUF5iiqUdCn3Nw0ksO3/sLa/vPSzq1Y2cCVJjysuspW3RXBVddpOiGty/mCxZNh68k2u9464+jxwYgGx6oHd5520UTdiF4ykvEXQVR346rtRnu2qTXrk/ZUmz3T2vj7K65R2t+i6irEVZSQzhtXYa3GsE27GMZVeXFoSoVmVetEfZxI0v38JD1QyY9XdHEi4qp4wqriRTS0isdagbq4UN46iYsLFcSLxHDdb0j0FSYGCpOlwo0ilxDKT5Q5ZFViXpKYl4QzpKpgQLcxoEsktQWT/PqkoD5B1SWqOlw5UJAyZXh6pPC5vhN/fuu9H3eZ/rX3TPr4zTdkVxEMXQVvK4Q6QR4AZRzUaVC9SGw1FLrS//VESVzk2oz8gBTzPqbjhftquNNGezhZ497fiPlypJdhQ9y5+Ot/R00V8bxiTipmNvbEw/ex8JVB/pd3x63sK2dDt/KVhewti8AKjwDDVSu8AVfP4TNctXrackWfCcNVK7r5Zg8+5qEtZjbycIzWRwxXzUZrBc6FB4HRR/w7W5mcUGRAM29cRSoDZlidqXxbDu+glQEnAM439ewx1pKcIFrt3kVy/Vx7jLU3u6YmAW4OwGGhboe5JYPHoXWaEAWOxAQH7W9cmGoktNAyZNTfisAvRJzUoGePuaamZzpSqW25tgxxFxqWofiG42DJ5cvdAcRVpCiYQhDwrQC8bqt4+9Oa6lvjQUIl7jiTcGvFjspi5+9eF/PFolMEBIRbmSqwvBqMy2C63rKv6MuTtf1YWhH3G6YGke4RGR/esYfFeENOh+w1smuUDQUBPm/pO1B83dQ0NiHhfjU0tMLilQMhKLzW+XLx9S/q2gIa6sfoF0kvpvwrcvDRLdIeHl3vvjMRr6gwwguHWiO8fjQEl+xDr566VPCF45aMoGTRWVV4F2GIQI46iuTCvcgPUNI8sp1v3GZxEoo0P3UVTQb0aHDIeAN/ZsCcXLSjShPctNzna2daevwwrMJHdcM7Lc3kZwbcxT1/EoimAYaNq0gphiyLK5W3b7M5svim319yzdBOROviYZxpkxHCGLkR0VUe+ErBBAZCmcRkwMIfBnUbJF2SpEvCfMDIRJdIugRiWRUf1M9+JHIJErIt5Fb0U5HDFaJTdCNkJknk7p5wa3R9ujLZEVnCJfn06Jw1ZXh63PDccMF3Bgq/P/j+Xw99/E8zwn/A1d3QehTGL4OvAUIekPtBHQfNB4iY8fchNKGjMA4DEemZsVe/Rq5c/P9zDMcEUnSC5gaT6yAm75V+mXTu6CVA3lFJo0xMDB8Y9iVbQUOhpahQJhnpJtGipUQ3KpE4RfPZw8BdBNVPsoNFKh1VyT/kMprlX3ThPLvckp072xGLwKNFgOGqR4sb+9ZjjwDDVY89pGyDjxIBhqseJWrL8Dv0sZUcWMwsw1WrQ101vw73iLhKaKMj2xhc1bfbVEsHvalWMrIllsy7TbXlEVx1SKjLsbTQdQicIkjLgj7NFGBF3KxIsTM0XPdkWNx0OJ0mOFKt7lxLQ02P905ctezUAdSKaUQCYxRXUZkPITI+gMpe76/4G/mfNXSOhZZg6KQo6GIuA1x3Du43Vb1+pmkyPIqTiS9SWKFAhsdhZjO/PjTPtaNAjbIY4uaDxxAE+KK572DxdXPTyBTFVRr6k4kA9lH57fOuX1mqnf3jhNmAQhLKItFbWB8gSkM62A8zAuQpqkJMxFwj4m/Ml9+2VjdN4RES3dU8T3h+q0fG6CQ6kfszVZDRU8fKmMUtiKuyzK1Ii+ZptS7UdI4CEFxVvsNUT12owl7pFns273ztTEsXwVWnagdzLY1ZFuqtfm9cdTfDysAr2rXN4sywoivW7y+5/BExT8RtLQbARZrw4YOE39AkUMbU1qKhwh8FdIlhooQOVljpj+in0D09qE/w3wmq7kRRdzCsR/4owq3C0i0KwiQuPqRHEVbQsClY+JRX//RE/lOT+mcn3vth5/F/6rdk+K69Bc5iGLwK060gdoM6RkSEASLNJJIrdOlSIRRSRU3FBMrwtRm9ahSsRkA6Bk0UJSxGpeVHw9GM9KVYpRIJONmIrACWO1hWAisNC1+KhAzLyLBpJMg9goA82nOI2BCPnNy78IzQzj5ICt2Gtbfh5Gr8iFBvuiFyBc2/yz1852RrsggsfQQYrlr6mLM93jMCDFfdMyxs4VJHgOGqpY74Iu0vMgaKDCKiuwn/jMvUVdGIrPoZhqsWo4llgDlw1Zn6zpctZe+XuafullYtwtFQXCUBtA6F3jjv3Ft0fSgAmqZpsGJwVVXX5Et83ZufUNCGcEpW0fY8MvBcFFwVkhSReGbpz1a+fOrqzX4ZPb8wy3JR/yKIgZxe5BwZrpqNOTb6csRVCL+irIpItxL8+Qk+bmPAsDlQ+MyU/qlJ3dNIrAqeGy/49ojhu4Mn/mas5N9853dB9buIroauwHQzKH0ouVL86Dw32wfoTymqDIqExTJlCWcUmgQro+Iqci1EE2DRlp8Kke6AO+FLBv+h+iyaAzsb3q93juAqPEE8PI240ZFk4WhKO1lOQB7ld/QsZRmBFf0WLUaA71Ss1QABDXwKmSKyrIXdLr7eALG9swjcFQGGq+4KCVvw9USA4aqvJ+5sr1+JAMNVXwnISn07+2xLn4ej58FwVcSCOhqS1T7DcNVitPDcuEqocL1sKSup7cWKgUsxdMKxri8Enin4w9XufcVlt70gSdIKwlUVHeMHjVXvft5G8qbC+omY29jCgngfdZVGRrdDMnx0peWV4utfdviwQiEKrxb1j+GqB4R3peAq2bAxqNtAiZW/YJNXv9mrf9pveBodrwzJwYLNgYJvzej/bFz/3eHCv759/J9GTFtGP93jvZkH7adhohFCfSCPgTQC0iBoowDTpHYoOnfRnh+RquH/s8ikKmHKQ2zv0BVLjACaCJOi35x9DReseEDEl/DjSOVQcqFRfVnE246aTn4VV1EFlqSiEi16+ugSSMieJgIEFAjI+CpqNMdw0S/hJYwX2xWLAKb2a0ePHs3NzUWSj+ya/bEIfD0RYLjq64k72+tXIsBw1VcCslLfxozzYmbpSAyJFVNXrdSWnf9xM1w1/5g9+Bv3w1UiGXFaK9uOmK7xTYMIX8Il+h68zUdeQ1VllWTTdMzAu1e69hZd751C5rKCcFV199S+onLuSqcXIBTCQovRETcJy8IQ0v1xlU/FioQlN9teLSm75JlhuOru1L+7l6y5ZEA0dw87Z8Wqq2T9hrD7lT4lUJAyo9s4nZ80mbdxxvDMjOEZr/7pmfzNvqOb/HmbRe4ZseC5qbxvTej/fOzYT26f+PvbH/9/U59uh5rfQXcJ+K9AqBokJ4i9IE5AKERT5EAkKXBhsypZQUIjy2h+FSC3GZ+GgCaS60dVV1EFEqlSSgzsHvm+smhfpA5TSOBklEchd1MpkiO3MZHWWCTPKeEbAa0MQ52/yA01UveTOPrTvEBcfufjzqKdANswi8CSRoDhqiUNN9vZ/SPAcNX9Y8M+WcIIMFy1hMFezF3FPLTFzDJcxbyr7GHzKcGTzrt3mFvyLrt7vDCiwImKvu2mxmzeSTynHBnMu2rOC3RuXFVa3X6o5Iq1ZdhHBlBzbukxfKhpCtZkA1RX/fbSrQPGmz2TdOy2MpIBAwDV3VMvnrxRcK3bi/FQ8S82AWqBcon74CpVw3H/OCCuevnU1UueGeRkC9zXg9szKhLBzhG5P7NkwNnALTt11X1wlZi/PqSLwyKD+o2iHusGUh+raR3KrAIF3wwVbFb0m1RdopYXr+ath8KNCrfBezR+Km/jhO7ZMcPzQwXf6zD8pIf/z8HP94i1edDxCQzXwnQn+Mcg6IVQACuCYkYgdg+NGFERLyqUESkgyegDhfgqTGoiPQvvBeT6ofBqeYkxokX+MNdPQjKF0A1xFTlOkvuniYixsLgnLo261AeJlkzGZfRUKZSPqs/IJhZGtmd7IZtjEVg2EWC4atk0xVo/EIar1noPWCbnz3DVMmmIhR5GZAx018+NLBmQPNkvNL4r6ftMXbUYrXU/XIU2KgDWyrbDxqtLhquQ75BBXfskqqsOmSt6pxD4rCB1VUXH+N5TN6O4SlHCxlWRkfbCxqD3x1UiwARA8Q3XSyevfNnhC2KqBVFvLEanCW8zAhXIXTpyq2a4ajbiKwVXyfoN6GCVv953FCd/fkJAlxjUJcrcRkmXJOcnSfkb5LwN6tE4LT8OdOvF3/1RKP8bSkGcVJgQKEj0GVJ8x57xH//OuO6/j+l/PFLwN8Mn/seE8RfihUNQUwAuK0zVga8dQsMgT6PXlSqGOyfpNLRGQbRYHpanAOLlpASw2KaGsk6aK7jYHXq25R5iDmmVRiakbJIS5m7IpMLQDWViKiZRR0VThOpG5Fd0H9SWC7EcvYIi19FDHAFbhUVgpUWA4aqV1mKr9ngZrlq1TbuyTozhqpXVXvc92phnt5hZpq5i6iqmrrrvRTOvD+6Hq3wKVq2n3lUUVy2Bd5WqotmNDNDpRVz14qlrfdNkyL9yrNbLb40dMlXTZEDMDFoSXKWRrKohGYrKnK+WlF3p9DNcdXfq391LWDIgTQkM6eLohG8LkmTDxpA+UcyLl3Vxim6dootT8uNlXYKsiydTnGaIl/XrQ7oncSpYHyrAUoOh/EQ572kl7zlJ96d+7s8mdc+PFPxg8L2/7/v4X3tNqaMXf6U0fYTlBb1OEHsgNAjSJEgBkAjN0VBaRZkUwVUy6dFewJsQSpao9irCfOd1h1u0lTWUTVL2JKNATCIZjrgk7CdPH1lQXkmUjtRwnS4MP81Q93VSCjCCq6g0i7wuDG0v2nmzDbMIPHIEGK565NCxLz7eCDBc9Xjjybb2iBFguOoRA7fcvhbDqGJmGa5iuIrhqsdzrd4PVwWJqYytyr2UyYBRddWtafj9l50HjDe7J3D0uoLUVZWdE/uLK6K4ipQ1xLFnZKS9sCHofdRV1Gp9WAFjufvlU1evdgWYd9XdcOruJWsZVxGzqjvqA8a6WZH5OEn/hKR/QtSvE7n4IEkk9OuTyRT2wJI4CrDilfx4JT8BdVi6ZFGXEtQ97eO+Oa3/1oThWyOFzw0ef67vxLe7jn+v872fDhT/e+DCfqgzwK0zMFgNU24IEHSlBEBD+ypRkyQIKSCpWkBR/dSCnZS5XNi183julzFb0Ug9Q5L7p6jovaWAKtHah5RM4bqoDCUkCyk8sniJ/EPnNMxxlCSR3h8omA/fLGYXxeyRzbIIrPAIMFy1whtw9Rw+w1Wrpy1X9JkwXLWim2/24GPGeTGzDFcxXMVw1exVspA5hqvmiJ5GJA+RTGSap4jDySDAF819B4uvm5tGpiTcgKbh0FMEYLgKB/FUTkKIZ3HLyHa+McvcmsG70gVHmuBKE9xZ5tb95tqrffIkQE2/dx9flyk4t1mcaYIrU2jL4B0ZvGu3pUGo6RwF8GhwyFi+w1SfZcHl6bwbwZPFns07XzvT0uWHYRVO1Q7mWhqzLI67mdQcSxiuugtRxccsQVwlElwV1Mf79Ul+fbJPn0Invz6ZuLYn0WxBOT9J1iVIXByZ4iVdghjGWwm+gnhvYdzMsfjpY4njhk2j+ufGCr4/Vfi3E+//q+/0TvHSG9D4AfR8BuPV4G8HZQhgEsAnyV4NXa5kWQlqagiw9J6C/Wr5/NFOjol/KpruEdcqpFFhowLMxlUhJBPDeRHkEL2ZhDMEpbCfF1kYTRYMsyr0uiLTPM8X4fid1dbuXkJvVvdcvnxCy45ktUaA4arV2rIr7rwYrlpxTbY6D5jhqlXSrjGMKmaW4SqGqxiuejyXOMNVc8SR4ao5gkPG5cQCm9yaI/dn5l01GzOil5FAGVNbi4YKfxTQJYpYmC9J1CWTGWRDmGSXnxTUJ/j1CVTxtJivZO/cV3cUg6jCuErk4gl4Widx6yiBokce5JBSBbkkvz76muLnUvzc5iCXLHPrFO6PFe4bdJK5J2Ty9SDxcRf1uKZPt2lGlzKjS5ngngAxj4sAACAASURBVB4p/NN+/bf7DD8Y+vAfJyy/CF56CRzFMFYBYjeo4wAiZgfTjkUZ0DzxzWxLLMocerdpgFqwEElXFCkqQiBFCgUqAU0LqBAkXvKyDIqKZvMyqAFQfTihOzsmD9JUx4jzuoSJkFqA1hmc54FHUFmUmRGUNovQvrp8nptnq7MILCwCDFctLH7s248tAgxXPbZQsg0tJAIMVy0kesvou5ExUETgED00ZrWOj7lr6o9ZrS9GczNcNUdUGa6aIzgMV80ZHPxwReMqQqxQJ0UmVFFFpgSRQ7OqoD6eULYkH6quNvv1yRIXp+ieiJnQ90rWxSvcBlmXEMpPDOUnSrqEkD5RKkgQjyX6ChNnCjf6CzcFCp+d0j83qPvvvYU/a//g54HaYzB8A0J9IE0RvkPS7mYz7B4Y+KVZAZ2nCK7SQkRSqMhBULwQuA3TbphohrE6GK+DyXoyNcJ4A0y2wngjjFbDWBVMtYDUC6pPkdBLnlZFJIUCJZRpajKQzN95nQkxsL83sbrPR/PaPFuZRWChEWC4aqERZN9/TBFguOoxBZJtZmERYLhqYfFbNt9muCo85gm3CBn/UEcMhqswqyhV8KTz7h3mlrzL7h4vjChwoqJvu6kxm3em8y7MKhLatlnacnjniyVVLQGsnna+qW+3qTadJ1+3ujBXSMAcot2m2vKuqUmAmwNwSKjLsbTQdch2yKYs7nTenSa40wTylrenCy3pgj2N96TzngyLmyQxOdIER6rVnWtpqOnxUuOlSA7LMvNeIX2K4ao5bnYMV80RHIar5gwOfrj8cNVXdVX3V3LF40e6FFG3WdRtlvJTpPwUOT85bLjOrZM5amv1RLBgnb8gzk/UYZgeiN5VaF+FX9ElY6qgLkHKXy/pnpR0T6J3O5eI/lZHN/qPJvt0mwL6TaIuOZQXLx1dL3OJwcJnJo49333ibwY/zYBOEyhOUEdQuqShnVXkRvrAwC/RCpqGdT8l4qWO6XuhcZhqgpaTI7btE5afjxv/93jJv0wY/3Xa9K/TJf/PZPG/jJr/o7fofw2Z/2XE+m/j53PA/gEE2rBaooru7LMPOzTNcP54jojRlLvJ1D2Xh4szLlGo2G5YBDACDFexfrBMIsBw1TJpiLV+GAxXrZIeMPsEF/Mwh+fG1FUMVzFc9Riucoar5ggiw1VzBIfhqjmDgx+ufFyF4IlOd+OqCLFaF9THUaUVyRNMCeo2BwnkQs5FiFVIh2UEJf0Tsn69UpAg6TdJ+qdF7qlA/iZJv0nRJ8t5cWrek6B7Us7/k+k//Mkot6lT//xg6S/B8zFIbaBNagAhSoUeGPQlXQF/gZAkULG4nwTB2+A0j5i2DB/70WThczPcU14u2c9tFrmnZN0mUZfiP/bfxgu/OXV803DhUx3cd4asqdD+CYgDoMgQwVX0nqNooJAl8zybe0irog9L95qZ5+bZ6iwCC4sAw1ULix/79mOLAMNVjy2UbEMLiQDDVQuJ3jL6LsNVTF0V6Y4sGTASicf5L8NVc0ST4ao5gsNw1ZzBwQ+XG66imX0RRRX6WFEjqjte9QlBMtGMv8grWqdHkwHDdQO5OFEfh/O6BPJROEmQbp+uTB2vZMNGqSAhqI/z69bN6NZN6+JmuASvfkOAWx/k1vt18f78hIAuUSpI1gqTcDrx9LTh2Y68P+/nX4DuUlD7AIK0st4DY76EK6B3FRYzVUEJEVw10+Ev+5274G9GCp/zGhJ83IaALjGQv0nMf1rO2yznbQ7kpYj6FMmwwWtIGOCe7Tjxz5Nlx0AcRFyFJlayAgEFfAqIxBOO9J/5nU8YV6HLuypHRVWoAotZEsOt5rd1tjaLwAIjwHDVAgPIvv64IsBw1eOKJNvOgiLAcNWCwrd8vvwouMqdanWlCQ5aXipV8OwwNwm13YMatPngt2cbt5vrMqzOTKGNVJjCIlPb+dbffO4c0uC2DIYb3TmWhgweU7rSBUeG1ZFhas3lW17mq1sDMApwuqF3t6k2g7enW+zbrG2pfBvJBXMftDZXdIxPAZQNwm5TdQ7fSlPM5qhLdfdHaYJrq8WRZXXvMVU3D/pk4sMaSQDEVonMr1Gr9WGAV8w3d5nrs3g7zQRM4z0ZvGunuYn7wtXrVUcVeL+8Z7upMVNoSxOwcVky4NxX8yyuKv7ycncgSJWLACENZgCs1Z5DJVesLcM+2vfm3tZj+FSl5fduzcDvv+w4YLzZPUHzKVWFlNDC/o/KShQjPMJgbr4HuOxwFWYNRU89PFrGwmTE+2ZYAWO5+8ipq1e7AoFwoOZ7xvNaPyrlwLaINIgcqQyIvtMzACXNIzv5hkyznWTLYu4tlv+zNO63VF3tC00B1PX5D1pqsgXHNryoXdusbXjZWty7LQ18TRerDBihSw+fx3ffNeeNq5BGrRP1cQRa0c3GmrVjwmCEVSHMwtX0yLDQ9woZFkIukUvy58UFdRvEgg3BwgS/YQPWCjTE+wxxon5dkHsyYNggHt8UMGyeyUvy523AlMC8dX598kThn/W+97fjF16EkS9Bm5TV5ebWqKpoWoVXH2IrWYLx1smLR/pO/GSicHPAsD5UEB/SJ4q6lGD+plDeJjk/JXQ0CQzJYt7/hZDu+Le69H89cOEdCA2AguVFFZAIrvIq4CN1EOkd7u4U8ruW4BGoaNyujIE0AGI/BLrB30GmWxDoAP8tMnWAvwvEHgjdBmUY1Eni5h6+5CPXL7mvavTSvutuMLvSXR/NLojeFu46ztl12NwajQDDVWu04ZffaTNctfzaZE0eEcNVq6TZv/p4FHkS0hQyasVHRWJMCgGAq57h3ab6NN6zxdqxxeZJtYZdhHaaG6w1vSMqtPnht+fqsviabTa0NGK4amV1EhFgAOBVa2VOUUWO1Zn1ad9/Fjm3mt05vHNvSX3hRfvtGXlchg/Ku3aY6tNs7VusHWgyxbyr5mhmDVNKh2UovuE6THAVwRw4+AlpMA3AV3ceKS6zNQ/7l4IO4YHG4CrPAWNZ93gY0FDjGoKrIrXnyJs5Tm7hHy1HXEWhNR2gYmEyldgz43h5hOCqw0VXv6TYEbnekvzNsiog/tAkOUpDxQh2ocbhXca61BJHptCVbbmVYXKkWVsyrNUvWq5f7Q/OADR2+14y1WznW7fxrVttjtTSNjSks3TsNjczXPUYWdUjbQot1WNY1X1BWMzG51qf6rair/Rb1PcqYnqFNRODukQft9F/4tsjhucHjv8YHDoIdhH38SXpz/PYCbnE0GpKQ+Q07Zy+sGfY8F1vQbKoJxUVdQmiLjnIpVBsJ3JJMpcoceuCKCtLGjT8cPTiWyD1gRIgwBdvfhqIGjq4U/5LkXT4DcFXuCRsO6Xh1YYLZQlZlToEvipoLJy68rrvyqu+Lw57P98b+mKf/8Lu0Bf7ps/nej/fP/3F4clLr0xfewvsH0KoGeRRog7DHwkU8tsYbk1RUO2lRvITaU5i+IDUuwzg8ZEs5jFNJc1EmTVKz+YRS7bqGogAw1VroJFXxikyXLUy2mnVHyXDVaukiWOeg8ijTwRX4WMQPglFcVUQ4LpnZI+xNo33bBU6t1g7EFdZ8ef6neaG0ur+UQXcPnjnfE0WX5NWynDVyusgIqC67XXh5q6SytRT9eml3ds+vZ3Gd2SZ7QRXOfpnUF31QXnnDlNdmvUWwVVuhqvmamkNFQthXFV09XJ3gKio8OIK46qq7iPFNyO4ainGHhFcpf7+ivteuAqrcYX1OwxX3QtXHSzGdkSVHJFizdX6j+mzyNCabA7Lmcno5aPJMsA4wGfumUNCQzbflsF35pg7M81tqbam9NLKPfz1KwRXNXT6XzLV7LS0buObt9rsqbb2rVZPGs9w1cOwoZW9Dnquc0mIqwriSfJgMl0i6jcGClJ8Bc+M656ZNPw39fNs8DmJQdRS3IIe/rII34EQVyl4eDN23/ldY4bnSZHEdbIOJWYEVyUTQhcvckmot9LHBbn1Ehc/Yvju2MU3QOqhuIqAaMqnUFJK3spaVEkadl5HEnQHrlKBWF8FwGv3Xj4y9PE/9xr+auD4Xw4VfG+E+86k4Ttj3HNThc+Pcn86Wvi94WM/6j/2V70n/m7U9P+GKt4GpR80WdM0mnsYoueDyY0SxVWUYeFivMhVPEdVIfPRIM3iqkg0CNKKPKFF12MzLALYjzTt6NGjubm5dJ7FhEXg64oAw1VfV+TZfu+IAMNVd4Rj5b6JwVURHUEssQJFxV8FQ1j5GW60D+01VmfwrjS+I1XwpFlJ4TbetcvUcHoWV9VlWerSbM4MoT0dC7qxZMAV0zlCACMqGC7WvyRU77bat5jbfyl0/ZcRq/LtNLXoLrm7vTCsUnVVXYbQttXqYcmAD2hdhqvmDNBKVFctKa4iI9Q7cRUgrgoFQFUkDQtx1o3Bm2ftmJ9rbsu2dKab27fa7Gmn63KF8su35WmA+k7xiKluu8WRKsSoq3gPU1fFSJZWNpa634mEcVVBPMFV1AALkwdD+g1BQ9KMPnmc2zRteLbnxD/AWA2oAaImmvOKXdoPI4Bm8XAV0U7SCywGV6kq4VkasiPkQpoMygwM3Bgq+d/jhucmDN/yH/+WT58i6jcqhUmSYYPIxft164OGTb6Cp6YKvjlW8K3RY98Ztf4S/E4gYi458hBFzkgFLQSaRCRSxJ0LpV8SWRixu49e88QVK4yzIiIwhSZHkrdL2yBsb8s9AgxXLfcWWjPHx3DVmmnq5X2iDFct7/Z56KObA1epmkZGkxRXBQHK3IP7jJXZFkc670E/KcGeIbSk867dxnvjqgwLw1UP3RDLYEUZwAdwo3Py4KlL+2wtW42OF2w9W0t7M073ZFscf7jc2eGDQRXer+jKNdVlCk7mXfXgRmO4as4YMVw1Z3iIgIuoXKOj17AKQ5OBdC0/QI8C75V3bj95Y7upNcfcmWbybCl1pJ1uzLVWXbqtTgDUdEmHTQ05POIqlMTa0HUuw+LeY2oUmHcVtzpBFQVYxO4qyY+4Ci3bZR21u0rAXDl9vJfbOFO4yVv4dFveD6H7C1C8yGWW09/XhKtikgGjuEqeDnVc6Db85eTRDV5dQki/QcxfJ+V9A7g/UfL+SMn7Iyn/jxX9emIuttGnT57KT779wT/CeC1ofg2VVOHf/DDnGp0WMMuYUidiGEaMsTQxFkshwsKJ3CPDgSCphIRVofU8w1XLqa8uk2NhuGqZNAQ7DIarWB9YFhFguGpZNMPCD+J+uIq4ReDTEjFcCAF6V11vGzhQUpFjJrhKcN8bV52rp+qqTP4Ww1ULb5+l3IIGENTgdhAMFxsPmKszzC2pts5fCh1biNv6777sbvdDv4ZW67uMdTm8I4N3od0+866ao5EYrpojODjcIj7KYdUAzVPEe04Q4IvmvoPF181NI1PokozDNploPCs7J/YXV3BXOr24GJn6LMohS+bc4QM/JMlQ4bsicbHBI8SFUe+qJVVXRVJ+Zs8R5zAfUBGDqoa35SENrveLr1qr91mackyereZbW2yu1NKGnULVFwOYLVjVqx4wN2XzTsRVNvs2qxNFkbxrj7lBqOlkVuv3kyatguUEVyX4C+JicZXExYd0TwZ06/z6hMCxzd6C5J5jPxIdAoRGSSLwA6+RpVthSXBV+O5DQDAFxLOeUKpMfeMk0GaC7Wd6DX8V0G0M6TfKXKKsi1e5eODi1Lwntfx1im6dqkcaKBdslguf9nObh977RxirBw19sqLJgPhgpeJdi+T0EmkVXtEKqEFQQ5KKV3RQwxugRJjWbATwG0R7Re4F9IawdC3B9rRCIsBw1QppqNV/mAxXrf42XhFnyHDVimimBx9kzFMPGTpGMgGpuSl5kFPIk1MAoNwzNIuriLoqXbCnYzJgU2n1wIiClQHfmcVV7QxXPTj+y2wNWcEH5eZR5a3Ttbv4puzT7jTrrczTHVkWx2+udLvDuKpvl7FuO9+aZSHVIRmumqMRGa6aIzgMV80ZHOKNJaPgJWK1/tWxK5FszBDLueLKjsOmqlyTc5vJnWqzp9vqc4XKi7e1UYDKXthnac4U2lJ5e6rNnmF1YklWhqu41ayrilFXoXEV4ipdAqqruHiJi5P164Pck7jckDiVHz/84V/7m4qw7J1G2PADuuXSfTzb4RfLuwohFf5HMwHxDTW3Uql9FQqhEBKJoHml9rP9hX8p6tHWPahLlHQJCrdB1sWjhVZ+nHh0nZgX7zsaH9BtFPWbZvKSB078DEbrQJE0FcVUZNsauZwpvEIIHj5B9M8SQRPpr4PU0IquhNor+pCmqsTuKlKzNebJbenag+1p2UeA4apl30Rr5QAZrlorLb3Mz5PhqmXeQA97eDEPPZFZQqworiIPUxrBVSGAmu7xAyUV2RZHGu9B7yrBkSY4Uq3uHeYWoWZgUAWnH94+35jJo3dVJt+eZXEz76qHbYhlsp4GQQXcoyHuQt3uU2XbzXUZxsZMU9MOc9Pvv+yIqKsIrrI4sixMXfWgZmO4as4IMXXVnOGJVAG7J65SJQBVVFQfMVz/vKXnyEcXD5qbdpjtWUJDtqVqr6nsyz5pHHGVujeKq6y0CAZeuXvMdUxdtQokVPc/haQ7rdZncZWif1LSPxHUxwUMG6bz1o+89xOx8STBVZiPtnz+wjQHn0YWyWqdAKMwD6L0KOzFrtC8SNy1BFoAtGnZc6bv2I8DBRv9+iQfl0hmEvz6hKAhSSzcGChIDBqSfQVJAcOmgGGTl0se/uj/huFakEQ8dsReEqZbKtMQGgPNi9tER1C8ilF9hbgqAOoMKFOgTZKan2F6hQJUtHunBu1YYwEJGtKriNHV8mkwdiRfdwQYrvq6W4DtPxwBhqtYV1gWEWC4alk0w8IPIsKoor/hkSejWc05XU5/6Gvqn4ziqq1WT6rVlWp1bLV6ciwtltrB2xo4EFfVI64qdWTzbQxXLbx9lnoLiqwBjEvQNgN5nzcfNN3YY6rYx9fsNVbqLjs6fDCgsmTA+bQJw1VzRovhqjnDE8FVOFoNaywicgwVlJCqSDSlCFMCQ3Cmvvs1c/V+Y80eS+Vu09WDJZevdfsRV/VIey3NGVRdFcFV6DloqeNrWTLgKtZYEVylS8bKgJinliTnJ0kosIqTdIirRH2cVJgY1MffLvhuqIHhqllcpYEsIw4mS7Banx+0SfnWJ72FP6DBpJTKq98wwyUECpO8+sQZLt5XgDP0dSovYfCDn8FoDam3SJKJlTHwt8NUPQzfhLEq9LYfq4HxOhhvxmmsAcbqYLgCxipguhaCLlAHAXz4gEZxFXV8R4hGflBkuGrOW+ea/ZDhqjXb9MvtxBmuWm4tskaPh+GqVdLw98BV5MzU8A/61BpGAQiqar8IB0oq0o0tqYLnF4J7i+BI/bTtlzZPhrnFXDvcp4FLgtc+rcqw1Kba7Nl8WzbfxtRVK6yfkNGwCDCqQvOYWtrc/4ezFYc+Overoi/fv9TYNSWNavBhee9uc2Om2Z4htKN9FUsGnKONGa6aIzg4GGTeVXME6P64Cu/bFFVhACUAP2CVwMo++aOyzkNFFw+cOvt68fmK7skZgOqe0D5LE8FVzlSri9RsdaUJrlxLA8NV95cmrQKMlSTlp0j5KX59UgyuSiKe63ESty6oiwvpE4O6uMHC70uNp5i6KpKbh3Z1OFHzTk0muGpcbrcNFP6AZFPGo6U6Fx/Uxwf1JNeSvAb1CXQKcBukgqShD/4GJmoBxBB6qE+CZIeWE9Pncyf4X07Zfjlt/YXP+p8+6797rb/w0nnh55OWF8atmRNncwNV74LUAtoQMbCiHA1vFLTuDfrhxzy5zXEHYR+ttQgwXLXWWnzZni/DVcu2adbWgTFctUramz70RJL+Ij/do4Vx+HmIDCdxRKTBsAy/vdCaY2nJtLq3lXp+YWlKLXVs/aQz09LK1w/3A+KqN87Vbi9tSCt1ZJhasywuhqtWVj9RZUXT0P/VDzAF0C+Ba1KuH/Sda+wuaxsYF7URGU5c78w11qeZ7FuxfRmumrOFGa6aOzwMV80Vn/vjKrw/E+tlIryi9oKUWHX6oXYoUN438XnTLfdocEaDmm7/PksDxVVpAsVV7lSrayfPcNUqYFJznEKSPIurUGkl5ydLumRiYhUncXFB3QaCqzYMG74vN54CeQxT0pbTX/iBZBGTASPPN1TBFH4QiuIqSoVkUjNxXGm3DRp+QM2q0K9KF458UP/VJgjqNij6pOH3fwpDNzTwh8APYg94zKPCC4PHfjRe8O1Jw59NG54L6J8K6Df5Cp716Z/z65/165+b0n1nXP/9oeM/vm38N9X5EQScoAVR8EymaI1mkfKr2ce15dRm7Fi+1ggwXPW1hp/tfDYCDFfNxoLNfY0RYLjqawz+49x15Eko+nPd7AMi/YiU3qIOoFMAl7qlA7bm1JM1OaVt24T6LZa6F6zOHUKLuW6gTwF7EH59pnrH6UasP1XSnCMw76rH2VZLsy1axihEfDWCpEabjwg3xiXEWJMKfHSz60W+OdPqThU8DFc9oFEYrpozQExdNWd47oGrwusjrqKOOJgZRO/PMnFe9xPbm2mAkRCWTRABGvoC+/i6DKszlXfG4Cr3dqHBzJIBua+yhlWkt7ofrkpC2sLFB3WJon5jULdh2PADuaF4reKq2GKgeHmFpVWorqKciHhOaYirhgt+rOQh9aMTYX/JIhJAMhE4KOWnhPKSFW7z8Hs/g7FKktAngtgpVR/tO/Z3Y3nP+rkUL7fJx20M6eJC+Ru83KYp7pkZ7hmf7imZfHeGe6bH8BdDlw5CqAUgEHVb19BrXRXJZY4Ai9rDz3kHYR+utQgwXLXWWnzZni/DVcu2adbWgTFctUra+164ColVVF2lYQl5upYfoCMEhqsducUVu4T6Fz+p31HakGpuzCmp4Wv6BjVwifDqJ5U5tsZUoXVbSet26y2mrlpZ/SSCKNH6ldYnUkgRbvqIrAFMhODDGx27LQ3pvGsLz9RVD2pehqvmjBDDVXOGJ+z6TAamd2b/hPUfCmgKKWGGxIpOMhkfU1AVInmC1Z2TUVyVzrsy+fZ03r3VynDVKgZV9NSSqJwq4l0Vpioih/mA98ZV1LBpzk65lB/O/ni2WFbrskb0idGri1xEEW/08EUVq676cUShFkFUujCuEnEmhU7B/GRJv3n4vX9AjyrwIjQOdkg33xoq/EmAe1bVJ4n6jSF9osqtV7l4KrDy658NcU+BbqOWFy/qN/YVfLvTlgmqHSCA6ipasRk17lKI+Lajz7rCrNaXsjOujH0xXLUy2mkNHCXDVWugkVfCKTJctRJa6SGOMTrKiYx26IJ74Sr8WW8aoH5Iff+6Z8/HX+z46MI+W8VOvmGvsfp0dfcYwC0Z3jhTkyM0pAmODJMry+xhuOoh2mAZrRKllOQBebbetgQQIkOHiRB8VH4r11SXLthTra50AQuNbbO05fDOF0uqWgJooHO+qW+3qTadd6UJmHOUzuNqaO1sqi3vmpoEuDkAh4S6HEsLXQclWjg5MkgpyTTBjRoQ3pHB29OFlnTBnsZ70nlPhsVNFjpoPcpcS0NNj/dOFw/yO/kyCicaDCmAWbTFN1yHi65e7g74yK/3AGpIw6uJr+o+UnzT1jzsDy9f9KNXSbLnrRn191fcB4xl3eM45qHyHDpUI4hDio7fFvWAGK56UHjpOPWujk1v02GDnfCgHjdFfmqQQKaXrqRioc/6vmmKq7ZZnLO4yubaLtQxddUq0lLdg74Rb/UkYrEUL+mS6CRyCRFcteGr6qo1hqvIbzH4/5DItUNve/fCVSqqq/oLfxjkkiJ9ZtbBKupjhVZWpG5g0LBp6P2fwVgtyH7cS6BLuf7miP7HYv43pT8kBPM3BnWJat6Tat76YH6yT/dUIP+pUF6ylpckvrver0/uP/7n7cI2UJ2gBFQsC0gqA0KAiK0k3KBCrnLtrjtD+GTYP2s0AgxXrdGGX36nzXDV8muTNXlEDFetkmZ/CFxFz1QFhSab+ABax7WPrrW+ZbtyyHx5+8lrh4zlZ6s6hkS4FYS3ztTmCI3pNne25VaGESlDOu/azrf+5nPnkAa3ZTDc6M6xNGTwCB0QdljR5SqXb3mZr24NwCjA6Ybe3aZaRBUW+zZrWyrfRmiF+6C1uaJjfAqgbBB2m6pz+FYKQZCGPPSUJri2WhxZVvceU3XzoE8mz4E4xIuM+CLz4fyaVdLKD3catC9g6gH+mCuDFsLMA1lUJFlSMRMQAKYVOFXVtdNYnWltTT/dxnDVA0LLcNWcAWK4as7w0CvxXiPSyH0bpa/kj2wHywWCihIMGlia2Ns04Iviqgzelc1jhYRUq4Phqgh3uAfoWQUfEY+qBEmXENTHBfVxWBNQlyQS2iJxiFoCXBhXoSXTmkwGDKN5ehGSZwByYd2Nq/wQxVXET51arYv6uOhEghxPhWxefWKgMHno/Z/CaBUoBFeFerWyN0a5H4j5T8v5SaJ+k6hPAd16yF8vcxtD3CaZS1F0KZouWcpL9OuTBt//3i1bBuIqNYgPJ4ifZdAorkK5FUqrZKauetDtc+19znDV2mvzZXrGDFct04ZZa4fFcNUqafHIsCfWuyqMbGY/ovYo5FXCRyU/IHiqGpg21np++3lL/sXWyraxkQC0TcNvztblWBrSBHcO35Vp6mC4agX1E5JzoMn4Sy7NQpIAiyLhM3FQxgdmTYXxIKqrcopubrM0pApIDJm6aq4mZrhqruiwyoBzRodQdDKIjlktelumo+sIrCLviNeVGgJNIpcwamQlgPJbY3uJd9U2i5PgqrYIrqph6qpVgKXudwoEV8XLurhgwbpgwTqRi7qDx0sccpYAtyFQsDHAbRgsXKNW6w+Fq1QZFVLquOI+PWD4MeF9Scj+MKEyTtbFydw6iUPregIBE4Jcko/bSNRVP4XBqyBNYDKg3yOXvTLEfdebnxLSJ3oLUnwF0uq8SQAAIABJREFUSYruCU33DfotWRev5MdreQmKbqNXlzBw7Plb1jSQW0D2a1QqiXBKBJBEYkgXTg/86t0h5kbBZtdkBBiuWpPNvhxPmuGq5dgqa/CYGK5aJY0eHfyQ86HvwqeG9IL+SD+Lq0CT1ZBEK8dNAPRp4AiAawYGZlCn3u6F359vzrE0vWB2ZvKd6eZbDFetrH5COgDNPyLPyKpECpD9/+y9CVwUZ57/3x5ojskxScyBtIB4rIm5Jvcxs5nd2ezua/8748w/u/vb2fnPJHK0gHjkvswkk/1lzkykqxswicYoQnd1o0ZzGY1RPBFErqZpEPBCrkZAurvu+v5fz/N0ly0gCgP0wdOvejXVVdVVz/P5PlVUvft7gKggiKUq4BZgw5HTWZYjGbZK5BnHUlw1pIUprhpaHnSJQS8y8HCcIprnAL6pPP1q/l5LRUePiDdQ0VMbD3Co6dzL+QeZ3U19aDGuBHER1hnMFwkf4sre8Nf910EEbfEVEC2UADpkKDjgejUfBXVy+OiaV+aV7XzYW110QSbfJouCwgDJggu4ShZwYxVFAUlGzT5ysncgrkqxOZaxZSxNtc5Ep2sVivgzxuOU6hdwFQFbnGkQXCUe2wBypFcGRKhIMM3mGb1gnCkyerf5YfeO34HYjEv7obPYf5pgbyXis4TPcbw8cNar+LyRQfEnhEMnkhfkLqgrasW4CsdU+uVFuApPiF4Z0VjimESfcTZnnoe8q9z7ALoBfNDnUg+87c571GNMEs2JHlOSx5womm6XmFsROgyQL+GvcWCe62Nmtefef3LLEpCqQfHhSEASDCiqIJEqKCif6N94qRv21Yh+IQIUoLgqAow0MZpIcdXEsHPY95LiqrA30Rg10H/Pp9VUJjl9ZfyE2eCFP3x+LLOg3GCrT7XWpbGuFFQckAYDjpEtxm63hFiR/fsjDtD9MYBbhA8Pns6yVGRYqwxsDcVVl7EBxVVDCkRwOMVVQ4o0rJXkzEUUDyE2FQSA0lM9L7FlS2y1JHeVwVZPoqdXWimuilpWFcBV/mBArzkOsyoUDMiZ4jXvKpK7qjXncfFYflTgqiTeNAe5PmXHydnx50wPdu9YBUI9SF0o2ZMC5L8YBlU+FFunSKAiHOTPgYjubhQVeAlNEsJV5HwSPSC0gcvenvN4sC8bSQFG3rXlGFcl+HNXdR4A1QMqB3yzvHdVR86DPtN8TLWQFTgcS4iDNONxdGE8CgzMTuBM+o7c+0/YDCA4QPagNqCzGSFqGfN99GkQkj2sCwXdODoVoLgqOu0agb2iuCoCjRaNTaa4Khqtevk+Be6RLkAr/B10T8cBBHBVBcZVKK0vxVWX1zQMt/DfHJPfonECHeJqh3HVmoMtmdaqDGtNOsVVl7UdxVVDSkRx1ZDyjHQlLucK2FeN4KpXrH5clWJzptrrU2wuA+tcaS23HWnqBGhQ4bWCA1mFR9OtDgPKA4h+Y0iz1mSwte9sq2r2QrsCG0pbl1uPpVtRzYQrn3DxBCcKQrQ70tmqv+x0egNP2oHCo8rfktofP7eLILuV6o1tuU/6jAkkVguVaUNJmlD9O8kYL2UjOuA1RTOc0nBJ8AxOtR7vNeu9Zj1efhGu4owX566S3RDZqdbjOYbgqkQxe1YAV70BYh1InahrhEypIMuyKnlA6ANJBBkl5UQenGREqiKOffdKIMky9mVCmc5FEN3gtPTDVVrS+mDNNVzVuvZp6DyEXKtUAfhmZe8bbvODPtMCYhSe8dtFy3/PmeIlZg6HxrC+I/fek2w6wlUSxlX+1iFchRBa4D5spBcI+r2oVYDiqqg1baR1jOKqSLNYlLaX4qooNexluhW4TaK46jJCRfZqiqtGy34UVw2pJMVVQ8oz0pUUV1FcxSA2NwFxlcD4vasko96d80DnzlWg1AN0q4A8Db0APuxyiCqKoN9geBRth0sTIBCEIt5RzLEMPhm5MqFs5igeWJJB7oaGza0Xe1dRXDXSKxT93lgpQHHVWClL9ztMBSiuGqZgdPOxUYDiqrHRNdz3SnFVuFtoVNpHcdWoyIieiNAzT7sE+fucr29EOY886CkJ/UIuqNALwB4+8Ub+/qLKdq9/+Wgd+JL7UbDTzfHzyl92u14pKD7RhX6rVwMlMnHbRORtEDjVL7mj0VhBcdVoqDhgHxRXUVzFTERcxTOJEjNbNMYLRpT4vD33wbZdvwX1OKi9PM5XwGFoJZH0VCKP6+55RRBEwH5LqFSwjJyhgJcVXpFRukZclE8BqRvqi87mXhQMSHHVgEsPXRBiBSiuCrEB6OEDClBcFVCC/g2pAhRXhVT+kB088AxLvatCZoLxODDFVaOlMsVVQypJcdWQ8ox0JcVVFFcxExBX6XlGL5lmiYyeM6L85a25D7d8+zZAM4CPZCgPOFWJ2KnKJ4PEAZwH8GBeTyLtsIOVD5EsAVUYQemukB9Wl1ibT3HVSC9J9HvjpADFVeMkND3M5RSguOpyCtH146IAxVXjInPYHYTiqrAzyVg0iOKq0VKV4qohlaS4akh5RrqS4iqKq5gJiKvieFOsYJ7Jm+IwropvzX20Zdf/gnIax/cFov+EDhCaQWgA+TgoJwBOA7QAtKP8VkInCO0gtoC3HoQzIPWCJCFfK1UB1S05N1FcNdJLEv3eOClAcdU4CU0PczkFKK66nEJ0/bgoQHHVuMgcdgehuCrsTDIWDaK4arRUpbhqSCUprhpSnpGupLiK4ipmQuIq861Czm28KRbjqsT2nMfbvvkDyGeA70NFAKVeOF8P9VuFg+/37X7T++0Lws5l4s5l3M7nuZ0vyV+/Jn/1pvD1W75v3pL2/QEq10FnKSoIKHCq4APVrTTYKK4a6SWJfm+cFKC4apyEpoe5nAIUV11OIbp+XBSguGpcZA67g1BcFXYmGYsGUVw1WqpSXDWkkhRXDSnPSFdSXEVxFTNxcRVnivMxs0Rjktv0ROeOP4B4BmQfSD7obYQKS4fV0Mj8qMn0UOfHj5wz391rWthjurfHdH+f8cFe46NdzBPt5h+eNj/VuOan3J4/QU8lSH0gC6C61XqW4qqRXpLo98ZJAYqrxkloepjLKUBx1eUUouvHRQGKq8ZF5rA7CMVVYWeSsWjQhMFVKkpMAuSdCBk8j+qd4w0GrrpS1SmuGlIpiqv6DS1RFMmAlCRpSOWGXElxFcVVTChxlSyjJFEAIAgCAEiSRAY2WXjl7+jq7C/hJ4Miwvkazxcr3DkPeE1JIhMrGfWiMZ43JnFMEmeK50xxvOl2wXwHZ9L7jAmiMamLecL99R9AOI2Qk9gN7Ydb2BXtuT8+b77rfO5sT+4srynJy8wjE2+cxxnneZg7e8wLu8x3ta15vOGjZ6BhM4huRLuUDrXOSisDXrnt6JYhUYDiqpDITg86UAGKqwZqQpeEQAGKq0IgehgckuKqMDDC2DdhwuAqIqWioNIBAKAoisanyIMWAHAcR9Zqq8jHK3qnuGpImSiu0uSRJIkMOTIatQd+bYNhzFBcRXEVE0pcBajCHk5rrqrk+qldY4cxjHGyKbQ9ynR+JbhKz5viBNMsjkn0GWdL2UldpsfdO/4XxGaQu0HqgLY9bYWp3eYHeUYv5NzGmW9FkItJ4o1JojEewS9Gz5niPeb48+ZZXXl3N655GlybQOxAuEp2U1w1LNvRjUOiAMVVIZGdHnSgAhRXDdSELgmBAhRXhUD0MDgkxVVhYISxb8JEwlWqqmqPUppLizajUQNVVbWFwzAAxVVDikVxFZFHe7YnQ5E84Wtjb0gJB1tJcRXFVUyIcRUAeL3ev3E8D8u7imfiRWOixMzhmDlcdpK8OqnL9HDnN2+D3AhqF8it0LbzbMFvukz3ccY4zhzrNcdh76o5HINxFRMrMrGcKc6TE+fNub07b25T3lNQuw74DpBFkM6pLvvZ3Cd4LKz2LjIIcmkfeSYew7IELmdu69qnofMQgA9UAfhmZe8bbvODPtMCKTsROYUx8V6z3mvWi8ZE0ZiIvmiKR403JvCMviP33pNsOggOkDyoXiEuXChjaAegIH7nl2aw058um8AKUFw1gY0fXl2nuCq87DFhW0Nx1cQ0feA2Cd1AqaT2MxJCAVT2GRq88IfPj2UWVBhs9anW2jTWmWJzpbHOpWz1H7+ubVOhRYKcfScyreUG1pFic6TZHAa7w1BYvZytWsWWVPugE2BL+amVhaUGtibNWpNqr0tm61LYhjTW9aq98mBjVw9AcSusLCzJZKvTbI401jmsKcXmXGx1pNtdzxeWVLZ6JNwFdOMXuPkLzCtBvZt4pkYqIAUCquD7Y7QA3CKsOdiSaa3KsNakszUG1mGw1aVa6zLZ2hc2Ha7ywTmALypOrywsJdZPtmMDYUutLCw90NzTDbD/LLxmK8u0VmkjxMA60a6srjTWlWJzpdjwR7YmzVaVZqvBA6DBYHWhbfDISba7llvLj5zsQxFTFxrqd5IalsFU/CJfIQ9XHo+HkCme58lyzdNqWHtGG1NcNaRkFFcReRRFEUUxOPjU5/MNqdyQKymuoriKCTGu6u7uHnKMXtFK/z+gK/OuwrgqSTLORWF9CFcldpkf7Pzmt6AcB+gCBeGqM5t+jXHVLI85vs+c6DHN8SK8lYS+y8Typtu9ZoSrOPOtvXmzm3KfgNqPUblAWQG5R64vorjqisxGNwqdAhRXhU57euSLFKC46iI56IdQKUBxVaiUD+1xA2SA4qrQ2mGMjz5hcNWg8X3Hjx//8MMP29vbAUAUxZE4VWn2obhKk2KwGYqrNFVWrVp16tQp8jHY40/bYBgzFFdRXMWEElcpilJcXPzll19KkkR+DxgZ8R8+rkqUjHM5gquy47vMD7Tv/C2oxwG6Adoxrnq2i/mBzzjbkzO3N2dOn3mOx+THVaieoDnWY0bBgD7Tbedz5zTnPQnOT0A4h36Pk3tE6l01jGsQ3TQ0ClBcFRrd6VEHKEBx1QBJ6IJQKEBxVShUD/0xKa4KvQ3GoQUTBldpWhK/KkKvDh06dPvtt7/99tvnz5/XNhihtwvFVZqCg81QXEVUUVU1Pj7+2WefdblcWlLqQVnqYCoOWEZxFcVVTIhx1YYNG/7u7/5u/fr1WkzrCMbzMHEVyrwuMbM5Zg7KXWXUB3BVI0AvcrBq/bYl/9ke0/2iMdFrnttnntNnTvKaEnkGRedh7yocHmhKEowzPTlzT+U+Cc51flyluCWXlVYGHHCtoQvCSwGKq8LLHhO4NRRXTWDjh1PXKa4KJ2uMX1sorho/rUN4pImEq8hDFHkn0GrPnj06nW769OnvvPNOT0+PljZ4JAahuGpI1SiuIvKoqqrX63U63b//+787nU6NWA0p3qVXUlxFcRUTSlwFAB9//LFOp0tISMjJySGsX+NWlx64/dcMC1fhyoCxglnvNSX6jAkEV3V+8zuQT6IEUnIPnP2ubeOvvca71WyUkd1jivOa9ZxJLxn1crZeQrmr4pBnlnGemB3nM81tMT8JtWtBcIMigdIu1W86m/tocJoqHEJIc1f1txr9HEIFKK4Kofj00MEKUFwVrAadD5kCFFeFTPqwODBKVhVAV/4GcQD1Xvj9F8fSC8tT7XU0d1VYGGqkjSDGxU8LCqhkQpWeOiT48ODpLEuFP3EV61hiq0211i5lq1/cdJDkrvq88vQKS2mKzZlic2q5q1JszhWWcMxdFZwwiOCqffv2TZ48WafTXXPNNS+++OKpU6fIgxZZOzxFKa4aUi+Kq4g8qqrecccdOvz653/+5/LyclEUR+CNoontx68qCAClp86/Yj2yxOZIZmuT7S6DrR6ngXM+bymzHWnqAmhQ4bWCA1mFR9OtDgPKBogSDqZZazPZ2ne2VTd7oV2B9WXty62V6dbhpQvE2eicqdZag92Rzlb9ZafTG0g2JweyRwOIaOr370TryZAz6AKliiC7leqNbblP+lCaauQsw1NcxYQYV3344YdkPF9//fXr1q3r7Owc0pKDrxwBruJzZnpN8QFc9eBFuKrlu3Y/rkJkymtEidV5U5ycjXGVMQ5VBmTm8MY5kjHeZ1rQYnoCaj5CqdYVEZR2xTW2uIpnkGuYkE1Srd9/woZTrct9JLW6DEBSbWpnCh78/XRDN2Z4urA88K9cUUnO9gtr6FwUKkBxVRQaNTK7RHFVZNot6lpNcVXUmfTKOoSSnpLc6pL/rihwN+QDcPngf788arCWpRTVJrO1JG02TbV+ZcqGxVYkwXzgSZKkWldAlUARACRRhS6Aj4tdKwtL0u21qfb6NNa5xFa7xHpsOVv2Sv7eah/a4LPKs1nW0mS7g0w4n7pzsd2VZT26P3Sp1mVZJk4rWo2/fqBKY1LFxcVTpkzR6XRTpky5+uqrf/nLX54+fVozD0llpSgKIQKXcYSJcFwlSf7s9Zp0AKAl89JmNHGCiR6ZJ0Jpzmv9sjJFK67SRoXmUTJQK000MhMbGzt16lQy6h577LGdO3dKkkS+ruX9UVVV23O/r/s/4ud7dElW0cOpqgAPcPgk9xJbsmRzVcoWV+qWppSCOsOm2ix73QubDheVNJ0DaFT64SqngXUusVyEqz4pa19GcRWDGFAETaQIHalAh5uNWB5nihcZhGk44yzeNJszzmrNeVwqzwfZjbjMYK/g85qcy4NtddEy4l1FxvOMGTPeeecdt9sNAKTqZfBl5KKvXfxhmLhKz5uQ2xSuzTdbNMa7zQ+6d/wOpGaAPlDc0LKnY+Nzfcy9klHPm2cRWZB3VXailE1q8+k5E7FvYq/pztbcp6D6Q5A6QBZA6VLr2TENBuSZeJlJELNn8Ux8R84DCFeJ1aB2q6pM/i/7cZWCqouQJWrg7gtDYAUTLQm/4+oouAwJ5lyKAJIAEiVWF4+vKPxEcVUUGjUyu0RxVWTaLepaTXFV1Jn0yjp0AVeJF+6K8P0TB+DkCK4qTSlCHjcUV12ZpmG01SC4CrlWibjwoyQCuBGucq60HEq3O5/FVfwMdoKrjrySv9fhJbiqLct6FLGqopoUe0044Krgxy10Zx+oBjjoo9eBAwd0Oh1xsJo+fXpMTMx///d/c/ilwYJg+qAhiUEMGeG4KrhHpO9ESVVVNZJCNPR4PGSVKIrkiVSWZY2zEM3J3sj2iqIgXIidNPGzFuB5f6VHDuCbytOv5u+1VHT04CdoBBkBwZdDTedezj/I7G7qQ7tD0DDokY2Q9OBWD3ce4zmyRwTm0QMeecaTADpkKDjgejX/u10nfBw+OgG6Qx+DaDXoSAv+4k033US8Ucj7T37yk8OHD5NhRhjfUMNM29GF5isarjp0inuRPZhmL/+NvXbxlkaDtSHD4lpqc64sOLz5YlyF6rHiWqvBuOqkB3lXUVwVQZRKa+po4SotIFo7/QEg+OzWBiCZkWV53bp1ZCSTC+mNN9743nvvER+r4N8JtOtGvz2Qj8PGVYxeMCVwTJLPOFs0JrrND3fteBukxgCu2t2x8bke0/1Inwu4Kl7KTpKykzgm0WvW8wwKD+SYxB7zQoyr8gK4qlsd41Tr/XBVkx9XdWEXSQkzaEAXO5mU7MXs6aJrn+R3VAQJO0T7a+aSbwg4oNGv56Ba04VRoQDFVVFhxmjoBMVV0WDFKOgDxVVRYMSRdMH/IEdujLCDFQFYKqBgQB/8/ouydEspQhiWWhwJguJKlrLVf/y6tk2FFgly9p3ItJYbWEeKzZFmcxjsDkNh9XK2ahVbUu2DToAt5adWFpaiBydrTaq9LpmtS2Eb0ljXq/bKg41dPQDFrbCysCSTrU6zDS8yxc9NrI50u+v5wpLKVg/5uRLdwwXu4wLzKNQRBb9NyNdF98DoqVcCVQBQeIAOgI/2HV9hKU0vqv//rPXJtsZUe10aW4m9q/ZpuGqZ5WiKzYFYla0Ghxc5k0PtXUUsqcVYafhAe3aSZVnBr+Li4piYGI0dTJs2TafT/eu//mtlZSWpFUi+K0kSz/PafgYfKZGPq3ie11whZPzSuj+wyxrOI6vIwy15rNV8hYJXRTGuEgRBU4MoRiDpoO8AEBsbO2nSJJ1ON3XqVDIzZ86czZs39/b2But8mfGmoAdafDHz4ypOhUOnuFdthw228ufstc8WNSyxNWeyjQbWuaLgCPGualDh1cIDSy1Hh8BV66l3FRNJflWEWI0WrtJGMuGn2jVz0MFMhuhHH31EMgBq6F+n0y1durSlpUU7HYIH9qDz/n/L6B5DRp5f52s8X6xw5zzgNSWJTKxkRLnVeWMSxyRxpnjOhGBTZOMqIwoG5JjE9lziXVUFqhtULwb1OGAW1ShUsBOcB8CDfjJEGhG/KhxUi5ZIoKDT3x89KOP1/ju3QWWmC6NHAYqroseWEd4Tiqsi3IDR0nyKq6LFksPrR+CeR/TfP5G0Cti7igdo8MIfvijLLCxFAWKW2nSri6RBobhqeCqHcOuAgQN/8a0wuv0VVUBEslWFj/c3LS88krG54Te2xsW2phT78TRr9TK2/JX8Aw4P8q7aVtG2zHIUwUTEqhzpVhRblGJzLbOEMhgw2C+AuAZoz2BEb7IBAOzfv1+n002aNCkmJoa4BpCQlp/85CdlZWVkM47jruihK8JxlSj6mW1fX19rayspS68NT8KhBEGQJMnj8bS3t3d1dUmSpCiKpi1RiXgGiaLY3Nzs8/mI+xV2jEJcOPq8q0ivNaHIzBDuUaIoklTrBJLGxMSQcNS4uLjNmzd7PB6CCRRFGcKlRdMRHw5FA6kKeBU4elZ8gz241H4sdbPzOVt9svX4EltzMlu3zHJUy11FcJX2A4DmXfXuZ9XEu4riKs1lKYJmRgtXkQFM4BSZ16Khycd+76IoEu8q7RJ69dVXT8GvlJSUxsZG9H8F+1dqF4p+eyAfJxiuSpSYOUL2bIyrHsTBgFUohhHhKh+64yJJJBUJVB6zKg92p9LyVeEZ8p+b/IhI4gJJ1iuSvMEv6KBi04XRoADFVdFgxajoA8VVUWHGyO8ExVWRb8OR9CBAMXh8/4TjAQO3RzxAowf+vL1sWUFpBlubXliXbkFeUdS7aiRCh+Q7yJQkq3rw4f13wzKAF+CMCuuPnF5RcMTAOhfbmhbbTiQXNaWyNcvYY8G4agXGVQa2Jt3qyLA4MbhsWGE5eiB0uasEQRgImLTMSsE5lfbu3avT6a666iriF6B5Wk2bNu2xxx5zuVyyLHs8HhLgFvzFYNX88xGOqwCgs7OzqKho0aJFP/zhD1euXFlSUiJJkvaQSeDd2bNnV61a9eijjz799NPr1q0ja7UkNaIo8jx/+PDhxYsX//3f//2vfvWr4uLivj4UzBet3lWETGkhk8RxTxswA31SACAuLo6wKgKqiIOVTqebO3dufn7+ZSiVNvICF2hQZXwuI8Ts6oE3CvdksSWZW12LbXXPWupTi5qfsx1fajnKHmkmqdZfLjyQYTkWwFWuIFxVddKLoiDXl7UuY4+lB6IFSczgZd9pqvXQsq1RxFXEy5I4WpKznvhYDRzM5DK7fv16Mp6vuuoqMqR1Ot20adOuueaa55577syZM2TMDgp2g4czmp8o3lUDcJVQDUoXdm1GnlP+kxu7U8kgSf5QZSRPvwm7XAWWajiLsiptYEXvDMVV0WvbCOsZxVURZrBobS7FVdFq2aH7he+KFOxa5cP3TyjXDHnxAE0eeH+bH1ctsdQZrBRXBdSJjL+EVQUyX/jbTO52UWikB3tXfVbb8yp71JBfsdjiQrjK3pzM1i5lj72y8aDmXdUPV2VYXGksxlVN57sB9p+F12xlmdYqHJ6JgKYBTQ4SPZpic6XY8Ee2Js1WlWarwdGgDbicmYOEkSbbXcut5UdO9vlzHflvxP15wYcWW5Zl8uhFQv/6bSxJ0t69e7WwLC0kkNArnU63YMGCb775hkQFEtqluWX12xX6GOG4iuOENWvW3HrrrZoOs2fP1hLPEyhz5syZn/3sZySKTafTzZgx49133yU4TxNk9+7dN99886RJk6ZPn67T6WbOnPnZZ58h9aI3d5Usy8TRjIigAT5Nk+AZVVVvueWWq6++WmOjk/CLANPvfe977733nhZdONSuVMSpEAWURYSrAFUGPCvDHz47lJVfnGmvSrXXLba4DFtOLrY3ZliOEVxVr4KGq/DZh05Jkmr93c8wrkKVAVsorgotexrB0UcLV2lQSUumpi0JHsbB85988snkyZPJ+a7T6a6++mrtGjJt2rRHHnnk+PHjZCQP4XXov65PRFx1IdU6yh2JyRQpgULIlIBPbZLGql/GyeBKKZRQBY/JiTBPcdVEsHJE9JHiqogwU/Q3kuKq6LfxYD3Edz8EV/GBPMT+X/aCcdUSW12qtT6FbcSggeauGkzKcFwWhKtwAUjcxgveVR6AHoAjHfCnL6uXbypNt9Qks00arno5/2A1TrW+raKDBANq3lUhx1WEKHV2dp49e7a7u9vtdvf29rbjV3d3dwd+dXV1tbW1tbS07Ny5U3uymjRpEnENIByBzC9YsKCoqCjYyeiSxoxwXNXS0vrQQw+RiEiC8KZNm/b666/7fD7SZUVRCgoKbr75ZgJWyDZPPvlkdXV1sCa/+tWvSCiQJuy//du/+Xy+KMZVxB/K5/OdOXOmq6urs7PT7XZ3XuLV09Nz2223aeJMmTKFaK65pdxwww3vv/8+cUkLFrb/vAqKhJNXSSJKYYOfabsB7MdOv2zZl1lYurTImWJxpBY1Pmerz7SWXxpXudKsqDIgxlVqhwIbylqWW8upd9UImFEIvzJauEpzpwKAjo6Orq6ulpaWIcZza2ur0WgkCFsjVloSqylTpkyaNOkf//EfHQ7H0G6DExBXcdmzOVN8e+4DONW6A5RegvQ1JhWMq3AVCESl0UIV/aSkRf5JKLe6KIEoI7csUhPwin7O6X9JoZ8jSgGKqyLKXNHcWIqrotm6EdQ3iqsiyFij2NTAj3Ukqac/Hzm5SeJVKgqYAAAgAElEQVSCvKsMtrrF7PHF9sZkWwMNBhxF/cd2V+ieFydWR6xKu7XF87iWtldBDlYnRFi71/VG4f4XrMcMVleK/Xgq689dRXDVZ5UIV/lT6bPhEgzY3d39/vvv/7/49dOf/vSZZ5752c9+tmjRomeeeeanP/3pz3/+8//6r/9atGjRf/zHfzz55JMkWZUWkEVYFcm5PmnSpKlTp86fP//TTz8l5hjK0SDCcZXT6bruuusIOpmGXzqd7umnnw4uSL9ixYpp06ZpSb5iYmJmzZq1Y8cOIg5xoEhISCAsRpP0uuuuQ4nqo9S7SgsR3b59+3/+53/+7Gc/+8UvfrFo0aJfXOK1aNGiqfil8SmSPY28E21vv/32l19+2e12Ew+XS10KFJxJEGSUcRnlugI4D1DVDf93y6FlG4uX244ZLFVpNsdzrGO57RjJXaV5V6HyCDZUFQEFcVNcxURebvV+aGy0cJU22ARB+OUvf/mLX/zimWee+fnPf36J4YyG+sMPP0wum5MnTyajuh+BjYmJeeqppw4dOjQEsZpQuIozxUvMbM6YgHHV/QFc1Yf+FQduvJAhMK8KlIIhRW/wP2u1H7GSJOAl8MnAqxCo46wZks5EqQIUV0WpYSOvWxRXRZ7NorLFFFdFpVmvqFPobglXnyG/4uP6MxLOw13XI/9p66EXN1f/pqDq2c1Nv2IbKK66IknDaCMCp4IbRCoDSpIkSDJK8XoeoLyNW7ur8uVPvl3OVqVZqzPY8hftR1/e8J3DC26AbVXt/sqAuPgjSrVudYU81XpbW9uvf/3rKVOmkDzWMTExV111VUxMzLRp06ZPnx4TEzN9+vTJkydfc801BKlMnTpVp9ORJ65JkyZpwSwaUFi0aNFQoIpIGOG46vjxpqSkJM3rh8ykpKSQXPWki9nZ2ddeey1heWSDu+66q7y8XItZUxTlqaee6oer7rzzzujGVSRx1ccffzxt2rSpU6eSMRZz6RcZdcHv2kjT3FIeeOABl8s1BK668HiPIgFRdmUBx/C6Ab5wdPzWdjBrw97l1vJMW+USa+XKwhJ7SUMXgEsB5HtlLU+xOZ6z1Bi2NlJc1Y/7ROjHUcRVxMFKVdXp06dPmzbtqquumjp16qWG89SpU8kFk1xFSdYqbRhrPwZce+21H3zwgXahCP6v4798an8mQGXAAK6a5TXrW/MCuEr2II8pRKzIP2IRJAFEAdX+Q+c4f6HoDQqt9kuoosxWggy8gpLX4R8XZfKVgRrTJVGlAMVVUWXOSO4MxVWRbL0oajvFVVFkzOF0Bf+yh0opy7jyFH4kEgA4ReEATnLwx6J9Kyylhs31z21p/vXm5sV26l01HHlDvm3wr7ioMYReSSBzOLZI4SR/UaKqlr61uypfKjiYselQZn7xS4XFb238toGDcwCfVZ7Nsh5Ntjuxs4YD5aWyupLtoawMSEraHTx40GKxbN26taioaPPmzXa7ffPmzUX4Zbfbt2zZUlRUZLPZ/vSnPxGvFvKspTkETZs2jRCEq6+++pVXXnG73UOXx0L6RTiu6uvzvvfee9dddx15wtTpdPHx8fv27dPSzaiqWl1d/cQTTxAaRZ5jn3322a6uLlL8i4zowsLCG264QfPAuvnmm9euXYtSNUepd5XW95MnT+bn52/btm0zfpHBNvDdbrcTfciQCwZVhJlOmjTpxz/+cVlZ2RCsijhe4FGHH25xBBD5IaEX4CQPO1w9f9xetnzDdysthxBf3rR3S0ndOYBGgFcL92VYjhrstYutjpSieoqrIpRP9Wv2KOIqciIDgNVqJddP7eI5cDxv3bo1LS2NXBOmTp2qXULJEnIdmDFjxp///Ofe3l5tzwNnLuDXCYCreCZeYhIEYxxnimvNuxd7VzlB5kEGWSAOVhLizwoPsgiyooqSCpKseU6RezPkY6Xi6ypaq4KEUl+pknbPNlBkuiSaFKC4KpqsGdF9obgqos0XPY2nuCp6bDmcnqDbx6AkCqqKUvkKGFrxAC0c5HxZumLToYwi5y8ttc9tO0lx1XDUDaNtA9jKj6tUCWXWB1VC3Aeb26tCXaewseTEB986V9mKX9/41bsbvqrrRrhqG8ZVi4ucyXZHig3hqjTWmWx3LrOW7g9RZcB+blDEU4C8E9G1DSRJOnDgAHms0hBMMESIiYnJysqqr68nTgHaFwc3XoTjKkWBEydOvPDCC/fcc8+kSZN++MMfrl27lugW7BNRWFj44x//+JZbbpkxY8bixYurqqrQdULFVwv83tfX9+c//5nEB913331vvfVWR0dHdKda1xL5E7k0wDfoOJFlOTY2VvNQ01z5NIeUJ598sqSkZNDvBi+88HiPvatQJquAA4YHoF2F4pPeNcV1v9ty8LVNu19bu/3LMtc5gCaAlzfuySgoXVLkHBAMWI0qA9LcVUxEBgaOFq4io1dVVe2sH3o8q6r6ySefaJQqOAxQq7ianZ1NcrEFX4eDB/NF+HVi4CqZmSVmz+RNse15dzfa00FsAFmRFJADeakUkBF7UhRQULyvFLj7Qqc7SkiP3tHKwPbIMUv73C+osJ/W9GNUKEBxVVSYMRo6QXFVNFgxCvpAcVUUGHEEXfA/DpF8ngrKlRCoUKOIAJ0ibC6pf2XTwUxrxbM2x2+KGnAaFJpqfQRKh/Ir5GfaQAtwVBG6RRbRBMirTpZVRUVhBi0AR8/BF672oqPHNx9wnOVQqOAOR0eW9aiGq0i1+9DiKhK8Rp6LJEkKftbSeJP2SFZcXEyer7RkVcGJhN555x2tCjuRiOO4gFYD/kY4rsKsCfr6+srLy3fs2OFyubR69kQuUvxOVdWmpqbvvvuuoqKira2NqE2E1aTu7e2tqqravXt3ZWWl5iIUrd5VWge17mvwDvk+DHgBAEm1PmnSJM0HTfOxWrRo0eHDh8k+NV4wYKihBRfjKhQdhDMuIy8LXkYnbA9AowB7Tp7fUnF6a+nxo01tvQDNKryy6buswrJ0uzPVXpfM1iHvKktdprXu3c8oropIUEXcrEYLV2mDTRvYQ49nRVE+/fRTDfprIYFkyYwZM0wmE8dxsiyLokhxlWhMJPZSjLOk7Dt40+1+XCU1gAKigrAUypeOHKl8AH0gnUchgSgeEJ/zyHlKxH5YPvSO/02raHsUR4g2CTheBS4Qmj3pTLQpQHFVtFk0YvtDcVXEmi66Gk5xVXTZ84p6E8juCX7Hcnyz5MdVCq+CxAMcO9XzXtGRZfmHl21zPWutSbGhmuhL2eo/fl3bpkKLBDn7TmRayw0s8rtJszkMdoehsHo5W7WKLan2QSfAlvJTKwtLDWxNmrWGPDvh8oKuV+2VBxu7egCKW2FlYUkmW51mcxAUcuXvKTbnYqsj3e56vrCkstWj3c9pt3HYIQSF8lzo7BVpE4UbBaAVdrDyRwXKoMr+W2ScEsOLH4A7ALoAOnjw4rvpr6palllLk+3IoyrF5kTBgCwKDFxhKTkQIu8qANAetPqZSsNV2gzxriKPWFq2YJ1Od9NNN/32t78FAI/Ho0V7DfGshQ4U4biKpFRXFEVjeURGDVoRMVUV+d0RTTR4J8sygVlkG7KcgBotU3u04qp+spCPQ7/feuutOp1OK6NGHKymTJmyaNGi5uZm8l2Nt15qV/5zFv1Bp62McZVMOJaE8tlwOPfcOUBekF0quAXEl08BvF7w3Upc+C/VWrvY6kxjGwbDVcdoZcB+0XZh/nEUcZV2edTG3sAl2ioA+PjjjzXKT0KJSVTgzJkzCwoKZFkmF4RLXZbJri7g14nhXYVx1cwLuAp7VxEqhf/fdgGcBqEBvHXgaQTuDHjOgq8FvCehrxHO10GfC/gTIHWgeoIqL+OrNvHAItwq2EB0PioVoLgqKs0aiZ2iuCoSrRaFbaa4KgqNerkukSgwDHRwKgTsWy7h0DAAXpL6FBV6FbCWnFq5Yd9S9liKtSrFhgLBKK66nLThuD4YV8my368KsSoF59hX0ROxIIMPZ3PlAlEJfSJ8U9GywtIfV6WFFFdpUEl7xCLZrACA/MIfbIDvvvuOeLhoTgFTpky5/fbb33vvvd7eXlLHiuyHQBzNgyZ4J/75yMdVWqcEQdCgFVkoCAJx9umngIauyGaa5rIso/TqxGULR6lEMa4itI4ogLJ0YaI3wK3Kv0CW5TvuuEMLniIDb/r06f/zP/9z4sQJMuSI1FrNQc0u2gw5Yf3AHZ2jflyFMjATf1gZLfICmkiKZh4nYj8hwRubdq+0li2xVqdaa/FvDBfjKhk2lLYut1JcFWGeVqOOq7RTm4zDS41nAPjoo4+Ie6A2qnU63f3338+yrCiK5Iy47PVzouEq2ThbzJ4VCAY0gOhEPwKi0ss+EFuktj3nqtf1HH7fd/h98TDj28/07WO8B8zCwWzhwF/E/X8QDr7PlX7orWKhqwpkN0gezKzBJ8sXfpnTrhd0JhoVoLgqGq0akX2iuCoizRZ9jaa4KvpsetkeEVwlo3AwHGKC7yXxbZAE4FGEcyCJAoCzB/L2Nr9sL89gK4gDFMVVl9U2bDa44EulPf2qAKIsSQry0iAvUVBRUhx/sgyUpUeUFFS5SAFZhn2O9pWFpSk25FqVxjrTrWgysI6VhSHzriKIhBRrG5gfXYNZpHd79uzR6XRa/qBrrrnm2muvLSgoIE5VAQ1wThDtw6VmIhxXKbjUVHAAmqIowa5VRFjyEKsRQPI4SiTx+XzE6wr91C+jIYRqTAoCmYluXBU8KPqNseBVZJ4EA06ePJk49F177bUZGRmnT59GrlEBwKf5pg38OvGg8iNm/CcQCYjPaBEXChNRiQx0OqsKDudF4UI9CpwQ4fUNu1YUHEm3VKfbXQZbfZB3leOkBzoormIiDFSNbjCgNgL7AetBxyFZuG7dOhL6FxMTM3ny5ClTptx9991ffvllv58HNGfMQXc1oXAVxyQKzHwuOwlXBry3yZ4KQhWI3SCcB64Z6jef+WKla+0/nzA93Gn+wTnmYTfzUKvxoTbzQx2593ea72kz392S+9DJj552rfs/3XtXQ08liG6QvKAqoowyTmJv+EFlpgujRwGKq6LHlhHeE4qrItyA0dJ8iquixZLD6AfGVegXe4Sr0IS+i53MJZD7UByYKvlwdImzDz7e2/BKQfEKS+kyy9EXLIf/+uWxDhXOyGDefyrDWoWDAZ04GLDWUFi9AgUDllZ7aTDgMMwxNpsOjqvIYzBK4BoolY2sjzJqEHApSSKPlqC0VrCr/NTzBX5cpQUDhhZXkWf+fk5A2oMToQAaT9m/fz950JoyZcqkSZNuuOGGDRs2CIIQHIqlPbYFo5xBLBLhuIpkoSK8SXOsIC5pGkbRIBTpvraZpoymsxZHCQB+X6HorQxI1FAUhQiiDZhBHVK03FVk4F1//fWZmZktLS1kyF0WdWkDrx+uwt5U+IyWFRQKKMogcJg0S8hJEqMrL0ArwKr8vcsLy9Ktjoyi+hQLKuVJggHf+YziqogEVaOLq8gVQPPsI/SKeEgNOp5lWV63bh3xUSXeVffee++OHTu0i4O2Q23oDjoz0XAVz8z3Zc/1muLb8+49YUsFvgrELhDc0HvMs+e9hrwft5ju4vPmi9lx0vuxYEoQTAm8WS+YUbor3hTbZ0roMt91OufJGvMiOLEdxLMYV0n+HxWCfnAaVG26MAoUoLgqCowYHV2guCo67BjxvaC4KuJNOKIO+B+H/JmM0C7wDaWCiiUjeqGgxyIcadLBQU1b34Z9Nau/OPzXLXvWfX2gTYAzKhgPtS+x1ZJsUyk29Eu+odDxvKXmLWuZw4NSINHcVSOyTCi+5B8NCkpohUeCjEMCd1QgXJWG8lWR9FUof1mazfF86LyrhlAnmGGRp6ni4mJCDSZNmnT33XezLOvz+ciqIfYz+KrIx1WD92uUlkaxd9VwFbr55punTJkSExPz/e9///e//31fX9+VU6pLHStwucYnJ/J+RJQAb6xRZ5S6+aQMr20qzrJUpFprDbY6A+tItzqWWGoy2Lq3tzmavNCuoGBAktzqyhMFprEYe7FOtFu7I52t+stOp5dcKS5ULlNwUh6RwO5LdeRSy1GHVBFkt1K9sS33SZ8xgWcS0WRMwjN6kdFLxngpO5EzxXtNEQyeRpYkaxSDAS9lgkGXK4qyfv16chW9+uqrf/SjHx07dmzQLYdeONFwlcDM4bJncyZ9R+69J1kD8A70Q6DUA50HOj5bdjbnIU/OXM44S2T0ohENZo5BA5szxfGmOLwk0WtKPJez8PSaf+D2/RHENpyOHZUHHFpnujZqFKC4KmpMGekdobgq0i0YJe2nuCpKDDlK3SBPVtqvr2SvfZLSKoCrV6rt6HWc7fICnFbgr8WtBhbFiGGcEcBV1iqKq0bJFCHYDfqBHT8RE1L5VeVFuCrZ7iJRgeGJq7ShqwlHcNWUKVPuvffenTt3aqCKhLBpm13RDMVVQ8pEcZUmj16v1+l011xzzR//+Eee51GELQnF1LYYmxkO4IQMrxTsz7RWJbMBXMXWpFuqM9i6t7YjXNWqwIayFoqrRsaMQvitUOEqAFi7du0k/Hr00UePHz+u+WkOaxRPLFxlike4CiFXvTvn3tPWdBAcKGuVfB46D7i3ZnSa7xNMCYIxTmT0PJOIWJUfVyF0JRoT0cTE9ZmT2vIeE/f9DuVcV0koMcVVwxp3EbwxxVURbLzoajrFVdFlz4jtDcVVEWu6MWy4ln6VHEPCOX3P42y+fSoIAGcFWF3cklXkMrCoLCCKFLPV4WDAChoMOIaGGeNdRzSuItpo0EpRFIKr9Hr9rl27BsbBDU9LiquG1IviKiKPKIozZ86844473n33XS0F2JDKjdpKiqtCiJPG+tChwlWyLH/88cfTp0//l3/5F4fDMRLQjwc4xVUUV43alW5i7Ijiqolh5wjoJcVVEWCkidBEiqsmgpVH3EfiGkB8bbwAnIoiBGUF2gVg9p7OZB3pbI2BrUmxOVLttamWquW2ijdtJVU+mrtqxJKH8ovRgatIInZJkioqKn7605/W1NQIgqAlW9F8rIYnNMVVQ+pFcZUmz8MPP7x9+3YBv7TsYNrasZuhuGqsmVEI9x8qXAUAn376aVZW1tmzZ0mWOlJyYbjDmOIqiquGO2Ym+PYUV03wARA+3ae4KnxsMaFbQnHVhDb/YJ3XigeRlQRhyAAiLhiHyqpL8jkRzHtOZVgqcbb1YFx17HX7IYqrBtM1ApZFLq5CLccvbdACgNvtdjqd5ClLEARSCE/Cr2Ebg+KqISWjuIrII0nSkSNHgqP/gueHlPBvXUlxVQhx0lgfOoS4yuVydXV1aXcFWuGFYY1XiqsorhrWgKEbU1xFx0CYKEBxVZgYYqI3g+KqiT4CBvS/X+Iqsl6SQUaOVTizkSB0C7Cm+NRytgbhKlsV8a5KsVZl2RGuquSod9UAWSNhAQI+EZu7ioT7EZlJ2nXyHlxhfeTsgOKqIQcwxVWaPJIkaRGphJBqj/raNmMxQ3HVWDOjEO4/VLhKG8lkDAdfS4c1himuorhqWAOGbkxxFR0DYaIAxVVhYoiJ3gyKqyb6CLhE/0kYoN9lBUEM/FIBVahRlHM85O1tzrJU9MdVtorXbSUUV11C1HBfHOm4ijxTkWBARVHIDAAQakD8Aqh31ViMQoqriKrBZEqW5ZHj0eEbieKqEOKksT50qHCVNgxVVdUSVwUPcm2DoWcorqK4augRQtf2U4Diqn6C0I+hUoDiqlApT497kQIUV10kx4T/EPx8FXxXijmVApKsigKoUq8EuftOZFmqgoMBU6zVyzGuosGAETqOIhdXaeM2eNASKxAfK81NQNtyeDai3lVD6kVxlSYPoaLaOCTEX1s7djMUV401Mwrh/kOFqzRXa208BzuxXvlgpriK4qorHy10SwBUCPKDDz5Yvnw5maeaUAVCpQDFVaFSnh73IgUorrpIDvphMAVUHAUoAb7nVGUApVOAnH2nMi016WwNqQyYaq9LtVQvZ6veZEsprhpMxQhYFrm4aszFpbhqSIkprhpSnvFYSXFVCHHSWB86VLhqtAYuxVUUV43WWJog+6G4aoIYOvy7SXFV+NtoQrSQ4qoJYea/rZMqoIKAIs5qpKD8VUq7COZ9ZzKsNelWRxrrTLG5Uu31qRbHCrZqFVta7aW5q/42xUP0bYqrLik8xVWXlAatoLhqSHnGYyXFVWPNjEK4f4qruna8DVIjQB8obmjZ3bHxuR7T/cgi5lles95r1nOmeCk7ScpO4phEr1nPM3rOpOeYxB7zwtbcp6A6D6QOkAVQulWX/WzuE/2sKTJ6kdEHL+SYRJ8xgcuZ27r2aeg8BOADVQC+Wdn7htv8oM+0gBiFZ+JJA0RjomhM5Jl4zhQvMHM4YwLP6N059562poPgoLhqPC6CUXQMiquiyJiR3RWKqyLbflHTeoqrosaUY9cRgqv4gI+VCtCGcFVLutVhYJ0arjIUOlZYa1ZZyyiuGjtbjOmeKa66pLwUV11SGrSC4qoh5RmPlRRXBbOGKJunuIriKhyPqYzHpYQeIwwUoLgqDIxAm4AUoLiKjoOwUIDiqrAwQ3g3IoCrUBygBCjvepsIzP5BcNXz1qq3rGUOD3QBbCk/tbKw1MDWpFlrUu11yWxdCtuQxrpetVcebOzqAShuhZWFJZlsdZoNuWgNa0qxORdbHel21/OFJZWtHq1oIQlYxM/P2BkMFBLJGN4Ch0vrKK66pCUorrqkNGgFxVVDyjMeKymuijJEFdwdiqsorqK4ajwuo2FzDIqrwsYUE70hFFdN9BEQJv2nuCpMDBHOzQgEAyJQhYMBgQQDprM1BtYfDGiw1RsKq5+3VrxlLXV4Ka4KZ3tesm0UV11aGkUGaJcgf5/z9Y3f7Trh82BGA6AIKvQCsIdPvJG/v6iy3etffsk9jdYKRUUhusfPK3/Z7XqloPhElwIqorUy5rQqKDh+V0SL/JljRuvIg+yH4qpBRBnfRRRXBfOdKJunuIriKoqrxveCGuKjUVwVYgPQwwcUoLgqoAT9G1IFKK4KqfyRcXDywEuyVkEg1bqWu4oQK4OtLoCrSiiuigy7DmglxVUDJAksoN5VASUG/Utx1aCyjOdCiquiDFEFd4fiKoqrKK4az8tpyI9FcVXITUAbQBSguIqOhLBQgOKqsDBDBDRCQaBKVUARQZXcpDKgtUpzsDLYaw2WqufZY2+xhyiuigB7DtZEiqsGUwUvo7jqktKgFRRXDSnPeKykuCqY70TZPMVVFFdRXDUel9GwOQbFVWFjioneEIqrJvoICJP+U1wVJoYI+2YQXCVhXKW4BcjddyLLEsBVNgfBVSsorgp7Qw7awIADHYr3JAFlPMBXladeLCg14MqPi+2uZDQ5U2yOlYUlB5p7egD2n4XXbWWZ1iqSbj+NdRpYB/a2c6WxrhSbK8XmTLM5UP4yW1WarQYnL2swWF1ksxSbI9nuWm4tP3KyTyL5xvxha+GXUJbiqkHHTWAhxVUBJUL0VwUe4KQMr27an2mpSWbrkLsr60hna5ZYqzPYure2O477oFWFDWUtK61l6WzNsHIFGqyuNNaZaq012B3pbNVfdjq9gRNWxvGn8t8WfIrOe1UE2a1Ub2zLfdKHqqolosmYhGdQ1TbJGC9lJ3KmeK8pPspo1GW7Q3EVxVUUV4Xo2hqaw1JcFRrd6VEHKEBx1QBJ6IJQKEBxVShUj8xjIu8qEeEqgE4B1hSfyLJUGFgHQRJLbLWpluoVbBX1roo466ooy5FEHjsRrsL3xTzAl8dOv7SpJN3qTLY1PlfUlFxUn2x3LC5yZFkOHmg+h3BVq/K6rTSAq1Cy/ItwFduQYkNPuWk2iqtGf1DQ3FVDaoqJJ4GviKRIGKihhRJAhwwFB1yv5qMcZBzaC0r7FckvBWRUU+IUD28WlmRaHMnW4ykWFyFWadZqg61u1XZHA4dw1cayU89bjmRgxHzlxIriqssSpTHdgOIqiqsororkS/Sw205x1bAlo18YGwUorhobXeleh6kAxVXDFGyCbo4pBsZVqqACtAdwld+txuZYYnOkWhzL2aq3rDR3VYQNEvxQj1KJi/hhnuAqDuDLyrMv5h/OsDiT2abnippTiuqSi2qSi2qWWQ8RXHXw7EW4KsV2AVch1yq2Idmu4aoa6l01usOC4qoh9ZxouEpUAU4L8Pqmw1msK83amGqtX4IcrGoQrrLXrtruOE5xFROpblkUV1FcRXHVkBf8aFtJcVW0WTRi+0NxVcSaLroaTnFVdNlzrHoTqAkowkW4CkWBISQRhKtWsRRXjZUVxnS/yMcKF5tTQJUAPACfV7e+sOnwEkvNYnvjs/ZG7EaHqNPzhYcONSHvKoqraGVAMiZpMOCYnpuX2Tm6OssSDgZ8acO+5YgRNxhYZzpbk2GtSrdUZrC1b213NPmgXYGNpS3PW8oyrDQYMJLQFcVVFFdRXHWZy2B0raa4KrrsGcG9obgqgo0XTU2nuCqarDlGfSHJjHBlQBQMGORdFYyraol31Sq2pNoHXQBbyk+tLCzFP+/XpNrrktk6nLrI9aq98mBjVw9AcSusLCzJZKvTbI4rD0shW6bYnIutjnS76/nCkspWj4Tzp+AEKH4NAvMoRkYeI12iabfYw0pWUKiUCiAA9AJsqz6zovBgmrV6sb1hsb0hjTwA2xwvFR6muMqD84tTXEVOAoqrQnsxUBSFpFp//pPdy+wOxKqsjgxbdaa1IsNSmck63t5W3exFUZAbj7Q+X3iM4qoxjd0b9Z1TXEVxFcVVob3GjvPRKa4aZ8Hp4S6lAMVVl1KGLh9XBSiuGle5I/NgAVylIrcbjKvaRH+q9SDvqtoUiyPLVrOKLaW4KsLsjH3nQAFFvpBnvRtgc/XpFdZDabYagqsMrDPD6shka18uOHK4kXpXoXJ4FFeRoU5xVQhPeZx7DrlDNinw4g3IHN8AACAASURBVMbvsiwVadYa5Fo1OK5qf76wMsM6vF8IaO6qUSdQw9ohxVUUV1FcFcJr7PgfmuKq8decHnFQBSiuGlQWunC8FaC4arwVj8DjEVwlIZQhgSrKAJfBVV7opN5VEWToAI8kKadlAA6gG2Br7ekV1oMYV7kW23F4kdWZbnW9uOnooSZUGZAGA1JcRYY5xVUhPN3xdRnjKhXesh/MLCxLs1ajgoA2VMUv3YJmgryrOldaKtMprmJoMOD4jVl/JQMctYqqtZyv8Xyxwp3zgNeUJDKxklEvGuN5YxLHJHGmeM6k5xm9YErgmCSfcbZoTHSbH6a4iuKq8RuvYXAkiqvCwAi0CUgBiqvoOAgLBSiuCgszhHcjArgKl9UK4CpcGfCiYMAUi2OpreZNtrSa4qrwNmj/1iEDK9hVCCFJFYDHwYBfu9pesBzKsFUn213JtoZUa12qtS7N2riyoILiKhoMGDyKKK4KVmOc58n12QtwGuD9ryqWFZRm2Bxp1hoSZJ1qrV1iq0O5q7zQLsOGUoqrIglUEScs6l1FcRXFVeN8XQ3t4SiuCq3+9OiaAhRXaVLQmVAqQHFVKNWPkGMPE1eVUVwVIYYNNBP96K2gCbMqVVVFnGp97/Gu1ywHl7KVqP4j25DM1iVb659jG7MsVQeazlPvKhoMGBhAKC6SOFCQKpM4ZT/inhzAN5WnX83fa6no6BHR5qqKEvnzAIeazr2cf5DZ3dSHFiukHiWhpXi3uLSfdoBhz0yoyoBIHR6gHeDD3bUrNh1aaqtJtVSn2FzJdtdiW12qvZ5UBmxXYENp+3Ir9a6KMGJFcRXFVRRXDfufQCR/geKqSLZeVLWd4qqoMmfkdobiqsi13bi1nNSMwwnLUTCgCtDGw0f7T62wVSOQYSOVAf25q95kKa4aN8uM1oFIMUBJARVRBxWBBq8MLTww37gy1x/OstdlbmlaXOBI29z0680n0y3V+5vP9wLsOy2u2lyeZatJsTiWbGl4zlJjYB0G1pHGulJsLkS4UJEyZ5oN1RNMs9XgXPsNBquLbJZicyTbXcut5UdO9kl+VEZ69DeiitGSJWg/qiIDtEuQv8/5+sbvdp3wUe+qIHUorgoWY9zn0TmLTtw+gD3He1fZytLzy7K2NjxrrX3Odjy5qGmxrW7VF7UNPugAWHekJavwaDpLKwNGErEaAlcJZj1nnMWbZnPGWa05j0vl+SC7UcBdOL1oMCDIPpDPQ+cB99aMTvN9gilBMMaJjJ5nEjkyoShINCZFYyKamLg+c1Jb3mPivt+B1IH+Kaskx2Q42ZW2ZcwUoLhqzKSlOx6eAhRXDU8vuvUYKUBx1RgJG027Jd5VCFepIsFVbgVyvmvIKjxmwLjKwDqW2Bwk1ToNBoxA0ysoKxlgXIVQlQIqig48J8H2yq7XC0ozPz2aUViTVlCVYnP9im1YVlS7r6m3F+BAi/yGvWwpW51qrTVsrk9maymu8vorBo75KFCwC9Px88pfdrteKSg+0YWsRk5V4uIEIKIpyGFp7NpEvavGTtsr2LOCTlcJFfSs74YPvzu+bMOhDEvl0q2NybaGlM2NyLvq8+rjHHK/+uRoy3JbBcVVw8p0HvKNrwRX8Ux8a87j8rFNFFd5zSj7FWfSc0xij3lha+5TUJ2HoI8sgNKtuuxnc5/oZ1OR0WN4dAFickyiz5jA5cxtXfs0dB4C8IEqAN+s7H3DbX7QZ1pAjMIz8V6z3mvWE8zEM4g6CcwczpjAM3p3zr2nrekgOCiuuoLrGN3kggIUV13Qgs6FVAGKq0IqPz14QAGKqwJK0L+XVEDDVaoioMqAqtqtgHmXa6XlmIF1pNicBraG4qpLyhcBKxCuUkGSCalScWCgCrwKTR5Yt+f0a4Wly/PLVtoql292/sZSvdRSVny8qxenWn+NPUJwVaq9LtVeR3EVxVUYXfm95Wgw4Hic/SrGVbykqijh+t5G7++3VS3dcHBJwbElttolRc50e+1vtx07yattCqwtPZ1lLae4qh+tCPOPV4ir2nKfoLiKYxIprhqPyw49xlgqQHHVWKpL9z0MBSiuGoZYdNOxU4DiqrHTNmr2TCpPIX9+VQJVkiSpS4I1u10v26vQYw+qP1WTYXOkWqqzaKr1iLQ68tRRAcW7ISujPFYSKCADnAcoPQtri5tfy9///Pq9L1iOZFiOvsSW7G9oJ7jqVWvJUpbEhDopriqqbKe4iuKq8b4GoN8TFHQGq8jBqlWEXcf7/vRlddYne5YXlmUUlGYVlv3v1pI2UT0H8Omx1qUs+pkBRele8WSwoqhe5ERpR9UG/7LT6Q1E78qALhQyqtQwcm8+/M9FBNmtVG9sy33ShzxTEtFkTMIzyPNFMsZL2YmcKd6LY6bCHDCNbvOuBFfRYEApO0nKTqK4aryvP/R4Y6AAxVVjICrd5UgUoLhqJKrR74y6AhRXjbqk0bfDi3GVqCrSOQk+PdC8srA0w1plYGvS2aoMW3WqpXo5W7OKVgaMwBGgqrIWR4ZwlSyAjOLIvADnAJznoejoGeO2kt8V7n1pw943Nu4qa+7qwcGAr7FHMq1VBltdMltLcRXFVSQOkaZaH9drAMFVCk5Yj9PbuwH2nTi/fn/9/24+9FrBvlc3Fb+/dV97n6dbgQ3l7eiEpbiKuRD2NbpoaSz2dllchfIfGWedNT8mHt0IUifNXUWDAcf1EkQPNtoKUFw12orS/Y1QAYqrRigc/droKkBx1ejqGZV7uwAyZA6lrwLlPMC22p7lm0oyrcjBKsNalclWGwqrl7NVq9iSah90AWwpP7WysNTA1qRZa1LtdclsHc607XrVXnmwEcGO4lZYWViSyVaTgutX/lM/zu/uXGx1pNtdzxeWVLZ6JPwLP/6J3m+BwDzKQIyTxEelZUa5U/40R6qEcZUPVNmrIgerHoBWBarbuR3VZwoO1BfsrW3s9HUD7D8jvW4r1XAVDgulqdZR3vFRNsxgu6O5qwZTRVs2sSoD+h0jVUVVUEgvD9ApQ7MX9jR2bak4XXik6cujDT2evl4R1pd2phdUGa7Yr4pclql31VhAqCvf55XjKpRqneIqmrtKuxDSmchUgOKqyLRbFLaa4qooNGokdoniqki02ji3eQCukjwAFR54d0djprUCuVaxFZm2SoOliuKqcTbNqB0O21jBubpxyCcPqheAF3A8YDfOicMB9KpwDk89ImJY+89IbxYdTS+sMNjqUmxOiquodxX1rhq1U/KKd0SuzxjKK6DwiswpiiRhN6vzAB0qnBKgTUDVA3kFNh3tWWarp7jqylFROGx5WVzFm2bzTHxb7hNKRQFNtU5zV13xxYNuGKYKUFwVpoaZeM2iuGri2Twse0xxVViaJbwahYIBZVRFGYUYKAKoIgeoyFRhdc/KwpJllqNoYo+lF1asYCveZEurfNBJvavCy4aXaw2uB+jHVcg5iEeFkICX8JwAKCeODCAqaIZMHoyrfltUvqTgGMmznmJzptmId5UzjXWlsA0pNpTyJs1WQybsXtdgsLpIRvYUmyPZ7lpuLT9yss+fmhsNMjTOLtfccV+vIv+Vdgny9zlf3/jdrhM+j78CoCKo0AvAHj7xRv5+iqsorhr3oYnyzaG6nujAkj+BFEojJQmSKABKvu7BZzHIUg8Hn5a4l1pr063DSFyVxjqpd9VwoBXOuoVzb4lGMk8CD1G5usB0IRSRM6Facv0nkrorsBOt6hzPxIvGeJ5J9JjxZIrjTXGCcaZojveZZ5/98B+kGhvI3dgJevxH4uBH1HAqyo2oqqDycL7m/JcrOnIe8JgTRSZONMaLxiSOmcMxSVhnPWeK580ofxmurxffkfOwe8fbIDeisayeg9Y9bZt+02O6V2T0gmkWZ9J7zXGcSS9lJ0rZiTgMEMnCm+I4U3yPeeGZvH+Amo9AcoMsg9Ir1xddeWVAwZyEKgO6S9A5pArANUvFq9pzHvaZFmhGQUc3x6LagkZkR68pkTfN9jGzeFOcO+fek2w6CE5QfSD3gXtf59aMTvN9gilByJ4lovKF6CsBsyLLitlzRGOSyOj7zEmteY+J+34H0lnssquSPHH+f5KDi02XRokCFFdFiSEjvxsUV0W+DaOiBxRXRYUZx7YTJEYM3yQp/mzr2OmmFWDDwaZXNu55If/AS7ZjK63lL2+ufD7/QDkPHRRXja1NxnrvqFYgyoUTiLLUxoA24wMoaZHeZFEwIHKtKqpPtvtxFfHdSLG5KK4aOzvRYMAhtZ1YwYABKRC2ImeohrAIyZIQKYBuGfJL25ZZKtKtNNX6BWA0HBQ1+Lc4k8YdUHp4hBuy54jZc6RsPG9MFBk9BiixnDmWN8ViaIV2RTLHe03xHvOFyWtK9JqSELsJ7Mf7QaKwOglWz4XVc2QmwWdO6F4zu+vDOefMiXxegmKa4fnrjb5PFjpzfgLdR0H2oX/TY/lSFEUQBHIERbnMrwsycvRTPQB9GJuqqgf4unNfr2jJ/YHHHI9wVfY8PvtOzjiPNyZJRr1k1Huz48WcOao5Xlgd68vWt+c87N5JcBUPai+07W7e9D+9H94nMbHCX2Mhb7YnJ9aTEysZ42RjnGi6nfdPsbI5rtd0p8v8D+DMB6kX/0/zCLWbB+IqMgYEUwIyinGWNiQEU8LZj/8RzpWiX2pUCbiTwv63m5n7ubyFEjObN85BWcPMt/LmmyUGESuvKb7PnMjlzUEeXqbYrrx7ThVlguhSJR/6Bahzr/vzDHfO/Zxxlnd1nJAT78ubdd54m2yMU1cj2sUb5/DZd4rZ8wiualnzmHjgXZBOg6pwgFJJcqgR6P/yoC8JeVWCLPvzHyA4SBDhoFvThWGsAMVVYWycidU0iqsmlr3DtrcUV4WtacKnYRqhwE3CxAqVjkN3n8f7wFZ66l320Iq1u1Z+sud1W8mbthKHQnFV+FhvbFqiAkdwlQ3lL0u2B+OqmkCokQv5W1HvqrGxAMVVQ+o6wXAVeixFudYB1/dET6u4iiuoCvZn8XtguRXILzu7wnIUVXQdTvoq6l2l8YtBZ5CDD/GQwtUMNVxFPGVwccN4jLSIH1BcMK4iy7GLkN5rxpMpniNVETGu4o1zfEaErtQPkuCDRDF7loeZdS4v0Z0725c3RzDNUrJnCKaEFuMPer95DfgTIPHj46AqiqIgCAoKPZUItFIHe5E7Bh7TFgEUELqht8L95bKW3Ae8ObMlk14wLuCZu3ymubw5QTbNlBm9h5ndZ0wUszF+ypnTmffouV2/Bbke1D6AXujY3VTwP+dy75aMceJf9OLqBG+u3ps7U2ZmgVEvmWYKZjRJppmi8Y4e0/yGNf8EdfkgdYHAg9wLDZ+15j3JmxMQnLr4XTSj0pPIxHg5Z4oXzYmta38CvceQ36IkQl+TuO/tEzkPeXMWej9I4JkFvGmOkDNDyrlJNt0hmWZ5cxI8ObPPM/F9Rr3PGNvBLDxlywCxDrVc7YHObzs/M3SZH5DM87hs5IHlzdXzeXqFmakwMwVTgs8018fcxTMLBFPC+dy5LR89ye97B7hmEDkBh/diN2dFQW5qg7wInJIkScYvgquGvE7SlWGqAMVVYWqYidcsiqsmns3DsscUV4WlWcKrUShQDFenx83yO1ip+JfS8wBnVCg+xW081Pz+9iPvWnf/3rbXxdNU6+FlwdFvDcVVNBgwaFRplweMtglJQ4iEA/im8vSr+XstFR09IvqCqiLHDx7gUNO5l/MPMrub+tBiRFX6Y/Gg/Q9/luIqCRMriqsG94calDqNeOFFoXwkjg8DJo5BTlJeE5o8pjlkwp5TiSj+i9GLjJ74BMnGWDJJDPISQj5H/shBjK5Mc3C82B2i8TaRieOZeLIT4YM7lNUz1dWJnOmRM2v+D9R/DuK5SzvfDP80usQ3RBGdzMSX5xKbBC1G0aoqmtBthAhiL/RUcl+/1Jn3uJeZgwLijPO8zLy+nHhPTixvvlVkYqUPF3iZeaIxSTbN5Zn5raZHe758BbhKEDtAboO2Hac3/bIr5241JwmMCxTTAo8pyWNOlLLnqB8kicZE5PGErBAvM7M85rtOffzP4FgL/Gngz4HQAjUbW3Me95rQNgPfPUyCz5jgNSX6jAkeJoE3zT770VPQsR+EHvB54VyduvftlpzHvOZ7fR/M47IXepl5nPl23nxLsHeVL2eekDdfNiV1Zt/XyqYDXwlyBzp0166erUs6jQ8Kpr/jmfme1Ynns2fxefG86XbOfHtfbmxPbnyveV6faZ7HHN+TM6993Y+Vg+8B3wySD11PAUCUQZL880Eak9mBfIrAxAEb0gXhrgDFVeFuoQnTPoqrJoypw7ujFFeFt33ConUkIgwlNlLx7SZKX4UixWSAPgUl7ukCOCWDo1s9eKJrr6ulVUF5uGllwLAw3hg1guIqiquChhbFVUFihGKWelcx44GlLsWzLsJVKDCQTIGMVAiLJHmZOV4GcRmOwewJgSo0oUCw7AuTbIzDuApluSIuV5xJL5pRMiPOdDNvvhm5DpkSZOMcJXs2rI4FY7z3/YUdxn+Rv82GbidIPfI48Co8xhX8UlVVlmUCSgZx+EH3DCrKpSYCCCrIEoge6HKc++KtRtM/deY+0p3zg66cRzpyH2n98AdtH97TlXd3V9497eaHzmY/6GYecjOPtBofbcr91+5dvwehDnlISW5o+a7Zmn4q50du0wNdxsc6Vj/akftYZ85jvcwT541PnDOj+c7cR7pyHuoy3ddmfqxh7TNK9UYQ21A8oHgWjm9tWvNvnbkPDTp15DzYkfMgWUVmmtf+HNxlKPMUz0NPk7jvT41r/qXN9GRH9iOd5qc6c57szLuvK++u7pwfdJvRF9vyHmk1Pdhufugc8/Bp8z+2bH4ZvA6U/17ugPbijm0vnWD+qd30eGfOE+2mR9qy7+s039eVd0/HmrtbPrrnzEc/aF3zSFveI525D7bmPdGQ+/949vwVvCdBFJHrpIQzR+Iw/cGlBiBuboIgDERXobgw0WOOUAGKq0YoHP3aaCtAcdVoK0r3NyIFKK4akWwT60taqtQLuCpArCQVOUqcDyT0xbkVUIaFXoqronuMUFxFcVXQCKe4KkiMUMxSXMWEFFcRPx0UD6jnTCjxNkpQZYoVUT6jWJFBBEoyxsurE+XVSfJqlMoKLyTEKh7nCE+ScLor3u+WhRx/POb4vhwUHqgYZ0nZd3Cmm3x5t/hyZnKmeOmDBPggHvKSeOOcs6sf67ItgzPFyPMI3AJ4VAQ2xvalISoAOHHixJYtW7766qsvBnt9+flXOz/ftePzndu2f/3Fl1/v/OKLXezH1v/73Pplj+UvWbBpydyN6Xeuz7hz7dL565bO/zRj/saM+ZuWLtiUeZc1695NGfesz7hn3YofFfwhbe/WdV9v3fz11qLPP/nTx2/84pOs+/LT5xcsubsw4/5P0xduXLLQkrbQknpP/pKFn6Yv/DTjzo0Z8wszkzYuvWvNyqfs5pd3bLV+tX3bzi0bt3/45prMx9A2A6YNGXeThWRm/ZK7NmTcvWb5328rWP359s3ffPb5Lssn9j8/+9HyH2xcurAgY+GnS+7/NP0+3OakTYY7NxkWblxyz6fpCzdk3rkxfUFhxl0bsh5Z9+Z/f2v/8PPP2K8/t31T8Nf8t3/1SdbjGzPv25R1n3X5vYUZC6wZ8zctWbAxfcH6TKIA/u6SuflLFm5Y9vfb/rxs3xbLt9u+/urznZ9/9s23n+3cvX3n19sHl/qbb76x2WzEiZXwLOS5ernkYmM7UOjeR6QAxVUjko1+afQVoLhq9DWlexyBAhRXjUC0ifYVDVehjqu4OKDCoRmcz1VL5esRRU4SVVQ7ENWiot5V0TxOKK6iuCpofFNcFSRGKGYprmJCjKtQANpFuAol/BZNt0sMmmRjrJodB6v18EG8uhqFAfK4kByuLkfyss/jUa7xeZwRuV+h4EFU+y8YV830mWZ482Z4cmLPG2P51XqBmdP119lncx5pt6fDqa9RsBv0qdArovcxx1XaKJckyWQy3XzzzTdc8vX9711zw/XX3Tz9hu9fdeNN133/xpuuj7l9ik6v0y2YgqZ5U3VJMbrZ09A0dyr6OH+qbh5enqjTzdLpZk7W3RKju/2Gq75/460333TbbdfH3Baji5+imz1JN2+ybsF0/7cWTtItnKSbPwV9TIrRzY1Ba+dM0d0+RXfb9bpbZtx23Y0zbrrhmhlX6RJi8P6n9H/3H3cKaoA2n3CV7sbrddffcuMNN8649fprZ16jmzlFlzRVN3cyOhCaYlCbF0xG0/zJaJ/zY1Db/k6nS5qsu2WSTn/r9dd9/8Ybbr4p7qarY2N0CZN1iTpdgk6XhLe5U+f/otbs+VN1Cyfr7pysi9fp9NN0sTci9a67ccb3rrvp5u/dcuPVN954/fcvJfZNN93k8/k0Z7dhxGxqFqUzYaAAxVVhYATaBKQAxVV0HISFAhRXhYUZwrsRGq5Cz0SqjNJPIO8qjKtURZW1wkAK9vjnJUX8/9k7D/g4qmv/Gxt4IeGRf4BQjIRxwYQSCJCEADYQWnAgQF6Sl/ZJsC1ZsmyMMQZ3XCjhBRIsrYpNC9hW211JpoO7LfcqS1r13rtVVtumnf/n3DszWjUjYe1qy9nPsMzOzt4593furPd+dc65hKt826XnbB3hKsJVboOIcJWbGKOxS7gqdjRxlXuSoBpgFRfiHmCFBapiQpVo3KQYTBLsjleX/8PcQIP7NtmtNHuILT7EERfqipvkiJlki5tg2xBqjb+6I+7Kro3Xdn54e/WHDzfvWOqq/BqgFSue49DjOWOeHYTuATuyLKenp8+YMeORwR+/+tUjMx5/7IHHH5n+64fum/HQAw9Nm/HLn//Pg3c+dc+NT91z4xP33PLYtFsfnfaTR6fdOePuu5+4+87f3HvD4/dOevK+W3897bYnHrjjiYfveuSXv3jowQceeujxhx9+4qEHH3jsl3c98csf/+a+G38z/ce/mX7rjGk3P3HvzU/dfctTd9/yxD23zrj31sem3fLY9BuevH/S0w/cMOPBOx5+6L77H31y+sNPPPjwL3/96PTH7r3j8XtvHXD79T0/fvzeW5+Ydtvj997K9x+776cPPnbfA48/ct9Dv3rwwQdnPPyTxx+8/skHrn9i+o9m3PuTGffeMWPaLTOm3fLEPT/5zd13PHH3HU/cc+tv7rt5xj3X/8/0W56+746Hp9/12GOPTnv40QceeezBX97/yLS7nrj/54/ff/uM+2558v5bfnf3j/44/SdP/OKuGXff/ei0Ox+d9pPHpt36+L03/+aeG39zz81P/fLnv37o3gcffeSehx+6//Ff3f/rh3/9xIzHfjWo0GjejBl6GqC+RKBnRwO17gEFCFd5QFRq8tsoQLjq26hGnxlxBQhXjbikgddgL1yFxIoX8WXPWMAKl6OSJYFVVhBwFW2QbRRdFXjjwL1HhKsIV7mNB8JVbmKMxi7hqtjRxVVqtBTnVm6lrNQiVvy4YJggGNBOXuSb1/lmRcEnOmMnskgr/oynaaXWQx1xE2zx13fE3tgWf3vzxp82bLyzZsPP6j96oN74J/l0PLQeBKXNpQgOVtcIE79wMHj8oTMRALDZbA0NDY2NjQ0DP+oa6qsbmmsqmiorW2pq2xuqGqtqqsvryoqbykubyosbKkprK8uqK6uqK+vqyhobyuoaK/LrKnLrqssqK8rKy0ura8pr6yqbm5ubGs80NZ6pra6rramorSqsqSyorSqtKiuurSquqyxuKscG6yoqqqsqqqrLqmoKa6tO11XnVlcXV9fU1bZYa1usdQ31zQ3VdZVldZWlAz7XVpTUVZbVV5XVVZbVVpTUVpTWVJdX1lXUtzbXN3XU1TfX1xfXVJ+uKs+qLLPUVlag2VWltVXYWkN5BW4VpfXVRdXluY0VxY2V5ZXlFU0tzTVNTXUtLY2NzdWVVVWV5ZUVJZVVJbVVxQ2Fuc3FJQ1ljdUVzVWVdZXVFVXVpXi8EmWpLiuuqamqbmsqa22obG8sa6ysb6mrb6huaKgbUOnm5ubq6mosyM5q4fOsQI8PBbqABxQgXOUBUanJb6MA4apvoxp9ZsQVIFw14pIGXoP9cBX7E67C1k3v+WXMl1EXAQSFkgEDbxD06RHhKsJVbkOCcJWbGKOxS7gqdhRxFRai4rWoGI2ayBYEnIK11eNvsCf8yJbwo+74G6zxUzriJ3fET7LGXSfETxDjtE+xHWfMeEf01S7DNWytwAmiYYIQfZ0rZpIQM8UZd317/PV1CbeXbphR/J+ZVRnLOw5sgNIvoPU0OJvB1Y31y9kfi5xaJe6ef5ZHYzD2vSYu+YkLCiu4ph1uEuYqyiDLIMkg428GtlgoW/CO/44AO+CG5E1S+Rur1q6I7CPqjw223CCnc6wRrFQgg4JHRPygqBXVRH34wqPsj21O7Yr8ut/4LLC/yfE/zOlK87/PYV+ZGU7WBfdnZgyGnvN4N24/mqf1i/UC9VA7ySwUFbXvTmYqnswKrMsuVIp3XI9n76s0vQ4YBQhXBYwr/b0jhKv83YMBYj/hqgBxpIe7of9q7PkdrO3py89rB/DnJyUDetgho9084SqcpeDkwaXgwgKmI5UrEw+kZzfZ1OMed5DM6tOUdsn/2l20NDmzsk2dp/HZHbONT5DYRM3D5hCu8rDA39Q8fvmqU1mJTX61GFgZo2C0CXyrDIkn6p9PPRllskSYCoa+RRqLIkwFc4z5kWl5Uaacf+0osGkAgF9Owqt/+/GG5isCSK1y7pbGDdPshutYQtxErDseOxHLPOE6eliSHEON4kaRTA14aRU8YQF1jJ9iZhumOAxTbdFTrDFTugxTOmMndcVN6kyYaN042bZxoj0m1BlzDdvGi7HjpbhrxLhrhIRrnfHX2eKndMff3Bn/kzOxPz+TML3j3UfaPnzC8dnf5f0roDAFtI59fQAAIABJREFUWk6CvQZcbeBsB3s3Ss7IDzA6oy8cp/1b/E3Dxjvv6z8R2HejBCL7dmLfSxgLptYQUHuCYEsGcCog8KHFYY4KmGQnSCqTktgH+LtsMURWRZNdS2LYzoWaCGxVQhUSMWTF6Rgbq3zEfvMzh2vseuzrVWHLIvNvWmakLKG1Alt4BokVA1jsouqNKaowCyPTEcDxip/qmzxCnb1QsBGO6gQVsLGbl0uBp7iJ6R3v0VVGRQHCVaMiO120vwKEq/prQkdGQQHCVaMguh9eUv+NpO/wKZAeeKVNWvCnmIutFUil1v3Qz0M2mXAVm3oRruIjhnDVkO8cz5yoTnyRWPGvYsJV7vWkPL+PyYDOWJbEZ5jIV/qToifLMZOk2OvkuIlS/AQpPsQVf7Uj7ofdhiudcVNc8VOFhKliwiQx7lqXIcRhCLHGTuqIv6l548/q3nu0ZtMfG9Ket+75N1hMULMH7IXgqAJHK7isGE4l2EF0YrSNBiJZyJJb/A6OB196sN8N7r8W9B8SbAdBD8PvHOMg+hHZSOYAjoEnRnwUJ5bORJ6FxIdHk7nUmDKZUzCFNeQE4NmRIsi9KA9TpvfVexDQYMdRSkUFwjx0i19U/9kjYjlP2cUCxySMIEPztLgwjpI5IENj3DqlNcuiz9gFBBZWZsc+9gml4sbxZE9f868vjbXAsIVwVWD4MQB6QbgqAJwYCF0gXBUIXvRKHwb7Jaf/jVH/MeokXOUVj4zmRQhXEa5yG3+Eq9zEGI1dnL5SdNWAoU/eOIjLArKVAZ2xmMcnxeDyf0p0KMRcq6y/Rnz7atf6K10xV7lirxTjr3YlTLAabrDG/rgz7sftsbe0GG5tjLuj8Z1pdf959MzWmbY9y8HyPjTuAGs2OMvB1QhCJ0guFZdIMqb+iQKIDkm0SyC6tA0pDebKCQxj+Vy+mNvvB+RKbi95Mh1PuFMjrViwEjunJxZJZLFLdkBipeIqlxamxHZ4vCl+L/O/mempkRqO4nFbeELvq3/zS/XmYneYO2/iIIz/8nEHWAPhKn5MxVVaUBheml0ekyUZhsPIMrZpwVn9bR2NLxi6ppcVIFzlZcHpcoMpQLhqMGXouFcVIFzlVbn9+GJ8LoQdGPDnE/9rH3+Loqv82M9DNJ1wFd4IeFNQMiD7TsBpmPbloM4bFRbgsD27ZlnivtTTzR0CO0FReFjE4fIzSxIPxe4ut+JhzFnTv1hYS+c432Yf5y2imzD/iAdfiADNEiQfLFqWuGdnpd3Brs5mjeyyfvqE6hOu8gaZ6h+oxeqmT7bFTWZF0yeIhlDJEKLEhED0eGX91WAIVWInKPGThPjJdsOkzpiJ7dFTrPF3dsTf07Tx/voPnmw0zu7c84pcmAiNe8GeD0IlQCtAO4AVlG5Q7MDS4lyYDidJikvB8GVebgmzxiRwShjUwx4yqNWgWPyRz4xlDqFYaSocqBzHsJeqiQzl8PGr8K45kURhd9gPDpbWp4YdyT1hZew7h9/dWBgLZUFgx24F/AgWyWIUj8viRNSlf8sMfQftcGKFA4XBMvZlotrFSRWLeNKiGlWD2bcN6xfnUOgRXsSKZyOyBEP+pYkicJjF5VBjzfi/L+xTmPOp/TlQZFmH5/j16DNDgwwZRAHCVYMIQ4e9rQDhKm8rTtcbUAHCVQPKQgd7K6D/zMIfSfrPPPWcnjkh/0GGv7yodlVvAQPuFeEqwlVug5qiq9zEGI1dwlWxo8OqtGX+enAVq7keIsaOFw0hzuhQu2FSV+wNZww/bo69o3HDvc0fPNK66ekO80zX10sgywA1W6HzMLiKQWkEsCqYBIc4CjdZEmVBkTFyiMVNAUs3w3rbIgiS7JCkbkZwnOrdx7PV1OLlPoUzOO4RVKCK6MeOXAlf8weLJFJLOCHNZgWnWFV1keXEYWKgIHHOpdVT1z6LSXYa2WGRZSr5QUbGGBbHXjLICJs49MHP6r9jvnFHxVX2PrgKG8FgNxl/8WgRW9is2i0O6Vjqovobif+FQ+NxrI4VN4ThKj3iTGQVrHTCruItbrmIIwQ9rnWf/h+YChCuCky/+mGvCFf5odMC0WTCVYHo1RHv0wC4Sr0G/g7jcezsFzX7Q6JEuGrEPeBrDRKuIlzlNiYJV7mJMRq7hKtiRw1XcWLFQ6uwglVciCMuxBYfao2f3JpwY8PGO6vf+2Xlh09VG8PbdqyVsz6Ays8x0c9RBmItyM0gngGxCyQ7VmVSowz5EOL/7LKaR7IIkiTJ4JSR2bjUIcb/5WWshGXAqdFGvUjQaIzG3tdkXw6svLqKcni/kM7wiCQV5qjRVcCiydj5HDwxMuPCACeZVfRXSZMWd4UnqZFNuNqgFqiE/EhkJdi1IlAKLgjI2sHrDv2hrTOoXpe/ZISqF67SbGCnqU/q6oGKApJKzqBnUQJtEUPWERadqv69D6mWBrj4RRnOk4GX5RJZeNfQ7acz/VEBwlX+6LWAtJlwVUC61f86RbjK/3w2ChbrvwHxl2PPDyn1RR9chb8dKbpqFLzkzUuy5YuO1omrTMfnG3Nw1bC0wghzXqTJEmnKizAVhZtKwswl4eYifjA8zRJuxuORxqJIU0EkrkpWFG7GbZHxxLEqq/rrv8/o8maPznotPkVpc0FqZu7KxO07q7qtap6K7ABcGTDtSPmqLXszTvOVAfEeGf6DzUlgKM/YtswmqOWd8NbuspeSD5WfwWS6nimTGhHAE/CGb8twP8E7zEIMtFW6sOa3DeDrnJoVibtSTze18OwfNi9zAfBkQMOeSp4MyCZo+neLOqEdrhX6+b2+o9SjbC6ooFVNEmw5VLw0ac+OKicmAw50tt6Un+zwmS4+a2NAYxlMcD6AB1kZsCjczO/HvmsFRpry+N3KbtiCMFP+nLT8KJPlXzuKujVduHgqF+Cjd/ijn31CXxnwXofhWsEwkW2TMfkubrwzbjyvX47r7uFagQinBEO/51gseS5oz7hUn7axUuhYDf0cNl5PXX1miwByGybaYqd0x021xv2oI/6mMwm3NG+4vX7DLyrf+WXlpt+2fLFQzoqF2s+g4yjYC8BVBXIrKDZ18Ti8T7URqBXzZnmr/AUDNpIL61VJ+M3AqzKp35ZcepaJhkCE3f4stsc9cEnz0+j9n30v4bB0S/dVf0hwm1Xw1ANrOGZi/dG6wjGT3nH+XceGjfuYZ73njeJ3EeItPEfFZAiPdFzFxRvKM1/ITyVcCvaCH8GWZRZdxV2g6q8KzVrGVETc0XAVqxnPUv94aJXmNW4GjgU2HLjJ7g2pb8ncy6xTo+dQurIXFCBc5QWR6RJDUYBw1VBUonM8rgDhKo9LHCAXcPsl1adH7Fcb+53Fz8EfpoSr+ogUYC8V5uJD9bDCdGpBqiXKWDDflDffmDPPmBNpygszl81Mq3wmrXJ2WlmUMS/KZAlLK5idVhRlzJtnxAlwhKkk3FgZYSyPNBW8lHLseGUnn4dIuLgSxg6weYivaCaxyiU2BWw22Hey6OXEzzafKO5US7AgruoCSMssWL1552fZTXZ17snLCfc8azcI61T/SRJOR3ip3aE8c6SFKpV1KG/urluUdKLkDKak8NrDjL8IrFCLWvHEs1LqnEydfck8l0cE6ADYX9W6bPPXG/cV1LKIPJY7IygAmQWNy41ZMXuq2gFkUWI26/N2ni+DU9X+Ug3liDZ1x373zFcxiaobQK6T4f3DxcvMR74ocyCu0lmpZ2XyXOs9f07QQz/UnuNEXZ2sywq0SpB4vPH51JNRxjwOi/HZVBKWpj0zghyBd2hBpAnvXLx/8Z7NCzcXzDYVh6eVRpry3txR2qnepCpY5NdlU3qeuKZNu4fWaZbcZAepVbJsaXjnLkfsNVLMBCl6shQ9UYgNdSRc7oi/QjBMFKOnStFTpOjJYsxEwTCBPeMyfLhvmCDEhoqGECF2vBh7lRB3FabjsYw80YCpeQJuIYxkTXDyyuixE20xExyxE10JE53x19kNuDljJwrxk53RoY71IfYYxFuuBH7CtY64EFf8Nc44tSmsUYUl1SeKhuvbDTe1bPhp63v3N3/0eIvxGeu2FcqpD6D8C3CVYgiV1ApyJ8hq7h6rPKVhmD768C++nq8/9Z9UFsLc49Ke91XOgc7Qd3uYR5/GR++lm229jNDv5Z6+4Z6GY9zeduNTags9ImhfGz2NaO9p/+eDFcXs347a3OD/c7Oi59Jqy73f67mcemLPryb9RHYOO872+PF+7fa2xu3Dvc7vfRa9CiQFCFcFkjf9ui+Eq/zafYFjPOGqwPGlz/SEalf5jCs8ZYgbrjq9ICUvyljwrDFvQWrOfGNOlDFvtrn8mbTqZ9KqZ5vLOa6anVY0O61ontEyP9USYc4LR1xVG5FaHWUsWJJyRMNVsoTLs2O2S7/f/Z7qyFDalXiFGBa4cjyvatmHGdE7jncwO+2AuKob4NMjZa+lZn5uaelWwCVIbvML92nkWa6mzUv1P6OffUct3AvliKvqF6dklZyRBYarGDKQQRHYpuIqz+qps4peuErg2DqrxbEmdfsbnx7M7sAwNMblJAngYHHL0pST0burMU6H6yXzObfMQBtWmFawTM+waZJuDl6MRUNoYR0iiF0KiHUAHxwpWZJy8NPibsRVfG34szjH19/Sq+SgkFwxNFlXFY/JHFdtOdH4XOrJKJMFIx+1CEfEVeaisDTcWKRVb1ylhkzquKrgzR2lHWosiVbfmo09lqQm4sBDTYfxYLjKCVKbYEmqe/dn9rirRQOSII6rbBsusyVcjiApBlmVhIQI+RQiKjUIC6OcWCAV4iptQzilncmP8+iqiU7DZEcsVkZ3JEy2x1/niJugbrET7TETbNHXShuul+ImY/RWdChuMde4DCEOQ4gz/lp7/HXdCdd3xv+oI+62tviftsXf27ThoTPGv3Z/uQAOvwH5H0LNNmg/Da46EDtxnT7mBTeiywsYDUMcOpUUIAWCTQHCVcHmcZ/tL+Eqn3VNcBlGuCq4/O2V3hKu8orMo3wRO8DhOlhhOj0/NS/SWDTflD/fyHCVycKjq2amVYaZy+YZLfOMFj4fRlxlzIkw54WZS8JM1eHGyj64SsGiwsPGE54WgkETLIHslCC/wbE24+AqU2ZRMzhYjV0nLt8F6QfLVibuNWbVWzlr68ereh/oibqS9IyVYXSD5XkhnoKydvmtnbUvJZ8q71Cw7C+HCHgxNchFy4wZRuvDPpWH77CQL3Y5HikmAlsZsMIGsV8fX7Fl21el7S2M8QkyOAAOlrYu3XIkdkeFDaOrECi5RIy6Ymt72bGUj4KszcE2htt4TNlQnlEHtSlWIMZNBKcASoMMWw6Wr0zM3FbUxZIBh1XKZtjyeP4DWnQVw33sDtLCN7ToKsRYCrTIsOmkiqtY/JSa/ccRVbi5gG88uooHWLFkQDXJN8xUGGkunGfEZEAtuqo/ruLsbHi4Cr2FeVXtLktKzXs/s8Zf6YwNZdl/E52xobaEy7s3XG6Lw0goR1wIi29CFMVDpThpssVNwC0+1BYfikdiJzoNU5yGqUL0TU7DVJY/GKoFVXFWhbiqOybEERcqJlwnJlznirvWYbjWHhPqMFxnj57oiJkkxkyUDdcp0RMgOhQME5W4qY74m87E31Ybf3fpxkfKEv/W8NXy7pMJckkGtByGTgsI1SA1gtSOgVSyU5JwPLuNPa4MB/LD1MfzY4iuQAqQAr6jAOEq3/FFkFtCuCrIB4CvdJ9wla94IoDsIFwVQM4crCsYVXS4Tl5hOjUvtSDCWDbXXBhlsswz5vDAjdlpZbPTysLNGFE1jxW3ijAVzE8dAFe9pEVXsYgMnOB5NhRosA6d7bisgFMAl0OCBgE+OFr9woc70zMrmjr5GlfQrkD64eqVqQdTsht41AljJVp4i5anMxCxwqXWeYGV3u/ymIyBn9FSRQARSUtFJ7y1o2JJ4pHqDsRD/dVzmy2frYfn9J5muluRF7WkiyBDO8DnuQ0rPvrK8PXJ7C5MD2yXwQpwpKJtedKRhN1V3VgqWXGzU2Y1p3FFLUXNuGTW4ZIOQ9w0XMVXUWMxX1qSqWiToVGElMyyV7Zk7inpdABIimu40UDnJNfIf1jNyON3joiIhOMqhvZYMqA7rlpgPMmTdllpKkz0izBbIsx5fGM15nphLMatLJEmyxyTZa4ZqfS/txf04CoVjLLF7LBrjKUOK7qK404EX1YhN7Xmvbu7Eq5xxmKunxiDIU62hKu6E66yxU20xU3uTgixxY93xoXwWlScTNnicGE+tk3kp+F+7FRb7I9shpschh+psVSxk50GbVMLYIW6DNc4Y65yRF/tiL7aHnONK+46ccP13YbJtvgbHAk32+Nv7Tbc1hVzR3vc3a0bH2z5z9OdGXOlQ/8HpanQkgmOfFBqAFpBtmIeM6txzgPc1NX9GHxX4SlXRmZhj8PSZ+QHDLVICpACPq0A4Sqfdk8wGUe4Kpi87cN9JVzlw87xV9MIV/mr54ZqN85InQCH68Xl5lNRxqIwU/kcc2mEqQCL3ZgsEaYCXhMnwlQwTytoFclw1TyjBYvgpJXMNleHmcojTXkvpR4+Xoml1jmuYtPdodrhrfOwGJMoO3l2294a17rUg//cvO9AobVBgTaAMwCmg9XLkjKN+U0dADYFU9g4f9EpTH+QxOCCmgOoR2G4f2qwfey14lTEbgWgqhv+vaPspc37q9sdbGqMcKL/5nmhMF6MF8/CUCU9J40tZGZpA8OXJ5Zv/nrLicpCF7SwEuzHy9uWJh5cv7ME0ypZXJjCE/fYp/W+a5YPK1lSw1WKiOTLLeZIAdmlQJsCKftKX928Z19pJ8IylnWoXchP/8+idRjoZfF6LLaORZbx2lUSK5jULMNHJ5s5ruK3Kn+ONOdEmiwMWuFzuBkrVYWbC3hQZLi5IBLv65wIY+58U95zqaff3l7QxdzE7lkM58LgOLahfMNdmY5HHWER7G4pJ632nfuscdcJhslS9BRlPWb/sbX2Qh2xUxyGqYxJTXDEheKGJagmOwxTnTE/4pvDMNUROwWpVvzE7viJVm2zxeGZTsNkwTBZjMHSV1JMqGQIkWOvkQxXSYarlLjx8M51sBFLZXX++5qOhCmtG25p2PDz2ncfqtvy5zOfLRWObFAKPoYzWWArYSFUvBxVl7qoH6twzyNDuQ52zCBGDqpXB0dCxYGu39dK89N7hMwmBfxGAcJVfuOqQDeUcFWge9hP+ke4yk8c5U9mEq7yJ299G1tVXHW0DnFVpLEE8/7SKsLMJbw8M1scUA3QUOfDuMRY3jwjwqywtKKZaWWzzZUMV1leSj18rMrKqt6wuAyMoFGnwt/GNM98RmGpSjzYp1aEj0/Vv/qfHW+mHthqabC4oAnAeKzlhcQ9W07XdbBJuzuu0uFRj2n6IX2H9Vh/dfYd1o4gyU4XQFk3vPl10bLEfXVdTllSiZXOerSwjp4re2YPo3tYIidWyu/BVWwZd0GCVoDdZe2vpe9bnbo7Oasmx4ohVwfLu5YZj/3fV3ktTDGnDAKDVpx5afN8PiR4XWqeP/XNz5z9qcmAWEeJl2wXcXl4RRIBr755V+Hazbv3lXV1ocHI+ALhoeEqBcv2izhmkQAqbIk0EAAQV51qXGA8GWXCJRHYhmFTiKvYxokVw1V5vJSV+/qec425z5pyn085Fb0tj+nGNePed8NVTPBh6MnhpiCAs1PONtVtvK87dhIrUzVFWc+rrbNYKoalGI2ayJP+WHrgZMz4i/mRGM22mCmCYTIm/bHEQOuGENwSEGxh6SsD1mVXoicq0ROU6FAlOtTxr6uwqnrs5K7Y61tib2yKvbVlw11N7z9Q/dGM5o//LhxcA0X/gcYd0JENjloQ2sFlZSxa75xKUSUZkad+13Nuxbghg9Ic4GopmxrB0huhHVKAFCAFeilAuKqXHPRi9BQgXDV62tOV3RQgXOUmBu2OjAKEq0ZGR99tRcdVwnLzqQhTyTNp1TPTq2anlWl5Q2piUYSZT4nzeKEctixg3sz0kmfScenAMHNZpDlnsfHgkWqrWl5dkXkakzbJ8xkJOEDCRS+xmlKNHUwHi1dv3r4keWf84crd9bDpRPvStBMbD5U1ieDCcB4eMcLnrRpt0SlU/1ChYfISBQSB1cw61SSs+/jUmtQDZ0RguAqrXOsxHFpNJk8XyumHq4BRK0aKFAlsAFUifGypXZeyc/nmr//16dHdVQ5zTvvKrfn/+MzSJOL8nVOl3qwKWPafk5fu1sX7xh1O65iiWHBM2wRGcDDyp9oFMZ+dejlpz5EGqdvn0Oi3GfPq8GH/U8eeImC4Wz9ctekk4qpILLXOgLKaA9gTWqVFV/XgKpVYmQoijBYdV3UyCqjxUOR96qqUOPL5gB96R0RQ7CC3g1gv5yQ1bJxmN2DdKFwcMCZUjB3vjLvKGTceY6NipgoxUx2xk60bQjo3jsfEwDisti7GTFbWT4b1E2E91plSYkLYEoEhzrgQWzxWp8LUQsMEtpBfKKwPxVpU6yeIMZNdcTd1b7yz5d37qt59rOjD/61If+7M/n8585Oh6yjY8sBZDmI9CG0g2liYHq+bxnE6ltqSFFEGSVHYupZ4U+MxkFwgO9mGywXgxsPNeEV/PnyHrg2dSQqQAsGnAOGq4PO5j/aYcJWPOibYzCJcFWwe90J/CVd5QeRRvUQPrlphPhFpLHomrfrvGTUz08rDzUV6yIZeDUev3BxlxBnyM+klf8som23Gk6NMp19K3e+Gq1h2kQ+u1MYBk4SrnvH635V2MJ8oezl937yPtq8ynVqVZpmXdPit7fmlnThZ1xIb2WRVRTGsibOwFraMnZYLySfGgz1jizaWhLinvGt58sHX0w/b8KIc+/TgKoYvWIASQgTPPdS4Ecl9IT9+jK0R51BwTcB6gM8sdW+m73t5884VyfvXfGJ5LvH0suRjBa2yE8AqYuaUHheGlqNWbIlD7C52Sg+b+sZ9DaO44SpcKhH1tAJknYF1xsy1pkyLlS1DqcIez+nj8ZZVudQbh6HSHlyl6iYAllrfcrLuOeNxXO5AWweQ5f3lYckqrGClJwNiPqC6YqC5ZHZaWZi5JMKY/6wpd1HKyZiv8zo1PsWQKI5tjmZxEA43GRDHrZVVgKqVLFvU6Cpc+C9EjB0vxF3liL8KK6wjrpoiYvzURFt8iHXDeIai+PJ/oVIMRkspMSFsGy8ZxkuGENEQiisGGnApQF553WG4yWb4cWfsnW1xv2iIv7818X+aTbM7tq+Scz6A5j0gFIJUBUozKF2McvZwN1yKk92c7A7mSyVwbsWcK8oYX4iLHcioBC9QxVfn5MRKRXgevQ09PszoAqQAKeAdBQhXeUdnuso3KkC46hslohO8oQDhKm+oHGTXEAG6WH3l55OPRRhzI015c9IK56QVh5tKIkxFy9KyD5W1dQBkNsCilKPzTbnINUxq7tgQd7D+kTEvKq3ohZSj2Q3dPAtDnbMxtbV9/LO/FmMSZG7wYHcRRdhkONkovmw+sSC96K8pRbO31v3djPmAfEGxCGPuHJMlzJQ/J60wIr0k3Fw0N61kXlrpnLTiv+NWGmbG6uzPmrJWph/KbwO7Ai7uJ4mhHp8iCDxZqYcFYOKPVcEaTLuq2l7ZemDxpoPLMwojkk8sST+xp7jdzpmULILgBJEVYJYl2eVkHePcC2et/CwNrDCohNlbPIfL7VkWcL1EWWC5XXhcwbI4WLO8UoJ3d+Uu3bLXeKqxG0BCTIATbL3kObsLPI+rVK7Ug8nQk7x+toSRZkgjGLFqBjhU1r7hq9NLkw7NTzr5rLFwcUqW6VBpO1srsFtwYiiKZAfEgoxVYfoeLhrINi7aUJ5BRFtkUFyyoNXAlkBRMDKuCcB0um5Z0s53MgvLnGgbCCw6xoP3i8ebVr/ueoYoq+eNYwl7zb8DRQVaZUg6Xvlc8uHItPzwjIo5Wytnm4pnGvPD0wsjthbPSs2Zk5bPuJUaHTknDZcCDDOXzEwrn2kqmWMsXGC2LDZmGbbldwK7Z9VvVxzVHDXqzHTofWa5ik6ATpDqhbzUuvcetsZOtseEuuJDnXHjbfHjrRtCuuMnOFnZKTlmkmy4Vo67Voy7xmW4xhF7DZZdjwtxxoc640MdWIV9vBCL0VUYThU9WX57suvtqTbDLR1xtzfF3VW34eHaj/7Y/PGizv3r7dlJULcXy1EJVSA3g9wGUgcu6qewwlNqXJ6aTKrdvG7xknyE8xuaf19pI5WPV/VZjRfFDyq48axB4lZDHyB0JikQdAoQrgo6l/tqhwlX+apngswuwlVB5nBvdJfjqo+zahalHMcKvkZLRHqRVnubcJU3XODpayiy6AIossKa1EPzk0/NTi16JrUk8rO68LRSTDJiGUYYnWHKn2UqwPmwuWhmSt6sJEuYsXj21rLZW8sizcXPmnJfMB1/88usojM4NVQLEPOABl/DVRJLseKyMtskGeObGgGyO+G9PRUvbT66wHhq3ub9cV9mV1vBwTujgOhSZKxDjQ8ODjh5wTpKbJPYJFadDGMIB1v8zv1ZkUASsWIOf1eWXDIWd28G2FXasXbLtn9+cvxEK4Yv6XEuHE+olBZDinqCRLglI/zM5+1aRXOt7BQnVvieAoILsDa/jYHsSjuYss8sTjo2PzlnQeLJf3968kSDs5VFs2BxatnGUqhkUCR8yNrAUKf9Ou87244CogwuUByYSMiCqlzMX20Ax1qUf3x8aGXSjh3lne0qZVGTvEZYFi82hyNM84IKjDC6ClNrOULhVNQK8EV+04sph8JTcv6WUjjbVBy5tSI8vRijqNILw9IKZqVaZjPQzG9hXt8q3Fz0jLlslqlsXnrxQmP24qQjKcfreHSVWqqMJQDyC30rXAVOLDHmBKWtKyul9p1HO2Kud8RNkDZe54q/xp4Q2h0/oTseI6Sk6IkQHQLR48V/jxc0rdwFAAAgAElEQVSjr5ViJoiGUJchxB57jS0+xLYh1JoQ2rlhQmfClI74m9pjf3Im9ucdcdPbNjxcHvtg7eb/tX79onIyFio+hZaj0F0KYjPInQo4GEViw0lWAO90dsvgyGGRYioF5qGLzE4eL6njKg0IagqoeFXDVTgOtLuecJUX7wq6FCngtwoQrvJb1wWa4YSrAs2jftofwlV+6jhfNpsnA6afqHwh9URUWv6c1NyI9KIwUyFFV/my14ZlmyxjUe1mgHd35y9JPb4oo3hWUk64uSgivQTDqVisHAupY1F15qI5acVz0oqj0ssj08vnbC0PSyuISs55LvHY4sTMpOOV9S4VVyFh8cFMQLSKB32xmIgeLoAkpRugxgk7iu1vfGlZlHxwXcZxw5enauzQLiKdcWiVk+wymxYzqMTnrqyratWmwdLcBBYm1OddB8dkHfCmac+6TV9mnKqrYvWhtAXHePwRzpDx4TVcxbTh+YCcYqgGoEiYFOlSBKcELrZWYKMLjjXCv3ZXzEs8usR45O3teTvK7GdU4iaKWP6HVQXSJv6sJ2fjUyrvY0hLAVECp8BXZmPLsbkkxHlNACe6YMOBoqWbtr2/z1LNRp3idILEkBaXyz+fVVyl8hImOKIWTupwJOA4UrC81Mkmx2ufnli0NT/CxL6TzfjMcBVCq7C0Ih5RFZmWH2nKm2vMjTJZ5mKAVVmYsRjv2c2H16afyGrHYe9g+YAaJEUoyzz+LZIBVRILzk6l4Muq+Bn2+FtdcZMcb18lxFzjMmAaoNMwRWVVMZdBzBWK4XrZcJMcfYMUPVmIvs4Vc60r7jpHwsSOhClNG26u2fCz8vceLtv8v7VbF7TvfL3ryEboOAC2LBCLQa5hgVQYHMaGJSe5soJJfAxJ64Xf9MLp+I2kp7baFYwqsyvgZHFSGOrIbk9BAqeEcXqqDqoajGTxfQ0i88v45zgjq0kBUsArChCu8orMdJFvVoBw1TdrRGd4QQHCVV4QOdguwefwaccrXjSdmpeOBXojM4pnGwvmmEspGTBgBoNNwPouByutr6YdeSHl6HPG7IiUbL4m4BxjfnhqXnhqXpgpP8JUwDI3C+amYSrozMTcvyVnR5osLxqzlycfftV84HCDvZsxHUGlFYBTRx97KIqksApKLPqJzVA5PGH1alyYyAQnWiBud/7ixMwlW/a+s+3U8Tp7G0AboySdLKqIz/CdbkV/ONDhZaodbP4/4LMNoFPCfDr+bpsCh6utb6dnvvrh5ymZebltUgejZm64ihmnzpi5oZ4UVA8zwRm/KLHcRT0/FwtRo3Qs0U+ReJSYAtDshFwHvH+8aXHigSUph9/6Mn9PhbPBCTYFMZ+NfYBnXulV2PVErLPvuFBJ0cnBAYuc6QaoFGBfnRy9y/Lipq8NXx3LacPRiwNNFkByMB7hSYk83HY/XMVi8dgA4KNAxkgrZCsNIiSfqFqUdGxeavZ8BqTCkrPnGDFpd1ZqPi9WhS9TcyNTcqNSc+cZLfNM+ZHGomfTChcbs5YlHUjYkVfHxir3AuIqFoWkDjcWacXo4ZD7zEGOE8DRDWdOl214qmPDnY4NN9hjrmE5faGSYYocO1UxTFbiQpT4H0pxV7qiJ9vX32Rff5Mj5seO+DusCT9vjf95dexdtR88Um/8c8eOl4STBijPgNYD4CwEuRakJpY+a+UpjLIsyrKIeaaKgvuihEOBD+M+Y8stN5mNbY6lVDLltvYfH+FskKMC7DEAq+LLUGonDFkhOpEUIAWCSgHCVUHlbl/uLOEqX/ZOENlGuCqInO2trurRVYtSjs815/FkQMJV3pLfO9eRHU4sNdQowObducs+2r4k9ehCY9Z8U+58c8G89MKotAKsWWayYD5RGkKrSHNhVFrRvPTiqLT850xZS7ccennTjq2nKutERjKQBikS8g6fe+hhEZhZhjWkBDSTz855kpWM+UI2gLx25YPDFes+PrYmdfdbnxwwZVWftkIdC4ZqYuiqg4GtbnYyD7xibAVrvXUMtLVqn+LvNopwrKwl/YDlreQda9/7+P3PDha3id0AXSxkyaGWYOKpTBqwUGNePKyqyiqwyDevzqMXTUdupbgYauNr8zGUIdkB5E62YuCneZ2rjUeXpBxZZTz0SU7NiXprDct27ALoZJXRuxjsG/pzJ1OynSG8LoAGJxS0wac5LW99cmT55q//mbH3QHkbVtKWQRJYKBBGCgYEQejxgpr+qTBax+4pGSuCSZhpeapFXGNGxLzYeHJxes7z5tz5pryotIK5GFpVHG4ummPE0Kr55oIFaQULzLga4AvpBQuTji/ZtM/w+cn95Z0881SScNkBRspQRn6bqNca1nDjnxRELFvmLG379Pm6hLub43/k+OB6e9zVguFqFj81yWG4rjv22s748e3x1zgSJjs33GLdcEdj7N3lhocrP/xb+9drxRP/gYqvoPEIWItArFPLUcntIFvZWLBrVJzDXAm/bzhcwwjE3riKd4w9c+v0NSt5rmsPjVXTMFmFdTV5UGtN/S7jab964SqqXTWswUEnkwLBqADhqmD0uk/2mXCVT7ol+IwiXBV8Pvd4j0WADgU+y6l/LvHInNScSBNbZMpUSNFVHpfeWxeQJYEvROcAKOtQtmTmrzMdWvDh3nmJxyKTs6OMeXPNOOONMuIWyaBVeEpOlDFvYUZRlDFr3keZr5sOJ+6x1AqYVeRkCUUsVEEUZbaYnLc6MpTraPNwNsvFpCpcuh4LgGOimQKCg2cVOZ24VwfwSUHrK6m71iRtX5u843Xz3n9/cvi93TmbDhR+uMeyJbMgaV9+8r78lL0W4x51S9lrSdqXvyUzP2lfQZ9n48GSpAOFiXvz/7Mr+90vT0Rv3f9m8s7XPvpivXmfaX9BdTd0CFiyCuOzWEVzFRbwJclYOhjHRurEeSi9/VbnYPv4n74SH4IMPa0Kd2SnJNoxjgkDsESQ7aCg27sUaFLgcJ38z89OLE/avXrT52+Ydq3/PGvjjoLNuy0pey2pmdnJmaeT96FEQ90yLYn7sjbvOZm4N2/zbovh4yOvJe5avemrNZu/TD5YcKrO2s7S4lhHA4JS6S7TSq2rhdYUdIGLQ0xFxIEqungO7+4qR+zOwhc37X1+U+bzycfmJZ2cm4Jf1BgXaS6KMBXMNRfOM+VjaFVSVtSW4wu2HH3ho33rPzm2t7ilg4VWMbbsUq/Myjxxj2tLB+g2DWEHkxW1KlG2Gqj9rCV9dumGe6rjb+zcOKU7fmK34Qar4eaOuNta37mz4T+/qPtwet379zV8+Ov29GfgwOtQmQ5dx8FeCrZqEDtAsqlYWXRiUilHSDgysQCcJOCG8ZuIonidOC2eSlZYSiAfyXizc2blDl71BEG1mzrVYjmnKLeaOci+KxgLY8CQsyrtQnicHqQAKUAKDKoA4apBpaE3vKsA4Srv6k1XG0QBwlWDCEOHv70CvNT6nvKuhUlHw1Oy56UXshXiisOMxZQM+O1l9Z1P4vQSy/2IouhkFaxLuiAju+H/vrAsy8h5Li1vntGCmUQmy3xTHttyMcguJTsi6fT85NMLjade/zJ/W0FnvQtZFdY54kEubNksUXIw6uFrMzqtZjWjMAyvscmnIoLodIl2BAQyFlZnK5xBURd8nFWb8MWx9VsP/dO4d92WnS9v2rbiw22rEnevTNy7PGnv8qTMZbgdWJp8YFnSgZWJe1cl7l69pe/zsg+2r9i8c21S5pqUfau37F2bmhnzZe7mQ5X7K2wtLEQLLZFcIOBqhBopkFl9cSersI7TdBefgHts/LhdWmQlgXhVICwtL7BC6WySz6v/sKgfnOSjbiJby9DOQl8aZPgiqzx5b5bhi6PLTMcXppxYknp0VerBlzfvWvnhtlVb9q5MzBz69vLmPau27F2RcmCV8dDLxsw30g9sycw/XNpWZ1W4GhLyVuQRThaY5mmc5zHt9YbZ/cJwFS/hz/khep+NXBTcaQNJQETIqs7tqXZu2Jm/Lv3IMuOxF0xZ842nI1IwKzDSXIybqWBuqiUqNfc5Y+5iU/bL5hMfZJaeanS1sVHX7XSBy4rMUa3ljnFzfP1MPexIt2woOwpLGcVxIwgg1kBR+pndq8q2PFX77l3NG25viburOeGB5g+eakyd1fD5SzU73nAVZ0DzQRBL8WSxGeyt4OoE2clGvrYoAadRkiyLkizLyJe5KJwxYSl//I/n+SogSAqWWNfglMwjPVUOq9MnvoMt9Hwh9GpWvQhGVEksMZbhKsZy3a/OTqMnUoAUIAUGVIBw1YCy0EHvK0C4yvua0xUHUIBw1QCi0KFzU0BiU5qTjeKSlMPzUrMWfFw825gXnlE2y1jEcFXugfL2DoC9jfBCytH55uwIs4UX5x76MyuHlBeVVvRCytHshu6eOZI271SnGWxGyuDCuXWJPu2uAJ+tiYLTYauorK5r6+gGaAU41gypp5vfOVTz1rbiVz6zvPpJzuufWV7/POe1z7Jf+Sz7H1/lrd9Z8s7B6ozCzhPt0MJKFNkZmmJzP9El2HBBN8UlI1LwVVzFgphEVAMLWktOG+CkVHZhniASI0mQXQpiuEYRS7AXt8Ph8o7dBS17Sjp2lXZuL+78qsT6Zan181LbZ2X2T3BzflZm/6rEur0Y3+2z7S63bSvq+LqwfUdJ154K+4FaMacLagFXBsQyPFwkyQWygFV4WIYimqZHVzErtZpW7i4cyf3euMoJiOwErPPNA6xYciBDabhEIAIBzgvwFsVZvSgjrXSyHjU7Ib8DdjTAx1WQUeL8uLBrW1HX7tLur4ttX5XYviq2D/F5R7F9W4n948LOz8qsB1sUSzdUO1Ex/CrAsDgBlyBkxa1cnsd5I6n1oG2xocCEdcdVGNfGRwXiqm6QBJeAeZhdbAhVS3CgxpF8tGLDnqJ/by9Y92nO2k/z1n5R8MrnBes+y1/3ae7/fVkQt6/6o6N1u6scRVb8FNYU46NOYY5WqU1PMuC3i+bjqIvDa3B0glgLtpP27HftB18RM1dK+9bAwbcgexNUfw1WC0i1oLBa6YqDuVIjR/q44ul3esYuE039F0E/h+/gW/rZODy0TcVV+L4aR8mjKdkZrBAYfmvpX1Oq8urQZo1wXMUb1yzQsRc7QE+kAClACgyoAOGqAWWhg95XgHCV9zWnKw6gAOGqAUShQ+emAC8d3QHw1tbDi5IPzcvIm2UunJlRPiu9fI6xeEVG3sFKWxPDVYtTj0SlnJiblovrprPl5Ib4TLjq7C7CysraQ2FxBRi/IEl8H6dg7MFP6X+y9tGe//PzJUkSRVGW5QOZ+9/655uPPPLI5MmTn3zqt1/u2I24QYF2CVpcUO+Amm6l2ipXdUnVVrmmW6nqkmq6lUY7vtvOArL44nE9OTU48XPfei7ta3vaPLfHWvWI9gafe3MOwp+drGoOL5TO64jbWEhRt/bM1xAcsM56/4N6sXaNzXJL3HXSbVPnz+7veWK/tyU99nBJNGH4uo/s+toHuDEcbPHkQSfTpIs9u8ui6zaUHV1qvUxY78UKva2PJzQfSpu9lFdz35DI8Jg7LnWnCC1OqO+W8Va1QpUVqjqVqk68f2tt0GjHovi8zlrPXwXw2kxD1Y+qx3V3D8W2Puf0QE9M37NjZTO5FVzV4KwEZw0I9SC2gMQKUSm9FvXDIT5CD91+N91Y033e0F8Ocl3tfV+sxDeIyXSYFCAFfEgBwlU+5IzgNoVwVXD732d6T7jKZ1wROIbgdF3CGc7+8s5XMo4uMJ78W+KpuZ9W/C0pLyIxd4Xp9P5yawvAvkZYnHpsvvFUVLqFcJUn3C/LsjuicsdSgxErd4zFCZfdbu/s7KypqcnMzIyNjX3qqaf+3//7f+PGjRvDHmPHjr3wwgtvvPHGN998s6WlRe8Fb0dvzf2l+75+Pu2QAqSA1xTQb0z9imyNPGTcPnV7ytqjv8G65bRDCpACpECAKUC4KsAc6r/dIVzlv74LKMsJVwWUO32pM90iNAhgPlX9xtf5zyYfX5humW/MecGYs9Z88mBFRxvAnnp4PvHos6ZsLGw0nNCqCFMBRVed3dXulOrsZ/J3JUnNmBQEgVMtQRAaGxsPHz5sMBjCwsKmT59+2WWXcUTFny+99NKbbrrp6aefXrt2bVJS0unTp/W57lCuyE8e4pl0GilACoygAnqU5Qi2SU2RAqQAKUAKjIgChKtGREZq5NwVIFx17hpSCyOgAOGqERCRmhhAAdklKza2UL3xZN2atKPPvb/rpeTDL205+EpK5oHihjMsGXBh0tH5prw5qYSrBlBwRA7xCCmewYdVudmDFR7uSaERRazFxA+KolhSUvLBBx/MnDnzvvvumzJlykUXXTRmzJjzzz+fU6orr7zyF7/4xcsvv5yUlHT06NH6+npuJ4dcAwZB8MAN3j7Nk0fErdQIKTBSCvB7locx9WlTj7Tqc5xekgKkAClACnhOAcJVntOWWh6WAoSrhiUXnewpBQhXeUrZoG5XxlrLIHa75G7AgtOnWyExs/if5gOvpWZGb91/rKSmAyCzGZ5PPjHflB+WRLhq5IdL//mnjooURRFFkb8UBKG9vb24uPjLL7988cUX77jjjh/84AcXX3zxd77znTFjxlxwwQXf/e53L7300jvvvHPx4sVbt24tKChob293zyvkNEpvfOR7Qi2SAqQAKUAKkAKkACkQHAoQrgoOP/tBLwlX+YGTgsFEwlXB4GWv91F22dsBnLzmtIMtRFXvgKIzsLe4ZX9JQ1V7RyeLrnou8dhz5uJIY0mEqWhY+YCUDDhEn/LoKp0u8UAqAOjq6iosLMzIyFi+fPlvf/vbSy+9lAdP6VFUV1xxxf333/+HP/whPj7+2LFj9fX1HEjpQVh6m7j2PHvo8VNawRl5wGCrIVpOp5ECpICXFdBvYT2uim5hL7uALkcKkAKkAOEqGgM+ogDhKh9xRLCbQbgq2EeAR/rPo6sEWRIEQVIUcIq4FpWTcSu2ArncBbCvQVmw5egCU1GUuYJw1cj6QWdJ7kWsJEmqqKjYuXPnG2+88Yc//OHHP/7xD37wg7Fjx44ZM4Y/X3TRRT/5yU9mzZq1fv36bdu25efn2+12d8N4WBY/opMvnmPoflr/ffdpcP936QgpQAqMogI6nBpFG+jSpAApQAqQAlwBwlU0EnxEAcJVPuKIYDeDcFWwjwCP9F/GtQFlJy52rrC8QAl3JRnsgCsGCiB0AxxqhheSTz6XWhiZXBJppOiqkfcEp0tWqzUnJychIWH27NlTp069/PLLL7zwwnHjxnFE9V//9V+XXXbZr3/961deeWXXrl0lJSWtra2cdvFnURT1Qux6xp++gzxSK9OuMzK9J3rVKv0I7ZACpIAPKtA/ikpnWPrN7oNmk0mkAClACgSeAoSrAs+nftojwlV+6rhAM5twVaB51Af6owBIbENbZLYnsmcFY6xcAAoIDoDMBmFR0rGFxoK5KcVBiKv6l3zi00Kevsfd6D6H5AFK/LgeM9V/JilJktPprKioOHr06EcffTRz5syJEyeef/755513nr6u3yWXXHLzzTfPmDFj0aJFn3/+eUdHhw+MGjKBFCAFSAFSgBQgBUiBYFeAcFWwjwCf6T/hKp9xRXAbQrgquP3vkd7zklUiYin2nwSIqSQZA6xUjOV0AuyvFxYnHVloyp+bWhhpKgiq2lX9A5G4J/rjJ3cPudMrAHAvGiWKYkdHR1ZW1rvvvrtw4cJf/epXV1999ZgxYy666KILLriAg6oJEyb87ne/W7hw4fvvv3/8+PEzZ87wxvXwKPdr0T4pQAqQAqQAKUAKkAKkgJcVIFzlZcHpcoMpQLhqMGXouFcVIFzlVbmD42IKC6FycTKlaAFWkgyKzAOvAJwugIP1rsVJhxaaLHNT84MNV+kDgcdS6dFS/LgOrWRZltgDuZ+C9A/j1WRZEAQOvARBaGpq+uqrrxYtWjR9+vTrr7/+sssuO489xo0bx4tS3Xzzzc8++2xSUlJmZmZVVZXVatXb4Tv0TAqQAqQAKUAKkAKkACngCwoQrvIFL5ANAEC4ioaBTyhAuMon3BBYRujRVZIeYKXIIGMdKy26StBx1QKzJcKYP6zQqghTQWCsDNgnWoqPAvekPx1R6QFQ7e3tbW1tDQ0N27ZtW7t27QMPPBASEnLeeeeNHTuWR1FdeOGFV1555dSpU//85z+/++672dnZnZ2dDofDbrf3ST/USZneeGANQ+oNKUAKkAKkAClACpACfqYA4So/c1jgmku4KnB961c9I1zlV+7yG2MVBqr4MzMaQ6twCTk15EpEXFUnLEo+9KzZMsdkCTZcpXMo3aM8ZkonR+4Fzl0u15kzZ0pLS3fs2PH222//9a9/veWWWy6++GK9FtXYsWNDQ0N/+tOfPv300//4xz927txZV1fncrn0xt13FEXRswh50NZgmYnun6J9UoAUIAVIAVKAFCAFSAFPK0C4ytMKU/tDVIBw1RCFotM8qwDhKs/qG7Stu5Eqlg0oA2AmIC+5DorswtpV0vPJR+anWcKCGFe5F1YHAFEU3YdMV1fX/v37Y2Ji/vKXv9x///0hISE8xU8HVaGhoU8//fQ///nPjIyMrKysPkXTJUniKEqSJEEQFEVxuVw6KeNphvpL9+vSPilACpACpAApQAqQAqSA9xUgXOV9zemKAypAuGpAWeigtxUgXOVtxYPhelivimf/iYxQiQqISi9chesDclw1N90y22wJNwdXqXU9ikofDrIsOxwOp9NptVqLiooSExNnzZp18803X3rppRdffLG+rt9FF1102WWX3X777cuWLdu1a1dJSUlzc7N7tBQvbiWyh954/50BUw77n0ZHSAFSgBQgBUgBUoAUIAW8pgDhKq9JTRc6uwKEq86uD73rJQUIV3lJ6KC6DMdVigiKiqsAcRVmAuJygaz4uoqrUg5FIa7KDzZcpQ8HnprX2Nh49OjR9PT0pUuXTp8+/bvf/e55552nB1Jdcskl119//bRp0+bNm5ecnFxaWsr5lDvz6lOXyr00uyiKeowVP65/cMDiWbpttEMKkAKkAClACpACpAAp4E0FCFd5U2261lkUIFx1FnHoLe8pQLjKe1oH1ZXYKnYsoopVrVKA4yo8zPIEnWxlwEUp+1kyYKGv1a5yL+fUJ11OZz08jol7lZ+jf4rjpD4f5OfrYU2SJFkslvfff3/ZsmV/+tOfbrzxRp1PjR07dsyYMd///vfvv//+BQsWxMXFHTx4sKKiwul0unOooBpQ1FlSgBQgBUgBUoAUIAUCXgHCVQHvYn/pIOEqf/FUgNtJuCrAHTx63dP4FC4IyDdJN0YBhqsci5P3PWvODzMVRpiKhkWsvLYyoMwePApJx0+84BSHU7xEOu+ZwB46z+I7fU5zOBx79uxZt27do48+OnXq1GuvvZav6Ken+40fP/5Pf/pTQkLCwYMHKysr29raXC6XDsLccZX7QV1a2iEFSAFSgBQgBUgBUoAU8FMFCFf5qeMCz2zCVYHnU7/sEeEqv3SbPxjt77hqwEQ5nVj194CecwcAOmByuVytra2VlZXHjx+Pj49/4oknrrjiijFjxpx//vnf+c53eMX0K664YtKkSTNmzHj77bdPnDjR2tqqKIooig6Ho89VZFkWRfEsNvQ5n16SAqQAKUAKkAKkAClACviRAoSr/MhZgW0q4arA9q/f9I5wld+4yt8MDQBc5S45h0R9UJEgCH3W8uOQSxCE6urqzMzMDRs2vPjiiz/72c8uvPBCDqfOO++8Cy644Hvf+9511133u9/9bt26dYmJiYWFhTxiq0/RdN64IAj6Gn+6SQPSNP1d2iEFSAFSgBQgBUgBUoAU8DsFCFf5ncsC1WDCVYHqWT/rF+EqP3OY/5jr77hKV5qDJEmS+hMiXuBclmX+rsPhyMvL+89//hMVFTV9+vSJEyfq5ag4rvr+97//q1/9aunSpSkpKSdOnGhubu4fQqUoin5QzyvUjeE7PEWxz0F6SQqQAqQAKUAKkAKkACng1woQrvJr9wWS8YSrAsmbftwXwlV+7DzfNj0wcFUfMMSxFACIoigIgqIo3d3d5eXlu3fvfuGFF26//fYrrrjikksuufDCC88777zvfOc7F1988Q9/+MPbbrtt9uzZSUlJxcXFHR0dXV1dfaKoeJafXoWdO7bPS0mSeJhVnwgv3x4FZB0pQAqQAqQAKUAKkAKkwFAVIFw1VKXoPA8rQLjKwwJT80NTgHDV0HSis4atgF/jKj31zz2+iTMmu93e1tZWWFiYkZGxZs2aGTNm/PCHP+SF0vmKfuPGjQsJCbnrrruefPJJg8GQlZVls9n0dnRQpWcR6viJl053OBx2u10/qJ/W3wF6m/3foiOkAClACpACpAApQAqQAn6nAOEqv3NZoBpMuCpQPetn/SJc5WcO8x9zAwBXAYCOhGw2W319/fbt29etW/f73//+pz/96SWXXDJmzBiOqMaMGfPd7373zjvv/Mtf/vLGG2/s3LmzsrLS5XLp7uoTpaUf17kYZ1U6nOLV1gGAx1jpx/kR/eO0QwqQAqQAKUAKkAKkACkQMAoQrgoYV/p7RwhX+bsHA8R+wlUB4kjf64ZHcdWctMIwU35UWtELKUezG7pFAAlAVgAUVQjclWRFkbgZ/KgesqRXm3KnP/pyfpwQ6fyouLj43Xff/eMf/3jrrbeGhoZecMEFfGk/Xjr98ssvv++++1avXr19+/bKysqmpiYeP6VzLt/zDFlECpACpAApQAqQAqQAKeCLChCu8kWvBKVNhKuC0u2+12nCVb7nkwCxyDu4alHyER1XcUTF4phABoWhK0RYgoKlprisEnu4S6y/BQC8FlVdXd3Ro0c3b948c+bMCRMmcCzFn8eNG3f55ZdPmTJl2rRpS5Ys2b9/f3d3t3sQlt4a4Sp3kWmfFCAFSAeuRKwAACAASURBVAFSgBQgBUgBUuAbFSBc9Y0S0QneUYBwlXd0pqt8gwKEq75BIHr72yrgBVw111zYB1e5R1fJoiQITlnBwKs+D17aXBRFPd6qqanpwIEDH3zwwcKFCx977LHx48eff/75PNfvvPPOGzt27OTJk5966qnnnnvuvffey83Ntdls+rKAPA5LlmX3+Cy9RlWfS9NLUoAUIAVIAVKAFCAFSAFSYEAFCFcNKAsd9L4ChKu8rzldcQAFCFcNIAodGgkFRgdXyQqPrsKkQPxPlhVwYYgVPvqstQcAjY2NZrP5ueeee/zxx2+55Zbvfe97Y8aMufDCC3ks1fnnn3/77bfPmzfvvffe279/f1lZGY/A4rmEnFL1l4pjrP7H6QgpQAqQAqQAKUAKkAKkAClwFgUIV51FHHrLmwoQrvKm2nStQRUgXDWoNPTGuSngBVwVlVY0WHSVDEr/2lWCIFit1pqamp07d7788sszZsy46qqr/vu//1tP9Lv44ot/8IMfXH755WFhYTyKqqmpqaOjQ0/xGyxmSs8x5CSLK6eHbp2bkPRpUoAUIAVIAVKAFCAFSIGgUIBwVVC42R86SbjKH7wUBDYSrgoCJ49OFz2Kq8LNBQOWWhddgoIPEGVJFiVFkQRR7rI7SkpKtm/f/q9//euvf/3rjTfeOG7cOL1c+vnnn3/55Zffdtttv//971999dVdu3a1tbWxRjBQyx05ORwOACyDpdMrSZJcLpf7OVxrRVH4W6MjPV2VFCAFSAFSgBQgBUgBUsAPFSBc5YdOC0yTCVcFpl/9rleEq/zOZf5isKdx1WxjXlRa0eLUYzmNtp6VAbW8P1GW2tvOHDt25O31MX/+29/vvvvu8ePHjx07lhei4hl/V1555R//+MfXX3/9k08+ycrKam9v59q6XC73KCpBQATG39ILqPPqV/pxnmkoSRLPBNRP8xdnkZ2kAClACpACpAApQAqQAqOuAOGqUXcBGcAVIFxFI8EnFCBc5RNuCEQjNFzFakgx2qMiH1ZVygFwsN7xYvK+BWbLHGNhhKmg12bOi+izuZ0Qbi6YbS6cbcybby5YknIkt8nuYhfBYudOe011ZVpaWtic8Ntuu+3KK6/83n9fPHbcBWPGjBk3btzYsWMvuuii2267bfHixV988UVxcXFTU5PT6eSxVNwJOmlyL0HF6mHJvHAVP839I/q+vqPTq0B0LPWJFCAFSAFSgBQgBUgBUsAjChCu8ois1OjwFSBcNXzN6BMeUIBwlQdEpSZVBRRe7lx9JQOIoAgAcrdL7gSwWOHFTbtfNOdEJOeEp+bNNuaFm/MiMwrnpheEG3PmpOZEmizz0gui0vIjzJY5JkuYyRJuzsM0wLSi8IyKmSl5i9IsK5L31wjgBDh6/NiqlUtvumHS977LCqWfN2bs+Zjxd8nF/33D9VPvuuuuiIgIo9FYWVnpDqTIVaQAKUAKkAKkAClACpACpICPKEC4ykccQWYQrqIx4BMKEK7yCTcEqBEcV7GgKsaqQADcZBdAJ0CxHf6x9fiiLUcWmizPflIS+XFJmMkyMyV7jskSlVEwNz0/LDV7TmrOHFMu21RcFZaGuGqWsWh+RsnziUcNX2XXidBmF5955m/jxoy5YOyY88aMueCCcSHXht59z7RnnpkVG2PYtWNne9sZXnmKK92nKFWAyk/dIgVIAVKAFCAFSAFSgBTwJwUIV/mTtwLaVsJVAe1e/+kc4Sr/8ZVfWapl/7kFWDFiJTsBZBGgC6BWgdQT9UsTDy5KzQpPypqVagk3F0SkF0WkF4WxWKo5GFeFIVdz0vLnpBWGmwt4hfVwc0FUWsHcLccXb8r8urC9DSC/vOree++++KLzb5g68enfPv6vt9/asz+zqrq2u9sOsgJuRvCEPvesPb+SlYwlBUgBUoAUIAVIAVKAFAhYBQhXBaxr/a1jhKv8zWMBai/hqgB17Gh3S6tT1TfAShZAESSAboAOgBMtEP3F6ec3ZS76uCgyozjMlB9myg83F8xJKw43F802FkSkl4Sbi8JMhfw4PyHSZJmffGq5+cS7+8ot7dhUVm7+xg3xRw/t6+psdQk2GRSXLLkESZZ5USskVu5l0bk6/Y+Mtmp0fVKAFCAFSAFSgBQgBUiB4FWAcFXw+t7Hek64ysccEqzmEK4KVs97ut9YmJwVVQepp4KVDIoIICJOYsSqXoYdBa2vZxyb89GRCFPBvIyyCBNSqjnm0vC00lnGojBzySxj0ayUwjBTYaS5OMJUFGEqmG/MWWY6vjp5774yawdg4SoBm5RBdPLaWD1V3pkFiiRjgBWALMuSJMkIsehBCpACpAApQAqQAqQAKUAK+JYChKt8yx9BbA3hqiB2vi91nXCVL3kjkGyRAdhSeoC4qodYKRI7LksAdpYS2CDAVwWtK9NPzU8+NT/59PPpRQsziuYkZUck5yz4uGyeqXBuqmVuqmW+Ke9ZY9681OwFqaeXmLLWJO7ZX9F9BsDKGmfpfgxXgcyRGL+iooCaDChr4V5MY0VRJEkSRTGQFKe+kAKkAClACpACpAApQAr4tQKEq/zafYFkPOGqQPKmH/eFcJUfO8+nTR8YV8mSAIxYKbhMIAZG2QDqJdhXJ8ftK1+yJfOlLQeWm44vTjqycMuRxcaTLyQfX5R07MXkoy8lH35py4Gliftf3XoibltuVqPUyT7b7QQRq7cr4HKBIiuKokZwsWNqMiDIgO/gw6c1I+NIAVKAFCAFSAFSgBQgBYJYAcJVQex83+o64Srf8kfQWkO4Kmhd7+GOq/l3vHaVGuvEL4m4SkRuBSAo4JTBAXAGoA4grwN2FZ3ZmlX7cW7TJ3lt6dktGTmtW3NbPs1r+Sy38Yvs+j3FbXkdeHI3QKeAwAv5k6xgTJUgYD6gFsylvsXTERWJ4yr3LiPYoqxAd0VonxQgBUgBUoAUIAVIAVJgVBUgXDWq8tPFexQgXNWjBe2NogKEq0ZR/EC+tLYYn15qXTuAeAkjq7CIFY/Awjw9JFgALi3eqpsBqS6WLcj3bewtFztN7JVdiCWp1I2lH/Lcw964qqd6ViBrTn0jBUgBUoAUIAVIAVKAFPBnBQhX+bP3Asp2wlUB5U7/7QzhKv/1nU9b7kan3ImVZjPL2FMYtEJuhcsFsg0ZFqdXnDrpda94qXSEXPxMjroUBqrUdnriufRP4eXcLNGuTv8nBUgBUoAUIAVIAVKAFCAFfE4BwlU+55JgNYhwVbB63sf6TbjKxxwSJOawuCoVMwmgONnWQ6y4CjrnYi854dLAFhIujXbx6CoNS+m0S61TpR0PEmWpm6QAKUAKkAKkAClACpACfqoA4So/dVzgmU24KvB86pc9Ilzll24LBKM1YqWGVnH2pBZo14OierMmGatTcUoFAovJ0j6Fx1EUfn7PQoT6oUBQjPpACpACpAApQAqQAqQAKRDIChCuCmTv+lXfCFf5lbsC11jCVYHrWx/oGadH+jOzqB+BGjgB0D0ZsM8+A1MshRALXjFQpUZSqbhKYdXX1f73vp4PiEImkAKkAClACpACpAApQAqQAgMoQLhqAFHo0GgoQLhqNFSna/ZTgHBVP0nowMgpoIMqN2akH9Muoy7nxwuo62Wn9NP4Tj9iJSsg9sJSrDl2Mq4UqLCy63iMf167GP2fFCAFSAFSgBQgBUgBUoAU8E0FCFf5pl+C0CrCVUHodF/sMuEqX/SK/9vUq24UZur1yvLTmVTfjuLHtCRBvTSVmv3XpwVRAlECmef99WZb/Ewt6opwVV+V6TUpQAqQAqQAKUAKkAKkgC8qQLjKF70SlDYRrgpKt/tepwlX+Z5PAsEiLTmPBTdxAqWFO/VGS3pndcakFVBX1wrU6q/3glYYPMVZFeEqXUHaIQVIAVKAFCAFSAFSgBTwawUIV/m1+wLJeMJVgeRNP+4L4So/dl5gmq5xqx7I5X6kp8869uo5RHukAClACpACpAApQAqQAqSA3ypAuMpvXRdohhOuCjSP+ml/CFf5qePIbFKAFCAFSAFSgBQgBUgBUoAUCCQFCFcFkjf9ui+Eq/zafYFjPOGqwPEl9YQUIAVIAVKAFCAFSAFSgBQgBfxWAcJVfuu6QDOccFWgedRP+0O4yk8dR2aTAqQAKUAKkAKkAClACpACpEAgKUC4KpC86dd9IVzl1+4LHOMJVwWOL6knpAApQAqQAqQAKUAKkAKkACngtwoQrvJb1wWa4YSrAs2jftofwlV+6jgymxQgBUgBUoAUIAVIAVKAFCAFAkkBwlWB5E2/7gvhKr92X+AYT7gqcHxJPSEFSAFSgBQgBUgBUoAUIAVIAb9VgHCV37ou0AwnXBVoHvXT/hCu8lPHkdmkAClACpACpAApQAqQAqQAKRBIChCuCiRv+nVfCFf5tfsCx3jCVYHjS+oJKUAKkAKkAClACpACpAApQAr4rQKEq/zWdYFmOOGqQPOon/aHcJWfOo7MJgVIAVKAFCAFSAFSgBQgBUiBQFKAcFUgedOv+0K4yq/dFzjGE64KHF9ST0gBUoAUIAVIAVKAFCAFSAFSwG8VIFzlt64LNMMJVwWaR/20P4Sr/NRxZDYpQAqQAqQAKUAKkAKkAClACgSSAoSrAsmbft0XwlV+7b7AMZ5wVeD4knpCCpACpAApQAqQAqQAKUAKkAJ+qwDhKr91XaAZTrgq0Dzqp/0hXOWnjiOzSQFSgBQgBUgBUoAUIAVIAVIgkBQgXBVI3vTrvhCu8mv3BY7xhKsCx5fUE1KAFCAFSAFSgBQgBUgBUoAU8FsFCFf5resCzXDCVYHmUT/tD+EqP3UcmU0KkAKkAClACpACpAApQAqQAoGkAOGqQPKmX/eFcJVfuy9wjCdcFTi+HI2eKIoy4GVlWT0sSeoJoqgd6vmADKBvPUdpz5MKcMEHuILMHgCgKIokSQOcQYc8qIB+I+g7534xvan+t965N96nBVkQnPx2Huw7oc8Hgvil7pcBNeDvDvjWoAdl7QtXF58f0A7jBxVF0U8btKERe0Pvo74zYk17pyFFAVmWdT0BX4n8WZIkLyrpne4G/lV0l3ngXzd9kOs7ga8n9dCjChCu8qi81PjQFSBcNXSt6EwPKkC4yoPiBkHTbr/msbfuL3WQJcvgPmtyU0X/beeF6bTbZYNkdxCQyJhCXwlEUeSHentw4Cb6fphej4AC7vcC3z/3Rt3bPPfWztaCLIuKInFcJbGH0+k82weC9z3uFAQfA96Jgx//BslEUXSbkCuShBsACILkdAr6t7G3UIv72Busp9/Qoz5vS5LidAqC4FWSzhkf+1Z071Ef0+iljyrA3cfvC0VRBEHQ/6UbUYvdx8bIjPYRNY8a8z8FCFf5n88C1GLCVQHqWH/rFuEqf/OYj9qraA9unyQpLpeoz5H470V9NuWjfQhwswb5Gc2QlE6pBEHg+x74E3SA63tu3RvEO+fWqBc/jfZLkqDHWHnx0v51Ke7okcdVugoDxbHim/o9rp/pyZ2RHM994sK88O+IHhTMJZJlHNui6OJYFuOsRJG+IT05fka4bX3we2bw8NHu/jzC9lNzwaYA4apg87jP9pdwlc+6JrgMI1wVXP72TG85qurfdh9c1f8EOuJFBQaZQGoRVPoPei+aRJfSFRjEO/r7vr3DZ/JaZBD2RWQP37Z6VKyTAUS2DebxwY6fzVr95pUkSRRl/sUrCJIkKTzoioW4qkGsngkw6WPet+lFnyaApd7xg6xfIu+m1ziRnh/NbOA9GqBf+j9z/e2nI6OrAKeK7hGFg/1WOTc73cfGACPk3BqnTwejAoSrgtHrPtlnwlU+6ZbgM4pwVfD5fOR7rE+W9KZdLhcAiKLonhPU/zT9fNrxmAJ9fkn3u46Gq7jLuNd4+Sr9SL/P0IFRVMA3p0NoFc8HlCRhkDS3URTNdy7tEVwlSYKiSO5fsH3ig3j/GX/hgV0+JUif76heL2VZ5EWj9OpR3hxdjG5I3AYePKgNb2R/7hzEdwQlS9wV0MOpeDKg+1sjt99rxHpzfI5cF6gl31KAcJVv+SOIrSFcFcTO96WuE67yJW/4qy3u06Q+WSf6j0X8Qz/9GdqrHu7/G3qgGmEaruIxC5IkEaXyqpeGfTHu1mF/zMMfQFblVota6PM94OGr+1HzZ8dV3LlqIbnh9EodFYIg8ALhsgyKgoWreCP8ONv3tfHD7Rn42S23VD1BUSR2cDjaDP/c3gFcfW3jcHD4rdInRkEBHk4liqL+75r+m2TkrOk7QkauZWopSBUgXBWkjve9bhOu8j2fBKVFhKuC0u0Ddrr/Ty73IwN+RD3ozqF4XQ8A2Wrt5MlBLpeD/WF8IFZytlbpvXNRQJ8V88yjwWvlaLiK/4jXXdnV1XUul6fPjqgC7nfiYPsjesFhNiaKLh78wgOsZFmkKf0gErrfmP2/Erlzvw2ucrkcHBfqt7Ce9CeKoiDwkDeZfxsPYpvXDg82hgc+7h5gxf9N8Y6hPBmQha0hihVFFx/nfWzQdfaOVYFylYF9PXKhSdi+Hpenfy85nfZzvsRZLNffChQvUT9GSQHCVaMkPF22rwKEq/oqQq9HRQHCVaMiu09eVP+lNeDO2UzWJ0iKovAEwK+++sJkSq2trWZVbPhU1n1R8LO1Ru+dswLuU+Jh4Cr9z875+flGo3H//v3nbAk1MCIKDHhL9jk4Ihf61o3ILS1NW7emZ2Sk1dfX6omB37q5AP0gd5l+S/bHUvqdOzwBDh8+aDSmHDlyiE3LgQeS8LgS/cu5trbabDZu3Zre0XFmeK2P/Nl9hu7ZXu7fvy8pacuxY0c4aOPcYeQt6teirpuiSI2N9YcOHTCbjV9++XlxcSGP+aJ44X6aDevA2Zw+rIYGORnb56OFQ0artXPbtq9MptTy8tJBPjLEw2e3nL87xKboNFJgYAUIVw2sCx31ugKEq7wuOV1wIAUIVw2kSlAc03+O8xociiKlp5tXrFi2atWKNWteXr586fIVL61Zu/Ll1ctXrVqxevXqVatWbdu2TS9/y1NOdKV00uF0OisqKhYtWvibJ2c0Nzdqf4hWf+Hxi7qv9OReY8UtYwUb5ifrLeuX1i9KO1wTPXXl0KFDK1euXLPm5ZWrlq5cteSVV19euWrJipW4rV27esWKZR999JG7aJo78M/Q/Dhv6r333vv973+/adOm7u5ufpxHEMiyzMI08Bj/iPso4i7Tj2uNY/iW+2nu++7G0P5ACqgBArIsHjiQuWrVirVrVy9fvnTlKrw9161bs2rVipUrlyclbdFCCbCeDhdcL6zDc3D1G1av4dLHU+6e5W/pYSP6Di9tpr/Ub2RZFssrisPDZ7/wwvNFRQU8qEErqKTmo+lFjjnU5p3Vrepz7w8khR8f0/qO8+fM/btXr1kRnxAjyU7tHlG7VlNT9eJLz8fFRzc2NrLV6KTPP/985cqVH374If+W1iXQXQAA3d3d72xM+MPvn04zG/HPA4ITv3UVnK2DApIgKjIGV+bmnP7d/zz9yrqXG+pruX/db0z9O4S/Zbfb+bX04/ot735p3Z4h7+jhXbjWng4Uuqxnvvjyk7j46JWrlr762poPP3rvdPYJWXHZHV1vvvWP//ndk8kpm2XFxavUsw/2fKXwQnvcKm6te++48vpNwe10H4G8X3wc1tXVLVmy5LXXXuvo6GBDHf/QUl5e+o9/vPbMzL/+4X9/+/dn/hKfENPV1bF27epVq1ZUVJS5V7DSteLGcMP6KKPelQqggxQQXQLfAQVkUdK9xverKirXrVm7bs3ajo4O/U7RR4L+RSrycvq9r8Svrkuh3929z0IZ9XP6vDWCL/VL6IPnxIljK1YsW7161ZIlL65du3rZsiVbEj/MyT0lSmosNv+I+7M+Avm3kPtL7f4CvZsa1uyBVo1NtUuXLX5m5l+PH///7L0HV9zY0jb65+6935lg6G6FVuemyTnnnAwYMMkGE2wTnMA2YJsMBkzOOYMBk3PuJLWku6Si5Z6Z837nzHvmzGAPLJatFmpp76raW7ue/VTVIMuyRqMxOjo6Pj5+aWkJWgXPEloo3J+XM/1LYt31R5I0lZQURUaGd3a2Q2lU63N/ITzQFE3TkMpTsBMYgIIe4Tz8KzRDiGG0TQP6i7vffvgeJXALV32PWv0m+3QLV32Tavv+Gn0LV31/Ov1dPRJWRaenx8XFhV5eHjqd1sPDTaXiVucyOebu4ezopHFw0ISHh3d1dVn4H9tHCF4xrPYsFsvMzJRSKVeqCNiFNpuN4JnwB7/wXYWFGsuygoNkMl17cbD0tK0JBc+1/ZZtS/6Gx8IyHdbfjY2NHh4ejo4OLq46ZxetSPyTWPKzl7ebq5ujm5uLh4fb69evzWazsKYXXCBwWoSPSUlJGIZVVVX91jGAM8AssHUUbYVvNpvBGGCpLWBe1uCaawDLdtVu+/XbY0ECQjCLyWR4/rxCJLJTq5Wenu6eXq4urjpXV2cnJ52vr/fz5xXWcDwOdrQdIAzD0jSHYVn4TNG2MheOhQNB3YJLLIxuirquywZtg7uBlsFDGx0bVCrlwcGBwKkUcGqG4R4NpgXXwx0EI2TZr06m0PHv7MDacdpguCoqzpfJseycDAttErrJx1CbOzvbCRkaHRO+sbEOU2JGRgaO42/evIE72ApN+O7JyVFmRiqGilqaG0HspNnI4SA0YyEpDgHh0CtL+8dWHEPS7909OtyFeQPqptn6zLZ4NMtyLC0YwvB0ay+4J/9TLEZo0v98cA0fWL16+uLirL29zd3DGUHtdY5qdw9nZxcHtUYuV+BFxfkHhztJyXFyBd7V3Q5YFcNeJ/KHKcvWdG2FA1ON7V+hSYCK2p4HWBD+2traimFYeHg4TFkMY9HrLyMjwzEMychMnZgcmZoeW11bmpgYE4nsfH29V1aW4IsgGdtxZysB4bwwXZuNJkASAau6urikzCRjoc9OTr9qjWE/trZJMTwqIvLg4EAY14IWBNwZgBVh9jabzcJrHcap0ADbVv0lx9ASs9lcXf1GqZQrFDJvb083NxdXV2cUE+FSyb30u6dnh8L8A12z1Rf8Ce4jGLDtHELTNG+0XyMBLRbSZDIsr8wHBvnqHNULizMsSy8sLOA47u3tvba2ZotMCbISgDyLhRTw9/PzU5hpYUlzcnIUGOiv02kBroLRx1/ATbmCugXdQeMFaF6AouChwqP/J6MCq/5LFHf70D9ZArdw1Z8s8NvH/U8SuIWr/ifJ3J7/UyVwC1f9qeK+MQ8T1j3C2pdl6ampCfidmZ24n3VPrsBjYiPGxoeWlufm52fn5mZOT49h3Qa5aaxpIK6ZU/CRYSxtbS1isX1wcKCwzhN8118ecOIQFoUgG8E9tl3hCWtW2/XfjZHlX9kQwdeCle7BwcHY2Nj8/OzS8lx1TaWUkHh4Ovf1d83OTc7MTE1NTWxvbwoqoGkK0rIIZ8CH1OsvPT3dtVp1V1cn0B8E39KakIgzH6Hbv0IihDU3+BLwUXClhG/dHvx7EuAGF01TV1cX2dn3EURcWPRwYnJkfn52fn52YWEO1ArxdzDcYITyg5F7guARweOECCbwAAGEAh2ZTCZbTMrW+RdgLNCjoGJrF7hG1tXXyhV4YlLs+cUxw3KF6gTujGBgfF8AUOP+arGQ1lRK1920vfKXx9ZHfcv/M4yFoswpqYliyc/PnpcK7Cprn+jKypeEDE3PSDk5ObJYyIuLs+bmxoqKsvn5WVtBkaRJmIdZlt7d3fbz9ZTLsJnpcZbhKUs8nUoQIENzBKuy0hIMFRU+esDQXNlWwUUXjm3Vams2vx28vz0DN/mX/0KzhYaZzcbGpg+ubo4IIr5/P6OtrWVmZmp4eLCpqSEtLaWy8uXq6kpERBhB4HNzMyRpoigzbIHYzj+2mIWAZQh9gRmSpilBaPB0mqZMJoMws0EG9/n52YqKssbGemBXwTvxhx/+T3h46Nr6MstSJGVgWWp7e7OkpKixsf7k5Eh4fwlPhPb8qoXCRyvMd/3StPBJ3zgl7mwVFz1qbKiDM0CRm5udLiosaP/YKrxbQYDCPMyyNIhFEKkgYaNRLxgJYCvCn4SLbQ7+per+0wsECcDOysOHeSKRXWZm+sTE2PjE8PjEcGHRQ6WKwKWS7p4OECaP4X4NmBVO2jYFTtouG6zGyUkYoCWWpWjGPDo26KBTOTppLq9OjUb97u52WdnT2trq09NjkIOtMdhIhruPxULqDecf6mpKy0pWVpaESpEnJ0cVFWVVVa/29nYoygyvVJjlBHuA1gKAKOBu8BFkYtt4YX4WtoXgQJDe7RLIVvvf8fEtXPUdK/fb6totXPVt6eu7be0tXPXdqvZfdUxYMP1qAc2ytNF0+TA/Ryy5U1Scz1MAOFwDlry/WsaZzUbwH8A1pWnKaNRXVb3CcTQrK9MaoMSFwJCkCRwGi4WEX+uykmsorO0EHwk8Z9stU2sjb2uH/3O9Cj4SL0OaZsxNzR8kyJ2Y2PCz8yMrJYEW3B5Bj2azkaLMQlk3lqU3N784Ojp4e3suLs4bjXpY9IOrY/UVr10Io9H4q9bY7urb6vRXa3fQ+K8AkV/d6vYjL4Frt9ZguIqICJNKMaCZmEwG0Bq4UqBN2xHKH3/Fgin+RxhotiPrt3IWBqbAkgNnyRbbArDDGoVEUxZjUXE+hovzC3I5rIq95iMIDjNJmqwAFgQfcf0S/EOAvwWb/GcHv23mN3aGDwUymEl9SKg/itm3fWzisQ/bXtD372dICaS4pEAQ1690asvsAKiCZent7U21SuagVW5trvEUpGubMRqurgMDWe5MakoiIUWqKp8zNJcyXPCcba1CaA3Mt+BIgz3AEBbGrGAkwlf+nQNbfJyizFNTE55ernfsfnjypOTi4swWTzk6OtjZ2RobG/HwcMNxdG9vR/grDwqA235dJ0Jw+2378ss551omtuNFGDWA/gAGYQU4gJBId5LwbwAAIABJREFUvn9fi+NoXl6OyXxlNF0Cw8vWdIVeA4FR+AgHJEkKzbABtiwsYwEMkWsDY6FI00B/L44hqSnJh7+MoKf5kElhRMAELox9sBNoM/wLsKYwUQtDTPiKcKtfHvyq4X/wR+H1DfOGwWC4ezcJx9Ha2mq+GRTDkrt7m1nZ6WLJnYTEGP7k1zYIgI4gQ1uOsHCdLXDJc0m5qFjOWvgZqb2jRaWWBQX7CW9Dq64FVIu7GBYngnCsVkdtba+HhgU6uziMjg7DXwXZ2n60lgW4bpTBYIAhI5CthJ1CsFXhjWkLHwsnBeOB0Sp8FLp8e/C9SuAWrvpeNfvN9esWrvrmVPZ9NvgWrvo+9fpv9AqWRLAM4kMG+IwnLEVZjAeHO1nZ6bhUXN9Qy7IkZTFaXU3uQljACUs9WLuDW2WxkAbDVWFhgVQqffnyJfgGAHn8con/1XkAIAx2JoU1IhxYV35f3VoB//o3+ve3uMR27WvTYS5h87PnT1HMvuBRrsl8xTvG1zIHZAoW8bDtDC6uwD6YmBhzdnYMCPAToroERNK6dv+qPsHTs1EN91cwGJvsyFzrYLfc1k+2afPt4T+RgAAjHh7ua7QKXCoZGR2wapMVRqUwcGBUXl1dwBkYlYL64KSgaFuVAS/gnw5DoQ220Ikt7sCpmyX5GUPy+s1LluX9Q55d9SuDERy8X80JtncW+vLLg38inG/uFE1TR8d7SpVUgtwZHRvkx91XSPHy8jw8PFRKILwMv44gYRoUoBah8CKId3JyXEaggQHeZ6eHLEsZ9Oe2oBUvRspkvAwK9NU5qHp7OoCBBeK15elYByiXsEn4tc7zrOBCg9gF3Op3auFryiqD8SI37/4dux8Sk2J3d7cBfYNdDXg6l+erq1OlUri4ONlaiLVJPBLBWGxNEcxYaLytxIRjmJQsFlK4j2CWwrsMBEvTVEpKMoaLS8tKrEAVZ9t8fiUuHRjs1ghGDjf8FdQoPMj2KXwL+Yz7HBuOO3j+rBRDRY8K8i7Oj7kRRJtpi4m2mFiWosivLDBbkp3QTei17f1BXFAsUviK7QXQU5szv1ONv/9ygFogtP/4+Njf31ciEfX2fWJZykKb+DmNfP3mhUyOeni6CDIUGi+oD6T9G3vgGiTYJOzZgJBN5itOhhbji5dlGC66n5XGfbTS9Gw3Y2zvCZOejXyo+YVpD08Xdw/npeU5UBnDksI8RtOU0FRQh2AVoCbbm8MZAUAEA/7V3CsMTNv7CI/7/eK//cY3JoFbuOobU9j329xbuOr71e031bNbuOqbUtcf1liBWy4cWNe+3NJ5Z3cjPCLYXvTj0HAvy+UK4QJMhMW9yWTY3PwyPDw4ONg/Pz97cnJku/alKHN0dKRYLO7q6hJWe58/L3d1dU5PTxoMV+AUbW1tjI4Od3d/mpqaEO4AS9Lj48OxsZG+vh6Lhby8PF9YmPv0qWNycnx9fdVmqfqHieL7uBEgQVaXgHOBUlITxJKfX74qN5N6Pksx5wDDoplhLNs7X0bHBgcGuycmh4+Od8G/BX21tDTpdNqoqIiLizOLhVuRM4xlenry06eOw8N9npfB8eN2d7eXlhb6+3tnZqa2tjZAsxDuZDYbFxbmOjvbKcqs119++bLW29s7Ojq6sbEheBS3G8X/nuFdu/dzczMoJvLydtvZ3eBARv7H1gViGMvR0cHw8ODY2AgEiM3MTMGgOzjYg8EruEAsS5+dnczPzw4NDfT19aysLJ2fnwqj9fj4cGFhrqena3h4cHV1BXwkwRUXxuDW1sbw8ODQ0MD8/Ozk1Gh0TLhKLevp7aQZM/AXzGbjwcHe5OR4b2/31NTEwcEePAL8uquri8HBfgg4/fJlbWCgb2RkyDoLfYVLrGf+PWnd6Ku4Tq18XkAxeydnzeraEodKcGjLNUVod3c7MMjXQafq6e2gac6jPj097uvrGRoaAChHUNDp6fHCwtzIyNDU1MTa2ufmlnpEYpeRfld/dcYyJEVyAWv6q4vVz8sz05MD/b1Tk6Mz0+O+Ph6uLrqpyRGWJXmiEDelb21tTEyMDQz0zcxMHR8fgrTB397Z2RoaGhgfHzWbjWdnZ5OTk729vZOTk5ubmwA9Cy3/PVK/huFomqOrEDJUrZF/6vooMMWs6uaQIIuFIzdhGJKQEAevBr3+Ei4wGK62tjampib6+npGR4cXF+c3N78IwX1Go35ra2N6erK3t3tkZGhxcf7k5AhEyjCWg4O9paWFvr6esbERePtAUKrZbOzt7e7t7b68PKco88bGenf3J29vTwedqrDoYU9v59Bwn5nUsyw1PjH8qesjQGzQHkA3trc35+Zmenu7x8dH19Y+A0wsgMUXF2crK0ujo9x3R4b7F+an93Y3WZZa/bzY090RHxdFSJHMjNSO9pbenk4ArXq6OwYHek5PDgT4hmXpk5OjjY31/v7egYG++fnZw8N9QWgwSIeGBnp7u8/PT6+uLnZ3twcG+oaHB7e2Nszm620n4XobpO/36PA/uBZsZn19Xa1WikR2yyvzAg7IsmR9Qy0uFTu7aFmW2t/f7e/vHR8fJUnT58/Lnz51LC0tQAcpyry7u72wMCfMb3q9XmiUFVelNzbWZ+cmIRb+y8bnR4V5uFT8+s0LWM/Mzc309/dubn6B1Yugx+3tzdnZ6YGBvomJsS9f1kwmg9Go7+37VF7xRKkinJy1dfW1ff1dG5urNMMZSWdnO5/CjBvdMDeazcb9/d3x8dGurs6JibGdnS3gxAGkdXR0MDQ0AIP64GBvenqyp6drZmZqf3+XZbncdjA9np4eLy7Oj42N9PR0TU9PQjuFRgqdvT34XiVwC1d9r5r95vp1C1d9cyr7Pht8C1d9n3r9V70SGC58ag+OMAUrV97PpD6vLipVBCFDtnfWWZY0k1dwAcvSa2ufy8qe+vn5qNVKmUzq6+tdXFy4uDgPW82Qb8XJSUcQxMLCAmBhJycnKSkparWyrOyp0ag/Pj782N58NyXB3cNZqSJc3RzvpiSsfF4AT4BlqYnJEZ2jWq2Rj44NpqYlBQT6oJhIpZbdTUnY2FzlNmO5+IjbH04C/zSTBcNYDMYLN3dHuQLv6Gy1ZWewLL23t9PQ+D4qOsxBp5LJURdXh7R7SSOjA+AK0jRVXl4qlxM5OVnCvm5Hx0elUu7n58OXAOcAlPGJ4YzMVBdXHSFDnZy1SclxrW2NguNxcLjj5+8lQezaPjY9zM8JCPCTy+VSqTQqKqq/vx/cCatTcavH/7sEroGb7u5PGC6Oig7b2l7n+QLX2gcx8rE25PDwoEajcnFx+tT1MT0jJSjYT67ApQRyNyXh+GSf5aqQcc42zZh7+z5l52T4B3grlFJCxtEZnj0v1RvOacY8ONT7MD/H3cNZoZRqtIrAIN83b18dHe8JymVZ6uBwp77hXWRUqEotU6llrm6OSclxao1crZF/Xl2ECm6nZ4fdPR0xMVHu7q4KhUyn02Zk3JudnRZc5U+fOjQalZ+fT1NTQ3x8rFIph/Bh4YJfHvzfpXTT/woKYhhLT28nitlHx4Tt7W9BETS+m1z7x8dH3dyddI7qySkOcKRpqrGxHkHEISFBtrjk4GB/Xl6Ol5cHQeBKpTwsLCQwyBdF7EufFl1dngIf5+hwt7zsaXhYiEat1GpUwUF+sTERapXM18fjC5eDiYOzj0/233+ojooO0zmqCRnq5e2WX5C7/mWFy6jFX9DS2qBUEf4B3p8+dSQlJXl4eKAoqlKp0tLSTk9P/3cSF6YUmqbevX/7w4//b2xc5ObWGstexykLPj9JmsxmY3FxoVhsX1b21NYYdna2ampfJyTGOLs44FKJXIE7OmmS78bPzE6wLHVxeVJdUxUbF+nm7oRiIgedysfX4+nTxztcPURqcLA/O/u+m5sLjqMEgbu7u8bFxSwtLbAsfXp6LJNJnZ0dp6Ym9PrL7Oz7cjlhb39HJP5ZJsfu2P3gH+BNWYxn50dBwX4qtayrqxMARIoyX16dNjXXJSTGuLo5EjLU0UkTFOzX1d0uxA/OzE48eJgdEOjj4qqTEohGLff388zOusey5JvXLzDUHkXsEMkduzv/UCpwP1+PyYnho8MdhRxz1KkmJzh7AMksLS0UFhZERIRptWq5nPD3962oKOMT83NJrEjSdHp6HBDgJ5ViTU0NJSVFHh5ucjlBEHhYWMjExNivKDwCAPq/0+bv+pYNEZgeGxuRSjEnJ93uHgfYcbHDjPlKf/riZRmC2sXGRTAsWfX6hUIpTUqOq333JjwiWCbHgLnJslTnp7bsnAwPTxdChrq46qKjI4eHhwEI4xc2tF5/yRttgrOLA2BMEZEhTs4aCXKnt6/TQhvPz0/9/HxkMunHj62wFQfE8IaGuri4GA8PN5lMqtWqQ0KC2tvbdna2JIidlEBQTIRiIimB3LH7obSsxEzqCwoeSiSi8vJS2K1hWfrg4KCj42NUVISnlyu8HO+mJHDZuPgxxbJUc0u9WiP38/fq/NSWeT/N2cWBswetIjUt6fyCI9axLDU2PpR5Py0g0EeuwOUK3NXNMTjEf3ikHwTFa+13yf724m9PArdw1bens++0xbdw1Xeq2G+tW7dw1bemsT+yvVbI4HrH+3pNzJhn5yYliJ2zi8Ph0Y4Q+MAwlv393bS0FILAAwL8Xr+urK2tDgjww3E0ISHOYLiCte/e3g6GIT4+Xjy0wer1l7W1tQqFLD4+FlhUbW0tLq46tUb++ElhdU1VdEw4iomSkuNOTg+AtP+xvRmXSnCpxMvbLSY24mlpcd6DLJ2jWiT++UNdDeTS+iOl8O3fS6A5WFFImqQMao1Mo1X0D3SDWmFf+vLyvKrqlVJFaLSKFy/LGxrfJSRGyxV4aFiggDnm5eVgGFJRUQYI5vr6qo+Pl1qt7O/vBVBybe2zs4uDQinNzbtf3/AuJTURl0q8fdxX15YgSwjwJjBc7OXtFhIaUFSc//x5hZOTk0QiKS4uPjzkCj/Z0Pq+fQX813oA7j1Jmmprq3GpJO1e8sHhDs+u4mKR+Cy8kDabQzfevasBJ9zL2y35bnx+Qe6Dh9laByWKiVrbGgFFIinD4FCvm7uTTI4lJsW+fl3Z0dmanpGSk5tpoU0LizNQoy0pKaG+/kNp6ROtg1KtkdfUvqYsRrjDyenBq8pnGq3CyVlbXl7a2FhfXFwoeOl8VS8u9Ka9o0WjVTi7OBQWFrx7VxMVFYEg4szMdIgwpWmqqalBIhFBqJe7u2tkZHhTUwPY6j/7978m4j/rxrwqqbr6WrHk57R7Sccn+wzLsRShszRNdXa2u7o5enq5CvDNy5fPCQIvKnoEl9E0NTU1ERQUgGFISkpyY2P9mzdVKSnJBIFLccm72jfg656dHhY+eiCXSf18vV9XvXpXW11U+NBBq0QkdtFRYZcXJyxj1hvO31ZXah2U7h7OryqfVb1+ERzij+HiBw+z9QYulpCkDG+rKxHUHpCs5OTEkpKSrKwsjUYjkUj6+/v/d7mreISdy7JPkiYuFxuBFBY9NBivY1f5OYHmCZicPV9cnGVmpkulWEtLkwCs7O/vFhRwObld3Rwrnj3t6GwtLimQyTEnZ+3i0qyFNvX1d4HRPnlaVFdf++btq/tZ96KiIjY21re3N728PBBEnJycWF//oba2urCwwMfHq6+vhyRNu7vb9vZ3wsNDNzbWaZoaGRl68qTE2dlRo1G9ra78+LF1eKSfshiPjvc8PF1c3Rzn5qd4gdN6w/mLF8+UKkKtVj7Mz2lsrH/95mVkZDifZo5L6zY+PhoVHYaikti4yNra6g91NQnx0YjkTkJ8tNFwPjM9XlNdqVRINWpZWWlJS3NdT3fH8dHuzvYXGYEEB/l9WV+BZHC7u9tJSQlSKRYUFFBZ+bK6+o23t6dMJk1OThSGzJcvawSBi8X2vr7efn4+paVPnjwpcXLSYRiSm5sNOe+Ei/mDP2kACHCVxUK2tjajqCQqOuxKf8aHAXIY+sXlcU5uhgS5U1n1nKQM5RVPJIid1kGpUil8fLxSUpK7ezpIyjC/MO3q5ujopMnITK2pfX0v/S5B4J6e7l++fIGemM3Gurr3bm4ucjlRXFJQ3/Du2fPSiMgQseQOhouA1Xh4tOvh4ebl5TE1NQHSuLg4e/as3NXVWSaT5uXl1NW9r6x8mZgY39LSdHJy1Nj0ISQ0AKp2NjXXdXS2rq4tnZ4dZmami8X27e1tQNEym401NW+5sshK+ePHxXV17zMyUzFcHBTsNzc/ZTJfmUn96zcvcamEkKFBwX6xsdHl5aX3s+4pVYQEsRse6TeT+sur07j4KLHkTkxsxJu3r+rqa588LfLx9WhraxHA3D9JZ7eP+eskcAtX/XWyv33yLyRwC1f9Qhy3H/4qCdzCVX+V5G/kc69xK9jVj4uLubw6Fajy+quLZxVlapUiNibqjC+mY6HMO9ubsTFRKCLu7+th+Ww1/X09KCJOTIg7PtqjSFNLc72DVh0RHry9tc6y1OHBjlyGeXm6zs1OMrTZQhkP9rddXXSubo6DQ71AAHnxshzDxcEh/pAkguHoXfrqmioEtc/OyQB6yI2U3l/TKAH3EUArhrEsLc/hUnFAoM/8/Cw0i4cm6Z6eLpkc8/J2W1tfhghBk8mQlZWJIuLnz0op0nB2ehgZEaJWyTraW1iWOjnej42JkBFoY8N7CDK6OD+OigzVOiibW+pJykAz5oPDnfSMFBQTvf9QLWwOo5jIyVnb3dNxnaqfJaemJnAc9ff3tVbd+mvE9a09leZzLVP30pIJKXIvLXl4qG9xYWZmdmJmdoJXLkc2BJfvydMiCWIXFx+1sbkKZ0zmq/KKJygmKniUB+re29txcNA4Ojq0tjbzUScsSZogSPDk5Cg8PFQmx968qRKCawYH+zUaVWCg/8rnBYYlTearjs5WlUrh7e15eLgPtscwTEd7i1KB+/t50hYjQ5tOjvfUKsLNVTc/N2k2cblj1teWfbzdnRw1fb1cthqD8aKs/LFIZBcVFbG+vi4UuPzWtPNvt5ebGynaYkq/dxdDRffSkkdHBmZnJpaX5uZmJ2emx6cmRyvKnxBSJCw0kK/cRxv0l+n3Ugkp9q62GqbWq8vzkOBAhZz48L7WyEdVc8QQ0uTj7Skj8N6eLi6YSH9Z/fa1UiFLTIg75cO0SbORZemqypeEFLuXlgLmND01qlHLAvy9drbXWcZsNl2ury0RUomfr8fiwjRDm82mq6LCh4jELjkpbn1tGdAik8lQWFiAYcizZ+XW98K/LQG4kGZYhmUZdn3ts7+fj4NW3f6xme/dNX4tzGYsyx4fH/v4eOE4OjY2wjeAOjs/SruXLJNj+Q/zLi/OOKCBsczNTqOIOCY6cn9vx2wyJCbEEVLs/bsaoegeQ1Pn59yL7N27GgQRZ2Vl8hX9LIAFX1ycQa631tZmqRRLS0vZ3t5k+NKKHe1tCjkRGRF2dXnO5WfjKU6TE2NOjhp/Py8ORaK53FItzfVyOREY6L+wwLG0+CRKJg5v4/PZz83N+Pj4qFSK/v5+noPDXl6elz59LBHfefO6EgCvpcVZlVIeHha08eU6Wb7ZdNXf10NIkaTE+IP9bdpiMpuuCvJzUcS+qLAANMsylvW1z+FhIYQUm5wYA2LdQH+3FEednHQ9PT1CNqWZmSkEEfNz7wm/b/FVa9ZQ1K9n/qtHgEg+f1FmL/opvyDn7PzQmm2A7OhslStwtUY+vzB9fnaUfu8uIhHl5mTtbu+wDMtYaIamTk8OIsKDNWpZd1c7bTGRZuP52UliQhyOo/X1HwDNmZ2ddnNzcXZ2nJgYA7ulaWp5eVGrVWu0Cr6IKjU5NeriqvMP8IZoRKPpEhjEXl4eS0sLQsQ6SZIwNV1enKWlJiESu+6udg5s5cfU5sZ6RHioXCadnpqAYTUxPqxzULk4O87MzFi3ZOiSx48kiF3Bo1yD8dxgPH9UmCdB7NLuJe/sbEFtGbPZ+KjwAYLaPXteyrJUT2+nRqsICQk6ONgTWO0kaYL35j/lU/9XVXZ7879EArdw1V8i9tuH/lYCt3DVb2Vye+YvkMAtXPUXCP1GP5ILOigvL8UwJDv7vk1qT3pr80twUAAhxSbGR8FN4iI4jPqnT0pQRFz99jWc7Oz4iEhEGekp+quz6amxAH9vVxfd2CjkFaZevaywu/PD45JHRsMFt1LnE82GhQYqVQRkvbm8Oi0qzleqCFi6AfxhJvU1ta8R1P5R4QM4c6NF+Cc27reLVx60ooeG+6QEt33N57y4bpDFQsYnRDvoVFWvX0AgEr+aZ7u6uqQ4Gh8XRZGGleX56KgwlZKYnBgxGS8ryp/IZdjTJ0Unx1w0GcuQPd0dOgdVRGSIbYDYo8IHGC5+/qIMsMXmlnoMF6ekJgIVCAh6E5MjMpk0Kiri7OzM1in9E6X1LT6Kh6sYMiE+2u7OD/Z2P8oIFJHYQVhKcIj/lf4MRsT+wXbm/TQpgbyqfGZlRHIsp2fPSyWI3fMXZZApqaKiTCaT5uc/sOW4gVPU1tbi5KSLjAoVbIam6dPT08BAfydn7dBwH8OSl1en8QnRBIG3tjaDNC0Wxmg0Vr+tRJCfILiJoU2VryqkuLii/PElF97ChZ4xtDko0NdRpwYYVG84f/AwG8OQ15zH/t3/cJMqD0JRMdHhEvGdH/7x/6hVMpH9TyL7nzBUhGNiQorgmBiR2N3PTDObrmgLqb+6iAgPJaRYXy9HkGRo6mNbCyHF0lLvHvBpbqBm3NXluUop9/XxmuZ5Ijvbm/5+PjICX+Bwaj6SlLGQZuOjgoc4hrx88QxakpebSRCiylcVFBcfCtkJSY1apnNQzvEhdcdHe5kZqVJc0tT4ASwHYqYKCwtQVFJbW20N6/t9urOQFMBVYyOjbq7Obq7OEOnGV3zjbmWLnmxtbSkUMrVaCXmXWJYaGOxRqoiIyJD1tc9cNiuKywrf3dUpEdsnJyUc7O+enR5HRoRJcXScz+AmIAsQbFhU9AjDkCdPSqxY29eEjAxjqap6JZcTQEECIOzN60pCiqWn3aMpCwdXMSxDU60tTVqNIjoq7OL8iGXJ/b3NpMRYhULW0dHxW1mYTKbMzEyZTFZaWgrYBMMwJpMhLzdbIrb/8L6WAz4Yy0B/r1wmjY+L2dvdBqSMZenqt68RiSgn+z5p1jO0eXlpzt/PS62SLS3OC0ic0XD1IC8HkYhamrlYbNKsb//YLMUl9+9n8AOcNwCWnpgYQ1FJfHwspCO0baetwG3P/+HHNA31fzkc725KAorZ30tPXl6ZWV6ZmZwaef/hra+fp1yBFxQ8vLg4293ZSE6KU8iJgf5ekDxnNizNA4h4XGzE5cUxD8/RLM3kP3iI42hFRRkYfG5utlxOPH36WEj4BUGgOI6GhYWcnZ2wLNX2sUnroAgJDQAu4eHRblJSAsQGwjvxV93f3FiPj4vCMbEQmMmy9Mz0pLeXB4ZKrMUcqYz0FIUcf1bx9OLiAu7AMJbJqVEUE8XEhp+eHRwd76amJWK4uK6+VniQyWQqLHpIyJDqmiqWpWC7LicnS8h4ZTQahdKKJGn5VdtuP36XEriFq75LtX6LnbqFq75FrX2Hbb6Fq75Dpf5HXeIWuImJ8TiOvnz5XIhVYVmqo72FkCJRkaGAMcFeLstSnKcqsXv4IBvoA88qnorsf3rxvOzwYCcpMVajlr+uegHEnNOTgwB/b0edml/zcdgHv0Gq9/F2d3TS9PZ9MpmvTs8Ok5LjROKfIRcSZHzQG86fvyhDUHtYz/H++X/Uye/my7/FfWD7urqmEsNFKamJ/OocuktvbW2gmCgg0Mda24jz1mianZ+fx1BJaEgAadbPzU4GBvgoFdLjo72W5nq1ShYeFrS7w6X3ZhlSf3WWm5OJoaJ3798CSsKylNF0mV+QK1fg5RVPIIyotKwEQe2fPC0C3ASU2NXdThB4Vlbm1dUVEMEEOth3o47/Qke48XhyvO/qolPI8aTE2IL83IcPsh8VPih4lGcL6W7vfElIjEEx0cjoAKiGZriUOkXF+Qhq397BceWOjvf8A7x1Ou3AQN+1TdAcGYSmKaNRn/cgSyhLx4cZcn9iWTYkJEipIvjxSM4vTOFSjvnI01XA/2QvLy+fPC4U2f/4lisLSF5eHIeFBqiU0r7eToBCuNJmtDk0JMBBq/zU2cYy5PHJfnhEsFhsPzjYDyW9fmvJ8PTv4l+OBMSlizra83B3VsjxhPjogvzc/Ic5+Q9ziovyi4vy72emuTg7KBXSN6+50oosQ54c7ztolSolsbLMpaPWX52l37srI9DmpjrQL0ObGdq8trpESJHgoIAtPml0X2+3UiGLjoq4RnN4xuvpyVFSYjyKiAH52t/b0mrkPt5uK1yNs2usijRfSXGxh7sTB1cx5PrackR48J2f/zE9NcY/jrNDyOgkkYgGB/utr4bfpx/GQgNc1drc4qBV+/p48XMLzcPu3K1s0ZPp6WkMQ/z9fQEZv7g8SbuXrFBK37x9xdAUQ1OA2jx/Vo4i4qLCAtJsPDk+vJeWQkix1JRkk1FvsKZmhyjmd+9qCAIPCQlaWJizwm1cv4CDk5p6Vyy2t6IeXC3Fwkf5OIY843EQQJEYmqooL1XI8Yz0FNpiZFlyeKhXLsMCAvwgUb3Fch3gCfff2dlSqRSenu6QjRvSvV9cnPGUKGRkuB9UWVvzWkagOdkZ11Ud+V2czIxUFLF/VvGUS9dIGRvqa6W4JDmJyzrPMhYB1SoveyoW2ZWVcnMvbTFVlD8W2f9UXFxoMBiAbQQFFhFE/OBBrjVm/6vWbAX+9ex/8YhLfejj64GgdloHhbePm6+fh4+vh0arQBBxWlrK3NwcV5Fged7P11Msstvb3WYZlkM5aUZ/dZGXm41j4vq6GgDBLZSZsdB5OblqtfLFi2eQOlOjUbm6OvPMU0658Pvhwzux2D4//4HRyBV8bT0fAAAgAElEQVQeefa8lJAhyXfjWJa00KbpmXFcKgkM8oW89das/BxCZrFwpSc/ryz4+rjjmHh/bwtuaKHMoyNDCjnhoFXTFpK2kMdHe446tYe70/zcFKSV5L9O7h9siyV3/Pw9j453N7dWQ8MCUEw0v3CdxY9hmKuri6zsdJH4p6HhXspi6O37pFQRPr4eQ8N9EMIPT7SmbmAB9/wvquj21jdAArdw1Q1Qwm0TOAncwlW3dnAjJHALV90INdygRnBrdzc3F5lM2traLFQOYmhzQX4uhopqqqtIsx7gJ4Y2U6ShrLSEkCIlxQWw8o6JDpcR6MsX5c+flcoI9HHJI67IEUOSZv3S4qybq6OPt3tNddXHtqbBgZ7+vq7mpjpnJ62Ts3ZkdIBhyfOLYz9/L0KGLizOcLv6PDXj+GT/ftY9CWIH1/Anb5DI/sKmgJMvcKysB3RuXiaK3XmYn8OVBeTy6HORLJ2d7RguzshMPb845mP0uKU8TdP9/f0i+zt3k+OvLk/7+7o0armTo2ZifNjP19Pby212hktgDOjkwf52bEwEjomfPS/t/NTWP9DdP9Dd1FwXGxeJoPYNje/BBu6mJAC2CNGCoMeXryokEtGzZ+XCsvsWrvqXlgMMmpXleZWS8PXxmJocNRouKNJgMF5YaBOkTqcsRpIy7OxueHi6YLh4/csKCJxmzDu7G8l341FMBHl2xieGnV0cQkKCdne3KQqsgsOqWJbe2dmKiY2QIHaLS8DKYY1GI8uyJpPBy9vNzd2pp7eDZcl3798gqF1pWcnF5YnFQoIqT05OUlMS5TJ0cKCboU1TkyPubo7eXq71dTUjw319vZ3dXe11H2pcnB20GsX42JCFMu7ubbq6OSoUMj7L9XefyAx4QNTiwoyjTu3l6To1OXp1eQoxdybjpdl0tbW5FhsTIRHf4YLj+HTLn1cWEImdv5/Xwf62hTJuba6FhgR4uDuvLM9bKOP1bgHPdpTLOHTm8uLMaLgqfJRPSLHXVa+4oW1NjLW1+SUsNBjHkNXPy7SFHBnulxFIaIh/bU1Vb09HT3d7X29nfV2NWkX4+Xos8RPv0uKsj7e7Qo6fnx1BcCJNU3t7O5CDbHt701rA4V+a8C8v4KO6WIZ9U/VapZQHBfpz1Qz5ADrATWAGg3/b2loIAr93L/WM4zFRa+vLbu5OXt5uXFyqFatiGUtSYjyOIa+rXkF/+3q7HbRqlVLu4e7a2tK0w0f2Abh2enrs4KCB1OOvXr1YX1+FcDmKMlOUOTQ0WMi9zdDms9PDjPQ0DJV0QGYifpiQZmNebraMQMvLHgPSV1X5DEXsnjwtMhr1AC4A+AUoWGtrs0hkl519//z8VAjNOzjYkxGoRi1f/bzI6Zoh72emIRK7stISUD1Dmw368/CwILVK1trSwEcCXuZkp0vEdxrq30FkKM+So0izsfBRvkJOvHjO0SdZloqPi0QkdjU1b2HOhya9evVCJLKrqCizlim8Bpp/hQ/+UlV/5CeKr2XKMAxFmY+O9wgZikvFnl4uHp7OPr7uwSH+eQ+yBgf7ITyZy9E2OapzUCoVUg5wpBkgWG1urIeGBKiUROWrik+drZMTI/19XR3tbcFBARKJqLW1maapmZkpDEOSkxNPT4+BnQRiLy4uRFFJVdUrk8lgJvUPHmahmP3zF6UW2mihTbXv3ogld0oeP7q6urBRIicB2P6ZGB9WKnBHnZo06wE8MhquOtrbEIkoNiaK55UbhgZ7tRpFfFzkwf42v3Di3rk0Tc3NTyGofUxs+NHx7sLitIens0yOHR7tWuu0snt7OxGRIUqVdGFxmqT0ZlIfERkCebvy8nIWF+f5mRZyFF5Py3+kbm7vdSMlcAtX3Ui1/B0bdQtX/R21fgP7fAtX3UCl/KVNoq+uLmQyqUajGhoaEOAq0qwPDwvCUFFf7yfAqmBxfHV5mpOdQUiR1pYGhjYbDRfubk7ubk5Vlc883J1cnLWjI/0sY4aVfVtrg1pFSMQ/KxW4yP5HKS7GUHsMtUckdwKDfHk/mVpdWxJL7jg5aw8Od2jGDHDVweFOULAfLpVsbq1ZA53+UiHdmIcD4vOrtMdmszEuPpKQiV9VPuPVxMFSFgv5+HExhoufPC2kGRPsTvNQBfv+fS2OiQvycwz6s9qaKhmBJMRHVZQ/lhFIRvpdliWBR8Cy5ML8lK+PO4bay+QYLpUgqL2d/Y9SAoHjyalRIFu5uTspVQQkIxMwx/SMFLHYvrGxHoRnRdZujChvaEM43Q30dzvq1CHB/psbqxBTZqFNkPhc4K/Nzk3iUomLq+7i8gRGDZcx6suKf4C3lED29rdYlsvzrVLL0u4l85mtrnkH4F3PzE64ujmimMhM6iFKBZDQ7e1NTy9XP3+vhcVphjUXPMrFcFFTcx0fRMNB2wzD7O5uBwX6ElIJH0dG9nS3O2gVGCoSi34W2f+ESOwUchzHxBgqCvD3XltdYllqeWVeJuc4KXx+lmsa1w3VwB/QLH4AUsaR4X4HrTIiPPjzyoLAToUUfpsbq74+Hjgm3t5apy0m2mLq7elEJHbp9+6enx2xDDk2Ouju5uTj7W4yXoINAMu18tUzKS4pKnxoNFwYDRd3k+MxVDQ40APzM1y5uDDj5ekK2BPLUrU1r6W4WEYgUlwsxcWI5I5Y9JNEfAdF7ONiI7+sr7AM2d/XhSL27m5OLENaKCMYycrKkru7q1xOQB00mD1+n3gArqKZsqelUhyNCA+1TlDXt7FOC5zEKirKMAx5WlpsoU0W2jQ6NuDqpvPydjUYuWTw8Ht8tAdBpp0drSxDwg7Kx7am6KgwuQyT4pKY6HAOIeWTTJlJ/eraUk5upkotQzGRm7vT+w/VUB1ic2stKNjPw9NlYnKEm7Jo8/bWOgCI83NTvLK4Jp0c799NjiekCEcSZEmWMd+9GyOXoW0fmwD2hZBJQDQYxgLhh1VVr0jSBBeQpGl2dhqSlHER1gxpNFxA3UauCzx6RVtM21vrwUF+Ls4O42NDPLfu1M/XA8dE01OjkAwO4Miz0+O01LsKOd7b08mDmEZ3N0edgwpIi0Jj0tJScBxtamqwNvLPhquAbQTQz+fVRZ7K5DM80gcLA46TS5qAymQ2UyzLdna04pgoJjqckySf7Ixl6dmZKTdXR0RyRy5DMdReIr6DoSIUESMSkVIpn54ZZ1nqQ12NlEDyC3L58qmckUAWv5jYCEKGNjXXkZTh7PwoNS0RqgRCA9LuJcnkWFNzHRgDqA8gTobhcpzV19ViqH18XKSFMoDhmU2G8rKnGCopKS6EMy9flMsIJDcngxuhHKuRBeSrq5vbJcrKvnd6djAw2K1SE27uTlz9TZ75yLLs0tKCj68HLhUbTRcsS1IWw8rn+azsdJiQHZ001dVveJY09xL/37Eaf98gvb36BkjgFq66AUq4bQIngVu46tYOboQEbuGqG6GGG9QI+suXNRSVeHt7zs/PWldUNG0xadRyjVpujQ3hFvRc1fDz48SEGHu7H2dnJhjavLW55uLs4O3lNjzUezc5TiHHPrx/S5qv+JS05MsXZXIZGhMd1tpS/6mztbWlvqW5rrHhXfvHpqHhPlhfjo4NiiV3oqLDoMQYON5b2+s6R7WTs/b4ZJ9nlHz3/u3vMwhrQcDrbx0c7AUF+2q0REcn7//wAREUZb6bkkDI0DdvuYgtDoRizABbcDAWKnrxvNRsunz+7KkUF5eXlXzqbIWS6qcn+1zEBLdMJ8dGB+Qy1M1V19La0NRc19xS3/axqbmlvqW1obWtEYCSvf0tQoa6ezgvr8wDpAJKDA7xVyrlEIYmZOL4ff38O17NOcm1Na9VSiIiPPjs9BBcI/hXgKUgGwuKiSIiQ8A9gz8tLM7oHNXOLg588TXqaWmxlEBKy0r4v3J3hl+aMY+ODRIy1M3diWPSMWZAIhjGsrAw5+7h7OHpsrP7hWXJ2LgIuQLjy01CaUJuJK6tfVYqpI461eHBNsuSla8qxKKfUlMSGxvet7Y0tLU2tjTXN9S/a2mu7+v9BF3oH+i2s/8xMTH+7OwEEht/7xEuXO6qD++rlQppRHjw6QlXBfX6lwdZZqbHAV65ujyF/YA3r1/imPhRQR5c3P6xWaOWx8VGQmiY8N2s+/cIKVJR/oRlyMuLk5Bgf2cnLdB2aIsJZumhwV6lQurm6gh3zn+Yo1JKU1MSWprr2j82fWxrbGmua2ttbGttnJwY4aAZhmxrbUQR+4T4aLgDwBzj46NqtdLLywP8cN54fueYhFTrPFwlEdtHRYZb5cDFA1rvxZklw1jS0rgCDu/ev4VppK6+RqUmUtMSGZZ79UDDPq8sAAl0ZppDK1iGhD7u7mzUVFf5+niIRT9HhAcfc5MYZSb1RtPl+cVxe0cLMECdXRwGh3ottGlmdgLs/MvGZ3jcwvy0l6crjomPDnev4SrGsrW5Fh4WJMUlS4uzLGNmaJOnp6NWIx8a7oOhZKUv0UDtSUiI0+m0HR0frTgRbTTq29paEIldWmrSyfE+adZvb60H+Hs7aJWQ4dFCGVmGnJud9PfzcnF2+LyywLLU2emBRi1z1Kk+r3CRobwNcHm7jo8OwsNC7O1+XF9bZhnz1uaqViP39HCZnp4kSVLYbfLz83Fw0MD+E2hNkPZXqVul/1/6n+J+uDZ3fmrDpZLwiKDDox2G5d5B1mUG92SGYU0mU0111c8//X8P8rJ4LdOMheMnDvR3O2iVQYE+9XU1Lc11TY0fGhvetzQ3drS3NTS+v7jkklI9KnygUstevqqACRD+pRmz1kGp0Sp4NVEbm6vRMWES5M7c/CQfDGj08nZVa+QQRs1rH9Lkc1U7GcZiMF48f1bKcegeP+JzvXG2ZzLqc7Lvo4j4w/taMLy83EwpLn71spybQnkuHt8vqrqmys7+x+KSfKPpoqHxnVjyc2wcN4rBYFiWnZgYU6oIdw8n3rCvg3Ov9Gd9/V0PHmZLEDuFQtbQUAdSsiJW/yUt3d72pkjgFq66KZr427fjFq7625vAzRDALVx1M/RwU1rBMJaBgT4UlcTERG1vb8JyjVtXMSSGirw8XSGRCqRNYWgz7Ns7aJV8TgdqbHTQyVETGOCzt7sxPNRrb/dDRHjQ1uYqB3Yw5pcvygippPRpEcAlJq5+Obc4g/pKJGkym43V1W9wHM3JyTo9PYaNTZbPFIvjaExM1Pn5qXXdf1MkdhPaIYQEwib24uK8p5eLi6tmhs+aDBKzWMjYuEhHJ01zSx3LXrOrWJa6urqIiAiTEWjXp7bzs8PcnAyx6KfGhneXF8fRUaEYat/Y8I7b8uVTMo+PDUpxcXRUKGUxCi4rlJaDxbfFQnLcAQIPDQ3e3PwixL+cnR/pHNW+vt5CpcJfQWw3QYw3sA1cfBNjKS7KxzExJOHm9uxJA190jPOmuGTSHDGBK48gkYgePswzGjl6FGRP7+vrQVFJYmI8RGU+zM/h8cpXQM4CXw4ICMMj/VICCQsP4jxh2gTKNZuNDQ11ShWRfDdebzhjWdLN3dHJWQMMFEG5w8ODOCaOigwFtsiL52UoYm8b2WR1zL4CZG+rKyWIXX7+A4PhCiwBbPgGquAPaRLEqRUVFsgIPDUlmZ9RLVzqpWuGBd3T/QnHEFcXJ5MRoo2onOwMHOPqdUI+o/fv3soIFFIEWvk11NnpIVemU6OABPZHh7tSXOLr47G5sQqgBjCw3r97i0jsUu4mcM4/Q6bfu6tWyarfcmXpoOQcXMwHOnGIz/nZSVnpEymOPi4pMpu4FEgAfEDtvLt3k6z4wu/fNrDCVR/evZcReGCA33UNBz5sytZOTOYrbx93jVbR2/cJKIQvXpaJxD9VPHvCvzWuwb7xsSFXF52Xp6tAPIS+0BYTRRomJ0ZcXXQatby5pR4IVoDGWmjT5tZaalqSSPzzo8IHDEsODvVqHZQBgT6Qe5tlyaHBHqUCd3PVceQyfm+GZciF+Wl3NyelQnp6csBNiYzZUadyclQDtcfK/OXaBseeXq46R/XAYA9lMQrD7fmLMgwVlZWWmIyXLEvNzU76eLt7uDuD1uBZPd0djjq1j7c7hNKfHO8p5Jivj/uX9eXrGYDkaD7QQZ2DiruM305QKaUhwf5bWxu83XIj7vz8VKNReXt7zs5+zZckDLc/B66yvrW59rx8VaFSy5KS43b3NkEdYGA8R5hrtV6vf1zySCL+ufLVMw68s6LqvT2dYtHPkRHB3PuLo2yDDUCdPu6YYcm7KQkaraKpmcvvJsh8/2Bbgtj5+Hp8XuWiL2dmJ7y8XQkZsre/CWwmJ2eNzlE9OTXK8Ls4Vkbw9XxlMF7k5mSiiF19XQ1PNOZSiZ2dHsZEh2OoaGiQq2hsMl7ez0xVKaV1H7jyuEJ/TearuPgoQoY0t9SRlL60rNhe9OPjJ49oxgTPommqra1FJsfi4iNZrgjyFSyKKAsXpXh8sv8wP0eC2GVlpx8e7sO0zN/8D5mWbm9ycyVwC1fdXN38zVp2C1f9zRR+U7t7C1fdVM38Ne2iaaqxsR5FJenpaSd8HXTwTEzGS6VC6unhwqcR5ZaG4Nt8eF9NSJG01CRYZLe1NqpVssSEGIP+jCL14WGBchn6rvY1rMCePilEEbuS4nyWMQNbxxpoxu00wgoPKk89e1YOTjg8vbW12d7+zoMHuVBxnOfD/zXyuZlPBd8D/rVYLKOjw27ujl7erptbXFl0a/gAHZ8QrVBKG5ves6zJQhthub+4OC8W24cE++/tbpyfHUaEB8kIZHxs0EIZ2j82qVVEUKAP1MCiLcahwR65DPXxdhfuCSQCCDYE6KS7+5NCIQPijNUP4WI8UUwUFRWxvr4KMhT8pZsp0pvSKsZi0F9C/NG188anYRYEDgOHpqn8/AcSiej9+1qT6ZqtQJKmurr3P/74j6dPH4MTXvAoD5dKKp5xyZt/9ds/0I3h4pDQAKCWQBjR2dlJenqate4BF6Wi1shc3XQjowNCOKHRqH/3rgZF7IuL8jnmFENWvnqmkOPZWenwCMj2AtmIrz1PxpKTmyklED6R2XVOFj52hosD+k5/6KvL88yMeygirqp8KaBUAm71rKIMRcQpd5PgT7TFFBYaKMUljQ1cPjiGNle+eoZj4rzc+4LiSLN+c2M1OMjP2Uk7NztJW0wG/blEfCfA33t9bZn38znsiTRzzj+K2L96WQHMrOysdBmBvq56IQQkwnnuzrx1kWZjZsY9DJU0NzVA0BnL0gbDVWXlS4lEVFJSBHrkJ+ffqS6GhSp7QwODTo4Ori5OC/PT/LuDm/8FFIyizGfnRzI55u7hPDXN5Xo3ma9ev3mBS8W5eZnXcBVfqaOluV6lJIICfYFUJRDKhO7fTY5Xq2TNLfXX1sgHc3GhWCxZ3/AOQe2zsjlDrax6LlfgiUmxADNRpP5TZyuG2kdFhoD84ev9fV0KOe7qouORPi7VupOj2slRPTzCJU0HQIoLp+VTLlIWo7ePu9ZBaRsWTTPmhMQYHBPXVFdBIzs7WnUOKi9PVw6XZEj4/fC+GkXso6PCAJw6PzskpBJPD+eNLyvX2BkPkbx8US6XYTnZGXzzyI72ZrkMTU1J5PO+X6el+/x5GcfRyMhw2H/iZwwuZSFo7s+BqwSeF01TWdnpGC5+8JCvzXKNOtEmExcMCD9XV1exMRFyGQp53Lik8jyq293VLiPQ0BB/2G4B6+VKK3J41nXQX2xcJCFDW1obBHDQQpvm5qckiF1sXOT+wbaFNo2MDqjUhEYr57bKOKYeh8I7OmmspFFOj5DbEWoLXl6dBvh7Y6g95OYDSzjY39ZqFColsbw0B2fycjPlMvR11XPePjl6HcOSB4c7CGoXHOK3/mX5Sn+akZmCoHYtrfXC+5eizM+elSOofVl5CUlxZTohVB/aTzPm8YlhBLUPCQ2Ad671zWsV1u3/36kEbuGq71Sx3163buGqb09n32WLb+Gq71Kt/0Gn6MzMdAxDgPgAzjDDlULXp6Um8UV5agUnB8r36BxUA/3dsPKuKH9is3qm6j7USHFJQnz05cUJbTH19X7SahSBAT5Hh7uwwgMfw6A/F2pOBwcH4jhaX//BuiyjzWZjaekTHEdLS5/o+UpPRo6AcPvzVQJCIBVJctmv6+s/qNQyXz8PPj6CtrJXqKrXLxDUPjcvE5gyJGU4OT1IS0uRSrE3r1/qr87OTg8ddWqFHN/f24L8KQH+3gJ3g2Wprc01by83HBNbS8tz+88WC2k2G/lScdzHkpIigsCzs+8LcTEUZe781EbI0JSU5P39XYFXJbhMX3tye/RrCdBbm18SE2KkuORTZxt4qvxYu975F4ADb29PHEcHB/thB56v+UgVFDy0t7/z5k0VgFCtbY1KFREdEw6xUTAGDcYLveF8YXHG08sVxUTg0UFy34/tzRqtws/f6+BwBxBn/wAvuYJL8gIkLABDMzPTUcS+vOwx8IBGhvvVKllggN/B/i6HV9IUcIuuLs+NhisAaAICfWRyrKPjIz/Mr/v8HdsDQ1OnJ0cx0ZEKOfGxrcUWrqItpIUy5+Zk4RjC13fjNHt+duTm6uji7ADB1xRp6GhvgUxMtgGhfb2fXJwdPNyduYRTLHV5ceLi7KBzUPX1fgKYA/IJRkaEyGVY3YcasJ/GhvcyAo2LjeSyYlmBS4amTEY9V2qN5hJ4e3m6o4h4ZHhQYFeRpCk7+75EIqqtrRZA0l9b67/8zOchoszk4f5BaEiQjMBLigv4ZnDTCKDb+wfb2ztf5uan5Ao8NCxw/csKWG99wzu5Ao+Lj9IbzqEjpycHZaUlKGKfmpLIEUUvTze+fL7uEY+7fVlfiQgPViqkff1du3ubANpSFiPNmK/0ZwWP8qQE8vhJIUkZiksKxJI7LyCSizGbTZdPHj+Sy9BHBbncDbm7cZb84X2tFEdT7iYIAF9mRgqK2FVWPbdiHFwsrdF0CbHtCYkxhAz9UFcjJJvb29/iigzw2aYAHKyprpLLsOAgP3gbWiijhTKWFBfICFSgKJ6dHsTFRkhxcVtrA3wLcjn5+ng5aNVTk6P8S5ksKy1GEbu8XJh7uUThFgvZ2dmO42hycuI+Px75GeNf6ukPvkBQrsFwFREZwnE831SBFfGbHKTt846Pj11ddDICgUBIfsbg+rKyPO/r46GQYzzFjMtTBlC4QX8JmiUpQ27efQwXF5cUcBHNPBZmNF1W11RJCYSrk3t+RFmMDY3vCRkanxAtTGJ5D7J+vvOPyqrnJGWAYGoudNRshIxRZ+dHKiWBY6KJ8SF+g41LLbf6eRlDJWGhwXxFTg5Qbmx4h2Oie2lJZ6cHAPefXxwXPMpDUPunpcVG06XRdOnr5yklkN4+bngCu+rq6iIvj+NP1b57Q1mMB4c7V/ozgaZnJvUvX1WgmKjgUR7I0PpWtRXY7fF3KIFbuOo7VOq32aVbuOrb1Nt31+pbuOq7U+l/2CE6Li5GJpO+ffsadkStyyMK9ntdXXRtrY2rnxc/dbYlJ8UhErvCRw/AgyLN+oz0FBSxf131AuhXW5trQYG+iMQOCPN7u5uRESGEFMnLvf+xrWn18+Ly0lxtzeukxFgegeJCTlxdnR0dHYaHB2HBB7733btJGIa0tDQJC9z/sJPfzdf/KfTDkSAQu5TURMAyLPwPpHTVOihlcrS4JH95ZW5sfCgjM1WhkEVFRcCae2F+WopLPD1ctrfWwet79bJCikvuZ6btbH9hWer05KCo8KGMQMPDQ7u6OufmZpaXF5uaGtLT07a3N2E9nZmZLpNJq6A2mZUxUfvuDYaL8/JyeHPiqoND3OJ3o4j/VkcYy/LSQnCQn0KOV5Q/GRrsHRsdHBnu7+vrmZgY6+vrMZkMAPXqdFqVSjE6OgxKB6ZbZGQ4QeDd3Z+4Om6MeWNzNSjYj5Ch+QW5E5Mji0uznZ/aiksKxsaHDMaL/IJcBLWPT4geGRlaWVmqra12ctY6Omnq6rnkLJSFS1724mUZIUMCAn0+tjcvLc/19n1KT09TKuWIxK7r00cIUtvb3UxKjCWkWPq91N6errXVldmZqarKl+n3UgGuIs1GrYNS56geGxsB51kw4/+WGP/q+1oo89rqSnBQgEopn56a4OYxa9k+C8XlwYmLjUYR8ft3NaC+tdUVlZKw5UktL835+3kRUqSstGR+bmpqcrS87HFoSIC93Y+BAT4WymgyXpqMl/kPc+zu/BATHT481Pd5ZeFTZ1tcbCSGiuQybHRkAAb15saqu5uTVqN4XPLoU2fb0uLs/NzUm9eVOdn3AZw6OT7UqJXubi5fOC4kTZEmk8lgNOojI8OlUgxszBoK+vskS5rMUOWNsdAf21pkBI5I7JKT4trb28bHRzs6PpaVPU1Miu3r7+robNVoFfEJ0WfnRxDHNzM7AUVjS8s4CczOTGRnpauUhEKOQ73a6amxmOjwJ48L21obh4f6GurfJSXGSnFJVGTowuJMdk5G2r3k+oZ34xPDPb2dWdnpShWh1sjX1pdPTg8yMlNRTPSxvRkwDrPpMi83U0Ygb9+8BKHRFpI0G8tKn9jd+enli3KGNsO2TXdXu1yG6hzVNbWv17+szC9Mf2xvLniUd3S8R1mMUHLOz9+rofH96tpSY9OH1LQkKYF4ebouzE8Dkaqp8YOMQFVKorurfWV5/vPKwtnp4f3MNBwTt39shoBBhjbXVFdKcbGPt1v7x+bPKwttrc2hIUEAcfKRgBymlpmRopBzew/82/OaV1tT85Yg8IcP84QItd+nsz/m6us04VtbG2HhQQ46VVtbi9WErnleJGmxWLj8ZVtbWxgq8vRw5l86X1Otn50eF+TnikU/JSXGNDd9WFmeX1qcr/9Ql5OVvbq6AnSknt5OuQJ393B+W125vDLf199V8viRh6eLnf2Pj58UGk2XlMVY8ezpHbsfysofg2ZZlurr79I5qh10qrfVlSufF+bmpz62N3OBFfQAACAASURBVBcVPQKCOVdQUqtEEbvyspLFhemF+Wn91VlHexsh5SpyHh8dAIC4trrk5ekiI5DHJY8WF+fn5maystMVSmlwiP/G5iplMR6f7EsJxMlZu/KZy0cGlmYwXIWHh8oV+MTkyOHRbnFJQdq95IbG9zAEnjwt0jmqFUrpx/ZmgVHLv2f/GK3c3uXGSuAWrrqxqvm7NewWrvq7afyG9vcWrrqhivmLmrW1teHn56PRcKtJwe+FA4P+8u2bKg93V5VSrlTIVEq5s5OurPTJ7s4WXHB6cpSYEKdz0Az09wKuRJKmN2+qRCK79PQ0iBpbWloIDw+VyaSOjg4ODhqCwHU6bUHBQ1iK7e5uo6jEy8tjenpSeDpFmbVaNYYhfJZujmzF/+kvEtBNfazFYuFz6zLn5+cZGfdE4p+flhZDkguaZoF+xTCWru52/wBvjVau1sgAMkhKSvjyZQ3CcDo72+Vy4v79jNPTY9Dg4eG+QiFzcXGamBgDjWxtbWRlZTo4aJydHeVyQqmUu7u7RkaGHxzsMYxlZ2crKipCpVKA/QjRPeANPn36GAKIvnt44g8zE8YyOTHm7KS1u/ODjEBlBIpI7BCJHYYhOI46Ojrs7e1YLOTnz8v29ndCQoLW1j4LA+f09FiplKvVSkF3LEv39/cGBnI577UOSoVSqnNUc2nUd7bOz093d7fv3UvVaFQymVSlUuh0Wh8fr+bmxrPzaw4Ow5KnZ4dJyXEarUKtkTs4aDw83EpKikJCgpRKOTyFYThLnJ+fDQkJcnZ2lMmkCoXMw8PDyckpKysLin+tr69qtIqw8KDl5UUYy38HexgdHXV0dJTJZNvb27bmwTDM2dmZl5cXQRCDg4P8n+jBgT6NWpkQH3tyfAgKNZsM7R9bPT3cFHJCISdcXZwS4mMzM+45O+nSUu8KSv+8spSakiyXSTFU4ubqHODvW1z0KDQkyEGrBuwJYLLe3u7AQH+pFHNy0mk0KhjFlZUczMGy9NTUlFgsDg4OXl9ft8LK9M7OlkIhk8uJpf+fvbfwimPp2kf/t7t+V77vPQHGfRjcCSFCCJKQEHfBCRDcXYM7IYFAcAnB3cdb76reM5U5HH9PBGlW1qSmp7t617Orqms/vfeu6UmYrmEsO7blr8sM8lLiHJUolqVLigsvhga76dQikUCplEulYh8fr8jIa2NjIwUFeWKx8NmzJ9yEj2JXKdpSW1fp5++lUstctWp3N9eHD+5FR0XIZZLeni6Wpee/fL4adtlNp1UqZGqVAj7v3L41OTG2v7/77NkTf39fjUYlk0mUSrlCIQsPD6upqWJZemlpISbmukQimpmZ4hpFGvS7EdcuSyWC3p4OwISwmo2Gw6dPHknEwo72VvCP41Ju63OyM4KCAmDgqFQKHx+vO3diYQrd39999OiBq6tGpVK4u+sCAvxSU5NVKsXlyxeXlxdhepyZmbp9+5ZIJPD0dPfwcKuoKFtaWrhxI1oodPn8eQYRTxRKnrW3u5mXm+nr46FWKVy1ag93na+PV3bWG+ghDG3d3lq7Fn5Zo5Y3vkUhnFwydRRi+fjxQ6HQJS0tFXeSv1bTtz4D0eVc9vHR0U8XLpz39HS3T0pf9yiESYCm6YGBAalEcP9eLLhn2nYGZFiGJhfmZ188f+zj7aZWSbUahbubq6e7x43o67BVJcuifY2TkhK8vT1dXJzc3XWenu5Pnz6+dStGo1GVlhazLG006sF/HOe/R5Gn+7vZ2ZlBQQEqlUKjUWm1ai8vDxzPThCWNxmpfr6eApdfXLXK58+ebG2ul5YUScTCpMR4iEYEz7iuztbwq5dctUq5XKpWK4OCAq5evTI7Ow2KHh39JBIJwsIuLy8vYupwfX1Vo1GpVIrPn2f293czMtJcXTVarRqerRqNKigooKKiDJY99neH/zxn3LdWKF/f90aAp6u+N8J8/X8TAZ6u+ptA8ad9XwR4uur74nvSat/e3iwqKsjPz+VyDNkCjiiKACOHsJonxkcrykuzMjNqqivBTQD5cVjNhNW8vbVRXFSQ9jpl1maFovQNi4vzmZkZb96kc9k0UIUbG2v9/X3Z2ZkJCXE1NVXDwx+BybJazTs7W0lJCVVVFdvbm7Ceo2nSYjGlp78uKSlaWloAMwlYmJMG7feS19HUZxjGZDLV19e/eZMOSc1hByiStC1wLRbT/MJsfUN1ZtbrsvKinp4ug8HASYZU8+FD//PnT5ua3mJnN4oiqqoqEhPj+/p6KIoATRGEpa+vJy8vJyMjrbS0uLe3G4ImGIba39+trCzPzMzA/YdhKKvVXFNbkfEmFVhIHPPlKPn3QueE10sSlpnpybTXSa9TE5OT4pISXyUlvkpPS05JSXr9OiUnJ0uvP2BZenFxPi7uZVVVBYRkgpub1WpOSIjLy8vZ2dni0hgzHPLo5La2luycjPSMlNa2xrkv03A+2HI9PT2lpaVv3qS3tbWAtYxDZtAeXixxqN/t7etMTomvqqqYnBynabKwMD8jI219fRWyvINVvLOz1dPTlZ+fm5gYX1FR8f79e5JEqalIkpydnU5JSSopLdjcXKcoAm9SdsJ19WfiWyyW6enprKysN2/eEARB01+T9dA0fXh4mJiYmJCQsLKyAmh8Gv74OjW5sqLMaDh0dMWanBirKC/NfJPe3tayt7s9OzOVmpLU3dUBNjPK3c7tFtfV2Z75Jr2munJ8bMRk1JeVFuflZu9xuQjBWwrm4Z6ertzc7ISEuIaGuuHhj2AS0zQ5Pz+fmpra0NCwt7dnbxWat9PSUsvKSnZ3t//7lM9cMCAwVixLWy2m2ZmJ5qb6tLTU5OTE4uLCwcEPm5vrwKvGx7/q7u4Ex0BwhCFI09Dwh4LCnPy8nJ7uTqvF1P+u9+WLZ9tbG4DS5sZae1tLXm52YkJcfl5OZ0cbfpuyvb05NDRYWJj/8uXz9PTXLS1NwJZSFLG2tlJUVPDixTN4SDEMtbO97umhVatkXGYiNDfSFGE2GUpLipIS46cmx6GTgzOa1WKYmpqorCyHJnR1dej1B8BQsCyt1x90dLSlpiZXVJRNTIxRFPHmTXplZbnZbMScxezsdHFxYVJSQkND3ebm+ubmellZyatXL9bXVyFAEppvNOwPD30oKS7MysxoqK+dGB/FDBRFWnd3tqqryt5kpK5weda53VcJSGCXlfVmdPQTPtmu0x/5v827ampqIjc3Oycna3t7k4MIJa3ETwSYHz59GoqPe97S3LC7s4UWHpCeH3oOS+/vbb3r6youynuTkVZcVNDX02s2mhAtR1oBc73+oL+/r7i4sKioYHj4497eTm9vd2pqMmSaN5kM5eWlCQlxU1MTR9Klzc5ONzc3JiTEFRcX9vX14Hc2KHGbUd/W2pib86a8rGh6asJqMXV1tsfHvex/1wsjFCXY4nakmfs81dXZ+uZNelFRQWdnO94TAz155+dSUpKqqythGxlYzOzubr98+Tw/PxeeobBXSUVFWXz8q6SkhMrK8vHxURhueJbmvat+ZMf9Wffi6aqfhTx/3yMI8HTVEUD4rz8HAZ6u+jm4H9+7Io4Jv8SD9R98ktwGZJDCAxa+wGFBuhO8FIaDju2jKAqsZceDYLuyLGs2mznawpZq3WjU42UZTdvCGSBlFV5cwjLXsbYzW2a4P9x8zAgArwT7grMM2h3c/oey0kLqYjvO6BesDvtptng9/NWxQBC2PemA1YJ74W0crVYzcCi2TsKt4yGfCxzhWSpHMP+qjDLmkITJFnzEoIwtiD/iQsnsGkTmNJRhqGJfBqNRD6YO3IWmabMZOSdyJBFFklb4FShFlmU5zaKN5GEGwLYWuNrZLWdkGeLxDrsfQOwhHLT3h699DjROUZQ9yRpn/6PMMqgAsh3pyX8Fywn7HUgomqYBYZSJh8t1jVuNB6C9wCFj3zeQpgiwh/EkjJTIaQEYE/BAIa2EzRWF82DCbilWswWVaYYiSJTpnEFJuNFLCHusLsSOYUUAmwYS2qkEFKmNfVgcOsA/VASkWocMVrYHCmT9R/M/TZP40QN9A270O72dING0RtkjxRjWYjJ/bTvDklYC/2oyGO2oImkx5jRty+t3pA1Wq3lpcU4mFQYH+a2tLiJJGAQaQ9G4Ttu9uEhJEBW4JxhZLEvD3Ag/cfDaejs0ED4d8YcjMH4hvBePbjgI6kYV2ukbULdN6RBeyu3MwN0UNRPQs1hMmIi0y3OkxT/0KzgCgyLsvQsNB2imbSaxbyjB9VsW0KZJiqNlOVc72DHQvtEkbgAomqIoR43jJw4cJEkS3xcuNJlMdi9CtC8hnObQ/9FgJKxmOyfFUgSJewIMKAQs6iTIZ5BlKDzeGQa9JIBR78jLw3FHIWFLRHwhbhEU8LyBC0dO4L+eMgR4uuqUKfTkNoenq06u7k6V5DxddarU+a8b42CH2JaPsAq3LdS41TkymRxWZrYlmt18YhmKJCwQmEaSpOMSzWq1Yt7KHp721abFxrBjwb68RutFvJzlCv+6qaeoAs4yQVADM8i1DLEABEEho5hhaZQqCv0BM2jf0x1FRtgPfg3KsFgsON0VqIkgCKPRlt4ejnDrbOAabKqx2VT2jDxYX3at2YxSzipDkhxZqYN4/OcRBCjSyvERgB73CXuHcZQT9s5wtHXxkMHmLjfovlYMbhdwGq6BsxJ/lfAY1wMFgrCAKW7ntmiCsODLf53nDmx1ZII6GldQ/kqZ0YgUs1rNeE74KuKpLgEODMNgcGCHBBiJYFqThAWmXI6s5OZbLoIOPJLglQCek1Gydgf7GRnSnBkPBymO2YH9+Djjn0GfNqIQkUQMg4hLbNIf8XaxG/a2wY63eLMP8H+oKuCYEAfLGfaIZLFg+hVLBfQo7l24ALs6oNO4emxMAfjdcEdIK2Hj5riDmFPAZAR+HkF7cWNBFyT3x7L0wId+oeDc7dgbO9vrLEMhqsihQoogMTsGWvjdAQhY4UcqnAMBa470riOXhNkuDAX8aiMlOdLE1mpOxb8iKO3kJnqBZHtB8VVrdn3BkX+otX99Ojw+7H0JVQd8DcgJZWgyfl6QhMVsNLGIeURcIfyzdxsSwW4/SBE2yhtrE8sLWsYjDo7DTWF2chQDk8j4cigAxY81gjGnSYpjfREFjEYZHlOICEYiwd3tukAvAxyenqhuiqK4ylEZnwbPcZZFIfyY2jsiEv/11CPA01WnXsUnpYE8XXVSNHXK5eTpqlOu4H/YPDAMOBvStq24zVSwv9HFa0RsFEGBJimGQu/sbSdw9yUIRJPQNHt4CBFnR6WBIDW8UMPLO0y7AMMFizk4DZ98tK6z+h2sfWwJgBmMl7wIFY6uoihEZnHqsG3UbaczbMDBzuYUxYDWOEYJ1tw2SpEkaa4S/BXFdmGuAdvesArHlgNXIEnKjPbGsmUwQXd0PP+squ7vtJt7ac+SeDtOcI5zZGzxiACS0RF5kiQxzlh3KKExw4AZDH4fuAaWZU1GAkxdrnsgIwpMLNA1dDPsn8L1qF85W6Ht221ms611wFz/pqng5WcznsHPBfrnb848DQcILo80tMSRqMXYOjYSqQxyPNkNcphUv5Iv3K9gLTueCTMwmoTt3lW/uoTzOWI5RyTQkX0GsGkBugGee0HXMC1YrWY4GdNVds8gR8H/uowfEHbewUZXgW+mY88BYewygFcgqt/WV4H2ckDJqDfYHj0OoNmg4GYsPFOBlFgLeIBAzUDEl5eVCAXnEhPiDPqDr05VHPWPerf9FvghCHWCkw7W6a+HCTrFHnmNyri346nbYrHAxGhrI1ep/TSko6+S/JrEsTnN0QxiUmxZ/OEWKBgQu15iPoWr+Cd84IeLg7cveoJgOhJNR9yTwiaqHWeOnUS/cchzTkycvxvQsgxle/kBOgUYATc4YmchUZNB3Tg63hEF3Nng9Q8+mTsHBa4CfQbapwjasSfAQcKC6FJO+K/vY+BeNI0WQvDnWMYCwGOXm5vxabYLgFOz94SvNeNr+cLpQ4Cnq06fTk9oi3i66oQq7rSJzdNVp02j/7Y9YLqgT3gtbDMhwDDgSKuvtJT9K16+w4tHtIhHy3HuJb59iWa1AruB5IOfsP3sKDKsNY9438BCDS/XHFfzjteezTK2uywWiyMydusLL3kxPI7mwVerCa+qOZvQFj+IV880/TWiENSHLS6sF7zchzv9mqf42q/w+VggvvCHCHDUDxcHZMuNAs6MoFxsD2MzHrBFCuYSReHjuH6z2QplMBHtIZy2ZPygerudBsQXjGVEhcGFUMAOQTjoieMv0DRhN49tDhS4n2AZOEIENQd8STC/hk84rQXQF+gOkxRYR7/CAV4PAAHBGe2YeMIFPOuC0Q4vDPBBcKqCkx2JLTgC3BP0AbvXD0IdS4VJHGxjY8cfiCLkzkVT+j/7Y1AgFQhsM+xt5CYKQsc9B4th97tBN4FeDYJBK2x+Lg6vUnCrj6AEFeI+fGR0YDIR0oqxLJuakiQRC3OyM5ErsUP9iPonkXsaQ2H2hHsfYIcJ14y9ZuDWcBzKuHW4gK9ynMCxCjixuWHFOcohFduevGi0EZavfkZfSUCbPF9n3Z/rXUXTtoc+9Bb72gDNLVwzkZwkaXXkraCZtt7BAW5vuM0vD76COqDaIyML4MXsoWPsJ/BlDIMckPGLGcf+j8v2UckhaSd8sc+XjbFCnt/2QFGbm7mNF8NKxMMEFkL2hqPDjkrHRB5cCE2AFwy4Br5wFhDg6aqzoOUT0UaerjoRajr9QvJ01enX8XFqIX6riV147NwHMkYcDSfHRaS9BY6Lb/sx/v9vgQA25HD0AXgKfIu6UR2w7HZclx9Zpn+rG53eeoB2tJGPx62ZmDjDKsY96riJystzBhEAn1NMD+Fe+kdQREZGSiSS8vJyPHf9m/kK3xcXHKuFkfJbXuOPZOOP8wjwCJx6BHi66tSr+KQ0kKerToqmTrmcPF11yhV87JsHr4G516o4+4NNaPym0d4IoKvgNPsx/v9vgQDYb45W3JHYmW9xk1+52zje65tUzldyTBDgiapjoghejD9C4EjGot897eDgAI6De86/mQ8xmQsV4q8wUviZ8Hfx5w/yCJxlBHi66ixr/1i1naerjpU6zq4wPF11dnX/81oODvY4nzf34ppLfEURkDGHc5W3BR85iMl7VzmA8R2K8PIfG2aOvgD/8m6/9R2wWnE+4H9ZN3/5cUEAzO/fjWw6LiLycpxJBGDTD8wT4cIfgYEpJBxK9i9JWHw5nl2xuxbcC7u1/pFI/HEeAR6Bs4MAT1edHV0f85bydNUxV9BZEY+nq86Kpo9HO/Gq3VEczr49SkXhsEHHM20ZWFF+HP7veyHgaFB983vgRM7fvGa+wp+OwDfkN396W3gBTjECmI36kzbakxahU6D8d646UqFj7i34CYh7eA7+FxUeqZ//yiPAI3AqEeDpqlOp1pPYKJ6uOolaO4Uy83TVKVTqMW4S9t8BGfF6HfZshoOYqMKFY9ygUyIaTdOwCSPmE7GPzLdqIXawgsSxPG/1rYA9DvVgJxTQMqSs5tmr46AaXgbwY4I+iTd9w3uJwD5uv0UJZ+YmSRLPir897S+POI6CI+wVrpkkScfT/rJO/gQeAR6B040AT1edbv2eoNbxdNUJUtZpFpWnq06zdo9r28xmM6zO8Xod3mBjoxcSWv0md9Vxbc/pkoumaUwtfcOWATWJDT/ePPuG2B6TqvD4PSby8GLwCPwuAhxjbt9g7u/56uI3K79b4Z8fhLkOc1XA1/OD5c9B43/lETjLCPB01VnW/rFqO09XHSt1nF1heLrq7Or+Z7ScYZjR0dGMjIympia81TfLshaLxXHDe4KgGIbl6aofpiKGoUjSSpLWzc31qqqKvLycnZ0t+0aNjnGaUP5v5DKbje/e9WZkpPX391EU8evK/5sK+WuODwLr6+u1tdVFRQUHB3skabVaER/NG+THR0G8JPB8oWl6fX21vLy0uLhwdXXZIbr8dwLMKYqBjWsZhv03rr449A84ry9fvmRlZdXV1en1esd3AzyDz/dSHgEeAUCAp6v4nnBMEODpqmOiiLMuBk9XnfUe8MPbX1BQIJPJnj9/jhgLi6WysvLKlSv5+flg3NpTezBcBMcPF+6s3pBhkK8Bw1CTk+MBAX5yuXR+fu7XttwR0uqfIUVRhNGoT0tLFYuFWVlvoGa46R8F4/yzG/Bn/1QEBgc/+Pn5aLXqzc11e7f5qQLxN+cR+A0C8HCZmZk6fz7Iz89nbm7W3ld/h4UHD1+W/UpUAXX1m1r/7AAQVRBYDVwVTdPt7e1isfju3bv7+/tc/SRUgT1P/6xG/jceAR6BM4AAT1edASWfjCbydNXJ0NOpl5Knq06TimH/IwisOxK84Jg4FpoMuTnwi1+8URHO2YHTfOAoBvyToycU3A7q/Brch+gmmqYIsAco0spyhAjLUIkJcTKpOCc7k7CaDw/2Hj96IBGJCwoKuN0ACagHr+zhK/bDAicsdJBhGYpmGVTA/yiCZBmWJil85GsBKrJ/nrj32AAI3tAKq8beIPS/406LtobTDEbDYjLDQYQbzeATWIZFuKGIGPSvt7dbq1X7+fmQpBUfZFmaogh8hKZJVC1XCdYCYbGiOnHNR8osvbu3ee9+rEjs3NbWgokqVBVNQloZx7bw5b9EAEKK4LQjg91xeNp+4sYLaM1sNJmNJpZhSSsB3YC0ErZ+ghhLblhx9cJ4x8Mfpgg8dhxT8jc1vVUq5cHBgSRpZRgKXOdQXZzR/6ueybLfI9T0L+E6Difg8XtEGMxT0DSNc8YBfc8wjIn7c8QQzsGzIlIxp188GNGI5sa+xWQGXeOxaVO0XQKsXOwKh/sS6A7LA/M81j4+zV7Tcf8fBKZpuqWlSafT+vp56g17NGNlWPtDiqLgHMeR5agaxycdPg46hQsxJthZGMOFfbtYls3NzXVxcUlLSzMYDI6o4csdD/JlHgEegTOIAE9XnUGlH88m83TV8dTLmZOKp6tOk8rxehcKeNntaHKAWeK42sa/ktzfHwGCc2ObzWa4HFcC63jHehyZDoa2sSEMTRJWc3RUhFgkaGttZlnaZNRXV1XkZGdOTk4euS/Uhgk4XLntNI6lAuaFJimbDYapK5qx8SY0Q1oJdBr3Z7FYwH5gGOYr83Xkxsf1K7YnMRTQFkfWADcTmDuGohFj4MDf/ZZUgjMpjlg0GvV1dTUSiSgkJBgoKm5TLJKiCCCYCMJiI60c6EJUP7BUdtgRD+LAWwFrubW9diUsVCxxGRsbceweXBkJDhyco4F3XFVxXOT6Lf3xuzmbUc+xK2h3eychLj47M2t3e8eRsQLeCjoMYjApytHvA+YTrBrMfUMoE0VRlZXlTk6/3L17+3c1C3hRFHXiBt331jTDMBQXGYsnOgw7/GSxWAoKCjIyMr58+YKDpuEnkA1mA4aiHclH0GZPV3difEJ7axtwVTDSgZ4+MnU7NpMgCJL8FYOMnyP4NExy4SPHvIAfiCxLl5QUqTXyaxFXOKKKpGjbnIZ7NbTFsbcDXFAJfiXzu/MVBhbP0izLwtQNl7Ms++zZM4lEUlBQwA+HY95tePF4BH4WAjxd9bOQ5+97BAGerjoCCP/15yDA01U/B/fvc1cwYxwXynjNzbIsfhsPN6dpGi+X8Wl4SY236mMYBvaM+y0tgm/kaCTb1+u0xaxnWZJlSZqyMLQVCixDeHq4qpTS9/09NGVhWZL7CdFJJpMJlvW0nd5CRIvdPwuTGgRBICF/7b1FWM0MTdIUgdy4OC8hzJHBV9xAxzfk30cJ36nWI7F4yA0GuzsBtWSxmDB0R1gDwmpmGcrRxw0Qc8QKcldlZ2c6O5/LycmCn/AtHBWBDtqZKZtzFkcUgsGMCTKGooEdY2jSajV/mZ/RaBVKlXR9Y5nrGMiVhHPA+Vcbb30nuI99tbb+gDWOHdZwgWVpnCCMJCzIvZGhRkeG5TLJzZjr21sboGKKtMJgsVpM6DTOLQePFyAmsDcfRVF41GOITCZTYmK8XCEuKs4zW/TQGwnCYneds9jnBBauxZMMruHUFxyVAlG3DENB53ccqiaTAXasA/wZhlldXQ0KCvLx8RkcHASUsGqwPyx3nGYZynFQ7+/tpKYkyaTivNxs0C9NETBJcndEFwFThgugF8f6TSbT7zpVnTi6CqAzm40HB3sZGWkSqeDxk/ssS1C0mUXeVST2scLPRNxw3HuPeAXi4xxuaEIGLcOQhKEH86fjcYahAgP91Wp1Y2PjGRwIoAj+k0eAR+DPEeDpqj/Hh//1hyHA01U/DGr+Rn+GAE9X/Rk6J+c3WPjiBTS8IQfxsc8UJrPwaZi7wZ5T+AU+2DC/XU9D/MJvzU7HF/6cOQQ8lI2uAt6KZUmDfk8scg69EDT3eQplBSFMwFhh1yGw5cCEw6a42WzkbG9bqCBqFxdaSBIWsMSOkFOE1YzjEFHQIOK8WIhsAtIN8kA74nDMVQ1QHKGoAKUjljAGkCKtwER8Zak4Ig8oCdu1dmaQZWmr1Xx4uH///l2FQpabm80wlNVqxooAagmzV44eW79y0nF0qrJ7dXHaIWdmJyRSQciFwL39LYI04Zq5AtIO2MbHXBHHRDw8NGx65Hx0wFPHznd8DfD8SjUyVF1ttUjo8vjRg/29HbgWfdoDdW3jCH1FXAawEsBfHLHVwQEHXIF2drbu3Y8VS1wam+qAiMT9xC4eku+YQPdTxHAcpI5lB0bPFpIG6sNCfvr0ycvLKzg4eHp6GqsDwHQIzf4Vl01YzSRhMRn1Dx/cE4sE7W0tNEV8nQ+5SQB7EjmSU3BTcIJz1Bd+CkCsInz9rWcflvl4FrhnFm0wHD55+kAkdm5te8uwVoa1Al1F0Yio5f59FR+Dg5+h8OBwHAscDrbEfzAqgfeH2hzpKjhiMhnc3XVeXl4DAwNf78Q9nhy/8mUeAR6BqGw36wAAIABJREFUs4wAT1edZe0fq7bzdNWxUsfZFYanq06L7tFSmyStOKprdna6t7e7u7tzYeHL4eG+fS2OXgKvrCx1dLRNT09SFDE1NTEw8P7du97h4Y8Wi8nRlAIviYWFL+/fv2tubhwYeD8/PwcUBklaaZpcWVkaGHjf1PR2ePjjzs4WZjdQ/hrOnYoizYcHOwvzs329nZ0dLbMzEwMf+kRCp4hrV9ZWF1mWnP8y093VNjz0wR4LZp2YGGtra1ldWzRb9LOfJ/vedfX2dU7PjIPXBpgTnLVAE1bj9tba+NhwR3tzZ0fL2OjQ0uKc1WLA1Nj+3tb42PD7/p6uzvb3798vLS1hu+vXjgknogsgUxErkWVpvf5genqyr6+nv79vYmLs4GAPfoUO8Hl2sr2taXHhs8WsX11Z+PC+t621cXZmgmVJwmrUH+5OTY42N9V/HOxfX1uiSDO4dezv74aHh4nFwt7e7oODvenpyZ6eruHhj7u725gFA2KLZem93e2hjwPtbS0DH/rX11awkw44uEFissmJseamtyOfhmZmJ+rqK0VipwcPb+sNeyxLmsyHK6sLnz4Ntbe3dnd3z83N7e7unkC9/JzOg105QOnAekDZbDbOzk4PDn5ob28dGhqcnp4kCIvRsL++ttTb03Hv7i2J2OVmTFRba2NXZ+vqygLwxRRpZllyc2Nl4EPfu76urq6OoaHBmZkpx15H0+TS0sLo6Keeni6YDQ4P9wnCcni4H3b1olDkNDL6EXHQFKrq8+eZurqaoaFBrgZbdCHHgiHHyLP25zivOpZhjl1ZWRoaGmxra+np6ZqamtDrDxiG2t/f7erqePMmXaNR+fn51NfXNjc3Tk6O2/ksNNtvb29OTo53dLS1tjQNfOibmhzd2V5nWXJw4F1dbWXI+QCxyDkjPaWluWFsdMhi1pOEiaGtZtPh+vpqY2NDX1/PzMzUwcEeiIS9HZeXFz9+HGhra4ETDg/3MXGDp9DfOtseZ53a5acXFr5ci7gikQq6ulu3tldnZsfb2hsHBt+tbywbjcgx0J5Ckd7e3hwbG+nq6hgYeL+ysgS/4uEA1LDBcLiw8GVsbKS9vfVdf/fE5Mj8wix+AEFBb9ibmZ3oe9fV1d02Mvrx08igWq08f/7858+fATGQzS7hcUaRl41HgEfgByHA01U/CGj+Nn+FAE9X/RVC/O8/BAGervohMH/3mzi6M8zOTicnJwYG+stkEo1GFRoaUlpavL29CdYsQViePXsiEglSUpLKy0tv3Ih2ddU4Of0SGhqSnZ2JF+UEYdnb26msLI+ICA8ODlQoZD4+XiEhwf39fSxLHx7ul5WVxMbedHfXqdVKNzfX6OjI7u5O7MdBWI0sS87OTCQnxZ0P9lfIxa5a5cXQ4GvhlyVil/v3Yg/2t2nKUldbKZUIIiPCOHsJuUBdvx4llrhkZqXlF2Rfi7iidVX+cu7/C792ubKqFHysOChpijSXlRZGRoR5e7kpFRKFXOymU18Nu5j2Oslo2GdZ8uNg/+NH9/z9vNx0apHQKSDALyoqanBwkGEYo9EItoGDS9d3V9C/vgGiIzG88/Nz6emvL168IJNJtFr1hQvnc3Oz19dXMan0+NE9mVSYkhxfV1sZdiUU8A+/eml2ZuLT8MCTx/eDAn3lMpGHuzY6KvzwYAcs1YWFL/7+vkKhS1lZyb17d3x9vRUKmU6nffbsycTEGKYjGYbq6+1+8vihr4+XVqNyd3O9Hh3Z0tyIJORculiW/jT88dnTx0GB/kqFTOeqiowKOx/iLxI7paUnGYz7Fquhrr4q+vo1nU6rUMhUKlVwcHBcXNzy8jJvtv29rvKVvnSkrhYX55OTE/38fNzddVKpWKfTXrlyqaGhjmWIyooSschZKhHIpEKR0EkhF3u4a9/398BQ3dpcLS0piIwI8/F2Vymlcrk0MNA/IiL848cBoDLNZmNLS1NMzHU/Px+lUq7VqoOCAurra2ka+c256lRu7pqNzRWaQWG/2zvrV69e0em0dXU1HFf+la4iiLPoZoUpKlyArHB7eztFRQVhYZd9fLwkEhFHZARlZKRtbW1sbq6r1cr/83/+L4lEJJGIXFycJBJRaWkxTIMURTQ3N967dyc4ONDTSyeVCHx9PK6FXy4qzDUa9iOuXREKzoG6lQqJSOh0MyZqYx0F4e7tbpaXFYWEBLu763Q6rbe3Z1pa6uLiPBAxOztbpaXFYWGXvb09QZ7Q0JDU1OTt7W3sUgSOtCdunFosFooiVleXvX3cVWpZUXFu6uuE4PN+CqVYrhDH3r4xOvqJm2NR/xwe/vj48cOgoACtVq3RqKKiImprqyG+Fefv29hYKy0tvnLlks5NrVBKtK5KL2+3axFXlpa/MCxhMh+yLLm0/OV1WtL5kAA3d42buyb0YnBUdLhCKYmOjtzc3AQMsa/c3xv4/Fk8AjwCpx8Bnq46/To+IS3k6aoToqjTLiZPV50WDdNmi56iLWvrS0+fPVSpZbfvxNTUVhQU5qjUMplcVF1TDpllWZaMiAyTSAWeXjofX49nzx8VFObciImUyoSXLofML8ySlJmiLds763n5WUqV1MfXIyHxZcPbmqLivJu3ots7mvWGvZLSArVGrtbIM7PSqmvKX756KhQ5XbocMjE5wrAEmKyfZyfDr14SCs7djImqraloqK9+/OiezlUllQiSEl+ZjAcWs76wIEcsck5NSQC6zWo1e3l5iCUu/gHegUE+8QnPs3PSb8RECITnrt+IWFlZApvKYDjMyc7QuSr9fD1evnhcU11WXVUafvWiTCqIjrpKkaatzZXLl86LRU6xt6Jrqsuam+pTU5MvXbpUW1vrqO7fZuFx/PVYlaHhJGm1Ws3r66sJCXHu7rrIyGs1NVXZ2ZkBAX5KpbygIA8YJZPJcD36mkop0bkqAwO8Xzx/lJX5OijQRyQ8dz7Yz02nunQxuKgw5+GD20qFWK2S9vV2gvE8MjIsFLoIBM5eXh5JSQlv39ZnZ2cGBweKxcL09NcWi8lkMhCEZXZ22sfb3cfb/fmzRzXV5akpCSKhk4e7dmV5nmVQIpiPg/3BQX5SieD5s0eNb2vLy4qePL0vljir1NKq6lKj6aC9o9nbx10qE2ZlvWlqeltTU3X37u2YmBjwOMAeHMdKBcdMmK/cJaaq9/Z2UlKSJBLR1atXiosLa2qqsrLexMbefPbsCeddtVhUmOPpodWoZfFxzxrf1rzr69zZXmNZYmtzJSU5TquRh5z3z8t909RY+zotyc1d4+ml63/fw6ItBI1l5UXuHlqtq/L5i8f1DdWVVaW3Yq+XlRexLDk2PiyVCc+H+G/vINceg3E/402qUOiSmBhvZ8lRtmn7HmrHDMgfIg5mqRwLFoupsbFBpVJ4eLilp7+ur68tLy998ODezZs3FhY/b++sl5YVxt6+IRI73713q7Gprq29aXllHjwTKypLPDxdPb10z54/qqmtKCstDPD3ksuExUW5JGEcHOhLSY6TiJ19fdzLywo7O5qHh96zLGE07GWkJ6uUkithoeUVxYVFuX7+XmKJS15+ltmit1gNjU11wDymZ6TUN1SXlhU+enzvxo3ojY0NnPrQrseT5yVHktbh4Y8KpeR///P/XLwUHBTs+yYzNSU13tvH/X/+9//Ozs5kWdpsNi8uLgIJ9ez5o8qq0oTEl3KFWOuqHB0bwp5Ti0tzj5/cl0gFFy+dLy7Jb2yqS0p+JZUJgoJ9l5bnuABDYmNz+VZstEIpjoi8UlKaX1FZ/CruqdZVIZa4PHnyyGQyOdJV/KT3QwYifxMegZOBAE9XnQw9nQEpebrqDCj5JDSRp6tOgpb+UkZwtUABVrl5mXKF+OmzhxByRTPW0rJChVJyK/a6yXzIsMTu3qZ/gLdCKcnMSrNYDVzODnSht4+7l7dbZ1crrMira8oVSsnlKxeWlr+gLOmc0wRFWyjaMjL6USIVBAT6jE98gpNpxvo6LUkgPJeUHHeo32VZ8mB/OyH+hVQiyMpMMxkPIKs6y5K3Y28o5OLiojyWJfWHu48e3pXLRFWVpUCX7O/vyuVSN3dNcUm+yXwAi/79gy2xxCUg0GdkZBg8jN421upcVVfDQifGP7GcYBbz4evURJHw3MMHt0nC2N3VqlSIY29FL6LQDIILdKINBoNjSi+j0fiXsB6nE1AUJ8QBVVVVyGSSiIhwkjIDVVFZWS6Vim/dilldXYZgz4uhwXKZsLAg22xCMJKEsaG+SquRB/h7jY4MMrSFQtmjiNepCQKX/+TmvOECuOj29lYXF6fw8LCNjTWLxZZeqru7U61W+vn5APWwv78bFRWhc1U1vq2lSDNNWba31p4+eSAWOVdXldGUxaDfi4q8KpUI6uuqTMYDbOB5erkqVZLOrhaKtjx5+kAgPFdWXsQwFL7R9va2Y/r/4wT+MZTlK10FSZ2Rl9PMVGCgv5ubq+PeiyRp1euRFizmw7XVRR9vNy5z3CTSC2NlGcJq0SclvpJJBXGvnq1ybAiK0l2YlSvEYVcvLq/MWwnjh4E+D09XD0/Xj4j1QJupcWqlScpstZrfNtaKJc537sYQpMlkPiwpLVCqpLdv39qzp8fCpjgUaNtGnccQ1e8lkmMQGXi5gl5iYq4rlfK3b+sxjWWxmIxGPZfcDTmp3bl7UyIVdPe0QzpwBDhhRBOgmzr82uWx8WE4c3Nj+WZMpEIuQrQUY2VoS21NuUh4LiH+hdWi5yZJpOiuzhalQnwt/NLe/hYocXRsSCYXBQX7ra4tbu+s34q9rlLLqmvKYdhStIUgTYjJslgAGuxU9etkhd8Lt29VL0Uhco0kycbGBrFYGBDoM/xpgGUJhrXSjKWpuV4qE0ZEhlEUcXh4+ODBPbVaWVCYA0+9nd2NlNQEkdg5400qBLqubyw/eHhHIhWkZ6SYzIfcaURvX4dI7HTnbsz2zpqVMBCkMSU1Xq4QvXz1ZP9gC+7FsgTHagmTkhJ+mz4MD5Nv1Wq+Hh4BHoETigBPV51QxZ0+sXm66vTp9ES2iKerTqTajgoNOWLJ5aUvwUF+nh6uM9PjkD2Koa0T459EQqcrly8AdzD3ecrH293P32v28yQsvsEhIiDQJyDQZ3RsyEoYN7dWI6OuiiUu7z/02q1TGmKCWJa+ffuWXC4tKiqAsBSwxMAxJyoqYn9/l2XpgQ993l5uly6eh+Q44HRjMh5cCAn09HBtb2tiGeJgf/vK5QtCwbmRT4NgHY2ODYGRvLD4GY6AZ4dUJgw+7z/3ZZpmrOsby5FRV52d/nd8bBjlD0buPLTJePDwwT25TAREWFFhrlBw7tXLp7A7IU2hMBDADKcQPkGuVZzktuCvnZ2t8GuXta7KoeEPDGsFDS4sfhaKnEJDQ2zgD7z39/MKCvSd/zID3YBlyfKyIo1a/vTJA9sRhrCY9YkJL6USQW1NBaCdnZUukwoT4l9YzHobw8gQG+vLEDkIqmxrbdS5qq5fjyIIiz08k0xMeqXWyLJz0hnW2vC2WioT3n9we39/F6IXaca6t7+l1siDgv3GxofNZuOFC+ddXJyGhz9C57EHOaKG8jbb0cH9e98xSg4Fqre329PT3cfHC/C0o4omB44NIT9+HFCpZWFhl1fXFrlfUTa0d/3dGo3qWsSVqakJzvCmGZYALUdFXl1bXbRaDLdjb0gloprqSkSYcrsHIs6F252TZdjsrDdCkVNySpzRtP9hoDcg0MfTS7e4NMd1Kpia4PP3WnI2jjmoyeaURBCWjY214OBAuVz6+fMMcFiOcZ0kaV1dXQ4LuyyXS8fHRzGrOzc3Cwnmhoc/oiyBiMUmpyZHLl86r3NVjY6g9GEMbU1PSxaLnNNepxBWI01ZYFOLa+GXlQpxe1sjQZrA2ZakzC6CXwICfT7PTW1urV4IDRJLXKZnxmFCAL6GK59wPTFoEFAEmZebLRQ4JyXGc90Y7QRCWI093W1ikdP9e7dYlnzX1+XlqQs+739wuIM9hSsqS1wEv8TFPweOr7KqVChyevDwzsrqAvZZrigvFoucH9y/bdCj3HwjnwaDAn29PHUwggBPg37vduwNtUpWW1sNgOI9Fk/a8+iE9wdefB6B440AT1cdb/2cIel4uuoMKfs4N5Wnq46zdv62bGBDkh3tzTKp8Mb1CP0hcnGCfx/e90rELlGRV9EymiH633W7apWXLoesbyxja2RldcHL2y3kQuDsZ+R20dvXqVRJw69d3thcsddjMztXVpb8/X2DggLAWKIoAvwC5ufn5HLplSuX1tdXrVZzVmaaQi7Ozkp39K+Z/zJzISTQx9t9fGyYZcmN9WUPd61SIfkyNw2+A23tTTK5KPb2jS0Uo8TtKshYl1fmZXJR9PVrW9trZou+ta3RVaeKjAg/4HgxzmymNtZXb91EFnVHezNFmtvbmjRq+cXQ4OGhD8BYsSwKRzqCJ7Yhjxw/ll9t3jQDA++lMuGVsNDdvQ37tlbEzOyEVCYMDQ1ZX19FiaX6etx06gshgZsbNvVRpE0jOdkZNoUyhP5w9/GjexKxCxcMiNB+cP+2XCbKy838mrGeIVaW5y+EBKqU0qXFObPpMCU5XioRQOChjWyiLamvE8US54w3KXrD7vMXjzRaRVV1GXj9AMs5PTMulQnDr12eX5g1GA5fvXohEDg/eHBvf3/XbnIjlxveZvvv+h7n80JPT0/6+/uqVIrGxgaD4RAYENAClN++rVcq5Tdv3sB7L+j1B8nJiQqFLC8vB+cmo2myprpcKhHcu3vLYtYvLnz2cNcGBwVMjI8iL0jEEbMsg7bcRAWaefjgnkB4rq6+cnVtISjYV+uq7O5ph5hiuK/9879r3Km6CvvUUBSxv797+/YtkUjw+nUKzncOHpQwqc7MTPn7+yqV8q2tDcCQoojGxga1Wnn9ehQ4ryGGiyU+DQ8E+Hu5apX7e1swwGNuRMtlkrraagvaVhWN7s+zkyql9GJo0ML8DNDcDEtsba/J5KLzIQGf56a2ttfu3rslEJ5LTokHsgYu5E4+4VrgOippJZ4/fSYSuhQXFcBumAyNdgUpLyuUSlySk15ZzIfZWWlqlTQx6RUwUwxLWKyG4pJ8ocjp+YvHyHH4cCfmZpSrTlVdUw4PUGCswJs4OyudpiwWs766qkwhF7988cT+ACJZjvqPiryq1Sj6+vqAmsd0FX6PcsKB5sXnEeAR+AYI8HTVNwCRr+JbIMDTVd8CRb6Of40AT1f9awiPQwWcAwVt5QLinO7fi+3t6WhrbWxrbWxva3r18qnA5ZfHj+4Bc1RVWapRy2/fiYFcsAwKiCCGhj+46lQRkWHAE6W+TnR2+U9hUS4EgyAuiYtEoyiiu7tTLBbGxFwHRx7swTExMSYWCyMiwre2Nra2NmJvXRcJnYCWsvEjXEojfz+v4CC/ne11mrJMTY5KJYLzwf5bm6sQb5iVnS6VCRMSX1qstg3+GJbo7euUSAX37sce6nfNFn1ScpxQ5FRYkGe3gWmWoWZnpq5cviiXSZYWkU+H0bAfdiVULHKWiF2Sk+I+z07q9Xqsp9/yVvinY1xAKqZpsqysRK4QR0WHt7Q29PZ1dHQ2NzXXZbxJFQjP3boVs7eHkqaXlZUo5OLr0dewpXSwv/3i+WOJ2KWzowWcL8B2iowIk0mFABpNWQIDfDRqeWvLW9gnDnzivsxNu7tpPD1ctzZX11YXw69eEgmdSkqKOjvbOzvbm5sbq6rLIiLDxBLnt401i0ufz4f4e3m7cTtkIZnBA6u7px1crnZ2NyxWQ9+7roBAn3NO/xMUFFBZWb6yssQwFJBfDENxEY7HWBXHRjTMtwJdZTAcpqe/VquVQqFLdHTku3e9h4f7MHIhijYtLVUul8bFvYSxQ9Pk8vJiaGiIRqOampqAg3B+fNxzuUyUnpbMsmRba6PA5Zfnzx5xbiM22hrRVLBVJUOhhPoqaV195cNHd1x1yrz8rL19G2liH6THBrKfJwgOo7OLgLb2a25u9PR0F4sR11xXV7O+vgozKoyFnp4ulUrh6+sNSqFp8vBwPyEhzsnpl5qaKsCWGyxkU2OdUiEOCvRBAdQMQViNWo1CrZINfXwPflUsSzY31cllwohrl2uqy7q623p6O1pa3xYW5YrEztcirqxvLJOUubmlwdNLJxI7h1wIrG+oXltfgmBDu8wn9n+OrrKYjZcuXpBKRL09XfBUgnDm+LhnUolLVWXJ/t7m7djrApf/pKUnd/e0d3S2dHW3NbytibkZJRQ55eVnMSwxOTWqc1NfvHR+7gt6ywL/GNp6LfyySiltfFvLMsTuzkbcq2fOTv/b0d5sO4dBepmZHg+9EOTp4bq4uMjtkonSusMoxmP5xELMC84jwCPwzRDg6apvBiVf0b9DgKer/h1+/NXfCAGervpGQP7casCGJG/GRLk4/0cmFQoF5wQuvyjkYigr5OKc7AyI8EpMeCkWOScmvbKtszm6quFtjVIlffDwDvBE0devqdSy9o5mmrHaXiAzFPAIxcWFEono2bMn9kAwG43S1tYiEDg/evTAZDJ8npsKuxKqUkr3djfRXRgCIsva25pctcpr4ZdJwmS1GMAX7P692L3dTZpBcW0PH92VyoSFRbm2JT5nDBSX5MsV4pevnprMh1bCGHMzSq4Qv+vrQdYaQ4HN/Gn4o6eHm0atNJsOzSa0JdPK8vzzZ488PVxlUqHOVVVcXGw0GsF5B29x9XN19g/vjnBmGOr5c5TVXioTCkXnnF3+VyR2EorOyeQiF8EvSUkJRqOeooi0tFSI6cOW0ubGyq2b0SKh09znKRTdSZph38YAf29XrRJ8qfSHu2qVzMfbHcVmchnTUdggQ0xOjIhFzmFXQo2G/cmJkcAAH6VCIhYLBQJnmUwiEgmkMqFAeE6pkvT2dXwc6vfxdT8fEsCRoTZqgySt+QXZUpkwPuEFdDArYWxpffvw0V2h0EUmk4SHh3V3o3TvLEvbfXz+ITxn7HTwxcAmLtBVDEPt7e2kp78+fz5IKhUrFLKEhLjd3W2r1cwwlNGov3//rlQqLikpAqgpihgfH/X0dPfz8zEYDiHcjCAsRqP+evQ1nauqrraSZYiszDSpRJCfl8WFkdp0iukqs8mgkEu9fdzLK4pcdcqQCwGTU6MMS9gDjeH8M6ae32vub+kqlqUh23pk5DWxWCiViiMiwufmZoGxoiiivLxULBbeuhUDY59l6Z2drejoSLlcOjExBgwvQaB8gkWFOVKJS9yrp1y+P3J3Z0MmFYacD0DZ/VgSpt/cnAyBy38kYme5TCiRCiRSNHKVKqlAeO7e/Vh4UWEyHza3NEREhglFTnKFOCIybGZ2gvMe+r0mnaBjnD/g/t6OVqPSuWpmZ6ZgimNZ0mw6vB4drpCL+t91bW4sXw0LFQnPSWVCscTll3P/HwDlIvhFrZG3tjUi9ra9SaNVxN6+YbbosZPawf62n6+nl6eu/103Q1u3t9aio8JlUuGXuWmYbEEF/e+6PT1cAwN8OJ9TmzMpHsUnCE5eVB4BHoHvigBPV31XePnK/z4CPF3197Hiz/yOCPB01XcE98dVDTYh6aZT+/p45OdltbU29nS3NzfVt7c1tTQ3dHW2zn2eIgmTQb/36OFdV60StvSCKAaasebkvlEoJa/TkuCIp5fOw9P1/Yde+AqfFG1hWOLFyydqjTw3L9OebpkEAiIvP0sqE6ZnpJCUeXRsyMtTF+DvRSAnKYJ74W8lCWNBfpZMKnjy+B4cyc/LlMuEKclxBv0uRVsMxv3IqKtKlbSpud6Rrnr56qnWVVlSWkAzVqPpwM/fS+emnvs8A9Ec6JOhurs6REKXwAA/uBDStezubHwaHnjy+L5I6KTT6d6+fevoV0VR1G8MyB+nsH9+J1uq9ZCQYLlCnJae3NHZ0trW2NrW2NzS0N7R3NL6dnJynCAsW1sb9+7dkUoE1VVl2FJdWpy7GBosEbsc7G/jg+/6ujRqecj5AAQaQ3yZm+ZihYKB0sJINjXWiUXOz589MhkPPrzvdXfTBPh7NzW9bWioa2lpamp629zS0NhU19zSYDIfNjXXe3i6xt6+QTMoqw44iVit5vsPbiuU4rz8LDuLgdJ1r28sV9eUX4u44uLiFBjov7KyBDQK50vyzxE6S1dA14VIIvtObYhQZhiKICyjo5+yszOVSrlUKn79OsVkMjAssbm1Gn39GqJ6+7uxmd3V3aZ1VUZEhuG4YIq2zC/MRkaEuWqV/e+6WZa8d/eWVqOoqbal36YpC6Q/Y2iSocnlpQWJGEWnfhoZvBp+SaNV1NVXobmCEwYUepY084dtxawETdMUZVMWeL0tLS0UFRWEhASLxcKwsMs7O8g3zWzRp6UnC0VOmVlpNGOF+XZre83Xz9PL2211bRHP3nrD3quXT5yd/qe0JN9q0VOkeXxs2MX5P1GRVxcXUBJAkjAxtPXe3ZsatSwh/nlTY21L69uGtzV19VVvG2tb2xo/jdiyB8KoX1r+UlCYcyE0SCR2vnQ5hPOV+8N2nZAf0CPyy9ysRCy8EBK4urJgdzoj9Ic7vj7uXp6u01OjC/Mznp5qtJ1iRTEg09HZ0tzS0NHZ0tL6dn1jmWXJvPwslVqWkPjSntURTWUz02NuOlXohcCZ6TGWJdZWF/x8Pby9dPt7myRhRHnW0e4ERF1tBefgdoUbFywmnXHfOCFg8mLyCPAIfF8EeLrq++LL1/63EeDpqr8NFX/i90SAp6u+J7o/rm7CivxlJGKXoEDfifFPhNVIEiaassA//CZ5bXXxathFidgF9qcHG9VkPnz+4rFKLaupRSm3GZYQipwgFzsydShUM/5381a0RquAM7GJy7LkjZhIuUJcV1/FsmT/+x6ZVBB+9SLmqmAP9Vcvn8ikgoL8LDj+6OEdscipID+LIk00Y11a/hJ6MdjdQwu2ExhjVsIYERmmc1N3dbexLLm1vaZSy/y0Wg8FAAAgAElEQVQDvNdWl210FUtbLabKijKBi9PDB/cY2moLZONktloM+3tbSYmvnJycYmJiHLMjnSiuioUdAFmW9vBw8/P3GvzYD0lVGJYAOxb5wXHBWWtrK7GxNyVi4cfBfsxMjY0OebhrPdy1OMqPoa0V5cVSieDhgztIuQzR1dmqUkpvxkStrS5idQNbIRScKy7KM5sOe3s6REKniGtgbqHgRO6mqHtAPykrL5IrxK/innE1IIqNYSiDcT8iMszNXY2JSKA4acZKkKbhTwMXLpz38HBranprtZrt4aU/buycxDuBfQu7s9l7ss3viSRRT7BYTNXVlVKp+MqVS1wmb3JmduLylQsqtWxxac4e4UXW1FbIFeJHiEFGSoQRPTE5EnI+QOeqArLjYmiwp4crhJHaIkltEwK647u+HoVcGnv7xv7BdkVliUjsHHv7BsqLB6GCnMfcSUT4m8tM0zRozV6w6Qu5R3EZAD986Pf0dPf19W5paWJYwmg6ePzkvlDk1NhUh2fahcXPcoX4fEjA7h7nuMopYm9/6+6dGInYuauzhZtayc6OFpHQ6dnThxvriGGBf1fDQt3d1B3tTdyuoF+ndDx4ScoMbnEUbaEZ68DgOy9vNx9fj+bmxm+Oxg+vEKHd3dUhFgnu3I7Z2V7HdNXG+pJU4nIt/NLK8pfpqVFn5/83/OpFs0WPRwTMbFbEOiHQkpLjZHJRHnqKoa/wnOrtaddq5BHXLm+sL7Es8Xl2QqWUXAwNMhr2YFtGlkEvbDLfpHJJsuI4dzlb0n2gm384IPwNeQR4BI4vAjxddXx1c8Yk4+mqM6bw49pcnq46rpr5p3KhyDhXrdrdzXVs9JPdqcFmEYEfBMvSU5PjoRfOu2rVkC0ITtvYWIuKitBoVB8+9EOiX1dXjbe356dPQzj3ENhLNGN98fKJUiU9slgfGx9WqWWXLofAllL973uUCvGli8GcXUTQiPAiYKt1mVTQizZlR2+bQy8EqpSS1pYGMLE+fOj39fX29/ddX1/FwS9raytBQQFeXh4gzObmulqtDAz0X5ifw23c39tJSoyXSkRcQivODONi2TBJ19XZKpPJoqOjWZYlCOIkmgdASVgspsBAfx9fj67uNuzd5mA1IXVPTU0FBPjJZZL1tRWAiCKtba3NUonoenSkDTSGMpsMSYnxIqFLfl4OR/yR+XlZMqnw5YsnRsM+1EmR5uWlL65apbeX29DH9wxt/TjYr1JKQ84HQOAYRRH22D10a4ahystLJRLRo0cPcMokkrR+mZ8JuRDo7eP2aQRtHo9tb7CKKdpy5+5NtUaeX5DN3Rfl9Pmnvf+snY+JD5z7hqZJO9NnG/Xb25tyuTQoKGAeDRZEInv7uGu0CoNxHzLWsSxZ31CtUEru3rsFNjlsGNfd065Ry4OD/MymQ4a2xtyIdHfT1NdVORLBkKOaZcmiwlyVUvr8xeND/a7esHc+JECplPf0dDmmeD9r2vnd9tpZKvwjDRABr0dRhNlsDA8Pc3Nz7exsZ1ly/2A79GKwWOIy+BHxzkAmzi/MKlXSwCDfzS1bvj+WJReX5gIDvOUy4cT4MJpLGSI9LVkoOBcf9xzT0xazPvZWtEYtq6utYGgLQZpo2paREA9VKOBQRJPJEBER7u6ua2trwUKf1AKXezE/L0cqESUlvrJtRcLlk3rf3yMWOT18cHtne+3L3JRaJQ0K9FlbR9n08IACp0XIHpiWlqpQyN68SQdemJtRyeKiXLVKeuf2DbPpgOGcrZQKcch5/y20VwnyL2Zoy97uxuNHd6USF5TfCiUiRJtL4PF7UoHl5eYR4BH4DgjwdNV3AJWv8r9BgKer/hvU+Gu+OQI8XfXNIf1JFSIbNfZWjFwmKSku1B/uo2U0FyhHWM0mox7t58XSfb3dXp7uapXCbDaCmcQw1Jcvny9cOO/qqpmZmQI648aNaIlEVFRUAE49JIm8YKyE0WzRl5YVqtSyBw/vQDZlhiW2d9aTU+JdBL9kZaebLXqGJUZGP2o1ck8Prf5whzOfrDRlnpkeuxASIBE7Q7jE/t6mu5vax9ttbPQjxyvRb9/Wu7m5hoQEm81GHEk0MjLs7+974cJ52Ov94GBPp9PqdNrJiTEUR4N4DXp9beXWzRsyqbiutpokTGuri2bTIeQKgUCYzDfpAoEgPj4eZ63CpsJPUtZ/c1sukpF+8eKZSOycnZNxqN+FfdbBwcps0QNzNDQ0pNFoNGql1WICBzSL2VhRXurifC4xAb3VR7wSTR7s7z64f1csEjQ3vQW6KiH+hUjolPnmNdjGyGDe20pNSZBJhc+fPQID7/Ps5MXQYKHg3JcvnzEfQdMkZD5iGKqurkajUYWHh5lMBuxf093T7uvn6efvubA4azIfzC/MguTAWy0sfr4afknrqhwYfMeypJ3/+m8gOlPXYPqDoiiSJHd3t7e3NzEDQtPkwMB7FxenGzeiOf6XbGl9q1BKNFoFwA50Z3dPu0otu3jpvMVqAMbKZD7Myk6XSYXRUeEQ9Ae5q+LjnpuMB3CEZUmT8QClPGOIVy+fSiWCrOx0liUJ0pSbl+ni4hTNEaPAaXJd7kxp5vcbiwO+GIYhSVKvP1hbWwFChCStFEUsLy8GBPj5+HgNDaHQvPWNZaVKKpOL4B0A0FXbO+ueXjpXnWpmdgL0xbLk+w+9SoXYTafa292gKTNDW+/cjlEqJGmvkxy94UpL8kXCc8+fPUQuP9w8AIzVwcEeQVj29nbW11dhzAIRs7S0EBwcGBDgx73G+P1GnZSjkOIw7tULqUQEaRyx52lRIWKaXjx/dHiwvbG+FBlxRSJ2GRz8gFk8SKhntZphcBUW5qtUigcP7lksJng+7u3tPH3yQCEXvXj+CMippcXPOlelm061MD8DR2jKvLw0FxUZJhT8wsXY2ugqPIpPCpK8nDwCPAI/AAGervoBIPO3+DsI8HTV30GJP+e7I8DTVd8d4h90A9psMrS1NkPG8aLC/PGxkZnpyff9fc+fPam1byP1tqFOIZdGRoTjV+g0TY6OfvLwcPP29tTrD8CMaW9vVakUOp22trZ6ampiYmKsqbk+MenVyurC5taqzk2t0SoSk16NT3waGHz37PkjpUoaejF4YRHlSYG3/bG3rjud+5+4V88+DvZPT41VlBeHXQmVSYVymcho2CcJ05e5aVet8mJo8Jc5tL8SSVorK8uFQpeXL59DZmjw1unq6nB314WEBIPAev1BcnKis/O5u3duTk6MzEyP19dV3bgeoVJK5TLR2OjQ7s5WfNzLmBvRNdWVHwc/tDQ3xse99PH21Gq1/f39WBUnbtdwu8D00NCgTCZxddVkZqWNjH6c+zLd29cZH/+qoqKMYSiz2djV1SWVSkNDQzCdZDAcJiTEyWSSwsJ8bIPt7+8GBPgpFDJwWzMY96OiwxVKSVz8c1xtXPxztUZ+PgQlzwZ2w2Dcf/7isUwuioqKqK+vnZmZmpwcr62tjo29uby8SNPkp09D4eFhAoFzSkrSxMTY0NBgfn5uULCfTC4KvRhkMh+OjH6Mvn7tVdyz1rbG3r7OuvqqGzGRCoXs8uWLev0BmH+crrGu+MLvI2DvEmjw0DRdXFwYHR1ZVFTQ0tLU0dFWWlocEOAnlYpLS4s5BpDs6e2QyoQaraK1rXF84hPodGp6LOzqRZlcFJ/wYnzi0+jYUELiS28fdyAugZyamR531SrVKll2VvrIp8Evc9NNjXVxr56trS5aLYboqHCVUlpXVwO6Gx8fDQz0l8ulo7/y8fz9JpydozhLEfamGR39FBISnJAQ19PT1dvbXVxceONGtEgkuH//rl5/wLDEzu6Gzk0tEJ57nZY092V6YnLkUL97qN+FCMGbt6L73nVNz4yXlhUGn/eXSQXRUVcP9rfB6+3Z04cCF6dr4WEDH/pnZ6ZWludZllyYn5VJhR7umuSkV4ODH2ZnpwcG3mdkpKWnv6Zpcmho8OrVK4mJ8e3tre/e9ZaUFF2/HiUSCWJjb0Je8BOuLETTXwgJ1rlqmhobuMccF8pHW9PTkqUSQXYW4luNhv2iwlyh4FxoaEhtbfX4+OjExFhLS9PDh/cnJsagh4+MDHt6usvl0ry8nPHx0ffv3z19+thNp1bIxbU1FfCaZH9v69HDuy7O/4m9dX1w4N3oyMemxrrwq5eUColUIuAiNG2uVSccVV58HgEege+CAE9XfRdY+Ur/OQI8XfXPMeOv+A4I8HTVdwD1p1SJluNGw2FZafHF0BA3nVYuk2g1KjedNuZGdE93J00RRsNhTnamVCJ68fwppi1Ylm5paZJKxZcuhULeX9h/KivrTUhIsFarFgicNRqVt4/7o8f3YP++9x96r4Zf8vJ2E0tc1Bq5r5/njZjIuS/TkBAH0hK96+uKiryq1SiUConOVRV+9VJS4itfH4+gQF+wgbu72lRK6e3YG9tbazRlOTjYS0yMFwic8/JygDKDz/z8XJlMcvv2LQjEsFrN4+Oj165dddUqxSJnhVx8+VJIYsJLF+f/+Hi7Ly3OmYz6nOxMby8PuUwilYgUcqmHu87fz6empubg4AD2DocE1T9FSf/mpmazGd7zV1SURUZec3PXSGVChVLi4ekaHBzY2NhAUQRNk8XFxU5OTklJCbCTI8vSh4f7sbE3xWJhD9q+3bb13uLivFgs1Om0q6vLLEsvLy/GxT/XuanlCrFcIZZIBa46lbuH9kZMJGYhScpMM1aDcf/xk/uurhpXV41UKlarlUFBAXfuxOJE6fX1tcHBgTqdVqmUa7XqmJjrT58+Vmvk9+7fYlly7st07O0bbu4auItSJfX00kVEhE9OjoPGjUY9V/g3UJ2JayGmFZNWJSVFgYH+Wq3a1VUjkYikUrGPj1daWiqE1lqshsWluUeP78kVYplc5OHpmpefBWl32juaA4N8NVqFUiVVa+S3Yq/H3r6hVEhqa1AmO5YlLWZ9ZUXJ5UshKqVUIRdr1HJXrRJG7sry/OVLIf5+Xh8/DsCUsr+/m5qaLJNJUlKS7KrkLXNbh7RYLLhrfvo0FBER7u3tKZWKJRKRRqNSq5X3798FN1JItZ6SmuDt4w7T7NNnDze3VhmWmJgcuRV7HZhHnZv60uWQtPRkgcsvCfHPDfo9UNngwLvgoACJWKiQS4ODAqanJixmlIyp/113UKCvu5tGqZRLJCJPT3d/f9/KynJ4aXHlyiVfX2/YrFOrVYM89oGJBT+RBZoiVleW/Hy9AwP8enu6wJ8UXM8uXwoRCs61tryF4PGN9eWszDQ3N1d3dx0oJSDALzo6cmpqAp5BLEtXVJR5e3sqlXK5XOrr633v3p3oqHClQvK+vwfqNJsOx0aH7t+LddOplQqJu5vmQkjgm4xUdzdNYIDPwf7uiQSRF5pHgEfgRyHA01U/Cmn+Pn+BAE9X/QVA/M8/BgGervoxOP+Au0CAm9VqnZ2dbWxszMzMzM3Nra+vX1hYgLtbLJbu7u6UlJQPHz7QNHJogkxVHz8OpKe/rq+vdeSwTCbD588zDQ11aWmpRUUFfX09Bwd7OHRlcXG+oaEuNze7tLR4YOD91tYGprrwmn5ubra4uDAvL6e3t3t+fm57ezM7O7OyshzuMjIynJaW2tzcaLWarVaz0ahvanr7+nXK2NgIrookrb293RkZad3dnbha4FYqK0pysjPKy4omxj/1dLcrFZKrYRc3N1Yo0np4sDc5MVZXW532OiU5KaGhvnZx4YvJZGK5KrB5j90cfoBqvsktcAAjTZMzM1NNzfVZ2ekFhTnNLQ32KE6UmaujoyMjI+PDhw8sy1osFpqmTSZTRUVFSkrK6uoqSZKQn3t1dTU5ObmwsPDw8BA0srW10d/fV1VVkZ7+OjU1ubAwv6OjzWA4xDF9BGGBSD2KIgYHP1RWlr9+nVJUVNDT07O+vg5t5LY8YyYnJ4uLi3Nyst6/f7e9vTk7O52dk9HS+hZs6bW1ld7e7ry8nNTU5OzszL6+nsXFeU7pFFSCW/pNcDuVleCwVtyfrVbz8vJidXVlbm52RkZaWVnJ0NAghOPhLRpXVpZqaqoyMzPq6mqApjSbjSxLj4wMl5QU5eRk9fX1mEyGkZHh1JSkL3OzEDcKn3OfZ7o62zPfpOdkZ/Z0d3KZ0cj1taXioryszLTV1WWQhKKoqampjIyMkpKSw8PDUwn+f9EokiR/cxW9vr7a3t6anZ2ZnJxYVFTQ1dWxt7fDsiinFbhG7u5uNzc35uZmV1VVTE6O49G3vLzY2NiQnv66ublxc3N9c2s1403q0PAHi8WE5/De3t6ysrL8/Pze3m7OPQq9zyBI0+raYntHc15eTnr669bW5tHRT/iS7e3Nzs72zMyMlJSk4uLCrq6O3d1teEb8RvgTd4De2trIz8+trCyHng/kOEURhYX5mZkZy8uL8HRjWfrgYG9ycry4uPD165ScnKyeni6cThEHS75//66oqKCkpOjdu16CsLS0NL15k765uQ7VwufnzzPV1ZXZ2Znt7a0zM1OHh/tFRQUVFWUcjXviAOQF5hHgEfhxCPB01Y/Dmr/TnyLA01V/Cg//449CgKerfhTS3/0+wE3g22CDFo7gr/YCsl7gH+YjIFszDiKDX8FGwst0R9oI1veQagrKYB6TpBW4MDC9MP3keC3L0o7GFfyEr8KyYVMKJwY2GvXcQZKwoq2aGNpaXVUmFJxLTHh5sI+MK7CuScJiq4RLsnsEBCBEcDYZDNqxLdi1xnK8GygO7eMG+wNCSymKQglRuAy+XKKrr62BeLHfZeiAZcA4Y2Vh4w3rAgr23QDRtoD2n9CNHBPY24GFpOk2aYGr4lzwUFL2I7rmEhtT4H5iv/yr/HzpjxAgCIIkSQ4323DGaelAOyjxHGE5MrQdhzPOE4dVj+gtkmIZlmVYmiIg7R1k/2EZylZgafveaiR35FcCoiTVBPGrQ2f7C3Rp+EQjB7FXaHTgyRYGIOxdAGX4yXEu/f/bO38fN44rjtfCFSoOkgodoL8phRXELlUJSIBzlCiBbTUO4jQpJKhKkRRBkMRl4H8iRQJVgYok8g/AOkEHWFIoHndnfwUz39nHOZKwaVt7HGI+LMjhcnbmzefNDvm+fLur86PHg8672/x4dvZaR5Z9KmE68ULXtk4HtdUMXhrXydDaylGpC8CHNvfdfx5XXS+S66nF40XfLEpNTZdBc40q2GEihXdU8fxSJuZpQajlHecq69Tq7DtN7IcABCYlgFw1KV4a354ActX2rKg5IQHkqgnh7qLpruss4UL9K2KRiqGPnPNnjekndfIDevnLW4GrYpsxNcOn6ihBSek56eBMX1DwrI9ms5nVSfNl0jq6VV/QWUz7UDQXAzkzT3GUSSS645U/r7B3H7z/i3fevvnxX/8Urv3c6vri/tkCCS+seD3FyGxKdjBjMy0YZIuUFCbFENTLcz7iNOurqtJ4lfGkEyH1nIpZzjnpXKY3GSXrUbdTVLpWaN9Hel4pixcbjn36hL3a39Sv7/u69lePDhb6E8qapla8J4cGP/q9dNnp+XyuJrqucy7mWMVGedlEIJ3Mo2ejeKFjpOviRevHI+icnhhWgDhVtD40TZMuFEPvj57OK1FRtwo3fuya2gUZq9VdDoY+FPyBFnxc16lhNpE2jaCsbenyO448rre6A93opqihiKdq6sDU8quFq6oqFVKlMrQwiLk+bdtec0Nvg5Qdbx9pWowWE1tX7W+DdXtGs/f11VYzK2ycn+Op4t47db0YFzF/cCklWeuYba8qf4/F1L+iLUyJXLg8ADf2u69YsRsCEJiAAHLVBFBp8rsQQK76LtTY540TQK5640h30mATHiZMyIaVt8MwJDqFxUW+kP6Hb+d8SQ0Zn2MgZKNTpGRCQ5AnNggN+mluEYIVzJjkt7uPECwMsHhJypoUtE8++dvjx/86Ofly9r+vXnz1/D//fvyH3//u5ls/+PnPjr/4XBd697e9izaPclV4a4b7gkkz57bm/aaqKrnPgChDbXSQVx8EU5FtOhpNj3SLFKV0i0lddRAd9JGFW2l+VribVRuypTSLhnBdrWVjo5f9p21XhVuY+XIaFcvasabfV8Yrxl62RWkTAeMmvwQ3RcKC3LZOR9AoTMdjU+rkpiaX26qqiodOSLAa+qF1jZKtxueYUeLqhXKvtHNq1bI5SgmBruuq8NBCp3vw6RB2rpIU0nU+XU5rlAsP+58gaSn+fyDFX2KKFvxkRR3qWkp93E/zROlCzlWWKGRLihLxZI/ZJiEs7Xofyybf20Kn6Wrb00EFhlGiShZYLXfx2bLVQoW4t9qUI7Rct21MGl3pN+2OMgQgAIGUAHJVSoPyDgkgV+0QPl0vCSBXLVnsc8kCRQ3C/uBVzNOGh2IenSSi7Suqje2lRhRZ6Ue2/dReLBY602elR+kayq3o+342i/kylizTNF5P6f3//UOSA3SuvBKVWaey5+Tk5M6dO7dv337vvV8+uP/b33z04bvHP377R2/99N2f/PMff9c1oX3kMKpUXesaV0m9WmlqpSO1vxfPAfu5qEmiVQhBA9wwDIWsdm6gYto0ZcNi2nGG9OYpc5PFuulH0pV8qNZVbetC1lsk17beOjm373tdgkfX8w45CJ3mjJ0pNr5d7rUXLsjKSNMT7cRbnTJmau9Y8NlP5nSTL9PD1pLj/ACX2VW9l6jCjPMHVjj7tG+7UbfyR5KrF2onTe2Uc7NitVtjDP5oxrmj2NKdRpForDW+anGW2mhNaTUeq8TXvh/atm8b7ywvNYYcq8WitjUwyM1xrVBW3YqzQpLj8lxO23Glo71+q2UqFcf7fgj32PTDsm9GfaPpC1TYF4uFgNjXZfr3QFUtuYmPvvLCChwlY30V7jU9jIcABCYlgFw1KV4a354ActX2rKg5IQHkqgnhXnjTlgKT9myxzXpMompWQT/TbV+rb7/L05qqplMnVFM/4i22MX1KhfQ3etv269FCarw6UuMq6/nRo0cPHz68d+/eD2/6O5R99Otf/eXPf/zs0/+GswJDxkfQqvpwFpOC7DHZKg7ra8ZiA8+wYOTDP/YxDW1UIizu9VFWol/EcaxvsQGas2yLlKlUT7SI7rzUGDsN+SA+9DX/JvvGOiGRxPdgo1B36t3CuU0tmF0UVgmswFS2jiUnnk9kW2beSahVW6ZVpfpF3BiUKROqluJUmm/VeSXLsqssc3N9Uq2aXuR7S1oc/yqIGWp2uSg73SzkIXptdzwxzecl2mqs4yiFrJmQPguwPxL7wbRmnywUrviufW29tbfaa6Wj9O3++k1ri1fxxq8eLVNafJqms1XIdCVljOps5XUyxt9WV3WhZtWLdEPt+/q1v9dHyClev+i+PuEZAhCAQCSAXMVUyIQAclUmjijdDOSq0mfAHo9fF99Jn/d4MJgOAQhAAAIQgAAEIFA4AeSqwidAPsNHrsrHF0VbglxVtPsZPAQgAAEIQAACEIAABCCQBwHkqjz8gBUDchWTIAsCyFVZuAEjIAABCEAAAhCAAAQgAIGyCSBXle3/jEaPXJWRM0o2BbmqZO8zdghAAAIQgAAEIAABCEAgEwLIVZk4AjOQq5gDWRBArsrCDRgBAQhAAAIQgAAEIAABCJRNALmqbP9nNHrkqoycUbIpyFUle5+xQwACEIAABCAAAQhAAAKZEECuysQRmIFcxRzIggByVRZuwAgIQAACEIAABCAAAQhAoGwCyFVl+z+j0SNXZeSMkk1BrirZ+4wdAhCAAAQgAAEIQAACEMiEAHJVJo7ADOQq5kAWBJCrsnADRkAAAhCAAAQgAAEIQAACZRNArirb/xmNHrkqI2eUbApyVcneZ+wQgAAEIAABCEAAAhCAQCYEkKsycQRmIFcxB7IggFyVhRswAgIQgAAEIAABCEAAAhAomwByVdn+z2j0yFUZOaNkU5CrSvY+Y4cABCAAAQhAAAIQgAAEMiGAXJWJIzADuYo5kAUB5Kos3IAREIAABCAAAQhAAAIQgEDZBJCryvZ/RqNHrsrIGSWbglxVsvcZOwQgAAEIQAACEIAABCCQCQHkqkwcgRnIVcyBLAggV2XhBoyAAAQgAAEIQAACEIAABMomgFxVtv8zGj1yVUbOKNkU5KqSvc/YIQABCEAAAhCAAAQgAIFMCCBXZeIIzECuYg5kQeDg4GA+n1dVNQxD3/eySW+zsA8jIAABCEAAAhCAAAQgAAEIlEHgwYMHx8fHzrm2bdMArYzRM8pcCCBX5eKJwu24dOnSq1evhmGYz+dCcXZ2ppWx5wEBCEAAAhCAAAQgAAEIQAAC0xNo27au6/v379+9e1dxWRcehYerDH8nBJCrdoKdTlcJHB0dXbly5fLly0dHR1evXj08PLx+/frh4eE1HhCAAAQgAAEIQAACEIAABCBwIQRu3Lhx7dq1g4ODW7duKWabzWarwRvvIXAhBJCrLgQznXwTgefPnz979uz09PTp06fPwkOFEx4QgAAEIAABCEAAAhCAAAQgcCEEnjx5cnp6+vLlyxcvXnxTDMfnEJiWAHLVtHxpfXsCdV3bVaussP3u1IQABCAAAQhAAAIQgAAEIACB70nAOdd13TAMbds2TTMMg95+z2bZHQLflgBy1bclRv0JCdiyqD6ccxN2RtMQgAAEIAABCEAAAhCAAAQgkBBQ3kDf9yZRWSGpRRECF0EAueoiKNPHNgR01wnVJLtqG2LUgQAEIAABCEAAAhCAAAQg8AYJWCBm9wRUgtUb7IKmILAlAeSqLUFRbXICWhmVUeWcM11/+ttf0AMEIAABCEAAAhCAAAQgAAEI+KQq06fS8uTRIB1AYI0ActUaEjZAAAIQgAAEIAABCEAAAhCAAAQgAAEI7I4ActXu2NMzBCAAAQhAAAIQgAAEIAABCEAAAhCAwBoB5Ko1JGyAAAQgAAEIQAACEIAABCAAAQhAAAIQ2B0B5KrdsYw2grsAAAAgSURBVKdnCEAAAhCAAAQgAAEIQAACEIAABCAAgTUC/wf06BDtsSk+0AAAAABJRU5ErkJggg==)"
   ]
  },
  {
   "cell_type": "code",
   "execution_count": 11,
   "metadata": {
    "colab": {
     "base_uri": "https://localhost:8080/"
    },
    "id": "UYcWNaQuttZi",
    "outputId": "a615e7d6-d0a1-4e41-9821-c9bbd93b51cd"
   },
   "outputs": [
    {
     "name": "stdout",
     "output_type": "stream",
     "text": [
      "{'input_ids': [101, 1045, 2293, 3698, 4083, 999, 19204, 3989, 2003, 12476, 999, 999, 102], 'token_type_ids': [0, 0, 0, 0, 0, 0, 0, 0, 0, 0, 0, 0, 0], 'attention_mask': [1, 1, 1, 1, 1, 1, 1, 1, 1, 1, 1, 1, 1]}\n"
     ]
    }
   ],
   "source": [
    "from transformers import AutoTokenizer\n",
    "\n",
    "model_ckpt = \"bert-base-uncased\"\n",
    "tokenizer = AutoTokenizer.from_pretrained(model_ckpt)\n",
    "\n",
    "\n",
    "text = \"I love machine learning! Tokenization is awesome!!\"\n",
    "encoded_text = tokenizer(text)\n",
    "print(encoded_text)"
   ]
  },
  {
   "cell_type": "code",
   "execution_count": 12,
   "metadata": {
    "colab": {
     "base_uri": "https://localhost:8080/"
    },
    "id": "gY8solyivXr6",
    "outputId": "9c0c6849-e747-4151-b3e3-b3cfe7f4163a"
   },
   "outputs": [
    {
     "data": {
      "text/plain": [
       "(30522, 30522, 512)"
      ]
     },
     "execution_count": 12,
     "metadata": {},
     "output_type": "execute_result"
    }
   ],
   "source": [
    "len(tokenizer.vocab), tokenizer.vocab_size, tokenizer.model_max_length"
   ]
  },
  {
   "cell_type": "markdown",
   "metadata": {
    "id": "jS8mXm9uTBNG"
   },
   "source": [
    "## Data Loader and Train Test Split"
   ]
  },
  {
   "cell_type": "code",
   "execution_count": 13,
   "metadata": {
    "id": "cfv3iPEoCt_8"
   },
   "outputs": [
    {
     "data": {
      "text/plain": [
       "((109242, 4), (31212, 4), (15606, 4))"
      ]
     },
     "execution_count": 13,
     "metadata": {},
     "output_type": "execute_result"
    }
   ],
   "source": [
    "from sklearn.model_selection import train_test_split\n",
    "\n",
    "train, test = train_test_split(df, test_size=0.3, stratify=df['label'])\n",
    "test, validation = train_test_split(test, test_size=1/3, stratify=test['label'])\n",
    "\n",
    "train.shape, test.shape, validation.shape"
   ]
  },
  {
   "cell_type": "code",
   "execution_count": 14,
   "metadata": {},
   "outputs": [
    {
     "data": {
      "text/plain": [
       "DatasetDict({\n",
       "    train: Dataset({\n",
       "        features: ['Phrase', 'label', 'label_name', 'Words per review'],\n",
       "        num_rows: 109242\n",
       "    })\n",
       "    test: Dataset({\n",
       "        features: ['Phrase', 'label', 'label_name', 'Words per review'],\n",
       "        num_rows: 31212\n",
       "    })\n",
       "    validation: Dataset({\n",
       "        features: ['Phrase', 'label', 'label_name', 'Words per review'],\n",
       "        num_rows: 15606\n",
       "    })\n",
       "})"
      ]
     },
     "execution_count": 14,
     "metadata": {},
     "output_type": "execute_result"
    }
   ],
   "source": [
    "from datasets import Dataset, DatasetDict\n",
    "\n",
    "dataset = DatasetDict(\n",
    "    {'train':Dataset.from_pandas(train, preserve_index=False),\n",
    "     'test':Dataset.from_pandas(test, preserve_index=False),\n",
    "     'validation': Dataset.from_pandas(validation, preserve_index=False)\n",
    "     }\n",
    "     \n",
    ")\n",
    "\n",
    "dataset"
   ]
  },
  {
   "cell_type": "markdown",
   "metadata": {
    "id": "6EWe8nkoCuVJ"
   },
   "source": [
    "## Tokenization of the Emotion/Sentiment Data"
   ]
  },
  {
   "cell_type": "code",
   "execution_count": 15,
   "metadata": {},
   "outputs": [
    {
     "data": {
      "text/plain": [
       "({'Phrase': 'interminable , shapeless documentary',\n",
       "  'label': 0,\n",
       "  'label_name': 'negative',\n",
       "  'Words per review': 4},\n",
       " {'Phrase': \"Attal 's hang-ups surrounding infidelity are so old-fashioned\",\n",
       "  'label': 1,\n",
       "  'label_name': 'somewhat negative',\n",
       "  'Words per review': 8})"
      ]
     },
     "execution_count": 15,
     "metadata": {},
     "output_type": "execute_result"
    }
   ],
   "source": [
    "dataset['train'][0], dataset['train'][1]"
   ]
  },
  {
   "cell_type": "code",
   "execution_count": 16,
   "metadata": {},
   "outputs": [
    {
     "name": "stdout",
     "output_type": "stream",
     "text": [
      "{'input_ids': [[101, 6970, 22311, 3468, 1010, 4338, 3238, 4516, 102, 0, 0, 0, 0, 0, 0, 0, 0, 0], [101, 2012, 9080, 1005, 1055, 6865, 1011, 11139, 4193, 1999, 20740, 18605, 2024, 2061, 2214, 1011, 13405, 102]], 'token_type_ids': [[0, 0, 0, 0, 0, 0, 0, 0, 0, 0, 0, 0, 0, 0, 0, 0, 0, 0], [0, 0, 0, 0, 0, 0, 0, 0, 0, 0, 0, 0, 0, 0, 0, 0, 0, 0]], 'attention_mask': [[1, 1, 1, 1, 1, 1, 1, 1, 1, 0, 0, 0, 0, 0, 0, 0, 0, 0], [1, 1, 1, 1, 1, 1, 1, 1, 1, 1, 1, 1, 1, 1, 1, 1, 1, 1]]}\n"
     ]
    }
   ],
   "source": [
    "def tokenize(batch):\n",
    "    temp = tokenizer(batch['Phrase'], padding=True, truncation=True)\n",
    "    return temp\n",
    "\n",
    "print(tokenize(dataset['train'][:2]))"
   ]
  },
  {
   "cell_type": "code",
   "execution_count": 17,
   "metadata": {},
   "outputs": [
    {
     "data": {
      "application/vnd.jupyter.widget-view+json": {
       "model_id": "21c79065463b4fed84c5dc6eb02b21e6",
       "version_major": 2,
       "version_minor": 0
      },
      "text/plain": [
       "Map:   0%|          | 0/109242 [00:00<?, ? examples/s]"
      ]
     },
     "metadata": {},
     "output_type": "display_data"
    },
    {
     "data": {
      "application/vnd.jupyter.widget-view+json": {
       "model_id": "fdf04233725443c19544d600d7bd1a00",
       "version_major": 2,
       "version_minor": 0
      },
      "text/plain": [
       "Map:   0%|          | 0/31212 [00:00<?, ? examples/s]"
      ]
     },
     "metadata": {},
     "output_type": "display_data"
    },
    {
     "data": {
      "application/vnd.jupyter.widget-view+json": {
       "model_id": "d3bf225aaa89461090828a39e3d16856",
       "version_major": 2,
       "version_minor": 0
      },
      "text/plain": [
       "Map:   0%|          | 0/15606 [00:00<?, ? examples/s]"
      ]
     },
     "metadata": {},
     "output_type": "display_data"
    }
   ],
   "source": [
    "emotion_encoded = dataset.map(tokenize, batched=True, batch_size=None)"
   ]
  },
  {
   "cell_type": "code",
   "execution_count": 18,
   "metadata": {},
   "outputs": [
    {
     "data": {
      "text/plain": [
       "({'negative': 0,\n",
       "  'somewhat negative': 1,\n",
       "  'somewhat positive': 3,\n",
       "  'neutral': 2,\n",
       "  'positive': 4},\n",
       " {0: 'negative',\n",
       "  1: 'somewhat negative',\n",
       "  3: 'somewhat positive',\n",
       "  2: 'neutral',\n",
       "  4: 'positive'})"
      ]
     },
     "execution_count": 18,
     "metadata": {},
     "output_type": "execute_result"
    }
   ],
   "source": [
    "# label2id, id2label\n",
    "\n",
    "ds = [\n",
    "    {'label_name': 'negative', 'label': 0},\n",
    "    {'label_name': 'somewhat negative', 'label': 1},\n",
    "    {'label_name': 'neutral', 'label': 2},\n",
    "    {'label_name': 'somewhat positive', 'label': 3},\n",
    "    {'label_name': 'positive', 'label': 4}\n",
    "]\n",
    "\n",
    "label2id = {x['label_name']:x['label'] for x in dataset['train']}\n",
    "id2label = {v:k for k,v in label2id.items()}\n",
    "\n",
    "label2id, id2label"
   ]
  },
  {
   "cell_type": "markdown",
   "metadata": {
    "id": "TBZXTI36SDB4"
   },
   "source": [
    "## Model Building"
   ]
  },
  {
   "cell_type": "code",
   "execution_count": 19,
   "metadata": {
    "colab": {
     "base_uri": "https://localhost:8080/"
    },
    "id": "Lb4ji8zktrqV",
    "outputId": "aaed539e-5ed2-40f1-c65c-48c298308555"
   },
   "outputs": [],
   "source": [
    "from transformers import AutoModel \n",
    "import torch"
   ]
  },
  {
   "cell_type": "code",
   "execution_count": 20,
   "metadata": {},
   "outputs": [
    {
     "name": "stderr",
     "output_type": "stream",
     "text": [
      "2025-01-14 12:33:16.668756: E external/local_xla/xla/stream_executor/cuda/cuda_fft.cc:477] Unable to register cuFFT factory: Attempting to register factory for plugin cuFFT when one has already been registered\n",
      "WARNING: All log messages before absl::InitializeLog() is called are written to STDERR\n",
      "E0000 00:00:1736875997.118650    6599 cuda_dnn.cc:8310] Unable to register cuDNN factory: Attempting to register factory for plugin cuDNN when one has already been registered\n",
      "E0000 00:00:1736875997.231392    6599 cuda_blas.cc:1418] Unable to register cuBLAS factory: Attempting to register factory for plugin cuBLAS when one has already been registered\n",
      "2025-01-14 12:33:18.884175: I tensorflow/core/platform/cpu_feature_guard.cc:210] This TensorFlow binary is optimized to use available CPU instructions in performance-critical operations.\n",
      "To enable the following instructions: AVX2 FMA, in other operations, rebuild TensorFlow with the appropriate compiler flags.\n"
     ]
    }
   ],
   "source": [
    "model = AutoModel.from_pretrained(model_ckpt)"
   ]
  },
  {
   "cell_type": "code",
   "execution_count": 21,
   "metadata": {},
   "outputs": [
    {
     "data": {
      "text/plain": [
       "BertConfig {\n",
       "  \"_attn_implementation_autoset\": true,\n",
       "  \"_name_or_path\": \"bert-base-uncased\",\n",
       "  \"architectures\": [\n",
       "    \"BertForMaskedLM\"\n",
       "  ],\n",
       "  \"attention_probs_dropout_prob\": 0.1,\n",
       "  \"classifier_dropout\": null,\n",
       "  \"gradient_checkpointing\": false,\n",
       "  \"hidden_act\": \"gelu\",\n",
       "  \"hidden_dropout_prob\": 0.1,\n",
       "  \"hidden_size\": 768,\n",
       "  \"initializer_range\": 0.02,\n",
       "  \"intermediate_size\": 3072,\n",
       "  \"layer_norm_eps\": 1e-12,\n",
       "  \"max_position_embeddings\": 512,\n",
       "  \"model_type\": \"bert\",\n",
       "  \"num_attention_heads\": 12,\n",
       "  \"num_hidden_layers\": 12,\n",
       "  \"pad_token_id\": 0,\n",
       "  \"position_embedding_type\": \"absolute\",\n",
       "  \"transformers_version\": \"4.48.0\",\n",
       "  \"type_vocab_size\": 2,\n",
       "  \"use_cache\": true,\n",
       "  \"vocab_size\": 30522\n",
       "}"
      ]
     },
     "execution_count": 21,
     "metadata": {},
     "output_type": "execute_result"
    }
   ],
   "source": [
    "model.config.id2label\n",
    "model.config"
   ]
  },
  {
   "cell_type": "markdown",
   "metadata": {
    "id": "pJC8r1FShkNU"
   },
   "source": [
    "## Fine-Tuning Transformers"
   ]
  },
  {
   "cell_type": "markdown",
   "metadata": {
    "id": "n3AtdWXNhwiw"
   },
   "source": [
    "![Screenshot 2023-07-29 153612.jpg](data:image/jpeg;base64,/9j/4AAQSkZJRgABAQEAwADAAAD/2wBDAAMCAgMCAgMDAwMEAwMEBQgFBQQEBQoHBwYIDAoMDAsKCwsNDhIQDQ4RDgsLEBYQERMUFRUVDA8XGBYUGBIUFRT/2wBDAQMEBAUEBQkFBQkUDQsNFBQUFBQUFBQUFBQUFBQUFBQUFBQUFBQUFBQUFBQUFBQUFBQUFBQUFBQUFBQUFBQUFBT/wAARCAIMBjoDASIAAhEBAxEB/8QAHwAAAQUBAQEBAQEAAAAAAAAAAAECAwQFBgcICQoL/8QAtRAAAgEDAwIEAwUFBAQAAAF9AQIDAAQRBRIhMUEGE1FhByJxFDKBkaEII0KxwRVS0fAkM2JyggkKFhcYGRolJicoKSo0NTY3ODk6Q0RFRkdISUpTVFVWV1hZWmNkZWZnaGlqc3R1dnd4eXqDhIWGh4iJipKTlJWWl5iZmqKjpKWmp6ipqrKztLW2t7i5usLDxMXGx8jJytLT1NXW19jZ2uHi4+Tl5ufo6erx8vP09fb3+Pn6/8QAHwEAAwEBAQEBAQEBAQAAAAAAAAECAwQFBgcICQoL/8QAtREAAgECBAQDBAcFBAQAAQJ3AAECAxEEBSExBhJBUQdhcRMiMoEIFEKRobHBCSMzUvAVYnLRChYkNOEl8RcYGRomJygpKjU2Nzg5OkNERUZHSElKU1RVVldYWVpjZGVmZ2hpanN0dXZ3eHl6goOEhYaHiImKkpOUlZaXmJmaoqOkpaanqKmqsrO0tba3uLm6wsPExcbHyMnK0tPU1dbX2Nna4uPk5ebn6Onq8vP09fb3+Pn6/9oADAMBAAIRAxEAPwD9U6KKKACiiigAooooAKKKKACiiigAooooAKKKKACiiigAooooAKKKKACiiigAooooAKKKKACiiigAooooAKKKKACiiigAooooAKKKKACiiigAooooAKKKKACiiigAooooAKKKKACiiigAooooAKKKKACiiigAooooAKKKKACiiigAooooAKKKKACiiigAooooAKKKKACiiigAooooAKKKKACiiigAooooAKKKKACiiigAooooAKKKKACiiigAooooAKKKKACiiigAooooAKKKKACiiigAooooAKKKKACiiigAooooAKKKKACiiigAooooAKKKKACiiigAooooAKKKKACiiigAooooAKKKKACiiigAooooAKKKKACiiigAooooAKKKKACiiigAooooAKKKKACiiigAooooAKKKKACiiigAooooAKKKKACiiigAooooAKKKKACiiigAooooAKKKKACiiigAooooAKKKKACiiigAooooAKKKKACiiigAooooAKKKKACiiigAooooAKKKKACiiigAooooAKKKKACiiigAooooAKKKKACiiigAooooAKKKKACiiigAooooAKKKKACiiigAooooAKKKKACiiigAooooAKKKKACiiigAooooAKKKKACiiigAooooAKKKKACiiigAooooAKKKKACiiigAooooAKKKKACiiigAooooAKKKKACiiigAooooAKKKKACiiigAooooAKKKKACiiigAooooAKKKKACiiigAooooAKKKKACiiigAooooAKKKKACiiigAooooAKKKKACiiigAooooAKKKKACiiigAooooAKKKKACiiigAooooAKKKKACiiigAooooAKKKKACiiigAooooAKKKKACiiigAooooAKKKKACiiigAooooAKKKKACiiigAooooAKKKKACiiigAooooAKKKKACiiigAooooAKKKKACiiigAooooAKKKKACiiigAooooAKKKKACiiigAooooAKKKKACiiigAooooAKKKKACiiigAooooAKKKKACiiigAooooAKKKKACiiigAooooAKKKKACiiigAooooAKKKKACiiigAooooAKKKKACiiigAooooAKKKKACiiigAooooAK8K+H3xU+MPxK8B+HPFul/D/wADwaZr2nW+p2sd54zvFmSKaNZEDhdKYBgGGQGIznBPWvda8p/ZP/5Nd+EH/Yo6T/6RxUAH/CQfHD/oRPh//wCFrff/ACpo/wCEg+OH/QifD/8A8LW+/wDlTXq1FAHlP/CQfHD/AKET4f8A/ha33/ypo/4SD44f9CJ8P/8Awtb7/wCVNerUUAeU/wDCQfHD/oRPh/8A+Frff/Kmj/hIPjh/0Inw/wD/AAtb7/5U16tRQB5T/wAJB8cP+hE+H/8A4Wt9/wDKmj/hIPjh/wBCJ8P/APwtb7/5U16tRQB5T/wkHxw/6ET4f/8Aha33/wAqaP8AhIPjh/0Inw//APC1vv8A5U16tRQB5T/wkHxw/wChE+H/AP4Wt9/8qaP+Eg+OH/QifD//AMLW+/8AlTXq1FAHlP8AwkHxw/6ET4f/APha33/ypo/4SD44f9CJ8P8A/wALW+/+VNerUUAeU/8ACQfHD/oRPh//AOFrff8Aypo/4SD44f8AQifD/wD8LW+/+VNerUUAeU/8JB8cP+hE+H//AIWt9/8AKmj/AISD44f9CJ8P/wDwtb7/AOVNerUUAeU/8JB8cP8AoRPh/wD+Frff/Kmj/hIPjh/0Inw//wDC1vv/AJU16tRQB5T/AMJB8cP+hE+H/wD4Wt9/8qaP+Eg+OH/QifD/AP8AC1vv/lTXq1FAHlP/AAkHxw/6ET4f/wDha33/AMqaP+Eg+OH/AEInw/8A/C1vv/lTXq1FAHlP/CQfHD/oRPh//wCFrff/ACpo/wCEg+OH/QifD/8A8LW+/wDlTXq1FAHlP/CQfHD/AKET4f8A/ha33/ypo/4SD44f9CJ8P/8Awtb7/wCVNerUUAeU/wDCQfHD/oRPh/8A+Frff/Kmj/hIPjh/0Inw/wD/AAtb7/5U16tRQB5T/wAJB8cP+hE+H/8A4Wt9/wDKmj/hIPjh/wBCJ8P/APwtb7/5U16tRQB5T/wkHxw/6ET4f/8Aha33/wAqaP8AhIPjh/0Inw//APC1vv8A5U16tRQB5T/wkHxw/wChE+H/AP4Wt9/8qaP+Eg+OH/QifD//AMLW+/8AlTXq1FAHlP8AwkHxw/6ET4f/APha33/ypo/4SD44f9CJ8P8A/wALW+/+VNerUUAeU/8ACQfHD/oRPh//AOFrff8Aypo/4SD44f8AQifD/wD8LW+/+VNerUUAeU/8JB8cP+hE+H//AIWt9/8AKmj/AISD44f9CJ8P/wDwtb7/AOVNerUUAeU/8JB8cP8AoRPh/wD+Frff/Kmj/hIPjh/0Inw//wDC1vv/AJU16tRQB5T/AMJB8cP+hE+H/wD4Wt9/8qaP+Eg+OH/QifD/AP8AC1vv/lTXq1FAHlP/AAkHxw/6ET4f/wDha33/AMqaP+Eg+OH/AEInw/8A/C1vv/lTXq1FAHlP/CQfHD/oRPh//wCFrff/ACpo/wCEg+OH/QifD/8A8LW+/wDlTXq1FAHlP/CQfHD/AKET4f8A/ha33/ypo/4SD44f9CJ8P/8Awtb7/wCVNerUUAeU/wDCQfHD/oRPh/8A+Frff/Kmj/hIPjh/0Inw/wD/AAtb7/5U16tRQB5T/wAJB8cP+hE+H/8A4Wt9/wDKmj/hIPjh/wBCJ8P/APwtb7/5U16tRQB5T/wkHxw/6ET4f/8Aha33/wAqaP8AhIPjh/0Inw//APC1vv8A5U16tRQB5T/wkHxw/wChE+H/AP4Wt9/8qaP+Eg+OH/QifD//AMLW+/8AlTXq1FAHlP8AwkHxw/6ET4f/APha33/ypo/4SD44f9CJ8P8A/wALW+/+VNerUUAeU/8ACQfHD/oRPh//AOFrff8Aypo/4SD44f8AQifD/wD8LW+/+VNerUUAeU/8JB8cP+hE+H//AIWt9/8AKmj/AISD44f9CJ8P/wDwtb7/AOVNerUUAeU/8JB8cP8AoRPh/wD+Frff/Kmj/hIPjh/0Inw//wDC1vv/AJU16tRQB5T/AMJB8cP+hE+H/wD4Wt9/8qaP+Eg+OH/QifD/AP8AC1vv/lTXq1FAHlP/AAkHxw/6ET4f/wDha33/AMqaP+Eg+OH/AEInw/8A/C1vv/lTXq1FAHlP/CQfHD/oRPh//wCFrff/ACpo/wCEg+OH/QifD/8A8LW+/wDlTXq1FAHlP/CQfHD/AKET4f8A/ha33/ypo/4SD44f9CJ8P/8Awtb7/wCVNerUUAeU/wDCQfHD/oRPh/8A+Frff/Kmj/hIPjh/0Inw/wD/AAtb7/5U16tRQB5T/wAJB8cP+hE+H/8A4Wt9/wDKmj/hIPjh/wBCJ8P/APwtb7/5U16tRQB5T/wkHxw/6ET4f/8Aha33/wAqaP8AhIPjh/0Inw//APC1vv8A5U16tRQB5T/wkHxw/wChE+H/AP4Wt9/8qaP+Eg+OH/QifD//AMLW+/8AlTXq1FAHlP8AwkHxw/6ET4f/APha33/ypo/4SD44f9CJ8P8A/wALW+/+VNerUUAeU/8ACQfHD/oRPh//AOFrff8Aypo/4SD44f8AQifD/wD8LW+/+VNerUUAeU/8JB8cP+hE+H//AIWt9/8AKmj/AISD44f9CJ8P/wDwtb7/AOVNerUUAeU/8JB8cP8AoRPh/wD+Frff/Kmj/hIPjh/0Inw//wDC1vv/AJU16tRQB5T/AMJB8cP+hE+H/wD4Wt9/8qaP+Eg+OH/QifD/AP8AC1vv/lTXq1FAHlP/AAkHxw/6ET4f/wDha33/AMqaP+Eg+OH/AEInw/8A/C1vv/lTXq1FAHlP/CQfHD/oRPh//wCFrff/ACpo/wCEg+OH/QifD/8A8LW+/wDlTXq1FAHlP/CQfHD/AKET4f8A/ha33/ypo/4SD44f9CJ8P/8Awtb7/wCVNerUUAeU/wDCQfHD/oRPh/8A+Frff/Kmj/hIPjh/0Inw/wD/AAtb7/5U16tRQB5T/wAJB8cP+hE+H/8A4Wt9/wDKmj/hIPjh/wBCJ8P/APwtb7/5U16tRQB5T/wkHxw/6ET4f/8Aha33/wAqaP8AhIPjh/0Inw//APC1vv8A5U16tRQB5T/wkHxw/wChE+H/AP4Wt9/8qaP+Eg+OH/QifD//AMLW+/8AlTXq1FAHlP8AwkHxw/6ET4f/APha33/ypo/4SD44f9CJ8P8A/wALW+/+VNerUUAeU/8ACQfHD/oRPh//AOFrff8Aypo/4SD44f8AQifD/wD8LW+/+VNerUUAeU/8JB8cP+hE+H//AIWt9/8AKmj/AISD44f9CJ8P/wDwtb7/AOVNerUUAeU/8JB8cP8AoRPh/wD+Frff/Kmj/hIPjh/0Inw//wDC1vv/AJU16tRQB5T/AMJB8cP+hE+H/wD4Wt9/8qaP+Eg+OH/QifD/AP8AC1vv/lTXq1FAHlP/AAkHxw/6ET4f/wDha33/AMqaP+Eg+OH/AEInw/8A/C1vv/lTXq1FAHlP/CQfHD/oRPh//wCFrff/ACpo/wCEg+OH/QifD/8A8LW+/wDlTXq1FAHlP/CQfHD/AKET4f8A/ha33/ypo/4SD44f9CJ8P/8Awtb7/wCVNerUUAeU/wDCQfHD/oRPh/8A+Frff/Kmj/hIPjh/0Inw/wD/AAtb7/5U16tRQB5T/wAJB8cP+hE+H/8A4Wt9/wDKmj/hIPjh/wBCJ8P/APwtb7/5U16tRQB5T/wkHxw/6ET4f/8Aha33/wAqaP8AhIPjh/0Inw//APC1vv8A5U16tRQB5T/wkHxw/wChE+H/AP4Wt9/8qaP+Eg+OH/QifD//AMLW+/8AlTXq1FAHlP8AwkHxw/6ET4f/APha33/ypo/4SD44f9CJ8P8A/wALW+/+VNerUUAeU/8ACQfHD/oRPh//AOFrff8Aypo/4SD44f8AQifD/wD8LW+/+VNerUUAeU/8JB8cP+hE+H//AIWt9/8AKmj/AISD44f9CJ8P/wDwtb7/AOVNerUUAeU/8JB8cP8AoRPh/wD+Frff/Kmj/hIPjh/0Inw//wDC1vv/AJU16tRQB5T/AMJB8cP+hE+H/wD4Wt9/8qaP+Eg+OH/QifD/AP8AC1vv/lTXq1FAHlP/AAkHxw/6ET4f/wDha33/AMqaP+Eg+OH/AEInw/8A/C1vv/lTXq1FAHnHwv8AiJ4l8UeJ/Fnh3xV4f0rQtU0H7I2dH1aXUIJknR3B3SW0DKRswRtPXrXo9eU/D/8A5L58Wf8Arjo3/oiavVqACiiigAooooAKKKKACiiigAooooAKKKKACiiigAooooAKKKKACiiigAooooAKKKKACiiigAooooAKKKKACiiigAooooAKKKKACiiigAooooAKKKKACiiigAooooAKKKKACiiigAooooAK8p/ZP/5Nd+EH/Yo6T/6RxV6tXlP7J/8Aya78IP8AsUdJ/wDSOKgD1aiiigAooooAKKKKACiiigAooooAKKKKACiiigAooooAKKKKACiiq2p3DWmm3c6jLRRO4+oUmmtXYTdlc81+IX7QOjeCNQk063tn1i/j/wBYkUgSOM/3S2Dz9BXG/wDDWv8A1Kv/AJUf/tVfPk88l1NJNK5klkYu7N1JJyTTK++p5PhYxSnG773f6H5zVzvGTm3CXKu1l+qPsr4b/GfR/iNI1rFG+n6kq7jazMDuHcq3fH4GvQa+Fvhzezaf488PzQPsf7dCmfZnCkfkTX3TXzOaYOGEqpU9mfV5TjZ4yk3U3QUUUV4x7gUUUUAFFFFABRRRQAUUUUAFFFFABRRRQAUUUUAFFFFABRRRQAUUUUAFFFFABRRRQAUUUUAFFFFABRRRQAUUUUAFFFFABRRRQAUUUUAFFFFABRRRQAUUUUAFFFFABRRRQAUUUUAFFFFABRRRQAUUUUAFFFFABRRRQAUUUUAFFFFABRRRQAUUUUAFFFFABRRRQAUUUUAFFFFABRRRQAUUUUAFFFFABRRRQAUUUUAFFFFABRRRQAUUUUAFFFFABRRRQAUUUUAFFFFABRRRQAUUUUAFFFFABRRRQAUUUUAFFFFABRRRQAUUUUAFFFFAHlPw/wD+S+fFn/rjo3/oiavVq8p+H/8AyXz4s/8AXHRv/RE1erUAFFFFABRRRQAUUUUAFFFFABRRRQAUUUUAFFFFABRRRQAUUUUAFFFFABRRRQAUUUUAFFFFABRRRQAUUUUAFFFFABRRRQAUUUUAFFFFABRRRQAUUUUAFFFFABRRRQAUUUUAFFFFABRRRQAV5T+yf/ya78IP+xR0n/0jir1avKf2T/8Ak134Qf8AYo6T/wCkcVAHq1FFFABRRRQAUUUUAFFFFABRRRQAUUUUAFFFFABRRRQAUUUUAFUNe/5Aeo/9e0n/AKCav1Q17/kB6j/17Sf+gmqj8SIn8LPgOiiiv1k/HTb8Df8AI7eH/wDsIW//AKMWvvCvg/wN/wAjt4f/AOwhb/8Aoxa+8K+Nz7+JT9GfccPfw6nqgooor5Y+tCiiigAooooAKKKKACiiigAooooAKKKKACiiigAooooAKKKKACiiigAooooAKKKKACiiigAooooAKKKKACiiigAooooAKKKKACiiigAooooAKKKKACiiigAooooAKKKKACiiigAooooAKKKKACiiigAooooAKKKKACiiigAooooAKKKKACiiigAooooAKKKKACiiigAooooAKKKKACiiigAooooAKKKKACiiigAooooAKKKKACiiigAooooAKKKKACiiigAooooAKKKKACiiigAooooAKKKKACiiigAooooAKKKKACiiigAooooA8p+H/wDyXz4s/wDXHRv/AERNXq1eU/D/AP5L58Wf+uOjf+iJq9WoAKKKKACiiigAooooAKKKKACiiigAooooAKKKKACiiigAooooAKKKKACiiigAooooAKKKKACiiigAooooAKKKKACiiigAooooAKKKKACiiigAooooAKKKKACiiigAooooAKKKKACiiigAryn9k/8A5Nd+EH/Yo6T/AOkcVerV5T+yf/ya78IP+xR0n/0jioA9WooooAKKKKACiiigAooooAKKKKACiiigAooooAKKKKACiiigAqhr3/ID1H/r2k/9BNX6oa9/yA9R/wCvaT/0E1UfiRE/hZ8B11vgj4ban42E1xE8Nhpdv/r9Qu22xJ7Z7muSr1b4t3knh/wz4V8LWRMNgLFLyZV486VyTub15z+dfptepNONOno5deyW5+U4enBqVWrqo9O7exLo/hX4f+HdbsLybx+ss9ncRzmOHT5HRijBsBhnrjrX0HoPxY8JeJbpbbT9bt5rhjhY5A0TMfQBwM/hXxDSo7RuroxVlOQynBB9a4MTlaxVnUqNten6JHpYXNpYS6p00k99/wBWz9CqK4b4K+JLrxV8OtMvL1zJdLvgkkbq+xiAfrjH45rua+Eq03RqSpy3TsfoVGoq1ONSOzVwooorI1CiiigAooooAKKKKACiiigAooooAKKhurqKxtZri4kWKCFC7yMcBVAySa8J8Q/tUW1tfyRaPpBu7ZDgT3Emzf7hR0H1rrw+FrYptUo3sceIxlDCpOtK1z3yivnGL9rC68xfM8PwlM87Zzn+VezfD/4iaX8RNJa804tHJGQs1tLjfEffHUHsa0r4HEYaPPUjoZYfMMNipclKV2dRRRRXAeiFFFFABRRRQAUUUUAFFFFABRRRQAUUUUAFFFFABRRRQAUUUUAFFFFABRRRQAUUUUAFFFFABRRRQAUUUUAFFFFABRRRQAUV578TvjLpfw4KWzxNf6nIu5baNgAi+rnt9K8x/wCGr73/AKAFv/3/AG/wr0qOXYmvDnhHQ8ytmWFw83TqT1XqfSFFeM+A/wBpLTvEmqRafqtkdKmmbbFMr74ix6A9x9a9mrmr4erhpctWNmdOHxNLFR56MroKKKK5jqCiiigAooooAKKKKACiiigAooooAKKKKACiiigAooooAKKKKACiiigAooooAKKKKACiiigAooooAKKKKACiiigAooooAKKKKACiiigAooooAKKKKACiiigAooooAKKKKACiiigAooooAKKKKACiiigAooooAKKKKAPKfh//AMl8+LP/AFx0b/0RNXq1eU/D/wD5L58Wf+uOjf8AoiavVqACiiigAooooAKKKKACiiigAooooAKKKKACiiigAooooAKKKKACiiigAooooAKKKKACiiigAooooAKKKKACiiigAooooAKKKKACiiigAooooAKKKKACiiigAooooAKKKKACiiigAooooAK8p/ZP/wCTXfhB/wBijpP/AKRxV6tXlP7J/wDya78IP+xR0n/0jioA9WooooAKKKKACiiigAooooAKKKKACiiigAooooAKKKKACiiigAqhr3/ID1H/AK9pP/QTV+qGvf8AID1H/r2k/wDQTVR+JET+FnwHXp3x2/5Cnhz/ALA0H9a8xr0747f8hTw5/wBgaD+tfpdX/eKX/b36H5ZR/wB2q/8Abv5s8xoooruOA+u/2b/+SW2f/XxN/wChV6hXl/7N/wDyS2z/AOvib/0KvUK/Msd/vVT1Z+rYD/dKX+FfkFFFFcJ3hRRRQAUUUUAFFFFABRRRQAUUUUAebftC3stn8LtRETFfOkjibBx8pbJH6V8e19d/tH/8kvuv+viL+dfIlfdZH/uz9X+h+fZ8/wDal6L82Fexfsv3UsXj25gVyIpbNi69jgjFeO165+zH/wAlEk/685P5rXoZh/ulT0PNy3/fKfqfV9FFFfmp+phRRRQAUUUUAFFFFABRRRQAUUUUAFFFFABRRRQAUUUUAFFFFABRRRQAUUUUAFFFFABRRRQAUUUUAFFFFABRRRQAUUUUAfEfxcupbz4keIHlcuy3TIM9gOAP0rkK6n4pf8lF8Q/9fkn865av1PD/AMGHovyPyLE61537v8wBI5HBr708IXcmoeE9Fupm3zTWUEjt6sY1JP5mvguvu7wH/wAiP4d/7B1v/wCilr53PvgpvzZ9Nw6/3lReSN2iiivjj7cKKKKACiiigAooooAKKKKACiiigAooooAKKKKACiiigAooooAKKKKACiiigAooooAKKKKACiiigAooooAKKKKACiiigAooooAKKKKACiiigAooooAKKKKACiiigAooooAKKKKACiiigAooooAKKKKACiiigAooooA8p+H/APyXz4s/9cdG/wDRE1erV5T8P/8AkvnxZ/646N/6Imr1agAooooAKKKKACiiigAooooAKKKKACiiigAooooAKKKKACiiigAooooAKKKKACiiigAooooAKKKKACiiigAooooAKKKKACiiigAooooAKKKKACiiigAooooAKKKKACiiigAooooAKKKKACvKf2T/APk134Qf9ijpP/pHFXq1eU/sn/8AJrvwg/7FHSf/AEjioA9WooooAKKKKACiiigAooooAKKKKACiiigAooooAKKKKACiiigAqhr3/ID1H/r2k/8AQTV+qGvf8gPUf+vaT/0E1UfiRE/hZ8B16d8dv+Qp4c/7A0H9a8xr0747f8hTw5/2BoP61+l1f94pf9vfofllH/dqv/bv5s8xrstF+D/i/wAQWi3VnosxgblWlKx7h6jcRWp8HtH09G1vxPqsC3VloUAmS3bpJMxOwH8R/Kud8TfEPxB4r1B7q91K4wT8kMUjJHGPRVBwKJVKs6jp0babt/lYIUqVOmqle75tkvzb1Pqr4J+GtR8JeAbbTtUt/s14k0rGPcG4LZHINd7XwCuuaijBlv7pWHIImbI/WvoP9nj4rajrt9J4d1i4e8kERktbiQ5f5fvKx78cg+xr5fH5XVip4nmT6vS3+Z9bl2bUZuGG5Wui1v8A5HvdFFFfNH1IUUUUAFFFFABRRRQAUUUUAFFFFAHl/wC0f/yS+6/6+Iv518iV9d/tH/8AJL7r/r4i/nXyJX3eSf7s/V/ofnuff72vRfqFeufsx/8AJRJP+vOT+a1kaD8JY/7Dg1rxRrMXhvTrgZt0kTfPOPVUyMD3967D4e6t8Ofh3rzana+Ir+7kMTRbJbUhcHHPA9q6MZXjWozpUk5PbRNr79jnwOHnRr06tVqKvfVpO3pufS1Fc14V+I3h7xozJpOpR3EyjJgbKyAeu09vpXS1+fzhKm+Wasz9HhUhUjzQd0FFFFQWFFFFABRRRQAUUUUAFFFFABRRRQAUUUUAFFFFABRRRQAUUUUAFFFFABRRRQAUUUUAFFFFABRRRQAUUUUAFFFFAHw78Uv+Si+If+vyT+dctXU/FL/koviH/r8k/nVXwZ4J1Lx1qv2LT0UBRvmuJTtjhX+8xr9RpTjTw8ZSdkkvyPyWrCVTEShBXbb/ADMCvu7wH/yI/h3/ALB1v/6KWvmKbwN8PdJc29/41nurpeHawtcxg+gPOfrXtXhf41eB7PT9O0mLWGVbaCO3SW4iZAdqhQScYHSvnc2csVCPsot28mfS5PGODqT9tOKvb7S/zPUKKjhnjuYUlhkWWJxuV0IIYeoNSV8gfahRRRQAUUUUAFFFFABRRRQAUUUUAFFFFABRRRQAUUUUAFFFFABRRRQAUUUUAFFFFABRRRQAUUUUAFFFFABRRRQAUUUUAFFFFABRRRQAUUUUAFFFFABRRRQAUUUUAFFFFABRRRQAUUUUAFFFFABRRRQAUUUUAFFFFAHlPw//AOS+fFn/AK46N/6Imr1avKfh/wD8l8+LP/XHRv8A0RNXq1ABRRRQAUUUUAFFFFABRRRQAUUUUAFFFFABRRRQAUUUUAFFFFABRRRQAUUUUAFFFFABRRRQAUUUUAFFFFABRRRQAUUUUAFFFFABRRRQAUUUUAFFFFABRRRQAUUUUAFFFFABRRRQAUUUUAFeU/sn/wDJrvwg/wCxR0n/ANI4q9Wryn9k/wD5Nd+EH/Yo6T/6RxUAerUUUUAFFFFABRRRQAUUUUAFFFFABRRRQAUUUUAFFFFABRRRQAVQ17/kB6j/ANe0n/oJq/VDXv8AkB6j/wBe0n/oJqo/EiJ/Cz4Dr0747f8AIU8Of9gaD+teY16d8dv+Qp4c/wCwNB/Wv0ur/vFL/t79D8so/wC7Vf8At382Hw//AOSS/EH/AHbb/wBCavMa9O+H/wDySX4g/wC7bf8AoTV5jRh/4lX1X/pKDEfwqP8Ahf8A6Uwr0/8AZx/5KlZf9cJv/QDXmFen/s4/8lSsv+uE3/oBox3+61PRhgP97pf4l+Z9eUUUV+ZH6sFFFFABRRRQAUUUUAFFFFABRRRQB5f+0f8A8kvuv+viL+dfMfgDS4da8baHY3A3QXF5Gjj1BYZFfTn7R/8AyS+6/wCviL+dfN/wp/5KT4a/6/ov/Qq+0ytuOBm15/kfC5ulLMKafl+Za+MWvXOufELWVmY+TZXElnBFn5USNioAHvjP41xVdF8R/wDkoXif/sJ3P/o1q52vfw8VGjBLsj5zEycq03Luy9ousXXh/VrXUbKRorm3cOjKcdO30PSvvXTro3un21wRgyxLJj6gGvz8r780D/kBad/17R/+givms+irU5ddf0PquHZO9SPTT9S/RRRXyJ9mFFFFABRRRQAUUUUAFFFFABRRRQAUUUUAFFFFABRRRQAUUUUAFFFFABRRRQAUUUUAFFFFABRRRQAUUUUAFFFFAHw78Uv+Si+If+vyT+ddXJdP4X+Adl9jPlza/fSi5lXhjHGSoTPp8v6muU+KX/JRfEP/AF+SfzrpPFX/ACQnwT/1+Xf/AKG1fo0tadCL2bX/AKS2fmMXy1cRJbpP8ZJfkzzKiiivVPIPpn9lvxHdX2h6npM7mSGzkV4C38IbOV+mRn8TXuVfO/7J/wDrPEH0i/8AZq+iK/Oc0io4uaX9aH6dlMnLBU2/P8woooryj1wooooAKKKKACiiigAooooAKKKKACiiigAooooAKKKKACiiigAooooAKKKKACiiigAooooAKKKKACiiigAooooAKKKKACiiigAooooAKKKKACiiigAooooAKKKKACiiigAooooAKKKKACiiigAooooAKKKKAPKfh/8A8l8+LP8A1x0b/wBETV6tXlPw/wD+S+fFn/rjo3/oiavVqACiiigAooooAKKKKACiiigAooooAKKKKACiiigAooooAKKKKACiiigAooooAKKKKACiiigAooooAKKKKACiiigAooooAKKKKACiiigAooooAKKKKACiiigAooooAKKKKACiiigAooooAK8p/ZP/AOTXfhB/2KOk/wDpHFXq1eU/sn/8mu/CD/sUdJ/9I4qAPVqKKKACiiigAooooAKKKKACiiigAooooAKKKKACiiigAooooAKoa9/yA9R/69pP/QTV+qGvf8gPUf8Ar2k/9BNVH4kRP4WfAdenfHb/AJCnhz/sDQf1rzGvTvjt/wAhTw5/2BoP61+l1f8AeKX/AG9+h+WUf92q/wDbv5sPh/8A8kl+IP8Au23/AKE1eY16d8P/APkkvxB/3bb/ANCavNIYXuJo4o13SSMFVR3JOAKKH8St6/8AtqDEfwqP+H/25jK9Q/ZyRl+KVkSpA8ibt/sGtXUrzSPgfa22nW2nWuseL3jWW6ub1d8druGQqr64/wAfasdf2ivGMbbklsUPbbaIK5qs6uLpSjSh7slZNu3ztZ6HVRp0cHWjKtP3otNpK/yvdan19RXzb4F/aa1L+1IbXxJDby2UrhTdQIUeLJ6kZwR+Ga+kI5FmjV0YMjDKsOhB718PisJVwklGqtz77C4yjjIuVJ7DqKKK4zuCiiigAooooAKKKKACiiigDy/9o/8A5Jfdf9fEX86+b/hT/wAlJ8Nf9f0X/oVfSH7R/wDyS+6/6+Iv5183/Cn/AJKT4a/6/ov/AEKvs8r/ANwqfP8AI+Gzb/kY0/8At38yt8R/+SheJ/8AsJ3P/o1q52ui+I//ACULxP8A9hO5/wDRrVi6fp9zql5Fa2dvJdXMp2pFEpZmPsBX0NFpUot9l+R81WTdaSXd/mV6+/NA/wCQFp3/AF7R/wDoIr5Jt/gD4vkjVpra1smYZ8u5ukVvyBNfWuivHHptnb+dG8sUKIwjcNyFANfK51Wp1lD2ck7X2+R9fkVCrRlU9pFq9t/maFFFFfKn14UUUUAFFFFABRRRQAUUUUAFFFFABRRRQAUUUUAFFFFABRRRQAUUUUAFFFFABRRRQAUUUUAFFFFABRRRQAUUUUAfDvxS/wCSi+If+vyT+ddJ4q/5IT4J/wCvy7/9Daub+KX/ACUXxD/1+SfzrpPFX/JCfBP/AF+Xf/obV+jP4MP6r/0ln5gvjxPo/wD0pHmVFFdZ4Z+Ffibxda/arDTWFn/z83DCKM/Qsefwr0Z1IU1zTdl5nm06c6r5acW35Hq/7J/+s8QfSL/2avoivGfgL4Gv/h/Jqx1aazT7SEEfk3Cv0zn+deyqwZQQcg9CK/PMynGpipTg7p2/I/S8qhKnhIQmrNX/ADFoooryz1gooooAKKKKACiiigAooooAKKKKACiiigAooooAKKKKACiiigAooooAKKKKACiiigAooooAKKKKACiiigAooooAKKKKACiiigAooooAKKKKACiiigAooooAKKKKACiiigAooooAKKKKACiiigAooooAKKKKAPKfh/8A8l8+LP8A1x0b/wBETV6tXlPw/wD+S+fFn/rjo3/oiavVqACiiigAooooAKKKKACiiigAooooAKKKKACiiigAooooAKKKKACiiigAooooAKKKKACiiigAooooAKKKKACiiigAooooAKKKKACiiigAooooAKKKKACiiigAooooAKKKKACiiigAooooAK8p/ZP/AOTXfhB/2KOk/wDpHFXq1eU/sn/8mu/CD/sUdJ/9I4qAPVqKKKACiiigAooooAKKKKACiiigAooooAKKKKACiiigAooooAKoa9/yA9R/69pP/QTV+qGvf8gPUf8Ar2k/9BNVH4kRP4WfAdenfHb/AJCnhz/sDQf1rzGvTvjt/wAhTw5/2BoP61+l1f8AeKX/AG9+h+WUf92q/wDbv5sPh/8A8kl+IP8Au23/AKE1cd4EUN420AMMg38GQf8Arotdj8P/APkkvxB/3bb/ANCauP8AAX/I8eH/APr/AIP/AEYtZR3r+v8A7ajWW2H9P/bmafxiZn+J3iMsSx+1MOfQAAVx1dh8X/8AkpviP/r7b+lcfXVhv4EPRfkcmK/j1PV/mFfdfw+ma48D6DI5y7WURJ/4CK+FK+5/hv8A8iD4f/68Yv8A0EV4Gffw4ep9Hw9/Fqeh0lFFFfGH3IUUUUAFFFFABRRRQAUUUUAeX/tH/wDJL7r/AK+Iv5183/Cn/kpPhr/r+i/9Cr6Q/aP/AOSX3X/XxF/Ovm/4U/8AJSfDX/X9F/6FX2eV/wC4VPn+R8Nm3/Ixp/8Abv5lb4j/APJQvE//AGE7n/0a1dx4fvh8MfhWmu2aKPEGuTPBBcsoJt4V4JXPc/1HpXD/ABH/AOSheJ/+wnc/+jWrrPG//JHPA3/XS4/nXp1FzU6NN7Nq/wBzf6HlU24VK9SO8U7eWqX6nnl5q17qE7TXV3PcTMcs8khYn86LPVr7T51mtbye3lU5V4pCpB/CqlFenyq1rHlc0r3vqfYfwL+IVz4+8KyHUG36jYyCGWTGPMBGVbjueR+FekV4J+yd/wAgrxF/12h/9Bave6/NswpxpYqcIKyP1HLakq2Epzm7u36hRRRXnnpBRRRQAUUUUAFFFFABRRRQAUUUUAFFFFABRRRQAUUUUAFFFFABRRRQAUUUUAFFFFABRRRQAUUUUAFFFFAHw78Uv+Si+If+vyT+ddJ4q/5IT4J/6/Lv/wBDaub+KX/JRfEP/X5J/Ouk8Vf8kJ8E/wDX5d/+htX6M/gw/qv/AEln5gvjxPo//SkYXwm8KweMPHFjY3fNkm6e4B6FEGSPx4H40/4g/ErUfGOqSLHPJaaRCTHaWUJ2IkY4GQOpxW1+z7/yOl7/ANgy4/kK8zb7x+taqKqYqTlrypW+d7mTk6eEioaczd/O1rfmP+0S/wDPV/8Avo16h8E/inqfhzxRZabdXctzpN5IIWhlbd5bMcKy56c9unNeV1r+D/8AkbdE/wCv6D/0YtbYilCtSlGaurGOFrTo1ozg7O596UUUV+XH60FFFFABRRRQAUUUUAFFFFABRRRQAUUUUAFFFFABRRRQAUUUUAFFFFABRRRQAUUUUAFFFFABRRRQAUUUUAFFFFABRRRQAUUUUAFFFFABRRRQAUUUUAFFFFABRRRQAUUUUAFFFFABRRRQAUUUUAFFFFABRRRQB5T8P/8AkvnxZ/646N/6Imr1avKfh/8A8l8+LP8A1x0b/wBETV6tQAUUUUAFFFFABRRRQAUUUUAFFFFABRRRQAUUUUAFFFFABRRRQAUUUUAFFFFABRRRQAUUUUAFFFFABRRRQAUUUUAFFFFABRRRQAUUUUAFFFFABRRRQAUUUUAFFFFABRRRQAUUUUAFFFFABXlP7J//ACa78IP+xR0n/wBI4q9Wryn9k/8A5Nd+EH/Yo6T/AOkcVAHq1FFFABRRRQAUUUUAFFFFABRRRQAUUUUAFFFFABRRRQAUUUUAFUNe/wCQHqP/AF7Sf+gmr9UNe/5Aeo/9e0n/AKCaqPxIifws+A69O+O3/IU8Of8AYGg/rXmNenfHb/kKeHP+wNB/Wv0ur/vFL/t79D8so/7tV/7d/Nh8P/8AkkvxB/3bb/0Jq4/wF/yPHh//AK/4P/Ri12Hw/wD+SS/EH/dtv/Qmrj/AX/I8eH/+v+D/ANGLWUd6/r/7ajWX/MP6f+3M0vi//wAlN8R/9fbf0rj67D4v/wDJTfEf/X239Kb8Pvh9N42uLqWW6TTdIsU8y7vpfuxr6D1JralUjSw0JzdkkvyMKtOVbFThBXbb/M5Gvuf4b/8AIg+H/wDrxi/9BFfNM2rfCrSnNvDoWra0E4N3LcmHf7hQRx9RXoXh/wDaY8N6bbWmnro19Z2MCLEjK6ylFAwOpyfzrxMzjWxkIqnTene3+dz38qlRwNSTq1Y6q2l/8rHvFFUND12x8SaZBqGnXC3VpMMpIv8AIjsfar9fGtOLs9z7iMlJXWwUUUUhhRRRQAUUUUAFFFFAHl/7R/8AyS+6/wCviL+dfN/wp/5KT4a/6/ov/Qq+kP2j/wDkl91/18Rfzr5v+FP/ACUnw1/1/Rf+hV9nlf8AuFT5/kfDZt/yMaf/AG7+ZW+I/wDyULxP/wBhO5/9GtXWeN/+SOeBv+ulx/OuT+I//JQvE/8A2E7n/wBGtXWeN/8Akjngb/rpcfzr1JbYf1/9tZ5Md8T6f+3I8xoop8MElw+yKNpW67UUk16Z5J9G/snf8grxF/12h/8AQWr3uvCf2VbWa10vxCJoZIiZoceYpXPyt617tX5zmn++VPl+SP07Kf8Acqfz/NhRRRXlnrhRRRQAUUUUAFFFFABRRRQAUUUUAFFFFABRRRQAUUUUAFFFFABRRRQAUUUUAFFFFABRRRQAUUUUAFFFFAHw78Uv+Si+If8Ar8k/nXSeKv8AkhPgn/r8u/8A0Nq5v4pf8lF8Q/8AX5J/Ouk8Vf8AJCfBP/X5d/8AobV+jP4MP6r/ANJZ+YL48T6P/wBKQfs+/wDI6Xv/AGDLj+QrzNvvH616Z+z7/wAjpe/9gy4/kK8zb7x+tb0/95qekf1MKn+60vWX6CVr+D/+Rt0T/r+g/wDRi1kVv+D9Ouz4p0SQWs2z7bAd3lnGPMXnOK6arSg79jlopupG3dH3ZRRRX5SfsAUUUUAFFFFABRRRQAUUUUAFFFFABRRRQAUUUUAFFFFABRRRQAUUUUAFFFFABRRRQAUUUUAFFFFABRRRQAUUUUAFFFFABRRRQAUUUUAFFFFABRRRQAUUUUAFFFFABRRRQAUUUUAFFFFABRRRQAUUUUAFFFFAHlPw/wD+S+fFn/rjo3/oiavVq8p+H/8AyXz4s/8AXHRv/RE1erUAFFFFABRRRQAUUUUAFFFFABRRRQAUUUUAFFFFABRRRQAUUUUAFFFFABRRRQAUUUUAFFFFABRRRQAUUUUAFFFFABRRRQAUUUUAFFFFABRRRQAUUUUAFFFFABRRRQAUUUUAFFFFABRRRQAV5T+yf/ya78IP+xR0n/0jir1avKf2T/8Ak134Qf8AYo6T/wCkcVAHq1FFFABRRRQAUUUUAFFFFABRRRQAUUUUAFFFFABRRRQAUUUUAFUNe/5Aeo/9e0n/AKCav1Q17/kB6j/17Sf+gmqj8SIn8LPgOvTvjt/yFPDn/YGg/rXmNenfHb/kKeHP+wNB/Wv0ur/vFL/t79D8so/7tV/7d/Nh8P8A/kkvxB/3bb/0Jq4/wF/yPHh//r/g/wDRi12Hw/8A+SS/EH/dtv8A0Jq4/wABf8jx4f8A+v8Ag/8ARi1lHev6/wDtqNZf8w/p/wC3M0vi/wD8lN8R/wDX239K6DUJW0v9n/TEtz5f9oaq/wBoI6uFU4B9uB+Vc/8AF/8A5Kb4j/6+2/pW94g/5IH4a/7Ck3/oLVD/AIWHXnH8maLSriX5S/8ASkeY0UUV6x456h8OvALfGj4Z+NvAc2t6hoEdytvPbanpkpS4s5gxPmRnPB+Vf1rjv+FB/thfBbL+B/jNpvxO0uIfJpvi+3KXLAfw+YxbJx3Mg+leu/sm/wDIS8R/9cYf/Qnr6Pr87zZJYydvL8kfpeTtvBQv5/mz4T/4bw+M3wi/dfGP9nfW47OHiXXfCUhuoP8AeKEEAe5kH0r0v4bf8FJvgH8R2igHjKPw3fPwbXxBC1oVPoXb5P8Ax6vqGvM/iR+zT8Lfi4sp8W+BNE1ieT711JaKs/18xQGz+NeQe0d5oviHSvEtjFfaRqdnqtlKMx3NlOk0bj1DKSDWhXxHrX/BKvwRot/Jqvws8deMPhbqpO5BpuoGa13diyNhyPbfj2rPHgf9tv4I/wDIv+L/AAv8Y9JhHy2euw+RdOPTflDu+smKAPuyivhaH/go54w+GsqW3xp+AnizwawO19S0uI3lofdWwAfwY/WvZ/hp+3x8B/iq0UOk/ETS7K/kbYLHWWNjMW/ugShQx/3SaAPoKiq9jqFrqlutxZ3MN3A3KywSB1P0IqxQB5f+0f8A8kvuv+viL+dfN/wp/wCSk+Gv+v6L/wBCr6Q/aP8A+SX3X/XxF/Ovm/4U/wDJSfDX/X9F/wChV9nlf+4VPn+R8Nm3/Ixp/wDbv5lb4j/8lC8T/wDYTuf/AEa1dZ43/wCSOeBv+ulx/OuT+I//ACULxP8A9hO5/wDRrV1njf8A5I54G/66XH869SW2H9f/AG1nkx3xPp/7cjkvAPhGXxx4qstJjfyklJaWb/nnGoyzfl+pFdxrnxei8JTPo/giwtdP0+3PltevEHmuWHBckjof8+lU/gDx4m1sjqNFuiD6fcrzKrlTjiK8o1NYxS06Xd9SI1JYbDxlS0lJvXrZW0R6Kv7QHjVPu6lGPpAn+Feq/Bv49XHivVotD16ONbyYH7PdRjaHYDO1h646EV8y10vw1JX4geHiDg/bov8A0IVjisBh50ZWgk7bo2wmY4mFeN5tptaNn3NRRRX52fpgUUUUAFFFFABRRRQAUUUUAFFFFABRRRQAUUUUAFFFFABRRRQAUUUUAFFFFABRRRQAUUUUAFFFFABRRRQB8O/FL/koviH/AK/JP510nir/AJIT4J/6/Lv/ANDaub+KX/JRfEP/AF+SfzrpPFX/ACQnwT/1+Xf/AKG1foz+DD+q/wDSWfmC+PE+j/8ASkH7Pv8AyOl7/wBgy4/kK8zb7x+temfs+/8AI6Xv/YMuP5CvM2+8frW9P/eanpH9TCp/utL1l+h61ottpXwp8H6f4g1Cwh1XxJqgMljbXIzFbRj+Mjue/wCIrKk+P3jJpCy3sEYzkKlugA+nFT/Hj5dX8MxDiNdCtiF9Ml8/yrzKsMPQp4iHtqq5m+/TyR0YjEVcPP2NGXKo9tL92z1fQ/2kvFen30cl88OpWuR5kLRhCR3ww6GvqDwz4itPFehWeq2Lbra5TcueqnoQfcHIr4Ir63/ZrYt8MIATkC6mA9uRXj5xg6NOkqtONne2h7WSY2vVrOjUldWvqeqUUUV8ifaBRRRQAUUUUAFFFFABRRRQAUUUUAFFFFABRRRQAUUUUAFFFFABRRRQAUUUUAFFFFABRRRQAUUUUAFFFFABRRRQAUUUUAFFFFABRRRQAUUUUAFFFFABRRRQAUUUUAFFFFABRRRQAUUUUAFFFFABRRRQB5T8P/8AkvnxZ/646N/6Imr1avKfh/8A8l8+LP8A1x0b/wBETV6tQAUUUUAFFFFABRRRQAUUUUAFFFFABRRRQAUUUUAFFFFABRRRQAUUUUAFFFFABRRRQAUUUUAFFFFABRRRQAUUUUAFFFFABRRRQAUUUUAFFFFABRRRQAUUUUAFFFFABRRRQAUUUUAFFFFABXlP7J//ACa78IP+xR0n/wBI4q9Wryn9k/8A5Nd+EH/Yo6T/AOkcVAHq1FFFABRRRQAUUUUAFFFFABRRRQAUUUUAFFFFABRRRQAUUUUAFUNe/wCQHqP/AF7Sf+gmr9UNe/5Aeo/9e0n/AKCaqPxIifws+A69O+O3/IU8Of8AYGg/rXmNenfHb/kKeHP+wNB/Wv0ur/vFL/t79D8so/7tV/7d/Nh8P/8AkkvxB/3bb/0Jq4/wF/yPHh//AK/4P/Ri12Hw/wD+SS/EH/dtv/Qmrj/AX/I8eH/+v+D/ANGLWUd6/r/7ajWX/MP6f+3M0vi//wAlN8R/9fbf0re8Qf8AJA/DX/YUm/8AQWrB+L//ACU3xH/19t/St7xB/wAkD8Nf9hSb/wBBao/5dYf1X/pLNP8Al7ifR/8ApSPMaKKK9Y8c98/ZN/5CXiP/AK4w/wDoT19H184fsm/8hLxH/wBcYf8A0J6+j6/PM2/3yfy/JH6Vk3+4w+f5sKKKK8c9sKKKKAI5oI7mJopo1liYYZHUEEehBrxj4lfsXfBL4trIfEvw50a4uHBH2uzjaznHv5kJRv1r2uigD4avv+CZDeB7lrz4N/GLxl8O5lO6Oze7N1bA9hjKnb7HPvmq/n/tz/BVh58fhL43aPHxvi2WV9tHqAIgTj0Dn3r7tooA/OT4qf8ABRb/AIpCbw98T/hN4u+HOqNNGftM1qZ7Tg8/PhSPoA1M/Z/+PXw+8ZfEbw02l+K9OdvtsR8ueUQuPm7q+DX2T+0xYQah8K7yO4t47mPz4tyyoGGM46GvhSw/ZK+FvxP8aaRY6n4Xt7H7ZdJHJPpP+iSYY8kbMDPvivqsv9v9Tm4Wtro7327/APAPkMy9h9epqonzaaq1t+3/AAT1b4iOsnxA8SujBlbU7khlOQR5rc11vjf/AJI54G/66XH86+OfGX7IviD4a+Ltcs/hx8UNb0e1s76aGKx1NjcwlVdgAecZ467TW34k8ZftPfD34f8AhqPxH4U0Pxz4bjaU2l1pM3lXLc/MCOv/AI5XoyxEoqj7SDST33+y+2v4HmRw8ZOv7Kom2ttvtLvp+J9VfAP/AJGTXf8AsCXX/sleZV5n8Ef29vBPg7xPqUHj7Rtd8D3Vxpk9qFvrNpEEjbccgA44PJUV0XhP4qeEPHSqdC8RafqLsM+THOolA90PzD8q68PiKVTEVHGW9v1OPE4etSw1NTjs5fodVXSfDX/kf/D3/X7F/wChCub69K6T4a/8j/4e/wCv2L/0IV3Vv4UvRnn4f+ND1X5n3PRRRX5WfrwUUUUAFFFFABRRRQAUUUUAFFFFABRRRQAUUUUAFFFFABRRRQAUUUUAFFFFABRRRQAUUUUAFFFFABRRRQB8O/FL/koviH/r8k/nXSeKv+SE+Cf+vy7/APQ2rnPioCvxG8QgjB+2P/Ouj8Vf8kJ8E/8AX5d/+htX6M/gw/qv/SWfmC+PE+j/APSkH7Pv/I6Xv/YMuP5CvM2+8frXpn7Pv/I6Xv8A2DLj+QrzNvvH61vT/wB5qekf1MKn+60vWX6Hpnx6/wCQ54b/AOwDa/zevMq9N+PX/Ic8N/8AYBtf5vXmVPBf7vAMf/vMwr62/Zq/5JjF/wBfc38xXyTX1t+zV/yTGL/r7m/mK83O/wDdfmv1PUyH/e36P9D1Wiiivgz9CCiiigAooooAKKKKACiiigAooooAKKKKACiiigAooooAKKKKACiiigAooooAKKKKACiiigAooooAKKKKACiiigAooooAKKKKACiiigAooooAKKKKACiiigAooooAKKKKACiiigAooooAKKKKACiiigDyn4f/APJfPiz/ANcdG/8ARE1erV5T8P8A/kvnxZ/646N/6Imr1agAooooAKKKKACiiigAooooAKKKKACiiigAooooAKKKKACiiigAooooAKKKKACiiigAooooAKKKKACiiigAooooAKKKKACiiigAooooAKKKKACiiigAooooAKKKKACiiigAooooAKKKKACvKf2T/wDk134Qf9ijpP8A6RxV6tXlP7J//Jrvwg/7FHSf/SOKgD1aiiigAooooAKKKKACiiigAooooAKKKKACiiigAooooAKKKKACqGvf8gPUf+vaT/0E1fqhr3/ID1H/AK9pP/QTVR+JET+FnwHXp3x2/wCQp4c/7A0H9a8xr0747f8AIU8Of9gaD+tfpdX/AHil/wBvfofllH/dqv8A27+bD4f/APJJfiD/ALtt/wChNXH+Av8AkePD/wD1/wAH/oxa7D4f/wDJJfiD/u23/oTVx/gL/kePD/8A1/wf+jFrKO9f1/8AbUay/wCYf0/9uZpfF/8A5Kb4j/6+2/pW94g/5IH4a/7Ck3/oLVg/F/8A5Kb4j/6+2/pW94g/5IH4a/7Ck3/oLVH/AC6w/qv/AElmn/L3E+j/APSkeY0UUV6x4575+yb/AMhLxH/1xh/9Cevo+vnD9k3/AJCXiP8A64w/+hPX0fX55m3++T+X5I/Ssm/3GHz/ADYUUUV457YUUUUAFFFFABRRRQBleKPDtr4s8P32k3gPkXUZQsvVT1DD3Bwfwr508N/BHxP4P+JWiztafbdMgvY3N5Cw2hAepXOR+VfUFFd+HxtXDQlCO0jzsTgaWKnGpPSUex8LfEf/AJKF4n/7Cdz/AOjWrrPG/wDyRzwN/wBdLj+dcn8R/wDkoXif/sJ3P/o1q6zxv/yRzwN/10uP519xLbD+v/trPgY74n0/9uRm/B/w5pPijVdesdZ0yz1azbRbljb3sCzR5BTB2sCM18u+LP2Rfhn4qZpf7FbR7ljuE+lSmFlPqByv6V9Z/AP/AJGTXf8AsCXX/sleZU/Y061eoqkU9I/qL21Wjh6Tpya1lt8jA+B/7H3/AAq+OHxd4r+KXiabwhnFj4dYo014w/vOwPyf7oU+47+7af8AEfwJouoQXVj4KlWW3cPFK92SwI6E9eag+PkjQ61oOnIdtnZ6TAIYuy5ByfqcD8q8vrnwuFhUpc8m7S6XdkvvOjF4ydKryRSvHrZXb77H1B4f/ah0TUr5INSsJ9Mic4FxuEir/vY5Ar2iKVJ40kjdZI3AZWU5BB6EGvz3r7H+AOozal8L9LaZi7RGSFST/CrEAflXi5pl9LDQVWlprax72UZlWxVR0q2rte56JRRRXzJ9UFFFFABRRRQBm+IfENh4W0i41LUp1t7SEZZj1PoAO5PpXnelfF3xB4ujkuvDPhA6hpyuUE9xfRxMSP8AZ5Iqx44tV8UfFXwvoN0PM023hl1GWBvuyMvCZ9cGsb4n6DB8O7q117wrPJpeuX1wIF02BN8N6x6gx9B9R/OvYw9GlaMJK85aq97L1s0+m/Q8XEVq15Ti7Qg7O1rv0umuu3U3/wDhMviF/wBCFD/4NU/wo/4TL4hf9CFD/wCDVP8ACobXwX4716NbnWfGMmkyuM/Y9LgUJF7bup/Wpv8AhV3iD/ooWtf98JT/ANnWj5P/ACf/ADF/tL1XP/5Iv0GTePvHVjGZ7rwAzW6cv9l1BJZMeygZNdL4I+IWkePLFptPlKXEfE9nN8ssTehHp71zv/CrvEH/AEULWv8AvhK566/Z/wBStdUfWtM8XXSa3neLiaFRvb/ax1B75BpOOEqRaclF9Lc343uCnjKck1FyXVNxv8rWPaaK4P4f+ONR1DUrrw54lt0tPEdmgkJi/wBXcxnpIn9f8iu8rzKlOVKXLI9WlVjWjzR/ryCiiisjYKKKKACuW8ffEbSPh3pqXOpSM0kp2w20WDJIfYdh711NeVeH9ItfGnxS8X3uqwJew6eE062gnXciKVy5x0yT3966sPCEm51Phirvz1scmJqTiowpfFJ2V+ml7/gTWPxE8bavax3lh4Gjls5hvid9TjBZT0OMcVP/AMJl8Qv+hCh/8Gqf4Vyeqafq3gDxzb+H/AN6ZPt8bTTaZeDzILNe0m4nKjrx7d+K6pPhv4svF8y++IGoJOeq2cCRxj6CvSnGhG0rRSe1+e/zSZ5cJ4iV43m5LR25LfJtf11Hf8Jl8Qv+hCh/8Gqf4VDdfEnxjo0bXGp+AZxaINzyWV4k7Ko6naB/nmpv+FXeIP8AooWtf98JR/wq7xB/0ULWv++ErO+G68v/AJOaWxfTn/8AJDrPCPjTSfG+mLe6VcrMnR4zxJG3oy9jW5Xii/AXWPDd/LrHhzxVKmrklz9ohCxzH0bGRg/Q13Hw78dT+JlvdO1W1Gn+IdNYJd2wPynPR1/2TXPXw9OzqYeXNFfev+B5nVh8RUuqeJjyyf3P/g+R2dFFFeeeiFFFFAHg/wAbPgXfeJNXk13w+qzXMwH2i0ZgpZgMblJ46djXD/ETQ77w78G/B2n6lbPaXkV5db4ZMZGWYjp7EV9YV4R+1f8A8gHQP+vmT/0EV9Hl+Nq1alLDz1Sfz2Z8xmWBpUaVbEw0bWvbdHnH7Pv/ACOl7/2DLj+QrzNvvH616Z+z7/yOl7/2DLj+QrzNvvH619VT/wB5qekf1PkKn+60vWX6Hpnx6/5Dnhv/ALANr/N64/wV4PvfHGvQ6XY4VmBeSVvuxRjqx9h/Wuw+PX/Ic8N/9gG1/m9P+FsjWPw/+IF7AfLultI4lkHUKzHIH1rmp1JU8FGUN9F97sdVWnGrjpRntq38lcmvL74aeEJDYwaXd+KZ4ztlvZJ/LjZh12Ads+34muk8NftFaH4T09dP03wvLa2Ycv5a3IPJ6nkV4LRWssBSqxtVbl6t/lsZQzGtSlzUUo+iX57n3H4D+ImkfELTWudNlYSR4E1tJxJGfcenvXUV8jfs3X89r8TrWCNysV1bzRyr2YBSw/VRX1zXxOY4WOEr8kHo9T7zLMXLGYf2k1qnZhRRRXmHqnFfE74lW3w502GRoftV7ckiCDdtBx1Yn0GR+deX6d+09fLN/p+i28kWf+XeRlYfnnP6Un7UH/IY0L/rhJ/6EK8Sr8M4k4kzPB5rUoYapyxhaysuyet15n65kWRYDE5dCtXhzSlfW77taWPqfRf2gvCmqbVuZptMkPa4jJX81zXd6X4i0vW4w+n6jbXinvDKrfyNfDtSQ3EttIHhkeJx0ZGIP5iownH+Mp2WJpRmvL3X+q/ArE8G4WeuHqOPrqv0f4n3fRXx7onxe8W6DtWDWJZYh/yyuQJV+nzDI/A132i/tOXkW1dV0mKcd5LVyh/I5r7PCccZXiLKtzU35q6+9X/JHy2J4SzCjrTtNeTs/wAbfmfQlFec6L8fPCWr7VlupdNlP8N3GQP++hkfma7nTdasNYj8yxvYLtPWGQN/KvssLmODxqvhqsZejV/u3Pl8RgcThXavTcfVF2iiivROIKKKKACiiigAooooAKKKKACiiigAooooAKKKKACiiigAooooAKKKKACiiigAooooAKKKKACiiigAooooAKKKKACiiigAooooAKKKKACiiigAooooAKKKKAPKfh//AMl8+LP/AFx0b/0RNXq1eU/D/wD5L58Wf+uOjf8AoiavVqACiiigAooooAKKKKACiiigAooooAKKKKACiiigAooooAKKKKACiiigAooooAKKKKACiiigAooooAKKKKACiiigAooooAKKKKACiiigAooooAKKKKACiiigAooooAKKKKACiiigAooooAK8p/ZP/wCTXfhB/wBijpP/AKRxV6tXlP7J/wDya78IP+xR0n/0jioA9WooooAKKKKACiiigAooooAKKKKACiiigAooooAKKKKACiiigAqhr3/ID1H/AK9pP/QTV+qGvf8AID1H/r2k/wDQTVR+JET+FnwHXp3x2/5Cnhz/ALA0H9a8xr0747f8hTw5/wBgaD+tfpdX/eKX/b36H5ZR/wB2q/8Abv5sPh//AMkl+IP+7bf+hNXH+Av+R48P/wDX/B/6MWuw+H//ACSX4g/7tt/6E1cf4C/5Hjw//wBf8H/oxayjvX9f/bUay/5h/T/25ml8X/8AkpviP/r7b+lb3iD/AJIH4a/7Ck3/AKC1YPxf/wCSm+I/+vtv6VveIP8Akgfhr/sKTf8AoLVH/LrD+q/9JZp/y9xPo/8A0pHmNFFFeseOe+fsm/8AIS8R/wDXGH/0J6+j6+cP2Tf+Ql4j/wCuMP8A6E9fR9fnmbf75P5fkj9Kyb/cYfP82FFFFeOe2FFFFABRRRQAUUUUAFFFFAHwt8R/+SheJ/8AsJ3P/o1q6zxv/wAkc8Df9dLj+dcn8R/+SheJ/wDsJ3P/AKNaus8b/wDJHPA3/XS4/nX6PLbD+v8A7az8wjvifT/25CfAP/kZNd/7Al1/7JXmVem/AP8A5GTXf+wJdf8AsleZVvT/AN4qekf1Oer/ALtS9ZfoenftA/8AI3ad/wBgu3/ka8xr079oH/kbtO/7Bdv/ACNeY0sF/u0PQeP/AN6qeoV9e/s4/wDJLLH/AK7zf+hmvkKvr39nH/kllj/13m/9DNebnf8Auq9V+TPVyD/e3/hf5o9Oooor4Q/QQooooAKKKKAPN9R/5L1pH/YHm/8AQxTfEkYvPjh4Vhl+eKCwuJ0U9A+SM/oPyp2o/wDJetI/7A83/oYo1r/ku/hz/sFXH/oRr2I7x/wP9TxZbS/6+L/209Iooorxz2gooooA818aRi3+MHgS6j+SaUXMDsP4k8pjg+vPNelV5v47/wCSqfD/AP663P8A6KavSK7K/wAFL/D/AO3M4sP/ABKv+L/22IUUUVxnaFFFFABXm/wz/wCR2+IH/YSX/wBAFekV5v8ADP8A5Hb4gf8AYSX/ANAFdlH+FV9F+aOKt/Fper/9JY34exi4+J3xBupBvmjnt7dGPVU2E4H44/KvSq83+G//ACUL4i/9ftv/AOizXpFGL/i/KP8A6Sgwf8L5y/8ASmFFFFcZ2hXmt1GLX4/WLxfIbrRpBNj+La/BPvXpVecal/yXnRv+wPN/6GK7MNvP/C/yOLFbQ/xL8z0eiiiuM7QooooAK8I/av8A+QDoH/XzJ/6CK93rwj9q/wD5AOgf9fMn/oIr1Mr/AN8p/wBdGeRm3+5VPl+aPOP2ff8AkdL3/sGXH8hXmbfeP1r0z9n3/kdL3/sGXH8hXmbfeP1r7mn/ALzU9I/qfAVP91pesv0PTPj1/wAhzw3/ANgG1/m9Hw5/5Jj8Qf8ArhB/6E1Hx6/5Dnhv/sA2v83o+HP/ACTH4g/9cIP/AEJq4l/uUPWP/pSO9/79P0l/6SzzKiiivbPBPSv2dv8Akq2l/wDXOf8A9FNX2DXx9+zt/wAlW0v/AK5z/wDopq+wa+Fzz/eV6L82foGQf7q/8T/JBRRRXzx9KfPP7UH/ACGNC/64Sf8AoQrxKvbf2oP+QxoX/XCT/wBCFeJV/MvFn/I6xHqv/SUfvnDn/Iqo+j/NhRRRXyJ9IFFFFABUtteT2cgkt5pIJFOQ8bFSPxFRUU03F3Qmk1Znb6J8ZvFuh7VTVZLuMfwXn739Tz+td9on7Tsy4TVtGWQd5bSTaf8Avlv8RXhVFfR4TiPNcFZUq7t2fvL8bniYnI8uxWtSir91o/wsfWei/HTwlrO1WvmsJD/DdoV/XkfrXb2Op2eqQiWzuobqI9HhkDj8xXwrU9nf3OnTCa1uJbaUdHhcqfzFfZ4TxAxMLLFUVLzTs/1X5Hy2J4Mw8tcPVcfXX/I+7KK+SNE+N3i7RSoGo/bYh/yzvEDg+2eD+te/fDH4pWfxDs5F8sWmpwDMttnII/vKe4/lX6BlPFWX5tUVCneM30l19GtD4vMuHsZlsHVnaUO66eqO5ooor7E+YCiiigAooooAKKy/E3iCDwvoV5qlyrNDbJvKr1b0A/GvGm/ahG440A47Zuf/ALGvDzDO8vyucaeLqcreqVm9PkmevgspxuYRc8NT5ktN0vzZ7zRXkPgz9oK38UeIrTSp9KazN03lxyrLvG49ARgda9erpwGZYTNKbq4SfNFO3Va/Oxz4zA4jL5qniY8revT9Aooor0zgCimmRV4LAH60LIrcBgT7GlcY6iiimIKKKKACiiigAooooAKKKKACiiigAooooAKKKKACiiigAooooAKKKKACiiigAooooA8p+H//ACXz4s/9cdG/9ETV6tXlPw//AOS+fFn/AK46N/6Imr1agAooooAKKKKACiiigAooooAKKKKACiiigAooooAKKKKACiiigAooooAKKKKACiiigAooooAKKKKACiiigAooooAKKKKACiiigAooooAKKKKACiiigAooooAKKKKACiiigAooooAKKKKACvKf2T/+TXfhB/2KOk/+kcVerV5T+yf/AMmu/CD/ALFHSf8A0jioA9WooooAKKKKACiiigAooooAKKKKACiiigAooooAKKKKACiiigAqjriltF1AAZJt5AB/wE1epGUOpUjIIwRTTs7ikrpo/PWvTvjt/wAhTw5/2BoP61L8SPgTrnhvWbiXSbGTUdJlctC1uNzRgn7jL149aZ8fIng1nw/HIpSRNIgVlYYIILZFfoqr08RWpSpu+/5I/Mnh6uHo1oVI21j+bG/D/wD5JL8Qf922/wDQmrj/AAF/yPHh/wD6/wCD/wBGLXYfD/8A5JL8Qf8Adtv/AEJq4/wF/wAjx4f/AOv+D/0YtVHev6/+2oiX/MP6f+3M0vi//wAlN8R/9fbf0re8Qf8AJA/DX/YUm/8AQWrB+L//ACU3xH/19t/St7xB/wAkD8Nf9hSb/wBBao/5dYf1X/pLNP8Al7ifR/8ApSPMaKKK9Y8c98/ZN/5CXiP/AK4w/wDoT19H184fsm/8hLxH/wBcYf8A0J6+j6/PM2/3yfy/JH6Vk3+4w+f5sKKKK8c9sKKKKACiiigAooooAKKKKAPjr47+D5vDPj6/uCGa01KVruOTacbmOWXOMZBJ6diKseN/+SOeBv8Arpcfzr6v1fQ9P1+1NtqVlDfQH/lnOgYfrXgf7TGjWWgeHvDVjp9utraRyy7IkzhcgGvrcHmH1iVGjJaxe/yZ8bjcu+rQr14v3ZLb5o4v4B/8jJrv/YEuv/ZK8yr034B/8jJrv/YEuv8A2SvMq+hp/wC8VPSP6nzVX/dqXrL9D079oH/kbtO/7Bdv/I15jXp37QP/ACN2nf8AYLt/5GvMaWC/3aHoPH/71U9Qr69/Zx/5JZY/9d5v/QzXyFX17+zj/wAkssf+u83/AKGa83O/91XqvyZ6uQf72/8AC/zR6dRRRXwh+ghRRRQAUUUUAeb6j/yXrSP+wPN/6GKNa/5Lv4c/7BVx/wChGjUf+S9aR/2B5v8A0MUa1/yXfw5/2Crj/wBCNexHp/17f6niy+1/18X6HpFFFFeOe0FFFFAHm/jv/kqnw/8A+utz/wCimr0ivN/Hf/JVPh//ANdbn/0U1ekV2V/4dL0/9uZxYf8AiVf8X/tsQooorjO0KKKKACvN/hn/AMjt8QP+wkv/AKAK9Irzf4Z/8jt8QP8AsJL/AOgCuyj/AAqvovzRxVv4tL1f/pLD4b/8lC+Iv/X7b/8Aos16RXm/w3/5KF8Rf+v23/8ARZr0ijF/xflH/wBJQYP+F85f+lMKKKK4ztCvONS/5Lzo3/YHm/8AQxXo9ecal/yXnRv+wPN/6GK7MNvP/C/yOLFbQ/xR/M9HooorjO0KKKKACvL/ANoXwhJ4o8CvcW4L3Wmv9oVFUsWXowAA645/CvUKTrweRW9CtKhUjVjujDEUY4ilKlLZnyF+z9x41vgeD/Zlz/IV5m33j9a+5bzwboenNqGrWul21tqL28qtcRJtZgV5zjr0r4ab7x+tfc5fio4upUqxVtv1Pz7MsJLBUqdKTvrJ/kemfHr/AJDnhv8A7ANr/N6Phz/yTH4g/wDXCD/0JqPj1/yHPDf/AGAbX+b0fDn/AJJj8Qf+uEH/AKE1C/3KHrH/ANKQ3/v0/SX/AKSzzKiiivbPBPSv2dv+SraX/wBc5/8A0U1fYNfH37O3/JVtL/65z/8Aopq+wa+Fzz/eV6L82foGQf7q/wDE/wAkFFFFfPH0p88/tQf8hjQv+uEn/oQrxKvbf2oP+QxoX/XCT/0IV4lX8y8Wf8jrEeq/9JR++cOf8iqj6P8ANhRRRXyJ9IFFFFABRRRQAUUUUAFFFFABXcfBW/msfiVo3lNgTO0Lr2ZSp4/PB/CuHrr/AIRf8lJ0D/r4/wDZTXrZTJxzHDuL+3H/ANKR52ZRUsFWT/ll+TPsSiiiv6yP5wCiiigAooooA4n40f8AJNda/wCua/8AoQr5Cr69+NH/ACTXWv8Armv/AKEK+Qq/BeP/APkY0v8AB+rP2Lg3/can+L9EdR8L/wDkonh7/r8j/nX2XXxp8L/+SieHv+vyP+dfZdfT+H/+41v8f6I8DjT/AHql/h/VhVfUJWg0+5kQ4dImZT7gGrFVNW/5BV7/ANcX/wDQTX6fUdoNrsfn8NZJHxPdeINTvriSee/uJJZGLMxlbkn8adp/iLU9PvIbiC/uI5o3DKwlPXP1rNp0f+sX61/Iar1efm53f1Z/S7o0+Xl5Vb0PuyOYG3SRyFyoJJ4HSj7VD/z2j/76FeM/tGajc2nhjRIYJ5Io5pP3ioxG7C8Zr5++3XP/AD8S/wDfZr94zjjFZTi3hPY81ktea26v2Z+P5Xww8ywyxPteW7elr7O3dH3UkiyDKMrD1U5p1fO37NGqXcniTVLR7iR7Y2nm+WzEjcHUA/kxr6Jr6zJc0WcYOOLUOW7atvsfOZpl7yzFSwzlzWtrtuFFFFe4eQFFFFABRRRQAUUUUAFFFFABRRRQAUUUUAFFFFABRRRQAUUUUAFFFFAHlPw//wCS+fFn/rjo3/oiavVq8p+H/wDyXz4s/wDXHRv/AERNXq1ABRRRQAUUUUAFFFFABRRRQAUUUUAFFFFABRRRQAUUUUAFFFFABRRRQAUUUUAFFFFABRRRQAUUUUAFFFFABRRRQAUUUUAFFFFABRRRQAUUUUAFFFFABRRRQAUUUUAFFFFABRRRQAUUUUAFeU/sn/8AJrvwg/7FHSf/AEjir1avKf2T/wDk134Qf9ijpP8A6RxUAerUUUUAFFFFABRRRQAUUUUAFFFFABRRRQAUUUUAFFFFABRRRQAUUUUAFfK/7Uf/ACPll/14r/6G1fVFfK/7Uf8AyPll/wBeK/8AobV7mTf72vRnz+ef7m/VGV8P/wDkkvxB/wB22/8AQmrj/AX/ACPHh/8A6/4P/Ri12Hw//wCSS/EH/dtv/Qmrj/AX/I8eH/8Ar/g/9GLX1kd6/r/7aj46X/MP6f8AtzNL4v8A/JTfEf8A19t/St7xB/yQPw1/2FJv/QWrB+L/APyU3xH/ANfbf0re8Qf8kD8Nf9hSb/0Fqj/l1h/Vf+ks0/5e4n0f/pSPMaKKK9Y8c98/ZN/5CXiP/rjD/wChPX0fXzh+yb/yEvEf/XGH/wBCevo+vzzNv98n8vyR+lZN/uMPn+bCiiivHPbCiiigAooooAKKKKACiiigArwL9rD/AJB3h/8A66y/yFe+14F+1h/yDvD/AP11l/kK9XK/98h8/wAmeRm3+5VPl+aPPvgH/wAjJrv/AGBLr/2SvMq9N+Af/Iya7/2BLr/2SvMq+5p/7xU9I/qfn9X/AHal6y/Q9O/aB/5G7Tv+wXb/AMjXmNenftA/8jdp3/YLt/5GvMaWC/3aHoPH/wC9VPUK+vf2cf8Akllj/wBd5v8A0M18hV9e/s4/8kssf+u83/oZrzc7/wB1XqvyZ6uQf72/8L/NHp1FFFfCH6CFFVtTvRpum3d2ylxbxPKVHfapOP0rzL9nH9pTwb+078P7fxP4TvQzf6u902ZgLmyl7pIv6huhHSgD1aiiigDzfUf+S9aR/wBgeb/0MUa1/wAl38Of9gq4/wDQjRqP/JetI/7A83/oYo1r/ku/hz/sFXH/AKEa9iPT/r2/1PFl9r/r4v0PSKKKK8c9oKKKKAPN/Hf/ACVT4f8A/XW5/wDRTV6RXm/jv/kqnw//AOutz/6KavSK7K/8Ol6f+3M4sP8AxKv+L/22IUUUVxnaFFFFABXm/wAM/wDkdviB/wBhJf8A0AV6RXm/wz/5Hb4gf9hJf/QBXZR/hVfRfmjirfxaXq//AElh8N/+ShfEX/r9t/8A0Wa9Irzf4b/8lC+Iv/X7b/8Aos16RRi/4vyj/wCkoMH/AAvnL/0phRRRXGdoV5xqX/JedG/7A83/AKGK9HrzjUv+S86N/wBgeb/0MV2Ybef+F/kcWK2h/ij+Z6PRRRXGdoUUV5B8H/2oPBnxi8b+N/BunXf2PxX4S1a60y90u5YCR1hmaMTx/wB5G254+6Tg+4B6/RRRQBT1j/kE3v8A1wf/ANBNfALfeP1r7+1j/kE3v/XB/wD0E18At94/Wvr8h2qfL9T4viLel8/0PTPj1/yHPDf/AGAbX+b0fDn/AJJj8Qf+uEH/AKE1Hx6/5Dnhv/sA2v8AN6Phz/yTH4g/9cIP/Qmr0V/uUPWP/pSPMf8Av0/SX/pLPMqKKK9s8E9K/Z2/5Ktpf/XOf/0U1fYNfH37O3/JVtL/AOuc/wD6KavsGvhc8/3lei/Nn6BkH+6v/E/yQUUUV88fSnzz+1B/yGNC/wCuEn/oQrxKvbf2oP8AkMaF/wBcJP8A0IV4lX8y8Wf8jrEeq/8ASUfvnDn/ACKqPo/zYUUUV8ifSBRRRQAUUUUAFFFFABRRRQAV1/wi/wCSk6B/18f+ymuQrr/hF/yUnQP+vj/2U16mVf8AIww/+OP/AKUjz8w/3Ot/hl+TPsSiiiv60P5vCiivIvh/+054M8ffF7xn8Morz7D4y8MXPlS6fcsAbmLarCWH+8BvAI6g+xoA9dooooA4n40f8k11r/rmv/oQr5Cr69+NH/JNda/65r/6EK+Qq/BeP/8AkY0v8H6s/YuDf9xqf4v0R1Hwv/5KJ4e/6/I/519ZeIPGGi+FfK/tbUYbIy/cWQnLfgOa+Tfhf/yUTw9/1+R/zrsv2lGP/CcWozwLNf8A0Jqvh/NKmT5HiMVSipS50tdtUic6y+GZ5tRw9STS5G9PJs9n/wCFxeDf+g9b/wDfL/4Vsprlh4h8O3d5pt3HeWzRSASRnIyFPB9DXxLX0F+zyx/4QPxIM8ea3H/bIV7+R8XYrNsX9UrU4pOMtVfor9Wzxs24bw+W4b6zSnJtNb26vySPn2nR/wCsX602nR/6xfrX4gtz9Yex79+0p/yL/h7/AK6N/wCgCvn+voD9pT/kX/D3/XRv/QBXz/X2nGP/ACOKnpH/ANJR8twx/wAiun6y/NnsH7Mv/I5an/14N/6MSvpOvmz9mX/kctT/AOvBv/RiV9J1+r8E/wDInh/il+Z+c8V/8jSXovyCiiivvD48KKKKACiiigAooooAKKKKACiiigAooooAKKKKACiiigAooooAKKKKAPKfh/8A8l8+LP8A1x0b/wBETV6tXlPw/wD+S+fFn/rjo3/oiavVqACiiigAooooAKKKKACiiigAooooAKKKKACiiigAooooAKKKKACiiigAooooAKKKKACiiigAooooAKKKKACiiigAooooAKKKKACiiigAooooAKKKKACiiigAooooAKKKKACiiigAooooAK8p/ZP/AOTXfhB/2KOk/wDpHFXq1eU/sn/8mu/CD/sUdJ/9I4qAPVqKKKACiiigAooooAKKKKACiiigAooooAKKKKACiiigAooooAKKKKACvlf9qP8A5Hyy/wCvFf8A0Nq+qK+eP2oPBt7cXNl4it4mmtY4vs9xtGfLwSVY+xyRmvZyicYYuPM97nh51CU8HLlV7WZxPw//AOSS/EH/AHbb/wBCauP8Bf8AI8eH/wDr/g/9GLXYfD//AJJL8Qf922/9CauP8Bf8jx4f/wCv+D/0YtfXx3r+v/tqPipf8w/p/wC3M0vi/wD8lN8R/wDX239K3vEH/JA/DX/YUm/9BasH4v8A/JTfEf8A19t/St7xB/yQPw1/2FJv/QWqP+XWH9V/6SzT/l7ifR/+lI8xooor1jxz3z9k3/kJeI/+uMP/AKE9fR9fOH7Jv/IS8R/9cYf/AEJ6+j6/PM2/3yfy/JH6Vk3+4w+f5sKKKK8c9sKKKKACiiigAooooAKKKKACvCv2rLGaXQdFukQtDDO6Ow7FlGP5V7rVHWtFsvEWlz6fqFutzaTrteNx+vsfeuvCV/q9eNVq9jjxmH+tUJUU7XPk/wCAf/Iya7/2BLr/ANkrzKvrLR/glpvw/uNb1fT764kjk06eAW0wB2hgDnd/wGvk2vusHiKeJq1KlPbT9T8+x2GqYWjSp1Vr736Hp37QP/I3ad/2C7f+RrzGvTv2gf8AkbtO/wCwXb/yNeY10YL/AHaHoc2P/wB6qeoV9e/s4/8AJLLH/rvN/wChmvkKvr39nH/kllj/ANd5v/QzXm53/uq9V+TPVyD/AHt/4X+aPTq5DxD8XvA3hLVJNN1vxfoekahGAz2t7fxRSKCMglWYHkV19eX+OP2YPhN8TPEU2veKvh9oOv6zMqpJfX1mskrKowoLH0FfCH6CM8TftAfDKbw3qqJ8QPDTu1pKqquqwEklDgfer+fT9n/9oTxj+zb8QLTxX4O1Bra5T5Lm0k+aC8hP3opF7g9j1BwQQa/d/wAR/sU/Ae28PapNF8J/C0csdrK6MunpkEISCK/Av4O/B3xV8dvHmn+EfB2mSalq94c4HEcMY+9JI3RUA6k+w6kCgD+gH9lH9rbwf+1f4FTWNAm+x61bIq6poc7Dz7STuf8AajJ+64698Hivcq+c/wBjP9i/wt+yP4M8m08vVvGGoRKNV114wHkPBMUfdYgw4XPOATz0+jKAPN9R/wCS9aR/2B5v/QxRrX/Jd/Dn/YKuP/QjRqP/ACXrSP8AsDzf+hijWv8Aku/hz/sFXH/oRr2I9P8Ar2/1PFl9r/r4v0PSKKKK8c9oKKKKAPN/Hf8AyVT4f/8AXW5/9FNXpFeb+O/+SqfD/wD663P/AKKavSK7K/8ADpen/tzOLD/xKv8Ai/8AbYnw54u/4Ku+APCX7REvw0m8P6jLptrqQ0i88RLKgjhuPM8tj5WMmNWyCc54OAe/tv7X37Wmgfsi/Dy08Ravp1xrV7qFz9ksNNtnEZmcDcxZz91VHU4J5AxXC+JP+Cafwh8UfHwfFO7gvxeteDUbjRklX7FcXIYN5jLt3csMlQcEk5r1P9pj9mLwh+1R4Cj8L+LRcwR29wLq0vrFws9vJgglSQQQQcEEc8VxnaVP2T/2oNB/aw+F6+LtFsbjSZYbhrS90+6YM0EwAOAw4ZSCCDgfSvBPh7/wVd8AfEL9oS1+G1t4f1G20/UNQ/srT/EDyoUnuC+xMxjlUdsBTknkZAzx9I/s5/s6eE/2Yvh3F4Q8JJcNaec1zcXV44ea4lbALsQAOgAwAAMV5B4K/wCCafwi8CfHgfFDT4NQa9huzqFnpEkqmytbgsWEiLt3cE5UE4BAx0oA+sa83+Gf/I7fED/sJL/6AK9Irzf4Z/8AI7fED/sJL/6AK7KP8Kr6L80cVb+LS9X/AOksPhv/AMlC+Iv/AF+2/wD6LNekV5v8N/8AkoXxF/6/bf8A9FmvSKMX/F+Uf/SUGD/hfOX/AKUwooorjO0K841L/kvOjf8AYHm/9DFej15xqX/JedG/7A83/oYrsw28/wDC/wAjixW0P8UfzPR65vxV8SfCfgWa3h8R+JNK0KW4UvCmo3kcBkUHBKhiMgGukrgviR8Bfh38YbyyuvG3g3SPFFxZI0VtJqVssrRKxBYLnoCQK4ztI/8AhoT4Yf8ARQvDP/g2g/8Aiq/A343fFLVfA37ZfxH8beCNdNpfQ+LtSu7DU7GQOjqbqQgg8q6MD05BBr9xP+GIvgH/ANEl8K/+C5K/Cf49fDqS6/aw+IfgrwZobOV8Wahp2l6Rp0X3VW6dY40UdAAAPQAUAfsf+wv+3z4f/ap8PpourtDovxFsYl+16exCx3oA5mt8nkccr1X3HNfXFfEv7AP/AATz0z9mrTbfxh4vjg1b4kXUPHAeLSlYcxxHu5Bwz/UDjr9tUAQX0BurK4hU4aSNkBPuCK+Ar61lsbye2nQxzwu0bo3VWBwRX6CV5r8QPgRoXjq+a/3yaZqD/wCsmtwCJPdlPf3r3crx0MJKSqbM+fzfAVMbGMqW8f1PC/j1/wAhzw3/ANgG1/m9Hw5/5Jj8Qf8ArhB/6E1W/wBpGyGm+MtItFYuLfR4IgxGM7XkGf0qp8Of+SY/EH/rhB/6E1fRRd8DBrvH/wBKR8zJNY+on2l/6SzzKiiivcPAPSv2dv8Akq2l/wDXOf8A9FNX2DXx9+zt/wAlW0v/AK5z/wDopq+wa+Fzz/eV6L82foGQf7q/8T/JBRRRXzx9KfPP7UH/ACGNC/64Sf8AoQrxKvbf2oP+QxoX/XCT/wBCFeJV/MvFn/I6xHqv/SUfvnDn/Iqo+j/NhRRRXyJ9IFFFFABRRRQAUUUUAFFFFABXX/CL/kpOgf8AXx/7Ka5Cuv8AhF/yUnQP+vj/ANlNeplX/Iww/wDjj/6Ujz8w/wBzrf4Zfkz7Ern/ABZ8QvDHgP7L/wAJJ4h0zQftW7yP7Ru0g83bjdt3EZxuXOOmRXQVxHxL+CPgH4yf2d/wnHhLSvFP9m+Z9j/tO3WXyPM2+Ztz03eWmf8AdFf1ofzeVf8AhoT4Yf8ARQvDP/g2g/8Aiq/Cr9sj4j3GkftwePvGHgvX/KuIdXjubDVtLnDDIhjwysMgjII7g8g1+0//AAxF8A/+iS+Ff/BclfiJ+2V8O7TRP2xPHvg/wZoS21qmqx2unaRpkPALRR4SNB6kngetAH6rfsE/8FDNH/aX0qDwp4slh0j4kWsQ3IcRw6oo6yQ88Pxlk98jIzj7Ur4G/wCCe/8AwTjtPgPDZ+P/AIgwQ6h4/lQPaWLAPFpAI6j+9MQeW6L0Hc1980AcT8aP+Sa61/1zX/0IV8hV9e/Gj/kmutf9c1/9CFfIVfgvH/8AyMaX+D9WfsXBv+41P8X6I6j4X/8AJRPD3/X5H/Oux/aT/wCR4tf+vNf/AEJq474X/wDJRPD3/X5H/Oux/aT/AOR4tf8ArzX/ANCavIw3/JNYj/r5H8kenX/5HtH/AK9y/M8mr6C/Z4/5EXxJ/wBdW/8ARVfPtfQX7PH/ACIviT/rq3/oqlwf/wAjaP8Ahl/6Sw4m/wCRdL1j+aPn2nR/6xfrTadH/rF+tfFLc+qex79+0p/yL/h7/ro3/oAr5/r6A/aU/wCRf8Pf9dG/9AFfP9facY/8jip6R/8ASUfLcMf8iun6y/NnsH7Mv/I5an/14N/6MSvpOvmz9mX/AJHLU/8Arwb/ANGJXq3iL41+GPDWqzadc3E0lzCdsnkxFgp9M+tfpXCeMw2CySFTE1FBOUlq7dT4PiPC18Xm04UIOTstlfod7RXmK/tEeEWYAyXag9zAeK9G0/ULfVLG3vLWQTW06CSORejKRkGvuMLmWDxzawtWM2t7O58niMDisIk8RTcU+6LFFFFeicIUUUUAFFFFABRRRQAUUUUAFFFFABRRRQAUUUUAFFFFABRRRQB5T8P/APkvnxZ/646N/wCiJq9Wryn4f/8AJfPiz/1x0b/0RNXq1ABRRRQAUUUUAFFFFABRRRQAUUUUAFFFFABRRRQAUUUUAFFFFABRRRQAUUUUAFFFFABRRRQAUUUUAFFFFABRRRQAUUUUAFFFFABRRRQAUUUUAFFFFABRRRQAUUUUAFFFFABRRRQAUUUUAFeU/sn/APJrvwg/7FHSf/SOKvVq8p/ZP/5Nd+EH/Yo6T/6RxUAerUUUUAFFFFABRRRQAUUUUAFFFFABRRRQAUUUUAFFFFABRRRQAUUUUAFNdFkRkdQ6sMFWGQRTqKAPMvi54d0zQvhj4kfTrC3smnRDL5CBd2HGM4+pr5f8Bf8AI8eH/wDr/g/9GLX1j8cv+SW67/1zX/0MV8neAv8AkePD/wD1/wAH/oxa+0ymTlhKjb6v8kfC5xFRxlJRVtF+bNL4v/8AJTfEf/X239K3vEH/ACQPw1/2FJv/AEFqwfi//wAlN8R/9fbf0re8Qf8AJA/DX/YUm/8AQWr0f+XWH9V/6SzzP+XuJ9H/AOlI8xooor1jxz3z9k3/AJCXiP8A64w/+hPX0fXzh+yb/wAhLxH/ANcYf/Qnr6Pr88zb/fJ/L8kfpWTf7jD5/mwooorxz2wooooAKKKKACiiigAooooAKKKKAM3xJ/yLuqf9esv/AKAa+Bq++fEn/Iu6p/16y/8AoBr4Gr7DIfhqfL9T4niL4qXz/Q9O/aB/5G7Tv+wXb/yNeY16d+0D/wAjdp3/AGC7f+RrzGvdwX+7Q9D5/H/71U9Qr69/Zx/5JZY/9d5v/QzXyFX17+zj/wAkssf+u83/AKGa83O/91XqvyZ6uQf72/8AC/zR6dRRRXwh+glTVrI6lpd5aBthuIXi3YzjcpGf1rxr9lP9kvwd+yh4FTRfD8X23V7gB9S1y4QfaLuT0yB8qD+FR075OTXuFFABRRRQB5vqP/JetI/7A83/AKGKNa/5Lv4c/wCwVcf+hGjUf+S9aR/2B5v/AEMUa1/yXfw5/wBgq4/9CNexHp/17f6niy+1/wBfF+h6RRRRXjntBRRRQB5v47/5Kp8P/wDrrc/+imr0ivN/Hf8AyVT4f/8AXW5/9FNXpFdlf+HS9P8A25nFh/4lX/F/7bEKKKK4ztCiiigArzf4Z/8AI7fED/sJL/6AK9Irzf4Z/wDI7fED/sJL/wCgCuyj/Cq+i/NHFW/i0vV/+ksPhv8A8lC+Iv8A1+2//os16RXm/wAN/wDkoXxF/wCv23/9FmvSKMX/ABflH/0lBg/4Xzl/6UwooorjO0K841L/AJLzo3/YHm/9DFej15xqX/JedG/7A83/AKGK7MNvP/C/yOLFbQ/xR/M9HooorjO0K8G+Cv7H/g/4P/FDx38Rgn9r+MvFer3uoPf3CDFlDNO8ghhH8PDAM3ViOw4r3migAooooAKKKKAPlX9qT/koln/2DY//AEZLWX8Of+SY/EH/AK4Qf+hNWp+1J/yUSz/7Bsf/AKMlrL+HP/JMfiD/ANcIP/Qmr72n/uFP/t3/ANKR+d1f+RjV/wC3v/SWeZUUUV7x88elfs7f8lW0v/rnP/6KavsGvj79nb/kq2l/9c5//RTV9g18Lnn+8r0X5s/QMg/3V/4n+SCiiivnj6U+ef2oP+QxoX/XCT/0IV4lXtv7UH/IY0L/AK4Sf+hCvEq/mXiz/kdYj1X/AKSj984c/wCRVR9H+bCiiivkT6QKKKKACiiigAooooAKKKKACuv+EX/JSdA/6+P/AGU1yFdf8Iv+Sk6B/wBfH/spr1Mq/wCRhh/8cf8A0pHn5h/udb/DL8mfYlFFFf1ofzeFeE/D39kPwf4L+PXjT4v3Uf8AbHjHxBdGWCa4QGPTodiptiHZyF5frzgYGc+7UUAFFFFAHE/Gj/kmutf9c1/9CFfIVfXvxo/5JrrX/XNf/QhXyFX4Lx//AMjGl/g/Vn7Fwb/uNT/F+iOo+F//ACUTw9/1+R/zrsf2k/8AkeLX/rzX/wBCauO+F/8AyUTw9/1+R/zrsf2k/wDkeLX/AK81/wDQmryMN/yTWI/6+R/JHp1/+R7R/wCvcvzPJq+gv2eP+RF8Sf8AXVv/AEVXz7X0F+zx/wAiL4k/66t/6KpcH/8AI2j/AIZf+ksOJv8AkXS9Y/mj59p0f+sX602nR/6xfrXxS3Pqnse/ftKf8i/4e/66N/6AK+f6+gP2lP8AkX/D3/XRv/QBXz/X2nGP/I4qekf/AElHy3DH/Irp+svzZ7B+zL/yOWp/9eDf+jErgPiF/wAjxrn/AF9yfzrv/wBmX/kctT/68G/9GJXAfEL/AJHjXP8Ar7k/nTxf/JOYX/r5MWG/5HmI/wAETnq+xPhH/wAk30D/AK9//ZjXx3X2J8I/+Sb6B/17/wDsxr2/D/8A3+t/g/8AbkeTxn/udL/F+jOvooor93PyAKKKKACiiigAooooAKKKKACiiigAooooAKKKKACiiigAooooA8p+H/8AyXz4s/8AXHRv/RE1erV5T8P/APkvnxZ/646N/wCiJq9WoAKKKKACiiigAooooAKKKKACiiigAooooAKKKKACiiigAooooAKKKKACiiigAooooAKKKKACiiigAooooAKKKKACiiigAooooAKKKKACiiigAooooAKKKKACiiigAooooAKKKKACiiigAryn9k//AJNd+EH/AGKOk/8ApHFXq1eU/sn/APJrvwg/7FHSf/SOKgD1aiiigAooooAKKKKACiiigAooooAKKKKACiiigAooooAKKKKACiiigAooooA4P45f8kt13/rmv/oYr5O8Bf8AI8eH/wDr/g/9GLX138YNNuNW+G+u29qhlm8jeEXqQpDHH4A18ieAv+R48P8A/X/B/wCjFr7HJ2vqlReb/I+IzpP65SfkvzNL4v8A/JTfEf8A19t/St7xB/yQPw1/2FJv/QWrB+L/APyU3xH/ANfbf0re8Qf8kD8Nf9hSb/0Fq9T/AJdYf1X/AKSzyf8Al7ifR/8ApSPMaKKK9Y8c98/ZN/5CXiP/AK4w/wDoT19H184fsm/8hLxH/wBcYf8A0J6+j6/PM2/3yfy/JH6Vk3+4w+f5sKKKK8c9sKKKKACiiigAooooAKKKKACiiigDO8RKW8P6oAMk2soA/wCAGvgXpwa/QplDKQRkHgivm74hfs2ak2sT3nhpop7Sdy/2WV9jREnJAJ4Ir6XJsVSoOcKrtex8tnmDq4hQnSV7X0OU/aB/5G7Tv+wXb/yNeY16l+0RC9t41soZBh49NgRh7gEGvLa+owP+7Q9D5LMP96qeoV9e/s4/8kssf+u83/oZr5Cr69/Zx/5JZY/9d5v/AEM15ud/7qvVfkz1cg/3t/4X+aPTqKKK+EP0EKKKKACiiigDzfUf+S9aR/2B5v8A0MUa1/yXfw5/2Crj/wBCNGo/8l60j/sDzf8AoYo1r/ku/hz/ALBVx/6Ea9iPT/r2/wBTxZfa/wCvi/Q9Iooorxz2gooooA838d/8lU+H/wD11uf/AEU1ekV5v47/AOSqfD//AK63P/opq9Irsr/w6Xp/7cziw/8AEq/4v/bYhRRRXGdoUUUUAFeb/DP/AJHb4gf9hJf/AEAV6RXm/wAM/wDkdviB/wBhJf8A0AV2Uf4VX0X5o4q38Wl6v/0lh8N/+ShfEX/r9t//AEWa9Irzf4b/APJQviL/ANftv/6LNekUYv8Ai/KP/pKDB/wvnL/0phRRRXGdoV5xqX/JedG/7A83/oYr0evONS/5Lzo3/YHm/wDQxXZht5/4X+RxYraH+KP5no9FFFcZ2hRRRQAUUUUAFFFFAHyv+1LGy/ECxcj5G06MA+4kkz/MVk/Dn/kmPxB/64Qf+hNXv3xd+FcPxK0qLy5ha6pa5MEzDKkHqre1eVWHw31r4f8Aw08dLq8USC4hiETRSBg21jn+Yr7DD4ulUwkKN/eTirf9vI+KxWDrU8bOta8WpO//AG6zwmiiivqz489K/Z2/5Ktpf/XOf/0U1fYNfH37O3/JVtL/AOuc/wD6KavsGvhc8/3lei/Nn6BkH+6v/E/yQUUUV88fSnzz+1B/yGNC/wCuEn/oQrxKvbf2oP8AkMaF/wBcJP8A0IV4lX8y8Wf8jrEeq/8ASUfvnDn/ACKqPo/zYUUUV8ifSBRRRQAUUUUAFFFFABRRRQAV1/wi/wCSk6B/18f+ymuQrsPhCCfiVoGBn/SP/ZTXqZV/yMMP/jj/AOlI8/MP9zrf4Zfkz7Dooor+tD+bwooooAKKKKAOJ+NH/JNda/65r/6EK+Qq+vfjR/yTXWv+ua/+hCvkKvwXj/8A5GNL/B+rP2Lg3/can+L9EdR8L/8Akonh7/r8j/nXY/tJ/wDI8Wv/AF5r/wChNXHfC/8A5KJ4e/6/I/512P7Sf/I8Wv8A15r/AOhNXkYb/kmsR/18j+SPTr/8j2j/ANe5fmeTV9Bfs8f8iL4k/wCurf8Aoqvn2voL9nj/AJEXxJ/11b/0VS4P/wCRtH/DL/0lhxN/yLpesfzR8+06P/WL9abTo/8AWL9a+KW59U9j379pT/kX/D3/AF0b/wBAFfP9fQH7Sn/Iv+Hv+ujf+gCvn+vtOMf+RxU9I/8ApKPluGP+RXT9Zfmz2D9mX/kctT/68G/9GJXAfEL/AJHjXP8Ar7k/nXf/ALMv/I5an/14N/6MSuA+IX/I8a5/19yfzp4v/knML/18mLDf8jzEf4InPV9ifCP/AJJvoH/Xv/7Ma+O6+xPhH/yTfQP+vf8A9mNe34f/AO/1v8H/ALcjyeM/9zpf4v0Z19FFFfu5+QBRRRQAUUUUAFFFFABRRRQAUUUUAFFFFABRRRQAUUUUAFFFFAHlPw//AOS+fFn/AK46N/6Imr1avKfh/wD8l8+LP/XHRv8A0RNXq1ABRRRQAUUUUAFFFFABRRRQAUUUUAFFFFABRRRQAUUUUAFFFFABRRRQAUUUUAFFFFABRRRQAUUUUAFFFFABRRRQAUUUUAFFFFABRRRQAUUUUAFFFFABRRRQAUUUUAFFFFABRRRQAUUUUAFeU/sn/wDJrvwg/wCxR0n/ANI4q9Wryn9k/wD5Nd+EH/Yo6T/6RxUAerUUUUAFFFFABRRRQAUUUUAFFFFABRRRQAUUUUAFFFFABRRRQAUUUUAFFFFACHng8ivNr74CeHJ/E9rrln52nXENwly0MJBidlYN909Mkdq9KoranWqUbunK1zCrQp10lUjex8SfF/8A5Kb4j/6+2/pW94g/5IH4a/7Ck3/oLVg/F/8A5Kb4j/6+2/pW94g/5IH4a/7Ck3/oLV9//wAusP6r/wBJZ+c/8vcT6P8A9KR5jRRRXrHjnvn7Jv8AyEvEf/XGH/0J6+j6+cP2Tf8AkJeI/wDrjD/6E9fR9fnmbf75P5fkj9Kyb/cYfP8ANhRRRXjnthRRRQAUUUUAFFFFABRRRQAUUUUAFFFFAHyf+03/AMlHX/rzj/m1eSV63+03/wAlHX/rzj/m1eSV+l4D/dafofleZf75V9Qr69/Zx/5JZY/9d5v/AEM18hV9e/s4/wDJLLH/AK7zf+hmvPzv/dV6r8menkH+9v8Awv8ANHp1FFFfCH6CFFFFABRRRQB5vqP/ACXrSP8AsDzf+hijWv8Aku/hz/sFXH/oRo1H/kvWkf8AYHm/9DFGtf8AJd/Dn/YKuP8A0I17Een/AF7f6niy+1/18X6HpFFFFeOe0FFFFAHm/jv/AJKp8P8A/rrc/wDopq9Irzfx3/yVT4f/APXW5/8ARTV6RXZX/h0vT/25nFh/4lX/ABf+2xCiiiuM7QooooAK83+Gf/I7fED/ALCS/wDoAr0ivN/hn/yO3xA/7CS/+gCuyj/Cq+i/NHFW/i0vV/8ApLD4b/8AJQviL/1+2/8A6LNekV5v8N/+ShfEX/r9t/8A0Wa9Ioxf8X5R/wDSUGD/AIXzl/6UwooorjO0K841L/kvOjf9geb/ANDFej15xqX/ACXnRv8AsDzf+hiuzDbz/wAL/I4sVtD/ABR/M9HooorjO0KKKKACiiigAooooAK4f41/8kv1/wD64f8AswruK4f41/8AJL9f/wCuH/swrpwv8eHqvzOXF/7vU9H+R8WUUUV+pH5Ielfs7f8AJVtL/wCuc/8A6KavsGvj79nb/kq2l/8AXOf/ANFNX2DXwuef7yvRfmz9AyD/AHV/4n+SCiiivnj6U+ef2oP+QxoX/XCT/wBCFeJV7b+1B/yGNC/64Sf+hCvEq/mXiz/kdYj1X/pKP3zhz/kVUfR/mwooor5E+kCiiigAooooAKKK3NF8D6/4i2nT9JurhG6SeWQn/fR4ralRq15clKLk+yVzKpVp0Y81SSS83Yw6K9a0X9m7xDf7Wv7m102M9QSZX/IcfrXfaL+zf4esdrX9zdai46jIjT8hz+tfWYThHN8Vr7LkXeTt+G/4HzmJ4lyzD6e05n/dV/x2/E+aFUswVQSScACve/gJ8L7uxvh4j1WBrcqpW0hkGH5GC5HbgkD6mvWtF8C+H/D+P7P0e0t3H/LQRAv/AN9Hn9a3a/Rsj4Kjl+IjisXU55R1SS0T73e9umiPh824qljaMsPhocqlo297dvL8Qooor9QPz8KKKKAOK+L/AMRrr4V+C5tfs/Cus+Mpo5o4hpWgxCS5YMcFgpIGB1NeC/8ADc3iD/o3X4pf+C6P/wCLr6vooA+L/iB+2N4l8U+EdQ0uD9nn4nwy3ChVeTTo9o5B5w/tXhf/AAtbxz/0Qr4h/wDgtH+NfqJRXzWZ8PYHN6qrYqLbSto2tNz3svzrF5bTdLDtJN32R+ang342+NfD/irS9Sl+A3xGlitZ1lZI9NXcQD0GWre+LX7RXjDx14jhv7X4BfEi2jSBYis2nLnIJOeG96/Q2iueHDGXQwksEovkk1J6vdG0uIMdLExxba54qy0WzPy7/wCFreOf+iFfEP8A8Fo/xr1D4WftReLPBPhvVrC5/Z++JdxJduWVodOTAym3nLV96UUYDhfLstrrEYeLUrNbvroGM4gx2OpexrNcuj2XQ/Lv/ha3jn/ohXxD/wDBaP8AGlX4reOQwP8Awor4h9f+gaP8a/UOivP/ANSco/kf/gTO3/WvMv5l9yPgn4uftReLPHel6Xb2v7P/AMS7ZrVizNNpyYOVxxhq8x/4Wt45/wCiFfEP/wAFo/xr9RKK9DH8L5dmVd4nERbk7dWtlY4sHxBjsDRVCi1yryXU/Pb4QftHeL/AWvXl7d/AH4k3KTWxhCw6cuQd6nPLe1cx4p+NPjXWvEeo38XwH+IscdxO0iq+mrkAnofmr9MKKJ8L5dUwkMFKL5Ittavd7hDiDGwxMsUmuaSSei2R+Xf/AAtbxz/0Qr4h/wDgtH+Ne8+B/wBsrxL4b8J6Zpk37PPxPlltotjPHp0e08k8ZevsuiunK+H8DlFWVXCxabVtW3puYZhnWLzKmqeIaaTvsfKH/Dc3iD/o3X4pf+C6P/4uvoP4V+Orj4leA9M8R3XhzVfCc975u7R9ajEd3b7JXjG9QSBuCBh7MK6yivpDwgooooAKKKKACiiigAooooAKKKKACiiigAooooAKKKKACiiigDyn4f8A/JfPiz/1x0b/ANETV6tXlPw//wCS+fFn/rjo3/oiavVqACiiigAooooAKKKKACiiigAooooAKKKKACiiigAooooAKKKKACiiigAooooAKKKKACiiigAooooAKKKKACiiigAooooAKKKKACiiigAooooAKKKKACiiigAooooAKKKKACiiigAooooAK8p/ZP8A+TXfhB/2KOk/+kcVerV5T+yf/wAmu/CD/sUdJ/8ASOKgD1aiiigAooooAKKKKACiiigAooooAKKKKACiiigAooooAKKKKACiiigAooooAKKKKAPiT4v/APJTfEf/AF9t/St7xB/yQPw1/wBhSb/0Fqw/jEjR/E7xGGUqftRPPoQCP0rc8Qf8kD8Nf9hSb/0Fq/Rf+XWH9V/6Sz8y/wCXuJ9H/wClI8xooor1jxz3z9k3/kJeI/8ArjD/AOhPX0fXzh+yb/yEvEf/AFxh/wDQnr6Pr88zb/fJ/L8kfpWTf7jD5/mwooorxz2wooooAKKKKACiiigAooooAKKKKACiiigD5P8A2m/+Sjr/ANecf82rySvpT9or4a3viS5t9c0iL7XdW8Pl3NrGcybASVcL36kGvnKWwuYZCklvLG46qyEEV+jZbWhUwsFF6pWZ+ZZrRqU8XNyWjd0QV9e/s4/8kssf+u83/oZr5b8P+D9Z8UX0dppunz3ErnGdhCr7ljwBX2j4B8KL4J8JafpAcSPAn7yQdGcnLEe2TXnZ5Wh7GNK+t7npZBRn7aVVr3bW/I6Giiivij7sKKKKACiiigDzf4paff6PrGi+M9Mt2vJNJLx3dtGMs9u4wxA7kdaxLPxpo/i/4yeF77TLxJ4X0yeMr0dHyTsYdQa9iIyMEZFeWeOfgrDeajH4g8Kumj+IYJPOXHEMre46An16HvXq4atSkvZ1dHZpP17/AOZ5GKoVYv2lHVXTa66W2+S2PVKK8vsfjJdaZAsHibwtrFlqCfK7Wdt50Tkd1IP+P1qz/wAL00b/AKA+v/8Agub/ABrneDr9I39DpWNw/WVvXQ9Horzj/hemjf8AQH1//wAFzf40yT432kylNO8Oa/e3bcJEbIxgn3Ynj8qX1Ov/ACD+u4f+cXxwwk+LXgCJTukDXUhUdQoibmvSa888C+FdYvfElx4u8UIkOpyxeRaWMbbltIfQn+8e/wBfwr0OjENLkpp35Vb53b/UMMpPnqSVuZ3+Vkv0CiiiuM7QooooAK8m1y+f4U/ES9126ikfw1riotzPGhb7NOowGIHYivWahu7OC/t5Le5hSeCQbXjkUMrD0INdFGqqbfMrp6M5q9J1UuV2kndM8y+E+rWereOvH89ncx3MM1zbyxyRsCGUowyPxr1OvGtU+FupfDnXm8R+BIxNGwIutGkbiRM5IQn+X5elbcfxwsoVCX/h3X7O6H34hZFwD7EHmu7EUfrElUw/vKy9VZJao4MPX+rxdLE+67v0d23o/wCmelUV5x/wvTRv+gPr/wD4Lm/xo/4Xpo3/AEB9f/8ABc3+Ncv1PEfyM6/ruH/nR6PXm1+wl+Pmloh3NFo0rOB/CC+BmmT/ABqW8jMWi+GNcv75uESW08pAe25ieBWj8O/B2paffaj4i8RPHJ4g1LAdIjlLeIfdjX+tawpyw8ZTq6NppLrqYzqxxMoQpapNNvorfqd3RRRXnHphRRRQAUUUUAFFFFABXD/Gv/kl+v8A/XD/ANmFdxWT4s8PxeKvDeoaTM2xLqFo93909j+eK3oSVOrGb2TRhiIOpRnCO7T/ACPgqit/xR4F1vwhqEtpqNhNGUJAlVC0bj1Vu4rGjsriRgqQSux6KqEk1+oRnGa5ou6PySVOcJcslZnon7O3/JVtL/65z/8Aopq+wa+fP2dPhbqOl6o3iTVbZ7RRE0dpDKMOS3BcjsMZHPrX0HXwecVYVcT7jvZW/M/Q8lozo4X31a7v+QUUUV4h7588/tQf8hjQv+uEn/oQrxKvo79ojwTqOv2unapp8D3X2NXSaKMZYKcEMB3xg5+orwjT/COt6pN5VrpN5NJ6LC3+FfzhxZg8R/bVVqm3zWasnr7qWh+58OYqh/ZdNOaXLe+u2rMiivT9E/Z58U6nte6W30yM/wDPeTc//fK5/Uiu+0T9mfSbba2qajcXrd0hAjX+prkwnCmb4uzVHlXeWn4PX8DpxPEWW4bR1eZ/3df+B+J85VsaP4O1zxAwXT9Ku7r/AGo4jtH1boK+s9F+GPhfw/tNlo1urj/lpKDI35sSa6ZEWNQqKFUdFUYAr7PCeH0nZ4uvbyiv1f8AkfLYnjSO2Go/OT/Rf5nzHon7OfiXUNrXr22mIeod97fkvH6132i/s1aHZ7X1K+utQfuiYiT9Mn9a9gor7PCcH5RhbN0ud95O/wCGi/A+WxPE2Z4jRVOVf3Vb8d/xOd0X4eeHPD+02OkW0ci9JGTe35nNdFRRX1tGhSw8eSjBRXZK35HzdWtUrS5qsnJ+buFFFFbmIUUUUAFFFFABRRRQAUUUUAFFFFABRRRQAUUUUAFFFFABRRRQAUUUUAFFFFABRRRQAUUUUAFFFFABRRRQAUUUUAFFFFABRRRQAUUUUAFFFFABRRRQB5T8P/8AkvnxZ/646N/6Imr1avKfh/8A8l8+LP8A1x0b/wBETV6tQAUUUUAFFFFABRRRQAUUUUAFFFFABRRRQAUUUUAFFFFABRRRQAUUUUAFFFFABRRRQAUUUUAFFFFABRRRQAUUUUAFFFFABRRRQAUUUUAFFFFABRRRQAUUUUAFFFFABRRRQAUUUUAFFFFABXlP7J//ACa78IP+xR0n/wBI4q9Wryn9k/8A5Nd+EH/Yo6T/AOkcVAHq1FFFABRRRQAUUUUAFFFFABRRRQAUUUUAFFFFABRRRQAUUUUAFFFFABRRRQAUUUUAeS/GD4Gp4+uv7V0yeOz1baFkEoOyYAYGSOhA4zz0Fea/E3wnf+Cvg74e0vURGLqPUpGPltuXBRiOa+pK8Q/as/5FPRv+v0/+i2r38vxdWdWlQk7xT/RnzuZYOjTo1cRFWk1r96PmOiiivvD88PfP2Tf+Ql4j/wCuMP8A6E9fR9fOH7Jv/IS8R/8AXGH/ANCevo+vzzNv98n8vyR+lZN/uMPn+bCiiivHPbCiiigAooooAKKgvb+2023ae7uIrWBRlpJnCKPqTXhHxM/bx+BPwpMkWsfETSru/Q4Nho7m+n3f3SIgwU/7xFAHv1FfC0//AAUg8U/EeZrX4LfAbxd42ZvlTUdRhNnZq3qz4IA+rL9aZ/wh37bvxtwdb8VeFvg1pU33rXRovtF0i/72XO76OBQB9vaxrmm+H7GS81XULXTbOMZe4vJlijUe7MQBXzh8Sv8AgpF8Avhr5kUvjWHxDerwLXw/E14xPpuX5P8Ax6vPdH/4JWeDtevotU+Kvj/xh8UtVU7iNRvjBbA99qAlwPbfj2r6P+Gv7MXwq+EIjPhLwHomk3EZyt0torzg+vmNlgfoaAPmL/hvb4wfFv8Ad/Bv9nfXrq1k4j1rxW/2WDH97YMAj3Eh+lL/AMKK/bG+NKl/Gfxi0v4WaZKcnT/CMBkulB/h81SpUj1Ehr7sooA+XPgT+wF4X+CvjCPxfL428Z+KfFf/AC11DUtYkUTDusiKfnU+jEivp5raFjlokJ9SoqWigBkcSR/cRU/3Rin0UUAFFFFABRRRQAUUUUAFFFFABRRRQAUUUUAFFFFABRRRQAUUUUAFFFFABRRRQAUUUUAFFFFABRRRQAUUUUAFFFFABRRRQAUUUUANeNJBh1Vh/tDNMFrCpyIYwf8AdFS0UxBRRRSGFFFFABSBQvQYpaKACiiigAooooAKKKKACiiigAooooAKKKKACiiigAooooAKKKKACiiigAooooAKKKKACiiigAooooAKKKKACiiigAooooAKKKKACiiigAooooAKKKKACiiigAooooAKKKKACiiigAooooA8p+H/APyXz4s/9cdG/wDRE1erV5T8P/8AkvnxZ/646N/6Imr1agAooooAKKKKACiiigAooooAKKKKACiiigAooooAKKKKACiiigAooooAKKKKACiiigAooooAKKKKACiiigAooooAKKKKACiiigAooooAKKKKACiiigAooooAKKKKACiiigAooooAKKKKACvKf2T/APk134Qf9ijpP/pHFXq1eU/sn/8AJrvwg/7FHSf/AEjioA9WooooAKKKKACiiigAooooAKKKKACiiigAooooAKKKKACiiigAooooAKKKKACiiigArxD9qz/kU9G/6/T/AOi2r2+vEP2rP+RT0b/r9P8A6LavTy3/AHun6nlZp/uVT0/U+Y6KKK/SD8vPfP2Tf+Ql4j/64w/+hPX0fXzh+yd/yEvEZ7eTD/6E9em/Ej9oP4bfCKNm8YeNtF0GRV3fZ7q8TzyPaIEufwFfnmbf75P5fkj9Kyb/AHGHz/NnoVFfE/iT/gqt8ObjUn0n4ceFPFnxT1nOEg0TT2WM+5ZgWx7hDWUfil+2n8bMjwv8OfDvwk0uTlLvxFc+fcKp9RgnP0j/AArxz2z7rd1jUszBVUZLMcACvIPiV+198G/hGsg8T/ELRbKePO61huPtE+R1Aji3Nn8K+dV/4J4/EX4oSCb40ftDeKPE0Dnc+i6EzWVl/u7d20/XYpr1/wCG3/BPf4CfDF457P4f6frV+vP2zxAv9oSE/wB7EuUB9woNAHlOpf8ABUTSvF91JY/B/wCFnjL4l3eSEuorFre1btkHDNj6qpqr9v8A25vjVxbWfhL4JaPMP9ZcFL2/Cn0BEgB+qoR619w6bpNjo1qltp9nb2NugCrDbRLGigdAAAABVugD4Zsv+CZdx48uFvfjN8ZfGPxBnbmWyhuja2zf7OCWO32GPbFe7/DP9if4IfCNYm8OfDrR4rmMYF5fRteTn38yYs3X0OK9vooAjt7eK1hWKCJIYlGFSNQqgewFSUUUAFFFFABRRRQAUUUUAFFFFABRRRQAUUUUAFFFFABRRRQAUUUUAFFFFABRRRQAUUUUAFFFFABRRRQAUUUUAFFFFABRRRQAUUUUAFFFFABRRRQAUUUUAFFFFABRRRQAUUUUAFFFFABRRRQAUUUUAFFFFABRRRQAUUUUAFFFFABRRRQAUUUUAFFFFABRRRQAUUUUAFFFFABRRRQAUUUUAFFFFABRRRQAUUUUAFFFFABRRRQAUUUUAFFFFABRRRQAUUUUAFFFFABRRRQAUUUUAFFFFAHlPw//AOS+fFn/AK46N/6Imr1avKfh/wD8l8+LP/XHRv8A0RNXq1ABRRRQAUUUUAFFFFABRRRQAUUUUAFFFFABRRRQAUUUUAFFFFABRRRQAUUUUAFFFFABRRRQAUUUUAFFFFABRRRQAUUUUAFFFFABRRRQAUUUUAFFFFABRRRQAUUUUAFFFFABRRRQAUUUUAFeU/sn/wDJrvwg/wCxR0n/ANI4q9Wryn9k/wD5Nd+EH/Yo6T/6RxUAerUUUUAFFFFABRRRQAUUUUAFFFFABRRRQAUUUUAFFFFABRRRQAUUUUAFFFFABRRRQAVxHxe8At8QvCMljAypewuJ7ctwC4BGD9QSK7eitadSVGaqQ3RlVpRrQdOezPg7UvBevaTdPbXej3sMynBUwMR9QQMEe4qK18J63fXCQwaRfSyucKq27kn9K+9qK+k/t6dv4av6ny3+rtO/8R29D58sP2a7rxB8F9e8K6hruoeF77xGI1u7zSXAuYIVbPlo/RWPIJ5xuPWuX+G//BMn4BfDuRLh/Csvim/Vt5u/EVy1yzN6lRtT/wAdr6ror5ytWliKjqz3Z9PQoww9ONKnsjK8N+FdF8H6amn6DpFjotgn3bbT7dIIx/wFQBWrRRWJuFFFFABRRRQAUUUUAFFFFABRRRQAUUUUAFFFFABRRRQAUUUUAFFFFABRRRQAUUUUAFFFFABRRRQAUUUUAFFFFABRRRQAUUUUAFFFFABRRRQAUUUUAFFFFABRRRQAUUUUAFFFFABRRRQAUUUUAFFFFABRRRQAUUUUAFFFFABRRRQAUUUUAFFFFABRRRQAUUUUAFFFFABRRRQAUUUUAFFFFABRRRQAUUUUAFFFFABRRRQAUUUUAFFFFABRRRQAUUUUAFFFFABRRRQAUUUUAFFFFABRRRQAUUUUAFFFFABRRRQB5T8P/wDkvnxZ/wCuOjf+iJq9Wryn4f8A/JfPiz/1x0b/ANETV6tQAUUUUAFFFFABRRRQAUUUUAFFFFABRRRQAUUUUAFFFFABRRRQAUUUUAFFFFABRRRQAUUUUAFFFFABRRRQAUUUUAFFFFABRRRQAUUUUAFFFFABRRRQAUUUUAFFFFABRRRQAUUUUAFFFFABXlP7J/8Aya78IP8AsUdJ/wDSOKvVq8p/ZP8A+TXfhB/2KOk/+kcVAHq1FFFABRRRQAUUUUAFFFFABRRRQAUUUUAFFFFABRRRQAUUUUAFFFFABRRRQAUUUUAFFFFABRRRQAUUUUAFFFFABRRRQAUUUUAFFFFABRRRQAUUUUAFFFFABRRRQAUUUUAFFFFABRRRQAUUUUAFFFFABRRRQAUUUUAFFFFABRRRQAUUUUAFFFFABRRRQAUUUUAFFFFABRRRQAUUUUAFFFFABRRRQAUUUUAFFFFABRRRQAUUUUAFFFFABRRRQAUUUUAFFFFABRRRQAUUUUAFFFFABRRRQAUUUUAFFFFABRRRQAUUUUAFFFFABRRRQAUUUUAFFFFABRRRQAUUUUAFFFFABRRRQAUUUUAFFFFABRRRQAUUUUAFFFFABRRRQAUUUUAeU/D/AP5L58Wf+uOjf+iJq9Wryn4f/wDJfPiz/wBcdG/9ETV6tQAUUUUAFFFFABRRRQAUUUUAFFFFABRRRQAUUUUAFFFFABRRRQAUUUUAFFFFABRRRQAUUUUAFFFFABRRRQAUUUUAFFFFABRRRQAUUUUAFFFFABRRRQAUUUUAFFFFABRRRQAUUUUAFFFFABXlP7J//Jrvwg/7FHSf/SOKvVq8p/ZP/wCTXfhB/wBijpP/AKRxUAerUUUUAFFFFABRRRQAUUUUAFFFFABRRRQAUUUUAFFFFABRRRQAUUUUAFFVdU02HWNMu7C5DG3uomhk2MVbawIOCOhwa+PtQ/Z68GTftQaV4Ls7e+TRYdAl1O+g+3zEuxk2R/NuyOT0HpUt2GfZdISFBJOAK8nm8WfDz9m3SbHwytzcQNMXng023WW9unBPzPtAZscdT6Vq6h8WNA8SfB/xH4u0DUY77T7SwupGkUEGN44yxVlPKsOOD607gd5Y6ha6nbiezuYbuAkgSwSB1JBwRkccGrFfP/wJ8VaL8Hf2dfhzDrU0qXOrqBb28MTSzzz3Ejy4CLyfv8ntXZeL/wBpDwH4H1qfStT1WT7Xa7ftf2a1kmS0z085lBCfjRfuB6dRXFeNPjJ4S8A6XoepazqscGn61OlvZ3SAvG5cZDFh0XHO48AVneCP2gPBXxC8US+HtG1GZ9VSE3Cw3FrJCJoxjLxlwNw57UXQj0aiiimAUUUUAFFFFABRRRQAUUUUAFFFc7488BaR8SPD76Lrkc02nvIsrJDM0TFlOR8ykGgDoqK+Nfgt+z14M8dePvijHeW99Loujaz/AGXp8Qv5l8vy1Ik53ZOW9a9y1r9oL4d/De7HhybVJS2lRxwT/ZbaW4js1ACqJnUEJwO5qVLqxnqF9qFrpkPnXlzDaQ7gnmTyBF3E4Aye5qevnr9prU7TxnZ/CrRrC5S7s9f8S2s6SQtlZYYwWyD6fMD+Feu2vxI0G88cX/hK2uHm1bT7Zbq8EcRMVsh+6Hk+6rHqFznFO4HU0V5Zpf7TXw81jxHa6Na62zy3U/2W2umt5FtZ5c42JMRsY59D3rS8afHjwX8P/FA8Pa5qjWeqtZfblhELvvjL7AF2g5YnOFHPBPai6A9Borjfhr8XPDPxYs7248O3kk5spfIuYbiF4ZYX9GRgCK7KmIKKKKACiiigAooooAKKKKACiiigAoor5x/aR0mD4gfGT4T+CLszHTbqS8vr6OGZoy0aRgKMrzySaT0A+jqK8s8JfAHwJ8KdVfxLpdpdW1zZwSEyzXksqqhU7jtZiOmayT+2F8L/AOzLTUBrc72lwcGVLKVhB8xX96QvyZI79iD3ov3Ge00Vy/jT4meGvh/oMOsa5qsNnY3BVYG5dp2YZAjUZLEj0rC0j4/+CtW8Oatrj6lNpmn6Vs+2NqlrJatHv+58rqCd2OMdaLoR6LRXnngP49eDfiNrT6RpF/MmpiLz0tb61ktpJY/76BwNy+47U7xx8d/B3w91pNI1S/ml1Qp5r2dhayXMsSf33WMHaPc0XQHcQ6laXF3PaxXUMtzBjzYUkBePPI3KDkZ96s181/s6+LNJ1bxB8Y/iRcX0cOh3GrLDHez/ACIsEMQ5OenDLXpngn9oTwR8QPECaLpOpS/2jLGZreO6tZIBcoOrRFwA4+lJMZ6RRXleuftM+APDviTUtAvNUm/tiwuYrSWzitnkdpHGQEAHzAcZPQZFeqU7iCiiimAUUUUAFFFFABRRRQAUV4B8cbibV/2gvgvoEMjLEl1d6pcKrEDbEi7Mjv8ANmpP2xb6aTwN4a0G2kaOfXPENla/IxBKB9x6e4WpvuM97pK8zhj8Iat8dYoFuL6XxhoOjZEOWFtHbyNtyeNpc59c4zVDxd+054C8OXGrae+qTXVxYq8dxNZ2ks0EEgU/I8qqVU59TTuB6nY6jaanC0tndQ3cSsULwSB1DDqMg9R6UXmpWmnmEXV1DbGZxHF50gTe56KuTyfYV8//ALNvifR/hd+zHoviHxPfx6dBfSz30ksmcySTTMVVVHLEjHA9K5/x38UdC+NXxk+Eeg6I92Vs9Um1O7gvLSS3cCOL5G2uAcH5+aXNoFj6porzHxZ+0h4B8F67caTqWryG5tWVbt7a2kmitCegldQVT8TWx42+MnhL4e2Oh3ut6qltZa1MsNncqpeNyRuDFh0XBzk8U7oR21FedeBfj94L+I3ia48P6LqEz6rDCbgQ3NrJB5sQIBdC4G4cjpXotMAoorx39pb4kax4N8O6LoXheRYvFfii/XTLCVhnyAeZJsf7Ix+LCk9APYqrWupWl9NcRW91DcS27bJo4pAzRN6MAeD7GvFtL/ZP8OaXFa382v8AiSbxLCVll1z+1pRPLICCxIzjaTnj0NZ37KNxE3h34ieML2WO3g1TxNezmeQhVEMQVQzE9sh6V2M+g6K8jtf2qPh3e6xZWEGp3cn224Fra3gsJvs08pOAqS7dpOfQ1oeLP2ivBHg3xBc6LeX11dajabftUWn2UtyLbIyPMKKQvHrTugPTKK828TftDeB/CqaX9p1Ka6n1K2W8tbWwtZLid4T0k8tFJC9eSO1YfxC8cfDz4lfDvRV1bUNQbQ9e1eHT7YWcckUz3SsWEbjG5QDGc5GOKLgevXt/babbtcXdxFawL96WZwij6k8U61uob2BJ7eaOeFxlZImDKw9QR1r5H+NfxI8N+Lv2gvDXhTW7PVtR8K6Dbzy3+mx6dPKlzdEhIy0ar+8RcD5vu/Ma9j8F6H4Atfi9qsHh+O4tNe8PaXDYTWUYZLK2t5CZVCLjbuJYk4pX1A9aory2b9pfwDH4gbSIdUnvZUuBayXNnZyzW0cpIUI0qqVBycda1/Hvxs8JfDi+g0/V7+R9TnQyx6fY273NwUH8XloCQPrTuhHd0V4D8T/2qtA0/wCCup+K/Ctzc3V1I8ljZSNYyFYrpQvEoI+UDePvcE8daj1L4keDvij8I/D9p4wl1q2XVNQs9OcR2c1rJPe7fMAAK58slTk9KXMh2PoKiuE8efGbwl8L7m00/WL+T+0J498On2cD3NwyDgtsQE49/Y1a0r4t+Ftc8A3vjKw1RLrQLOKWW4uI1O6IRrudWXqGA7HnkU7iOxorx2H9rT4Z3EmlKmtymPUjGsVx9kl8lHcAqkj7dqtz0JyO9ewghgCOQaLgLRRRTAKKKKACivGP2wdel0H9nzxQ9uzLc3SxWUXlnDFpJVXA/AmvIfjB8JrL9n7wL4a8YeDL/VNO8TwX1lBLCt9K8d+XIDxuhOCCc8e5qW7DPsWivK9U/aa8AaP4lvvD8+qTHWbO8Sxks4rZ3cyt/dAHKjIy3QZqz40/aK8C+Adcn0nVdVkN7bBWultLaSdbUEZBlZAQgwR19ad0B6XVa91K001Y2u7qG1WRxGjTSBAzHooyeSfSsTW/iL4b8O+D18U6hq9tb6C8SzR3pfKSKwyu3H3ic8AV86/FP4seH/jR4++FPhjRJLwu3iKO+uYLyzlt2MMKl9wDqMggHkUm7AfV1FeYfDy78F3njD4g+JdHvbt75bwWWsz3rMsEUkCbcR7gAFAHJHFJoX7SXgTxLr0OlabqF1dyTytDDdR2M32aVxnKrLt2k8HvTuB6hRXzh8Lf2oo/HXxi8S6PImpf2F5kFtpS/wBkyqY5NpMhnbb+75H8eK7j4W654D03wx4q8Z6NqdzHpF5qVxc6jfao7KqzI219u4DCA5AxSvcD1eivNPBv7RXgbx3r8GjaZqcy31yhktVvLWSBbpRyWiZwA4x6VW179prwB4d1jW9Ju9UnOp6PKsNzaQWkkshYqT8iqDuAA5I4HFO6A9Uorz7/AIX14H/4V7beNjrca+HrmTyYZyjb3l3FfLCY3b8qeMdqtfD34xeGviZdXlro0t4t5aIsstvfWUttIEYkBgHUZBIouhHb0UUUwCiiigAooooAKKKKACiiigAooooAKKKKACiiigAooooAKKKKAPKfh/8A8l8+LP8A1x0b/wBETV6tXlPw/wD+S+fFn/rjo3/oiavVqACiiigAooooAKKKKACiiigAooooAKKKKACiiigAooooAKKKKACiiigAooooAKKKKACiiigAooooAKKKKACiiigAooooAKKKKACiiigAooooAKKKKACiiigAooooAKKKKACiiigAooooAK8p/ZP/AOTXfhB/2KOk/wDpHFXq1eU/sn/8mu/CD/sUdJ/9I4qAPVqKKKACiiigAooooAKKKKACiiigAooooAKKKKACiiigAooooAKKKKACvn/4Y58QftY/FjV8bodNtLHSYW9P3au4/wC+s19AVwvw3+FVt8O9Y8Xaml/LqF34k1JtRnaWMJ5ZPRBjqBmkxnnn7PsS+Jfir8X/ABbeKJL6PXH0K3duTFb2/wAu1fQM3J9cCvH9d1XyfhF+0PqdjhLDW/Eo0yzCD5GYmOOVl9chj+K175rv7O5m8S65q3hvxlrXhCPXn83VbPT/AC3juJMYLrvBMbEdStWde/Zz0DUPh7oHgvTp5tK0TStQhvygXzXuWjYsRIxIyWJJJqLMZ5b8IIxH468a3/iVMeI/AmmJZ6TpbDMVtZi3DCdM9Wkxy3bOK5r4P6T8Udc+A2o2uj+FdAv7XxfHeXM+r3uqstxK9wXVpHTyyMjPAz2r6R1T4R2d98V7XxzDeyWtz/Z8mmX9kIw0V9C3Khzngqeh/CuS0f8AZvu/C4bTfD/xE8RaL4VaVpF0W3MR8oMxZkjmKl0Xk9OeetHKwuee3ng+4034hfs8+AdSEdzLotncajeqPnTdFGFTGRyN+efau1v8a9+2bpUYAK6D4WlnZh2eeUIAf+AhjXfzfCu2uPjFb+P5b+R7m20n+yYbHyxsRTIzl93XJ3Y/Cl0H4XW+i/FTxP44N/Jc3etW1vai1eMBLaOJQMKep3HJOfWnYR3FFFFWIKKKKACiiigAooooAKKKKACorq4SztZp5DiOJC7H2AyalrP8QaWdc0LUdOWdrU3lvJB5yqGKblK7gD1IzQB8+fsxajNoX7P/AIu8Zuge6vb3VNZxj720sR+qmrvwNsdP8I/smza3qXlytqOm3er6pPNg+e7q5Yue+QAK9W+G/wANdP8Ahz8N9M8GxSNqFhZ2727yToAZw5YuWA9Sxrzi3/ZRs4tNj8OyeMtfn8BxzeavhlnQRY3bvKMuN5jzj5c/41FmrDPnnR5vEWk6P8HLfS7X7brXh/wpqXiCK2mBzlg4i49tykDvtAr0DxDcWPhL9iq/1zw9eyXuqeKY4n1DVZSBNPc3EgSbee20lkx2Ar3+x+ENhY/FaXxqtyxb+xk0WDThEBFBCr7jg55ye2O1Yejfs46Fp/gPxR4LvLu41DwxrN5Ldw2ZAQ2Idt2yNgTwrYIJHbvS5WO55j4g+GHxS8YeD/CXg2Xwl4c0DQ9HvrKf7Va6q0sqxwsMkKYxyRk9eTXUfD2FPE37W3xL1l0Dpoun2WlW8jDJUsnmPg9uSRXZeC/hDrvhnVrK41L4ja/4gsLHPkafcrFGh+XaPNZV3SYznk9QDWr8O/hbb/D/AFrxfqiX8l/d+JNROoTNLGF8vjAQY6gZNOwjgP2dcax8RvjN4iUDZc+IvsEbL0ZbdPLz+ea94rh/hH8Lrf4T+Hr3TIb+XU5Ly/n1Ca6mjCMzytkjA7Cu4qlsAUUUUxBRRRQAUUUUAFFFFABRRRQAV8teN/BFt8Zv2ubnTLrUdT0+28PeHIz5+k3TW0qySSFsb155D9PavqWvD9c/Zz1m6+I2v+MNC+I2p+GrvWRGk8NrZQyAIgwq5fPufxqZDRY+IGgWvwT/AGd/HC2epapqSrZXEyz6tePczb3QRhQ7chc449zXn3xH0weBf2F9O0SGFEu7zTbGyMYXBeedk3fjuY16drXwM1PxZ8KdX8F+I/HOo64dRuYpX1Ke1iWRYkeN/KCrgYJj69fmNbvxK+Edr8SNB8O6RNfy2NnpGpWuoFY4w32gQg7Y2z0BJBz7UrAeZ6Fo8OvftTWulXQE1j4H8MW4sYXGVWaXaDIB67QBn2FXvjjCviz47fCHwfdqJNJluLvV7mFvuytbwlowR3+bH5muu8ffBFfFPjCDxZofiTUfCHiVLb7FJe2CpIs8OchZI3BBweh/wqpr37P8XiDR9CM/ivWv+Ep0WeS5s/E29DdK8mQ6ldu0oQdu3GMD65LPYDnfiwqap+0z8ILCzA+3WUd/e3LRj5lt9igBvRcgj6mq/wCyvNDefD7xZ8QLplbUNf1S8vZ7lvvCGNmWJM9lVRwPc13/AMOvg1a+B9e1DxHf6xfeKPFN/EsE2rajtDLEMERxooCouRnA61yUP7L6aZZ63o+j+ONe0fwtqZmf+w7ZoxHC8oO7a+N+zJ+4CM4wTzRre4HzxCuqah+z78P9JsLSO5u/HXjCfUJ7S5l8qO5AlLpHI+DhW2R9j0Fe4t4I+Jfjr4reANc8ReHdC8PaV4ZlnkJ07UTcSOHQKFwUXgFR+Zrsbz9nfQ774WeHPBj3t5bt4f8AKk0/VrQiK4hnj6SjqMnnI9/xrX8D/DfXPDN5cXmr+PNY8UXDW7W8K3kcUUMOSDv8tAAz8AbiemfWkojuef8A7JsMerP8SfFZRWk1jxRdCObaMmGIhEGfTqa9/rivg/8ADG1+D/gWz8M2l5JfxwSSStcyoFaRnYsSQCfWu1q1sIKKKKYgooooAKKKKACiiigD5a8ceB7b4zftc3GmXWoanp9t4e8ORkz6TdNbSq8khON688h+nt7VkeKPhFp/hT9pP4RaLZ61r+s+ZPc6pMmsanJdrGIIyyMAx+UlhjNfQXhP4V2/hf4keLvGP9oS3l54gW3QwPGFW2SIEbVOcnOR19KLz4V2998ZNP8AiBLqEpnsdLfTYbDyxsG9yzSbs5zg4xio5Srngy+KJtJ8TftK+ObaQrNpsUWlW0q/8s2ih2nB9d5z+Fb+t6fbfCv9h+6htVWOe68PqJGX70s90ih2J7nMp59q9I8L/AnSND8L+MdC1C5l1i18UX1ze3zSKI2/fdVGCenY1xmpfsoy614Ph8Man8RPEOoaLavF9ks5hGI4o42BCNtAMnAwCx49KVmBzXhvw7HdfGf4SeD7tFaw8LeEhrAtXHym5f8AdIxHQlSGI9CK1PFermT9qrVdTC+bH4P8E3F4OMhZpGyB9Su6vRPiD8EYfGHirSvFGka/qHhPxHp9ubJb7T1RxJbk5MTo4KkZJx6Zpvw/+Bdl4H8VeJ9euNZv/EV34gt4ba5bVCHfaikHkdmz90AAAACnZgfPvwo0H4pa5+zze6TpPhXw/e2fiy2u5p9YvNVZbiV7gMrSsnlkbhngZ7CuouPCc9p8WvgD4G1ER3LeH9LuNQvFHzpvjh2IeRyN+Ofau+0H9nG88JqumaF8RPEeleFFkLposJiPlqW3FEmK71Xk9OeetdiPhZbN8Yv+FgSX8kl0mkjSIbIxjZGnmFy4brkk/pSUQucAceIP2z0AAKaB4TZiw7STTqAD/wAB3V7xXD+G/hdb+Hvid4s8aG/lurvXoreD7O8YC20cK4CqepyeTmu4q0IK+efioRc/tbfCK2uvlso7O+miZuhmCNgfXha+hq4L4sfB3SfizZ6d9rurzSdW0uf7Tp+radJsuLZ+hwe4PGQfQUPYEb/jzW08M+B/EOruwVLDT7i5JP8AsRs39K+SLPR5Yf2c/gp4GZ3hg8YaxEdQ5wZIWkaZ1J98j64xXtdx+zzq+teH9Z07X/iXr+uPqFlJYo08cSRQq+AzeUoAZsAjJPc1u+LvgTpXivwH4c8OjULvTLrw8YJNM1azIWaCWNQocA8HOORUu7A4j43WcF/8YPgl4QtI0htLe/m1IwRjAVIIsIAB0AG6sfxH/wAJX+y34n8V+L7awtvE3gDXdRXUNSCtsvrB3IQsD0dMnp9OnOe/8P8A7Pv9nfECx8Y6v4u1fxHrFtp81hvvQigeZgb4wgAjwuRgDnOSayb79mO78QLHpviH4keJNe8LJIrnRbpowJQpyqSSqNzLwKLMZmfEbw74s8G+Ppvi/wCBrWz8Q2V3pEUOo6LeExytAgLh4H/hOMfKR2PXPGJ4p8bWPxq+InwBm06N4rG+kudde3kA3Dy48Yb6MrjPeu78R/s96rrlzfW9t8S/Emm+Hb5m87R4vLZVVuscchG5Exxgdq2PDvwG0bwr468P6/p1xJDa6ForaLZaaVBVFZgTIXzkscHPHO4mizEcj8Mv+Ki/as+Kurkbk0mxsNJRuwLBpGA/74H515dJ4mutN+Hv7SPjqykZbq61j+yLadeqBTHDkH288flXqH7KanWF+JviPP8AyGPFN35UgH/LKI7E/r+ddb4V+AOi6H8Lda8DahcS6xp+sXFzcXkzqI3dpn3EjBOCpC4P+yKVm0M6T4U+ErHwP8OPD2i2ESR29tZRA7QBvcqCzn1JJJJ968f/AGaruC48A+OfidqG2XUdYv727luH+8ltCWEcQJ6Kqg8V3vgP4O6x4N1Kxa6+IWva5pOnrstNLuliRAu3aokdV3SYB4yeoHpXMyfsrxQaf4h0XS/G+vaR4W1jz3Oh25j8qKSUNuw5G7Zk52ZAOME09RHh0NnO37Jvw80Vz/pvjLxRDNL/ALQkuWkOBn2SvZvjZGutfHb4LeGU5it7u51R4+uVhi+Un2GG/Ouj8Ufs66d4g8BeDvD1trN5pF34Ukhm03VLVFLpJGANxQ8HOM4rV0n4OG0+Iui+MNR8QXes6jpmkyaYv2mJFMjO4ZpiVwAeowBjBpWY7nFfs7RL4k+JHxd8XXiiS/8A7efRYHbkxW9sNoUegJJJ+grx/WNWMHwV/aD1SwGyx1zxOdNsVQfIzM0UcjL6ghj+K171rf7Ovm+Itd1Lw54y1rwjb68/m6rY6f5bRzyEYLqWBMbEdStXPEH7Ougap8PfD/gvTp5tJ0TSb+G/2Kole5aNixDsepYkkn1os7AcJ+0RosOj/AnwH4Lt4kQajq+laYsSqBwp8xzgf9c/1r6QjQRxqg6KAK4n4gfC23+IHiLwdqd1fyW8Xhy/OoJapGGW4fbhQxPQDnp613FWtxBRRRTEFFFFAHzp+2dDc+ItG8AeEbK6+x3eueJIFWYJvKrGrHdtzzhmQ49q3tO/Z1v9Q8RaRrPjvx1qHjVdFlF1Y2DWkdpbRyjpIyKW3EY45Fdl4y+FNt408feD/E1zfyxf8I3JLNDZrGCsruuMls8YwOnpXa3kLXNnPCknkvIjIsgGdpIxnHfFTbW7GfPn7LEit4P+I3jMxq9xqniHULlJNoy0MQCoM9xlWP41538E7b4n678GdWm0XwpoOp23jCS9uptWv9VaOeRpWeMlo/LP3cYAz296+mfhN8MLP4UfDyw8JW1y+oW1qJA08yBWlLsWYkAnqWNcTpn7OF14Zaax8N/ELxD4f8MSzPN/Ytr5TCIuxZ1ilZSyAknp60rPQZ51pPgm6sPH3wL+GuuNHOnh7R59YvLdW3xPcKdsf+8EYNj611vjS5TVf2vPC0bDfD4a8M3WqOeyPK7Rj8dqfrXc/Ej4KweOtc0PX9P17UPDHiTR42gt9UsQrs0LY3Rurghh9fU1laD+zzFoviHxPrkvijVNW1XXNJGlvd6gFeSLg5dcYHU/dAAGKLMR87WU1zJ+ypAyTPE/xA8atbT3C8HyZLh1bn0KwMP+BGvtnStLtPD+j2un2UEdtZWcKxRQxqFVFUYAA+grzr/hnvQbj4L6V8Obu5uZbHTUjMF/CRFOkyMXWZeuG3En8TWp4D+Gus+F76W51rx1rHiseS0ENveJFFFGpI+YhFG58DG4nufWhJoDyT9n/WBY/B34q+OZWGNR1jVNQWTPHlRpsXn/AIA3PvXA6ZorzfA/4AeCbnJtPFGsfb9RDcCZN7z7G9QfMXj/AGRXsui/svL4d8CeJfBtj4z1VfDWqwzQW9hLDGy2QlbLlTgM5PI5OOTXVeK/gZo/irwL4e8PPeXen3Hh8wyaZqlkwSe3kjXaHHUcjqDxSs7DOL/aNjiuvHnwW0ezRV1AeIftcflj5o7eGI+b9F+ZAfoKo/swTxHwz8T/ABvMqh9S8Q38yzMOTBCoVefTIeu78HfA1NA8RXHibWvEeo+LPFLWrWcGpagqKLWM9RFEgCqSep74+uZPB/wRtvBnwWufh7ZatOY57a5gOptEvmhpt26TbnBILevanZ3uI8L+G/wg1rx5+zj4I1zw/dW1n4ls9bufEdpDfIWt5maeQBHA9VCEHt+Oa9w+CfxbvfiR/b+ma7on9g+KvD1wtpqVoknmRZYbleNv7rAZAP61nSfAC/03w74d0vw14+1zwwdHsE0/daJG8Vwq/wAbRMMByc8g966j4V/CXT/hZY6kIL681jVdUuPteo6pqD7prmXGATjgADoBQk0B3NFFFWIKKKKACiiigAooooAKKKKACiiigAooooAKKKKACiiigAooooA8p+H/APyXz4s/9cdG/wDRE1erV5T8P/8AkvnxZ/646N/6Imr1agAooooAKKKKACiiigAooooAKKKKACiiigAooooAKKKKACiiigAooooAKKKKACiiigAooooAKKKKACiiigAooooAKKKKACiiigAooooAKKKKACiiigAooooAKKKKACiiigAooooAKKKKACvKf2T/APk134Qf9ijpP/pHFXq1eU/sn/8AJrvwg/7FHSf/AEjioA9WooooAKKKKACiiigAooooAKKKKACiiigAooooAKKKKACiiigAorg/iP8AF7Tvh7e6dpaaffeIPEOpbjaaNpcYeeRVHzOckBVH94nFZ/hP486N4o8K+KtWexvtJvPDCyHVdKv4wlxAUQvjrg5CnBBwaV0B6ZRXgH/DXunL4W03xM3gnxQnhy5Ef2jVGtAsFtvbaMsSN4yQNy5GTjNeg/ED4zaN4CXSbcW97rms6uN2n6TpcPm3FwuMlwOygdWPFF0M76ivKLr9oKy0HwrNq/ibw1rnhu6+1JZW2lXVuHub2Z1yqwBCRJ+HTBqz4H+Olr4o8Xf8Ivq/h7V/CGvyW5u7az1iNV+0xA4LRspIJHcdRRdCPTq523+IXhq4m1yJdas0bQ5Fi1JpZBGlqxGQHZsAfnXF+IP2gLWz8UahoXh7wxrnjO70tguoyaNCrRWrEZ2F2IDOB/CuTXhfw98ZeHo/hX8QPF3ifQbjW9L8YeMpIE0tsLJIrSBYkOSPu8ZGexpcw7H2Nb3EV3bxzwSJNDKodJI2DK6kZBBHUEd6krynxj8ctJ+HPjrTvAkHh/VtWv5NKF7bwaRb+dtQMY0j2jkfcPJ4AHJq98Mfjdp/xEufEFjcaTqHhjVtBZft9hq6qkkSsu5XJBIwV5z6EU7rYD0iivCNY/ay02y02+1zT/CHiLWPCVk7LN4ht4ES1IB2lk3sC657gVu69+0Tp1nfaRpmh+HtZ8U61qWmx6sunadEoeC3cZVpWZgqk+maOZBY9aorA8E+KpPGOgpqM2j6joMxkaN7HVIfLmRlOOmeQexHBrfpiCiiigAooooAKKKKACiuR+JHxO0n4Y6XbXOopcXd3ezra2OnWUfmXF3M3RI17n+VYvw7+N1j448Qan4fvtG1Lwt4h0+BbqXTdWRVcwt0kVlJBH0NK4HpFFfPkf7YmmXXhO48R2fgrxNe6TaTyR3d3DagwwIjbd5kJ2t64XJHfFa19+1Ro1ld6NP/AMIz4i/4RnVLmK0h8RTWRhtN8hAQ/Phipz97GDg4zS5kOx6pqfjDRdG17StEvdQht9V1QuLK1bO+fYNzbeOwGa2a+YviZ4saz/a+8NGLSNS16XQvDs9xHZ6ZAZX82djGMnIVRtz8zED8SK9X+Hfxw0fx5Z+IWubO88M3/h9tuq2OrqI5LUbSwZiCRtIBOenFFwPRqK8Ssv2qNGuL3SZrjw3r2n+GdWuks7HxFdWwS1mkc4Q4zuVSejEYrofGnxys/Dfip/DGj6Dq3i/xBDCtxdWWjxq32WNvumR2IVSRyFzk07oLHaWnjDRr7xNe+HrfUIpdasoUuLizXO+ONjhWPGMGtivkn4a/F3S9F8bfGL4l63Z6hZQSahZaJb6dJBm786NCpgCD+MuTx7V7t4D+KOoeLtYfT9R8D+IPC7eUZo59ShTyZACBjejEBufunmkncD0CiiiqEFFFFABRRRQAUUUUAFFFFABRRRQAUU2SRYY2kdgiKCzMegA6mvGtL/aUj8RTG40LwN4n1vw6Lhrb+3LO1VoWKttZlXdvZQc8gdqVwPZ6K+Y/iF8ZvF1t+0pomg6R4Y16807S7Kee50+zkiA1BXwqTcsBsUgj5sHOeK9S8Y/HCx8M61b6BYaLqnibxPJAtzLo+kxrJJbIRwZnJCp7ZPNLmQ7HpVFeS+F/2kvDmteB/EHijVLW98N2eh3TWV5FfqpkEy4BjXaTubJ24HerXhX403nia4YXHgXxJ4f097aS5h1PU7dUhKqu75sNlCR0DAZp3QHceHPGGjeLlv20bUIdQWxuWs7kw5IimUAsh46jI/Otivln4A/ETT/hf+zzZ+Ir62nvtU8Ua3dXNnpdoAbm9mlnKKqA/wCyoJPQAV9QWc0lxZwSzQNbSuis8LEEoSOVJHBxQncCaiiimIKKKKACiiigAooooAKKKKACikZgqlicADJNeM2v7SkWtXVxJ4f8EeJvEWhW9y9rJrVhbK0JdTtYopbc4B7qO1K4Hs9FfMfxW+M3i2y/aE8LeH9D8Na9d2VjbzXtzZWbxL/acbIuGAZhhUY4O7HOcZr1Pxh8b7DwrqOn6Lb6Nqev+Kbu3FydD0qMSzW6EDmVs7UGeMk84ouhnpNFfPXiH9p59R+EvjXXNL8K61aahocj2F3DKYg9nKY2JkLbsEIducZPzDFW/hD8ZL3w98DrXW/iFp+q6SNPs4S+pakyO+pPJyDEqksSSQACAeRS5kFj3qivKPCP7QNnr3i+z8N6x4a1vwjqOoQPc6eNYhVFu405baQThgMEqeRWfa/tKRa1d3Mnh/wR4m8RaFb3L2sms6fbK0JdThtiltzgHuo7U7oD2eimRyebGjgFQwBwwwR9afTEFFFFABRRRQAUUUUAY/iLxfo3hL7B/a9/FYfbrlbS28zP72ZvuoMDqa2K+av2oPEUNr8XPg7p8tpeaikGozaq1np8DTzSGFAUCooJOWx+vSvQvAfx+03xb4g17RNU0XU/CGqaPai/ng1pFjzbE480EEjb6+lTfWwz0PQ/DuleGLH7Fo+m2ek2e9pPs9jAsMe5jlm2qAMk9TWhXiNv+1VoslzplzP4c16y8LandLZ2fiS4tgtpK7NtU9dwUnoxGK7L4ifGDSvh/qFjpIs77XvEV+C9toukxebcOg6uRnCoP7zECndAd5UdxcR2lvLPM4jijUu7noqgZJ/KvNvhr8c7L4gXviayu9F1DwxeeHdn9oRaoYwItylvvKxHCjJ9jXnPxN/abTUvhd4rvtE8I+IrnQZdPuba28SfZgtqXZDGsgBO7ZuI+bGKXMgPf/DPijSvGWh22saLex6hplyC0NzFna4BwSMj1Falef8A7P8AoP8AwjPwV8Gaft2mPTIWb6soY/8AoVegUxBRRRTAKKKKACiiigAooooAKKKKACiiigAooooAKKKKACiiigAooooAKKKKACiiigAooooAKKKKACiiigAooooAKKKKACiiigAooooAKKKKACiiigDyn4f/APJfPiz/ANcdG/8ARE1erV5T8P8A/kvnxZ/646N/6Imr1agAooooAKKKKACiiigAooooAKKKKACiiigAooooAKKKKACiiigAooooAKKKKACiiigAooooAKKKKACiiigAooooAKKKKACiiigAooooAKKKKACiiigAooooAKKKKACiiigAooooAKKKKACvKf2T/wDk134Qf9ijpP8A6RxV6tXlP7J//Jrvwg/7FHSf/SOKgD1aiiigAooooAKKKKACiiigAooooAKKKKACiiigAooooAKKKKAPli80/wAZeJ/2tvHc3hjWtL0e+0fSrGzi/taza53QSRrKxjAdcfOSCeelUviZ4H1z4R/B34w+I/EOu2esa74r8iKSSxtzBGnAiChSx/hJ717n48+Bnhf4ha3DrV4t9putxR+SNS0i8e0uGjznYzIeR9aj1L4DeFdV8CweEp0vm0iO8S+fddu8s0ytu3SO2S2SBmo5SrnmP7Qelnw7+zn4R8FxfJNqF3pWkbPUhkLfqlangO3ivv2t/H7XP+s0HRdPsNPR+qwyRrJIyj0LHBPtXq/jP4c6R48vvD11qond9Cv01K0SKTavnJ90uMfMB6Vi+PPgX4Y+IOuRa3eDUNN1uOIQf2lpF7JaTvEDnYzIeV+tFhHC/ETbrn7WHwz0y8ZTYWOmXuowI33XuD8vH+0AoP41W+IF9/b37VHhiOwPnN4U8P31/ePHz5bTDbGjH1OzOPeu91v9n3wdr3h3SNIntbyL+yWeSx1CC8kW9hdzl2E+d2WPJyfT0FbHw/8AhR4b+Glrex6NZuZ75995e3krT3FycYHmSMSWx6dOT60WYHkn7OepweHf2V7vxY7g3l8upatdzE/M0vmygZPqAqj8K8u0HRS/w2/Zv8NMv73WdcbXpkXusZaUE+2JE/Kverj9lHwBcLqkH2fUotO1Au76ZFqMq2kbvnLpDnaGyc8g4NdTbfBvw5aat4P1COO4E3hSxOn6Ynm/IkZRUywxy21Rz7UuVjued/D3/ipP2tPiTqp+ePRtMstKjP8AdZsuw/MNXkvjHXLhvBf7SPiy1lZJL3V7fRYpl4IjQx25OfTa1fV/hH4c6P4J1jxHqmnCc3mv3YvL2SeXflwu0BeOAB2rhvEnhP4ffCD4a6tpOtWl7deGddv5ZL8vHJdHzZhlncoMqvyAA9jinYRx/wC03ZQeF/2X9N8K6SqRLenT9HtY14BBZB/IZrY+KHwl1vQNY/4WH8O9et9J1vTdKFld2N8gktL63hBKo56oQBjIPYdOa8isPBfhD4jfEPwFp3w7k1zxFpWj6iup6jrWqXE81tawxD93BE0nHLfwqP4R+HvXiT9l/wAFeKNavdQun1mFL6UzXdja6pNHa3DnqXjBxz7YpbjOp+DfxAf4pfDLw/4pktPsMupW/mPb5yFYMVOD6ZUkexFdnVLRdGsvDuk2mmabbR2dhaRrDBbxDCxoBgACrtaEhRRRQAUUUUAFFFFAHzN8arTxH4k/ak8DaZoGpWGlXmnaHcajaTapbtPC0ryNG4CBlywVRznjNXb74f8AirwPqHjb4m+MfEmmavqEfhiXT4o9Os2tkjRSzgkFmzya9Y+Ivwh8N/FD7DJrNvPHfWBY2mo2Nw1vc2+7rskU5AOBx7VnW/wH8MweCdc8MGTVLi01tdl/dXV/JNdTDGAPMcnHHHHqai2ozwTXoZfB3/BP/S7KPP2zWbK3VR3d7qYOB+Tiu6/aE0+KNvg14GhGYbjxDZKyD/nhbKGb9BXqXiT4R+H/ABV4X0Hw9exzjS9Fntp7WGGTbzAAIw3HK8DIq34g+G+j+JvGfhvxPfC4fUvD/nGxCy4iBlUK5ZccnA49KOULnlXwjI8QftMfGHX2OYbH7HpEbHomyIFx/wB9AmvE/iPrE+reFv2hPF2muy6Zquq2OhxXafcaKEiOVwe65Y8+lfRmsfsu+DdW1zU9US517TJNUlae+t9O1aaGG5c9S6A855rt4fhl4Wt/A58Hx6Jar4aMJgbT9nyMp657ls87s5zznNHKwueLax8B/iN4x0Lw7oOteMvDp8M6bd2lylvp+lSRO6QkbVVzIf4RitP9lm4gvdL+I/iu7YG+vvEt59okb7yRwhQin2Az+BrsfBv7PnhfwPrNpqVlca1dvZEmzt9Q1SaeC2ypX5I2OBwSO/Wq2pfs0eB9T1/U9Ua2v7YamxkvbC0v5YbS4kIwXeJSFJ+vHtRbqB5D8HfhTbfGj4GatPd38ulanq/ia61+zvrcgyQTJMdkgB64OR+NelfA34h+Lb7xl4q8BeNZLPUtZ8PJBKur6emxLmOQcb06K/Tge/HFad1+zP4MuPCmhaDF/alhBoiSR2V1Y38kFwiuxdwXXGck9xXS/Df4TeHPhVZ3kOg2siy3sglu7y6maa4uGAwC8jcnGTx05PrQkwOxoooqxBRRRQAUUUUAFFFFABRRRQAUUUUAQ3kcM9pNFcbfIkQo+44BBGCP1r5ns7fxR+yr4m8L6HbapD4i+HWvasdPtLC4QLeadJKWkGxh99M7ic/pmvorxP4a0/xhoN7o2qwm40+8j8uaNXZCRnPDKQQcgdK8/wDCP7Nfg3wj4jtdcQanq+o2eTZvrGoSXS2pPGY1Y4Bx3qWM5X4csPEv7WXxO1QkOui6bY6Un+wX3Of1Q/nUP7NF5DJpfxS8aXrK2o3HiK9WeST7yQwKoRCewAz+Yr0Nvgb4YX4jSeNoBf2WszMj3K2t5JHb3LIMK0sYOHI9+KytW/Zm8Daxr2q6nJbX9uNUJe9sLW/lhtLiQjG94lIUt354z2pWYHzP4HsRqvhP4NQ6h/yD/FPjO+1m6Z+FlaNiIlP1OSB7V9X/AB918eGfgr43v1cRyx6RcrGc9HdCiH/vphTLz4D+D9R+HekeCrqwkm0bSQhsmMzLPA65xIsi4Ibk8j1rOH7OHhRvCeseH7i51q/t9WES3lzfanJPO6xtuRQz5woPYDmizQzxP9nzQR4a+LvhXRvFC+dNF4Tt7jwvu4iiUpm6wv8Az1yWJbrt9q+v647XvhVoPiLVfC2pTpPBfeGpN+nz20mxlG3aUbjlSOCK7GmlYQUUUVQgooooAKKKKACiiigAooooAjn8vyXEpAjIIYscDFfMdxZeJv2T9e0S20zUodd+HGt6yLRNIuUC3dhJOzNmJx95c5OD+mc19IeINBsfFGh32kalD9osL2JoJ4wxXcpGCMggj8K838L/ALMvgvwv4istaA1TV7yxbfZLq+oSXUdq3QGNGOAR264qWM5rwmw8Rftk+NbwkOnh/wAPWunqP7jzOJSfrhf1pv7OMsWoeJPjD4quyG1F/Ec9i7yfejt7ZQEX2HLH8a76++Bvhi++Ix8bKL+z1yQRi4NnevDFdbMBPNRTh8ADg8cVn6x+zf4J1vxPqGty219by6kd1/aWl9LDa3bY+9LEpAY/Xg96VmB8zG8Z/wBjvxXqIfbc+OPFbKkndke7RMDjpshf8zXqP7TWk6jJJ8GfCOl3Ftpyy6srJNeRGS3WaCEeUrqCN3LNgZ7V6lcfAHwfd/Cu0+H09nNJ4ftCrQZmImjdWLBw45DZJ59zU+ofA3wrrPgW18KapDearYWsv2iG5vbySS7jlGcSLMTuDDJHB6cdKXK7DucVafB7xvrHxM8L+KvHHivRdRtvD8d0tva6dYPbE+ciqxJZz/dWuTuLHxN+yfr2i2+malDrvw41vWRarpFygW7sJJ2ZiYnH3lzk4P6ZzXrPh/4BeFtCsNVtZH1bWBqdqbK4l1bU5riTySclFYt8ozjpg8Cs/wAL/syeC/DHiKy1oDVNWvLB/Msl1fUJLqO1bsY0Y4BHbrinYR6xRRRViCiiigAooooAKKKKAPAj/wAVH+2pn78Ph3wsBj+7LPKST/3xivHfjrqlxea98f8AWLWRgtpZ6X4eWZf4Ed0aYn2BY5+hr630X4c6PoPjjX/FlsJ21jWkijunll3LtjUKgUdhgCs/Tvgz4WsYPF0Elm+oW/iq6e71SK9fzFkZhjA/uqB0HaocWyrnkWqfAb4i+NPCPh7w7q/jLw7/AMItYzWcyW+n6VJE7RwlSihzIew64ra+C6x698ffjFrt4Q99Y3dvpNv5nWK3SMnj0BIz+ddb4P8A2efC3gnWLTULKfWrk2RLWdrfapNPb23BX5IycDAJHOak8Tfs9+D/ABV4un8R3MF9a6hdIsd6un30ttFeqvAEyoRv4496LCPmbUtYml+A/wAdvF1vIUfxB4leySde0PmpEOfQK9etftR20Hh/9nbS/Cmlqkaajcafo9rGvAKl1A/RRXpuh/BLwjoPw5ufA0WnfaPDlw0rS21y+8sZGLHnjoenpgVzll+yz4Hs5tHmf+1r6fSLyK9spL7UpJzC0ZyiKGJATOOABnaPSlysdz1ixs49Psre1hGIoI1iQeiqAB/Kp6KK0JCiiigAooooAKKKKACiiigAooooAKKKKACiiigAooooAKKKKACiiigAooooAKKKKACiiigAooooAKKKKACiiigAooooAKKKKACiiigAooooAKKKKAPKfh//AMl8+LP/AFx0b/0RNXq1eU/D/wD5L58Wf+uOjf8AoiavVqACiiigAooooAKKKKACiiigAooooAKKKKACiiigAooooAKKKKACiiigAooooAKKKKACiiigAooooAKKKKACiiigAooooAKKKKACiiigAooooAKKKKACiiigAooooAKKKKACiiigAooooAK8p/ZP/wCTXfhB/wBijpP/AKRxV6tXlP7J/wDya78IP+xR0n/0jioA9WooooAKKKKACiiigAooooAKKKKACiiigAooooAKKKKACiiigAooooAKKKKACiiigAooooAKKKKACiiigAooooAKKKKACiiigAooooAKKKKACiiigAooooAKKKKACiiigAooooAKKKKACiiigAooooAKKKKACiiigAooooAKKKKACiiigAooooAKKKKACiiigAooooAKKKKACiiigAooooAKKKKACiiigAooooAKKKKACiiigAooooAKKKKACiiigAooooAKKKKACiiigAooooAKKKKACiiigAooooAKKKKACiiigAooooAKKKKACiiigAooooAKKKKACiiigAooooAKKKKACiiigAooooAKKKKACiiigAooooAKKKKACiiigDyn4f8A/JfPiz/1x0b/ANETV6tXlPw//wCS+fFn/rjo3/oiavVqACiiigAooooAKKKKACiiigAooooAKKKKACiiigAooooAKKKKACiiigAooooAKKKKACiiigAooooAKKKKACiiigAooooAKKKKACiiigAooooAKKKKACiiigAooooAKKKKACiiigAooooAK8U8J/s7+IPA/hfSPDmifGjxpY6NpNpFYWVr9h0STyoIkCRpufTyzYVQMsSTjkmva6KAPKf+FQeNP+i5eNP/AAW6F/8AK6j/AIVB40/6Ll40/wDBboX/AMrq9WooA8p/4VB40/6Ll40/8Fuhf/K6j/hUHjT/AKLl40/8Fuhf/K6vVqKAPKf+FQeNP+i5eNP/AAW6F/8AK6j/AIVB40/6Ll40/wDBboX/AMrq9WooA8p/4VB40/6Ll40/8Fuhf/K6j/hUHjT/AKLl40/8Fuhf/K6vVqKAPKf+FQeNP+i5eNP/AAW6F/8AK6j/AIVB40/6Ll40/wDBboX/AMrq9WooA8p/4VB40/6Ll40/8Fuhf/K6j/hUHjT/AKLl40/8Fuhf/K6vVqKAPKf+FQeNP+i5eNP/AAW6F/8AK6j/AIVB40/6Ll40/wDBboX/AMrq9WooA8p/4VB40/6Ll40/8Fuhf/K6j/hUHjT/AKLl40/8Fuhf/K6vVqKAPKf+FQeNP+i5eNP/AAW6F/8AK6j/AIVB40/6Ll40/wDBboX/AMrq9WooA8p/4VB40/6Ll40/8Fuhf/K6j/hUHjT/AKLl40/8Fuhf/K6vVqKAPKf+FQeNP+i5eNP/AAW6F/8AK6j/AIVB40/6Ll40/wDBboX/AMrq9WooA8p/4VB40/6Ll40/8Fuhf/K6j/hUHjT/AKLl40/8Fuhf/K6vVqKAPKf+FQeNP+i5eNP/AAW6F/8AK6j/AIVB40/6Ll40/wDBboX/AMrq9WooA8p/4VB40/6Ll40/8Fuhf/K6j/hUHjT/AKLl40/8Fuhf/K6vVqKAPKf+FQeNP+i5eNP/AAW6F/8AK6j/AIVB40/6Ll40/wDBboX/AMrq9WooA8p/4VB40/6Ll40/8Fuhf/K6j/hUHjT/AKLl40/8Fuhf/K6vVqKAPKf+FQeNP+i5eNP/AAW6F/8AK6j/AIVB40/6Ll40/wDBboX/AMrq9WooA8p/4VB40/6Ll40/8Fuhf/K6j/hUHjT/AKLl40/8Fuhf/K6vVqKAPKf+FQeNP+i5eNP/AAW6F/8AK6j/AIVB40/6Ll40/wDBboX/AMrq9WooA8p/4VB40/6Ll40/8Fuhf/K6j/hUHjT/AKLl40/8Fuhf/K6vVqKAPKf+FQeNP+i5eNP/AAW6F/8AK6j/AIVB40/6Ll40/wDBboX/AMrq9WooA8p/4VB40/6Ll40/8Fuhf/K6j/hUHjT/AKLl40/8Fuhf/K6vVqKAPKf+FQeNP+i5eNP/AAW6F/8AK6j/AIVB40/6Ll40/wDBboX/AMrq9WooA8p/4VB40/6Ll40/8Fuhf/K6j/hUHjT/AKLl40/8Fuhf/K6vVqKAPKf+FQeNP+i5eNP/AAW6F/8AK6j/AIVB40/6Ll40/wDBboX/AMrq9WooA8p/4VB40/6Ll40/8Fuhf/K6j/hUHjT/AKLl40/8Fuhf/K6vVqKAPKf+FQeNP+i5eNP/AAW6F/8AK6j/AIVB40/6Ll40/wDBboX/AMrq9WooA8p/4VB40/6Ll40/8Fuhf/K6j/hUHjT/AKLl40/8Fuhf/K6vVqKAPKf+FQeNP+i5eNP/AAW6F/8AK6j/AIVB40/6Ll40/wDBboX/AMrq9WooA8p/4VB40/6Ll40/8Fuhf/K6j/hUHjT/AKLl40/8Fuhf/K6vVqKAPKf+FQeNP+i5eNP/AAW6F/8AK6j/AIVB40/6Ll40/wDBboX/AMrq9WooA8p/4VB40/6Ll40/8Fuhf/K6j/hUHjT/AKLl40/8Fuhf/K6vVqKAPKf+FQeNP+i5eNP/AAW6F/8AK6j/AIVB40/6Ll40/wDBboX/AMrq9WooA8p/4VB40/6Ll40/8Fuhf/K6j/hUHjT/AKLl40/8Fuhf/K6vVqKAPKf+FQeNP+i5eNP/AAW6F/8AK6j/AIVB40/6Ll40/wDBboX/AMrq9WooA8p/4VB40/6Ll40/8Fuhf/K6j/hUHjT/AKLl40/8Fuhf/K6vVqKAPKf+FQeNP+i5eNP/AAW6F/8AK6j/AIVB40/6Ll40/wDBboX/AMrq9WooA8p/4VB40/6Ll40/8Fuhf/K6j/hUHjT/AKLl40/8Fuhf/K6vVqKAPKf+FQeNP+i5eNP/AAW6F/8AK6j/AIVB40/6Ll40/wDBboX/AMrq9WooA8p/4VB40/6Ll40/8Fuhf/K6j/hUHjT/AKLl40/8Fuhf/K6vVqKAPKf+FQeNP+i5eNP/AAW6F/8AK6j/AIVB40/6Ll40/wDBboX/AMrq9WooA8p/4VB40/6Ll40/8Fuhf/K6j/hUHjT/AKLl40/8Fuhf/K6vVqKAPKf+FQeNP+i5eNP/AAW6F/8AK6j/AIVB40/6Ll40/wDBboX/AMrq9WooA8p/4VB40/6Ll40/8Fuhf/K6j/hUHjT/AKLl40/8Fuhf/K6vVqKAPKf+FQeNP+i5eNP/AAW6F/8AK6j/AIVB40/6Ll40/wDBboX/AMrq9WooA8p/4VB40/6Ll40/8Fuhf/K6j/hUHjT/AKLl40/8Fuhf/K6vVqKAPKf+FQeNP+i5eNP/AAW6F/8AK6j/AIVB40/6Ll40/wDBboX/AMrq9WooA8p/4VB40/6Ll40/8Fuhf/K6j/hUHjT/AKLl40/8Fuhf/K6vVqKAPKf+FQeNP+i5eNP/AAW6F/8AK6j/AIVB40/6Ll40/wDBboX/AMrq9WooA8p/4VB40/6Ll40/8Fuhf/K6j/hUHjT/AKLl40/8Fuhf/K6vVqKAPKf+FQeNP+i5eNP/AAW6F/8AK6j/AIVB40/6Ll40/wDBboX/AMrq9WooA8p/4VB40/6Ll40/8Fuhf/K6j/hUHjT/AKLl40/8Fuhf/K6vVqKAPKf+FQeNP+i5eNP/AAW6F/8AK6j/AIVB40/6Ll40/wDBboX/AMrq9WooA8p/4VB40/6Ll40/8Fuhf/K6j/hUHjT/AKLl40/8Fuhf/K6vVqKAPKf+FQeNP+i5eNP/AAW6F/8AK6j/AIVB40/6Ll40/wDBboX/AMrq9WooA8p/4VB40/6Ll40/8Fuhf/K6j/hUHjT/AKLl40/8Fuhf/K6vVqKAPKf+FQeNP+i5eNP/AAW6F/8AK6j/AIVB40/6Ll40/wDBboX/AMrq9WooA8p/4VB40/6Ll40/8Fuhf/K6j/hUHjT/AKLl40/8Fuhf/K6vVqKAPKf+FQeNP+i5eNP/AAW6F/8AK6j/AIVB40/6Ll40/wDBboX/AMrq9WooA8p/4VB40/6Ll40/8Fuhf/K6j/hUHjT/AKLl40/8Fuhf/K6vVqKAPKf+FQeNP+i5eNP/AAW6F/8AK6j/AIVB40/6Ll40/wDBboX/AMrq9WooA8p/4VB40/6Ll40/8Fuhf/K6j/hUHjT/AKLl40/8Fuhf/K6vVqKAPKf+FQeNP+i5eNP/AAW6F/8AK6j/AIVB40/6Ll40/wDBboX/AMrq9WooA8p/4VB40/6Ll40/8Fuhf/K6j/hUHjT/AKLl40/8Fuhf/K6vVqKAPKf+FQeNP+i5eNP/AAW6F/8AK6j/AIVB40/6Ll40/wDBboX/AMrq9WooA8p/4VB40/6Ll40/8Fuhf/K6j/hUHjT/AKLl40/8Fuhf/K6vVqKAPKf+FQeNP+i5eNP/AAW6F/8AK6j/AIVB40/6Ll40/wDBboX/AMrq9WooA8p/4VB40/6Ll40/8Fuhf/K6j/hUHjT/AKLl40/8Fuhf/K6vVqKAPKf+FQeNP+i5eNP/AAW6F/8AK6j/AIVB40/6Ll40/wDBboX/AMrq9WooA8p/4VB40/6Ll40/8Fuhf/K6j/hUHjT/AKLl40/8Fuhf/K6vVqKAPKf+FQeNP+i5eNP/AAW6F/8AK6j/AIVB40/6Ll40/wDBboX/AMrq9WooA8p/4VB40/6Ll40/8Fuhf/K6j/hUHjT/AKLl40/8Fuhf/K6vVqKAOC+G/wAK5PAOseIdXvfFeseLtW1w2/2i81eO0jZVhVlRUW2giUDDHOQT713tFFABRRRQAUUUUAFFFFABRRRQAUUUUAFFFFABRRRQAUUUUAFFFFABRRRQAUUUUAFFFFABRRRQB//Z)"
   ]
  },
  {
   "cell_type": "markdown",
   "metadata": {
    "id": "vwXjbMaPifGD"
   },
   "source": [
    "- `AutoModelForSequenceClassification` model has a classification head on top of the pretrained model outputs"
   ]
  },
  {
   "cell_type": "markdown",
   "metadata": {
    "id": "x3QpjRowvozw"
   },
   "source": [
    "- The first thing we need is a pretrained BERT model like the one we used in the feature-based approach.\n",
    "- The only slight modification is that we use the `AutoModelForSequenceClassification` model instead of AutoModel.\n",
    "- The difference is that the `AutoModelForSequenceClassification` model has a classification head on top of the pretrained model outputs, which can be easily trained with the base model."
   ]
  },
  {
   "cell_type": "code",
   "execution_count": 22,
   "metadata": {
    "colab": {
     "base_uri": "https://localhost:8080/"
    },
    "id": "CeMp9-b9tzCe",
    "outputId": "7019bd1b-40e0-485a-dd77-905a019a0280"
   },
   "outputs": [
    {
     "name": "stderr",
     "output_type": "stream",
     "text": [
      "Some weights of BertForSequenceClassification were not initialized from the model checkpoint at bert-base-uncased and are newly initialized: ['classifier.bias', 'classifier.weight']\n",
      "You should probably TRAIN this model on a down-stream task to be able to use it for predictions and inference.\n"
     ]
    }
   ],
   "source": [
    "from transformers import AutoModelForSequenceClassification, AutoConfig\n",
    "\n",
    "num_labels = len(label2id)\n",
    "device = torch.device(\"cuda\" if torch.cuda.is_available() else \"cpu\")\n",
    "config = AutoConfig.from_pretrained(model_ckpt, label2id=label2id, id2label=id2label)\n",
    "model = AutoModelForSequenceClassification.from_pretrained(model_ckpt, config=config).to(device)"
   ]
  },
  {
   "cell_type": "code",
   "execution_count": 23,
   "metadata": {},
   "outputs": [
    {
     "data": {
      "text/plain": [
       "True"
      ]
     },
     "execution_count": 23,
     "metadata": {},
     "output_type": "execute_result"
    }
   ],
   "source": [
    "torch.cuda.is_available()"
   ]
  },
  {
   "cell_type": "code",
   "execution_count": 24,
   "metadata": {},
   "outputs": [
    {
     "data": {
      "text/plain": [
       "BertConfig {\n",
       "  \"_attn_implementation_autoset\": true,\n",
       "  \"_name_or_path\": \"bert-base-uncased\",\n",
       "  \"architectures\": [\n",
       "    \"BertForMaskedLM\"\n",
       "  ],\n",
       "  \"attention_probs_dropout_prob\": 0.1,\n",
       "  \"classifier_dropout\": null,\n",
       "  \"gradient_checkpointing\": false,\n",
       "  \"hidden_act\": \"gelu\",\n",
       "  \"hidden_dropout_prob\": 0.1,\n",
       "  \"hidden_size\": 768,\n",
       "  \"id2label\": {\n",
       "    \"0\": \"negative\",\n",
       "    \"1\": \"somewhat negative\",\n",
       "    \"2\": \"neutral\",\n",
       "    \"3\": \"somewhat positive\",\n",
       "    \"4\": \"positive\"\n",
       "  },\n",
       "  \"initializer_range\": 0.02,\n",
       "  \"intermediate_size\": 3072,\n",
       "  \"label2id\": {\n",
       "    \"negative\": 0,\n",
       "    \"neutral\": 2,\n",
       "    \"positive\": 4,\n",
       "    \"somewhat negative\": 1,\n",
       "    \"somewhat positive\": 3\n",
       "  },\n",
       "  \"layer_norm_eps\": 1e-12,\n",
       "  \"max_position_embeddings\": 512,\n",
       "  \"model_type\": \"bert\",\n",
       "  \"num_attention_heads\": 12,\n",
       "  \"num_hidden_layers\": 12,\n",
       "  \"pad_token_id\": 0,\n",
       "  \"position_embedding_type\": \"absolute\",\n",
       "  \"transformers_version\": \"4.48.0\",\n",
       "  \"type_vocab_size\": 2,\n",
       "  \"use_cache\": true,\n",
       "  \"vocab_size\": 30522\n",
       "}"
      ]
     },
     "execution_count": 24,
     "metadata": {},
     "output_type": "execute_result"
    }
   ],
   "source": [
    "model.config"
   ]
  },
  {
   "cell_type": "code",
   "execution_count": 25,
   "metadata": {},
   "outputs": [
    {
     "name": "stderr",
     "output_type": "stream",
     "text": [
      "/home/howard/anaconda3/lib/python3.12/site-packages/transformers/training_args.py:1575: FutureWarning: `evaluation_strategy` is deprecated and will be removed in version 4.46 of 🤗 Transformers. Use `eval_strategy` instead\n",
      "  warnings.warn(\n"
     ]
    }
   ],
   "source": [
    "from transformers import TrainingArguments\n",
    "\n",
    "batch_size = 64\n",
    "training_dir = \"bert_base_train_dir\"\n",
    "\n",
    "training_args = TrainingArguments( output_dir=training_dir,\n",
    "                                  overwrite_output_dir = True,\n",
    "                                  num_train_epochs = 3,\n",
    "                                  learning_rate = 2e-5,\n",
    "                                  per_device_train_batch_size = batch_size,\n",
    "                                  per_device_eval_batch_size = batch_size,\n",
    "                                  weight_decay = 0.01,\n",
    "                                  evaluation_strategy = 'epoch',\n",
    "                                  disable_tqdm = False\n",
    ")"
   ]
  },
  {
   "cell_type": "code",
   "execution_count": 26,
   "metadata": {},
   "outputs": [],
   "source": [
    "# Build compute metrics function\n",
    "# !pip install evaluate\n",
    "import evaluate\n",
    "import numpy as np\n",
    "\n",
    "accuracy = evaluate.load(\"accuracy\")\n",
    "\n",
    "def compute_metrics_evaluate(eval_pred):\n",
    "    predictions, labels = eval_pred\n",
    "    predictions = np.argmax(predictions, axis=1)\n",
    "    return accuracy.compute(predictions=predictions, references=labels)\n",
    "\n"
   ]
  },
  {
   "cell_type": "code",
   "execution_count": 27,
   "metadata": {},
   "outputs": [],
   "source": [
    "# use sklearn to build compute metrics\n",
    "from sklearn.metrics import accuracy_score, f1_score\n",
    "\n",
    "def compute_metrics(pred):\n",
    "    labels = pred.label_ids\n",
    "    preds = pred.predictions.argmax(-1)\n",
    "\n",
    "    f1 = f1_score(labels, preds, average=\"weighted\")\n",
    "    acc = accuracy_score(labels, preds)\n",
    " \n",
    "    return {\"accuracy\": acc, \"f1\": f1}\n"
   ]
  },
  {
   "cell_type": "markdown",
   "metadata": {},
   "source": [
    "## Build Model and Trainer"
   ]
  },
  {
   "cell_type": "code",
   "execution_count": 28,
   "metadata": {},
   "outputs": [
    {
     "name": "stderr",
     "output_type": "stream",
     "text": [
      "/tmp/ipykernel_6599/1591179924.py:3: FutureWarning: `tokenizer` is deprecated and will be removed in version 5.0.0 for `Trainer.__init__`. Use `processing_class` instead.\n",
      "  trainer = Trainer(model=model, args=training_args,\n"
     ]
    }
   ],
   "source": [
    "from transformers import Trainer\n",
    "\n",
    "trainer = Trainer(model=model, args=training_args,\n",
    "                  compute_metrics=compute_metrics,\n",
    "                  train_dataset = emotion_encoded['train'],\n",
    "                  eval_dataset = emotion_encoded['validation'],\n",
    "                  tokenizer = tokenizer)"
   ]
  },
  {
   "cell_type": "code",
   "execution_count": 29,
   "metadata": {},
   "outputs": [
    {
     "data": {
      "text/html": [
       "\n",
       "    <div>\n",
       "      \n",
       "      <progress value='5121' max='5121' style='width:300px; height:20px; vertical-align: middle;'></progress>\n",
       "      [5121/5121 46:14, Epoch 3/3]\n",
       "    </div>\n",
       "    <table border=\"1\" class=\"dataframe\">\n",
       "  <thead>\n",
       " <tr style=\"text-align: left;\">\n",
       "      <th>Epoch</th>\n",
       "      <th>Training Loss</th>\n",
       "      <th>Validation Loss</th>\n",
       "      <th>Accuracy</th>\n",
       "      <th>F1</th>\n",
       "    </tr>\n",
       "  </thead>\n",
       "  <tbody>\n",
       "    <tr>\n",
       "      <td>1</td>\n",
       "      <td>0.764800</td>\n",
       "      <td>0.723010</td>\n",
       "      <td>0.701781</td>\n",
       "      <td>0.701910</td>\n",
       "    </tr>\n",
       "    <tr>\n",
       "      <td>2</td>\n",
       "      <td>0.664000</td>\n",
       "      <td>0.707159</td>\n",
       "      <td>0.704857</td>\n",
       "      <td>0.703141</td>\n",
       "    </tr>\n",
       "    <tr>\n",
       "      <td>3</td>\n",
       "      <td>0.594400</td>\n",
       "      <td>0.724939</td>\n",
       "      <td>0.701012</td>\n",
       "      <td>0.701452</td>\n",
       "    </tr>\n",
       "  </tbody>\n",
       "</table><p>"
      ],
      "text/plain": [
       "<IPython.core.display.HTML object>"
      ]
     },
     "metadata": {},
     "output_type": "display_data"
    },
    {
     "data": {
      "text/plain": [
       "TrainOutput(global_step=5121, training_loss=0.6885432977272277, metrics={'train_runtime': 2778.3132, 'train_samples_per_second': 117.959, 'train_steps_per_second': 1.843, 'total_flos': 1.3136701554410616e+16, 'train_loss': 0.6885432977272277, 'epoch': 3.0})"
      ]
     },
     "execution_count": 29,
     "metadata": {},
     "output_type": "execute_result"
    }
   ],
   "source": [
    "trainer.train()"
   ]
  },
  {
   "cell_type": "markdown",
   "metadata": {},
   "source": [
    "## Model Evaluation"
   ]
  },
  {
   "cell_type": "code",
   "execution_count": 30,
   "metadata": {},
   "outputs": [
    {
     "data": {
      "text/html": [],
      "text/plain": [
       "<IPython.core.display.HTML object>"
      ]
     },
     "metadata": {},
     "output_type": "display_data"
    },
    {
     "data": {
      "text/plain": [
       "{'test_loss': 0.732681155204773,\n",
       " 'test_accuracy': 0.6959823144944253,\n",
       " 'test_f1': 0.6964149251956512,\n",
       " 'test_runtime': 89.113,\n",
       " 'test_samples_per_second': 350.252,\n",
       " 'test_steps_per_second': 5.476}"
      ]
     },
     "execution_count": 30,
     "metadata": {},
     "output_type": "execute_result"
    }
   ],
   "source": [
    "preds_output = trainer.predict(emotion_encoded['test'])\n",
    "preds_output.metrics"
   ]
  },
  {
   "cell_type": "code",
   "execution_count": 31,
   "metadata": {
    "colab": {
     "base_uri": "https://localhost:8080/"
    },
    "id": "mli1PYvJty_F",
    "outputId": "6ddbff77-4d80-4551-821a-2882fe479048"
   },
   "outputs": [],
   "source": [
    "y_pred = np.argmax(preds_output.predictions, axis=1)\n",
    "y_true = emotion_encoded['test'][:]['label']"
   ]
  },
  {
   "cell_type": "code",
   "execution_count": 32,
   "metadata": {
    "id": "2J7ZB6D-ty74"
   },
   "outputs": [
    {
     "name": "stdout",
     "output_type": "stream",
     "text": [
      "              precision    recall  f1-score   support\n",
      "\n",
      "           0       0.52      0.52      0.52      1414\n",
      "           1       0.59      0.62      0.60      5455\n",
      "           2       0.79      0.79      0.79     15917\n",
      "           3       0.63      0.60      0.61      6585\n",
      "           4       0.56      0.61      0.58      1841\n",
      "\n",
      "    accuracy                           0.70     31212\n",
      "   macro avg       0.62      0.63      0.62     31212\n",
      "weighted avg       0.70      0.70      0.70     31212\n",
      "\n"
     ]
    }
   ],
   "source": [
    "from sklearn.metrics import classification_report\n",
    "print(classification_report(y_true, y_pred))"
   ]
  },
  {
   "cell_type": "code",
   "execution_count": 33,
   "metadata": {
    "id": "Pq7_WJPjQc-F"
   },
   "outputs": [
    {
     "data": {
      "text/plain": [
       "{'negative': 0,\n",
       " 'somewhat negative': 1,\n",
       " 'somewhat positive': 3,\n",
       " 'neutral': 2,\n",
       " 'positive': 4}"
      ]
     },
     "execution_count": 33,
     "metadata": {},
     "output_type": "execute_result"
    }
   ],
   "source": [
    "label2id"
   ]
  },
  {
   "cell_type": "code",
   "execution_count": 34,
   "metadata": {
    "colab": {
     "base_uri": "https://localhost:8080/"
    },
    "id": "ZI-MZohnty4m",
    "outputId": "dca73196-8f0f-462e-9b5c-4e93a629ad8b"
   },
   "outputs": [],
   "source": [
    "# plot confusion matrix\n",
    "import seaborn as sns\n",
    "from sklearn.metrics import confusion_matrix\n",
    "import matplotlib.pyplot as plt"
   ]
  },
  {
   "cell_type": "code",
   "execution_count": 35,
   "metadata": {
    "id": "L4rR1dRFty1q"
   },
   "outputs": [
    {
     "data": {
      "image/png": "[encoded data removed]",
      "text/plain": [
       "<Figure size 500x500 with 1 Axes>"
      ]
     },
     "metadata": {},
     "output_type": "display_data"
    }
   ],
   "source": [
    "cm = confusion_matrix(y_true, y_pred)\n",
    "\n",
    "plt.figure(figsize=(5,5))\n",
    "sns.heatmap(cm, annot=True, xticklabels=label2id.keys(), yticklabels=label2id.keys(), fmt='d', cbar=False, cmap='Reds')\n",
    "plt.ylabel(\"Actual\")\n",
    "plt.xlabel(\"Predicted\")\n",
    "plt.show()"
   ]
  },
  {
   "cell_type": "markdown",
   "metadata": {},
   "source": [
    "## Build Prediction Function and Store Model"
   ]
  },
  {
   "cell_type": "code",
   "execution_count": 36,
   "metadata": {
    "id": "sbm-vAL6tyy4"
   },
   "outputs": [
    {
     "data": {
      "text/plain": [
       "'positive'"
      ]
     },
     "execution_count": 36,
     "metadata": {},
     "output_type": "execute_result"
    }
   ],
   "source": [
    "text = \"I am super happy today. I got it done. Finally!!\"\n",
    "\n",
    "def get_prediction(text):\n",
    "    input_encoded = tokenizer(text, return_tensors='pt').to(device)\n",
    "\n",
    "    with torch.no_grad():\n",
    "        outputs = model(**input_encoded)\n",
    "\n",
    "    logits = outputs.logits\n",
    "\n",
    "    pred = torch.argmax(logits, dim=1).item()\n",
    "    return id2label[pred]\n",
    "\n",
    "get_prediction(text)"
   ]
  },
  {
   "cell_type": "code",
   "execution_count": 37,
   "metadata": {
    "colab": {
     "base_uri": "https://localhost:8080/",
     "height": 107
    },
    "id": "cenqUXXJtyvy",
    "outputId": "882da698-a3e6-42f3-85bd-4a9a98548b88"
   },
   "outputs": [],
   "source": [
    "trainer.save_model(\"bert-base-uncased-sentiment-model\")\n"
   ]
  },
  {
   "cell_type": "code",
   "execution_count": 38,
   "metadata": {
    "colab": {
     "base_uri": "https://localhost:8080/",
     "height": 162
    },
    "id": "9jZjNDQ4tysu",
    "outputId": "5c641169-18e8-42a5-9b6a-5317546aa67d"
   },
   "outputs": [
    {
     "name": "stderr",
     "output_type": "stream",
     "text": [
      "Device set to use cuda:0\n"
     ]
    },
    {
     "data": {
      "text/plain": [
       "[{'label': 'positive', 'score': 0.8416805267333984},\n",
       " {'label': 'neutral', 'score': 0.7080151438713074},\n",
       " {'label': 'somewhat positive', 'score': 0.7243324518203735},\n",
       " {'label': 'somewhat negative', 'score': 0.7641361951828003}]"
      ]
     },
     "execution_count": 38,
     "metadata": {},
     "output_type": "execute_result"
    }
   ],
   "source": [
    "# use pipeline for prediciton\n",
    "from transformers import pipeline\n",
    "\n",
    "classifier = pipeline('text-classification', model= 'bert-base-uncased-sentiment-model')\n",
    "\n",
    "classifier([text, 'hello, how are you?', \"love you\", \"i am feeling low\"])"
   ]
  },
  {
   "cell_type": "code",
   "execution_count": null,
   "metadata": {},
   "outputs": [],
   "source": []
  },
  {
   "cell_type": "code",
   "execution_count": null,
   "metadata": {
    "id": "XKwf1uyeXvaV"
   },
   "outputs": [],
   "source": []
  }
 ],
 "metadata": {
  "accelerator": "GPU",
  "colab": {
   "gpuType": "T4",
   "provenance": []
  },
  "kernelspec": {
   "display_name": "Python 3 (ipykernel)",
   "language": "python",
   "name": "python3"
  },
  "language_info": {
   "codemirror_mode": {
    "name": "ipython",
    "version": 3
   },
   "file_extension": ".py",
   "mimetype": "text/x-python",
   "name": "python",
   "nbconvert_exporter": "python",
   "pygments_lexer": "ipython3",
   "version": "3.12.2"
  },
  "widgets": {
   "application/vnd.jupyter.widget-state+json": {
    "055ecbe31cf841b49d397f6e69ff1536": {
     "model_module": "@jupyter-widgets/base",
     "model_module_version": "1.2.0",
     "model_name": "LayoutModel",
     "state": {
      "_model_module": "@jupyter-widgets/base",
      "_model_module_version": "1.2.0",
      "_model_name": "LayoutModel",
      "_view_count": null,
      "_view_module": "@jupyter-widgets/base",
      "_view_module_version": "1.2.0",
      "_view_name": "LayoutView",
      "align_content": null,
      "align_items": null,
      "align_self": null,
      "border": null,
      "bottom": null,
      "display": null,
      "flex": null,
      "flex_flow": null,
      "grid_area": null,
      "grid_auto_columns": null,
      "grid_auto_flow": null,
      "grid_auto_rows": null,
      "grid_column": null,
      "grid_gap": null,
      "grid_row": null,
      "grid_template_areas": null,
      "grid_template_columns": null,
      "grid_template_rows": null,
      "height": null,
      "justify_content": null,
      "justify_items": null,
      "left": null,
      "margin": null,
      "max_height": null,
      "max_width": null,
      "min_height": null,
      "min_width": null,
      "object_fit": null,
      "object_position": null,
      "order": null,
      "overflow": null,
      "overflow_x": null,
      "overflow_y": null,
      "padding": null,
      "right": null,
      "top": null,
      "visibility": null,
      "width": null
     }
    },
    "1324a31228f84552a7ae2bfc3f159144": {
     "model_module": "@jupyter-widgets/controls",
     "model_module_version": "1.5.0",
     "model_name": "ProgressStyleModel",
     "state": {
      "_model_module": "@jupyter-widgets/controls",
      "_model_module_version": "1.5.0",
      "_model_name": "ProgressStyleModel",
      "_view_count": null,
      "_view_module": "@jupyter-widgets/base",
      "_view_module_version": "1.2.0",
      "_view_name": "StyleView",
      "bar_color": null,
      "description_width": ""
     }
    },
    "16fbe926c60742be994dc541622932e8": {
     "model_module": "@jupyter-widgets/base",
     "model_module_version": "1.2.0",
     "model_name": "LayoutModel",
     "state": {
      "_model_module": "@jupyter-widgets/base",
      "_model_module_version": "1.2.0",
      "_model_name": "LayoutModel",
      "_view_count": null,
      "_view_module": "@jupyter-widgets/base",
      "_view_module_version": "1.2.0",
      "_view_name": "LayoutView",
      "align_content": null,
      "align_items": null,
      "align_self": null,
      "border": null,
      "bottom": null,
      "display": null,
      "flex": null,
      "flex_flow": null,
      "grid_area": null,
      "grid_auto_columns": null,
      "grid_auto_flow": null,
      "grid_auto_rows": null,
      "grid_column": null,
      "grid_gap": null,
      "grid_row": null,
      "grid_template_areas": null,
      "grid_template_columns": null,
      "grid_template_rows": null,
      "height": null,
      "justify_content": null,
      "justify_items": null,
      "left": null,
      "margin": null,
      "max_height": null,
      "max_width": null,
      "min_height": null,
      "min_width": null,
      "object_fit": null,
      "object_position": null,
      "order": null,
      "overflow": null,
      "overflow_x": null,
      "overflow_y": null,
      "padding": null,
      "right": null,
      "top": null,
      "visibility": null,
      "width": null
     }
    },
    "1c44678c843e4ab6aa7c938e8f2c4d83": {
     "model_module": "@jupyter-widgets/controls",
     "model_module_version": "1.5.0",
     "model_name": "HTMLModel",
     "state": {
      "_dom_classes": [],
      "_model_module": "@jupyter-widgets/controls",
      "_model_module_version": "1.5.0",
      "_model_name": "HTMLModel",
      "_view_count": null,
      "_view_module": "@jupyter-widgets/controls",
      "_view_module_version": "1.5.0",
      "_view_name": "HTMLView",
      "description": "",
      "description_tooltip": null,
      "layout": "IPY_MODEL_16fbe926c60742be994dc541622932e8",
      "placeholder": "​",
      "style": "IPY_MODEL_256f0d69962942efa57b185eafbe5459",
      "value": "Map: 100%"
     }
    },
    "1f058655a55b451280c52d1c37076d4e": {
     "model_module": "@jupyter-widgets/controls",
     "model_module_version": "1.5.0",
     "model_name": "FloatProgressModel",
     "state": {
      "_dom_classes": [],
      "_model_module": "@jupyter-widgets/controls",
      "_model_module_version": "1.5.0",
      "_model_name": "FloatProgressModel",
      "_view_count": null,
      "_view_module": "@jupyter-widgets/controls",
      "_view_module_version": "1.5.0",
      "_view_name": "ProgressView",
      "bar_style": "success",
      "description": "",
      "description_tooltip": null,
      "layout": "IPY_MODEL_419ac40746a14996b5ffa327d4de74b5",
      "max": 3200,
      "min": 0,
      "orientation": "horizontal",
      "style": "IPY_MODEL_c09bcf937e104c9c9ad63125c8daca33",
      "value": 3200
     }
    },
    "214b00c2807d4f30894b111fc0eb7826": {
     "model_module": "@jupyter-widgets/controls",
     "model_module_version": "1.5.0",
     "model_name": "HBoxModel",
     "state": {
      "_dom_classes": [],
      "_model_module": "@jupyter-widgets/controls",
      "_model_module_version": "1.5.0",
      "_model_name": "HBoxModel",
      "_view_count": null,
      "_view_module": "@jupyter-widgets/controls",
      "_view_module_version": "1.5.0",
      "_view_name": "HBoxView",
      "box_style": "",
      "children": [
       "IPY_MODEL_997a9e73bf33471892e0b9ea881c332f",
       "IPY_MODEL_23851ace733642e1a93e3a1fd276d9d5",
       "IPY_MODEL_8c1d274a91de401d813a95d53ba3fd84"
      ],
      "layout": "IPY_MODEL_43a0c7a929064ca481c75b8e9d1b5b93"
     }
    },
    "23851ace733642e1a93e3a1fd276d9d5": {
     "model_module": "@jupyter-widgets/controls",
     "model_module_version": "1.5.0",
     "model_name": "FloatProgressModel",
     "state": {
      "_dom_classes": [],
      "_model_module": "@jupyter-widgets/controls",
      "_model_module_version": "1.5.0",
      "_model_name": "FloatProgressModel",
      "_view_count": null,
      "_view_module": "@jupyter-widgets/controls",
      "_view_module_version": "1.5.0",
      "_view_name": "ProgressView",
      "bar_style": "success",
      "description": "",
      "description_tooltip": null,
      "layout": "IPY_MODEL_b2daa825167940c5aef1058aee3f3134",
      "max": 1423,
      "min": 0,
      "orientation": "horizontal",
      "style": "IPY_MODEL_ddc915d90d0445bdaa92e68809eb2c92",
      "value": 1423
     }
    },
    "256f0d69962942efa57b185eafbe5459": {
     "model_module": "@jupyter-widgets/controls",
     "model_module_version": "1.5.0",
     "model_name": "DescriptionStyleModel",
     "state": {
      "_model_module": "@jupyter-widgets/controls",
      "_model_module_version": "1.5.0",
      "_model_name": "DescriptionStyleModel",
      "_view_count": null,
      "_view_module": "@jupyter-widgets/base",
      "_view_module_version": "1.2.0",
      "_view_name": "StyleView",
      "description_width": ""
     }
    },
    "30d517192e6e46ffb23822cea1d07858": {
     "model_module": "@jupyter-widgets/controls",
     "model_module_version": "1.5.0",
     "model_name": "DescriptionStyleModel",
     "state": {
      "_model_module": "@jupyter-widgets/controls",
      "_model_module_version": "1.5.0",
      "_model_name": "DescriptionStyleModel",
      "_view_count": null,
      "_view_module": "@jupyter-widgets/base",
      "_view_module_version": "1.2.0",
      "_view_name": "StyleView",
      "description_width": ""
     }
    },
    "35beb988a16b44b18f912a05b01a7c63": {
     "model_module": "@jupyter-widgets/base",
     "model_module_version": "1.2.0",
     "model_name": "LayoutModel",
     "state": {
      "_model_module": "@jupyter-widgets/base",
      "_model_module_version": "1.2.0",
      "_model_name": "LayoutModel",
      "_view_count": null,
      "_view_module": "@jupyter-widgets/base",
      "_view_module_version": "1.2.0",
      "_view_name": "LayoutView",
      "align_content": null,
      "align_items": null,
      "align_self": null,
      "border": null,
      "bottom": null,
      "display": null,
      "flex": null,
      "flex_flow": null,
      "grid_area": null,
      "grid_auto_columns": null,
      "grid_auto_flow": null,
      "grid_auto_rows": null,
      "grid_column": null,
      "grid_gap": null,
      "grid_row": null,
      "grid_template_areas": null,
      "grid_template_columns": null,
      "grid_template_rows": null,
      "height": null,
      "justify_content": null,
      "justify_items": null,
      "left": null,
      "margin": null,
      "max_height": null,
      "max_width": null,
      "min_height": null,
      "min_width": null,
      "object_fit": null,
      "object_position": null,
      "order": null,
      "overflow": null,
      "overflow_x": null,
      "overflow_y": null,
      "padding": null,
      "right": null,
      "top": null,
      "visibility": null,
      "width": null
     }
    },
    "40a784b0798f4259826b3e3e74a483bd": {
     "model_module": "@jupyter-widgets/controls",
     "model_module_version": "1.5.0",
     "model_name": "HTMLModel",
     "state": {
      "_dom_classes": [],
      "_model_module": "@jupyter-widgets/controls",
      "_model_module_version": "1.5.0",
      "_model_name": "HTMLModel",
      "_view_count": null,
      "_view_module": "@jupyter-widgets/controls",
      "_view_module_version": "1.5.0",
      "_view_name": "HTMLView",
      "description": "",
      "description_tooltip": null,
      "layout": "IPY_MODEL_aec9828c09094b019076065d520f2deb",
      "placeholder": "​",
      "style": "IPY_MODEL_b6ca842c1f1c43198e4d9336eb3fcfdc",
      "value": " 11377/11377 [00:01&lt;00:00, 6617.73 examples/s]"
     }
    },
    "4122937090444eecae0c9841989e6a28": {
     "model_module": "@jupyter-widgets/base",
     "model_module_version": "1.2.0",
     "model_name": "LayoutModel",
     "state": {
      "_model_module": "@jupyter-widgets/base",
      "_model_module_version": "1.2.0",
      "_model_name": "LayoutModel",
      "_view_count": null,
      "_view_module": "@jupyter-widgets/base",
      "_view_module_version": "1.2.0",
      "_view_name": "LayoutView",
      "align_content": null,
      "align_items": null,
      "align_self": null,
      "border": null,
      "bottom": null,
      "display": null,
      "flex": null,
      "flex_flow": null,
      "grid_area": null,
      "grid_auto_columns": null,
      "grid_auto_flow": null,
      "grid_auto_rows": null,
      "grid_column": null,
      "grid_gap": null,
      "grid_row": null,
      "grid_template_areas": null,
      "grid_template_columns": null,
      "grid_template_rows": null,
      "height": null,
      "justify_content": null,
      "justify_items": null,
      "left": null,
      "margin": null,
      "max_height": null,
      "max_width": null,
      "min_height": null,
      "min_width": null,
      "object_fit": null,
      "object_position": null,
      "order": null,
      "overflow": null,
      "overflow_x": null,
      "overflow_y": null,
      "padding": null,
      "right": null,
      "top": null,
      "visibility": null,
      "width": null
     }
    },
    "419ac40746a14996b5ffa327d4de74b5": {
     "model_module": "@jupyter-widgets/base",
     "model_module_version": "1.2.0",
     "model_name": "LayoutModel",
     "state": {
      "_model_module": "@jupyter-widgets/base",
      "_model_module_version": "1.2.0",
      "_model_name": "LayoutModel",
      "_view_count": null,
      "_view_module": "@jupyter-widgets/base",
      "_view_module_version": "1.2.0",
      "_view_name": "LayoutView",
      "align_content": null,
      "align_items": null,
      "align_self": null,
      "border": null,
      "bottom": null,
      "display": null,
      "flex": null,
      "flex_flow": null,
      "grid_area": null,
      "grid_auto_columns": null,
      "grid_auto_flow": null,
      "grid_auto_rows": null,
      "grid_column": null,
      "grid_gap": null,
      "grid_row": null,
      "grid_template_areas": null,
      "grid_template_columns": null,
      "grid_template_rows": null,
      "height": null,
      "justify_content": null,
      "justify_items": null,
      "left": null,
      "margin": null,
      "max_height": null,
      "max_width": null,
      "min_height": null,
      "min_width": null,
      "object_fit": null,
      "object_position": null,
      "order": null,
      "overflow": null,
      "overflow_x": null,
      "overflow_y": null,
      "padding": null,
      "right": null,
      "top": null,
      "visibility": null,
      "width": null
     }
    },
    "43a0c7a929064ca481c75b8e9d1b5b93": {
     "model_module": "@jupyter-widgets/base",
     "model_module_version": "1.2.0",
     "model_name": "LayoutModel",
     "state": {
      "_model_module": "@jupyter-widgets/base",
      "_model_module_version": "1.2.0",
      "_model_name": "LayoutModel",
      "_view_count": null,
      "_view_module": "@jupyter-widgets/base",
      "_view_module_version": "1.2.0",
      "_view_name": "LayoutView",
      "align_content": null,
      "align_items": null,
      "align_self": null,
      "border": null,
      "bottom": null,
      "display": null,
      "flex": null,
      "flex_flow": null,
      "grid_area": null,
      "grid_auto_columns": null,
      "grid_auto_flow": null,
      "grid_auto_rows": null,
      "grid_column": null,
      "grid_gap": null,
      "grid_row": null,
      "grid_template_areas": null,
      "grid_template_columns": null,
      "grid_template_rows": null,
      "height": null,
      "justify_content": null,
      "justify_items": null,
      "left": null,
      "margin": null,
      "max_height": null,
      "max_width": null,
      "min_height": null,
      "min_width": null,
      "object_fit": null,
      "object_position": null,
      "order": null,
      "overflow": null,
      "overflow_x": null,
      "overflow_y": null,
      "padding": null,
      "right": null,
      "top": null,
      "visibility": null,
      "width": null
     }
    },
    "48e91b0d186e4c2696e4f3f890b5c289": {
     "model_module": "@jupyter-widgets/base",
     "model_module_version": "1.2.0",
     "model_name": "LayoutModel",
     "state": {
      "_model_module": "@jupyter-widgets/base",
      "_model_module_version": "1.2.0",
      "_model_name": "LayoutModel",
      "_view_count": null,
      "_view_module": "@jupyter-widgets/base",
      "_view_module_version": "1.2.0",
      "_view_name": "LayoutView",
      "align_content": null,
      "align_items": null,
      "align_self": null,
      "border": null,
      "bottom": null,
      "display": null,
      "flex": null,
      "flex_flow": null,
      "grid_area": null,
      "grid_auto_columns": null,
      "grid_auto_flow": null,
      "grid_auto_rows": null,
      "grid_column": null,
      "grid_gap": null,
      "grid_row": null,
      "grid_template_areas": null,
      "grid_template_columns": null,
      "grid_template_rows": null,
      "height": null,
      "justify_content": null,
      "justify_items": null,
      "left": null,
      "margin": null,
      "max_height": null,
      "max_width": null,
      "min_height": null,
      "min_width": null,
      "object_fit": null,
      "object_position": null,
      "order": null,
      "overflow": null,
      "overflow_x": null,
      "overflow_y": null,
      "padding": null,
      "right": null,
      "top": null,
      "visibility": null,
      "width": null
     }
    },
    "4ac700eb959e4dfda130c5cc5d262015": {
     "model_module": "@jupyter-widgets/controls",
     "model_module_version": "1.5.0",
     "model_name": "HTMLModel",
     "state": {
      "_dom_classes": [],
      "_model_module": "@jupyter-widgets/controls",
      "_model_module_version": "1.5.0",
      "_model_name": "HTMLModel",
      "_view_count": null,
      "_view_module": "@jupyter-widgets/controls",
      "_view_module_version": "1.5.0",
      "_view_name": "HTMLView",
      "description": "",
      "description_tooltip": null,
      "layout": "IPY_MODEL_35beb988a16b44b18f912a05b01a7c63",
      "placeholder": "​",
      "style": "IPY_MODEL_5de83fca058143d39ffef3ca9586d354",
      "value": " 3200/3200 [00:00&lt;00:00, 7593.44 examples/s]"
     }
    },
    "5de83fca058143d39ffef3ca9586d354": {
     "model_module": "@jupyter-widgets/controls",
     "model_module_version": "1.5.0",
     "model_name": "DescriptionStyleModel",
     "state": {
      "_model_module": "@jupyter-widgets/controls",
      "_model_module_version": "1.5.0",
      "_model_name": "DescriptionStyleModel",
      "_view_count": null,
      "_view_module": "@jupyter-widgets/base",
      "_view_module_version": "1.2.0",
      "_view_name": "StyleView",
      "description_width": ""
     }
    },
    "6f9fc73ceaac4bb28c735ca503062cef": {
     "model_module": "@jupyter-widgets/controls",
     "model_module_version": "1.5.0",
     "model_name": "FloatProgressModel",
     "state": {
      "_dom_classes": [],
      "_model_module": "@jupyter-widgets/controls",
      "_model_module_version": "1.5.0",
      "_model_name": "FloatProgressModel",
      "_view_count": null,
      "_view_module": "@jupyter-widgets/controls",
      "_view_module_version": "1.5.0",
      "_view_name": "ProgressView",
      "bar_style": "success",
      "description": "",
      "description_tooltip": null,
      "layout": "IPY_MODEL_48e91b0d186e4c2696e4f3f890b5c289",
      "max": 11377,
      "min": 0,
      "orientation": "horizontal",
      "style": "IPY_MODEL_1324a31228f84552a7ae2bfc3f159144",
      "value": 11377
     }
    },
    "7f53bfd0a3724d81ae615ac93db9463a": {
     "model_module": "@jupyter-widgets/controls",
     "model_module_version": "1.5.0",
     "model_name": "HBoxModel",
     "state": {
      "_dom_classes": [],
      "_model_module": "@jupyter-widgets/controls",
      "_model_module_version": "1.5.0",
      "_model_name": "HBoxModel",
      "_view_count": null,
      "_view_module": "@jupyter-widgets/controls",
      "_view_module_version": "1.5.0",
      "_view_name": "HBoxView",
      "box_style": "",
      "children": [
       "IPY_MODEL_1c44678c843e4ab6aa7c938e8f2c4d83",
       "IPY_MODEL_6f9fc73ceaac4bb28c735ca503062cef",
       "IPY_MODEL_40a784b0798f4259826b3e3e74a483bd"
      ],
      "layout": "IPY_MODEL_4122937090444eecae0c9841989e6a28"
     }
    },
    "8c1d274a91de401d813a95d53ba3fd84": {
     "model_module": "@jupyter-widgets/controls",
     "model_module_version": "1.5.0",
     "model_name": "HTMLModel",
     "state": {
      "_dom_classes": [],
      "_model_module": "@jupyter-widgets/controls",
      "_model_module_version": "1.5.0",
      "_model_name": "HTMLModel",
      "_view_count": null,
      "_view_module": "@jupyter-widgets/controls",
      "_view_module_version": "1.5.0",
      "_view_name": "HTMLView",
      "description": "",
      "description_tooltip": null,
      "layout": "IPY_MODEL_e9534494314b425d8fc3c4b7b29a083a",
      "placeholder": "​",
      "style": "IPY_MODEL_e47e075fefcc4f0893b36d10a3b12f6e",
      "value": " 1423/1423 [00:00&lt;00:00, 7167.29 examples/s]"
     }
    },
    "919d271a958a4d9c9e8c677ca0da5c63": {
     "model_module": "@jupyter-widgets/base",
     "model_module_version": "1.2.0",
     "model_name": "LayoutModel",
     "state": {
      "_model_module": "@jupyter-widgets/base",
      "_model_module_version": "1.2.0",
      "_model_name": "LayoutModel",
      "_view_count": null,
      "_view_module": "@jupyter-widgets/base",
      "_view_module_version": "1.2.0",
      "_view_name": "LayoutView",
      "align_content": null,
      "align_items": null,
      "align_self": null,
      "border": null,
      "bottom": null,
      "display": null,
      "flex": null,
      "flex_flow": null,
      "grid_area": null,
      "grid_auto_columns": null,
      "grid_auto_flow": null,
      "grid_auto_rows": null,
      "grid_column": null,
      "grid_gap": null,
      "grid_row": null,
      "grid_template_areas": null,
      "grid_template_columns": null,
      "grid_template_rows": null,
      "height": null,
      "justify_content": null,
      "justify_items": null,
      "left": null,
      "margin": null,
      "max_height": null,
      "max_width": null,
      "min_height": null,
      "min_width": null,
      "object_fit": null,
      "object_position": null,
      "order": null,
      "overflow": null,
      "overflow_x": null,
      "overflow_y": null,
      "padding": null,
      "right": null,
      "top": null,
      "visibility": null,
      "width": null
     }
    },
    "95b8ec618e63478ba97091be2a0e576f": {
     "model_module": "@jupyter-widgets/controls",
     "model_module_version": "1.5.0",
     "model_name": "DescriptionStyleModel",
     "state": {
      "_model_module": "@jupyter-widgets/controls",
      "_model_module_version": "1.5.0",
      "_model_name": "DescriptionStyleModel",
      "_view_count": null,
      "_view_module": "@jupyter-widgets/base",
      "_view_module_version": "1.2.0",
      "_view_name": "StyleView",
      "description_width": ""
     }
    },
    "997a9e73bf33471892e0b9ea881c332f": {
     "model_module": "@jupyter-widgets/controls",
     "model_module_version": "1.5.0",
     "model_name": "HTMLModel",
     "state": {
      "_dom_classes": [],
      "_model_module": "@jupyter-widgets/controls",
      "_model_module_version": "1.5.0",
      "_model_name": "HTMLModel",
      "_view_count": null,
      "_view_module": "@jupyter-widgets/controls",
      "_view_module_version": "1.5.0",
      "_view_name": "HTMLView",
      "description": "",
      "description_tooltip": null,
      "layout": "IPY_MODEL_919d271a958a4d9c9e8c677ca0da5c63",
      "placeholder": "​",
      "style": "IPY_MODEL_30d517192e6e46ffb23822cea1d07858",
      "value": "Map: 100%"
     }
    },
    "aec9828c09094b019076065d520f2deb": {
     "model_module": "@jupyter-widgets/base",
     "model_module_version": "1.2.0",
     "model_name": "LayoutModel",
     "state": {
      "_model_module": "@jupyter-widgets/base",
      "_model_module_version": "1.2.0",
      "_model_name": "LayoutModel",
      "_view_count": null,
      "_view_module": "@jupyter-widgets/base",
      "_view_module_version": "1.2.0",
      "_view_name": "LayoutView",
      "align_content": null,
      "align_items": null,
      "align_self": null,
      "border": null,
      "bottom": null,
      "display": null,
      "flex": null,
      "flex_flow": null,
      "grid_area": null,
      "grid_auto_columns": null,
      "grid_auto_flow": null,
      "grid_auto_rows": null,
      "grid_column": null,
      "grid_gap": null,
      "grid_row": null,
      "grid_template_areas": null,
      "grid_template_columns": null,
      "grid_template_rows": null,
      "height": null,
      "justify_content": null,
      "justify_items": null,
      "left": null,
      "margin": null,
      "max_height": null,
      "max_width": null,
      "min_height": null,
      "min_width": null,
      "object_fit": null,
      "object_position": null,
      "order": null,
      "overflow": null,
      "overflow_x": null,
      "overflow_y": null,
      "padding": null,
      "right": null,
      "top": null,
      "visibility": null,
      "width": null
     }
    },
    "b1f8d00baab948d2bc251c90a07bdf7e": {
     "model_module": "@jupyter-widgets/controls",
     "model_module_version": "1.5.0",
     "model_name": "HTMLModel",
     "state": {
      "_dom_classes": [],
      "_model_module": "@jupyter-widgets/controls",
      "_model_module_version": "1.5.0",
      "_model_name": "HTMLModel",
      "_view_count": null,
      "_view_module": "@jupyter-widgets/controls",
      "_view_module_version": "1.5.0",
      "_view_name": "HTMLView",
      "description": "",
      "description_tooltip": null,
      "layout": "IPY_MODEL_e8db3f06b38a41ff864c4ee95dd3137d",
      "placeholder": "​",
      "style": "IPY_MODEL_95b8ec618e63478ba97091be2a0e576f",
      "value": "Map: 100%"
     }
    },
    "b2daa825167940c5aef1058aee3f3134": {
     "model_module": "@jupyter-widgets/base",
     "model_module_version": "1.2.0",
     "model_name": "LayoutModel",
     "state": {
      "_model_module": "@jupyter-widgets/base",
      "_model_module_version": "1.2.0",
      "_model_name": "LayoutModel",
      "_view_count": null,
      "_view_module": "@jupyter-widgets/base",
      "_view_module_version": "1.2.0",
      "_view_name": "LayoutView",
      "align_content": null,
      "align_items": null,
      "align_self": null,
      "border": null,
      "bottom": null,
      "display": null,
      "flex": null,
      "flex_flow": null,
      "grid_area": null,
      "grid_auto_columns": null,
      "grid_auto_flow": null,
      "grid_auto_rows": null,
      "grid_column": null,
      "grid_gap": null,
      "grid_row": null,
      "grid_template_areas": null,
      "grid_template_columns": null,
      "grid_template_rows": null,
      "height": null,
      "justify_content": null,
      "justify_items": null,
      "left": null,
      "margin": null,
      "max_height": null,
      "max_width": null,
      "min_height": null,
      "min_width": null,
      "object_fit": null,
      "object_position": null,
      "order": null,
      "overflow": null,
      "overflow_x": null,
      "overflow_y": null,
      "padding": null,
      "right": null,
      "top": null,
      "visibility": null,
      "width": null
     }
    },
    "b6ca842c1f1c43198e4d9336eb3fcfdc": {
     "model_module": "@jupyter-widgets/controls",
     "model_module_version": "1.5.0",
     "model_name": "DescriptionStyleModel",
     "state": {
      "_model_module": "@jupyter-widgets/controls",
      "_model_module_version": "1.5.0",
      "_model_name": "DescriptionStyleModel",
      "_view_count": null,
      "_view_module": "@jupyter-widgets/base",
      "_view_module_version": "1.2.0",
      "_view_name": "StyleView",
      "description_width": ""
     }
    },
    "c09bcf937e104c9c9ad63125c8daca33": {
     "model_module": "@jupyter-widgets/controls",
     "model_module_version": "1.5.0",
     "model_name": "ProgressStyleModel",
     "state": {
      "_model_module": "@jupyter-widgets/controls",
      "_model_module_version": "1.5.0",
      "_model_name": "ProgressStyleModel",
      "_view_count": null,
      "_view_module": "@jupyter-widgets/base",
      "_view_module_version": "1.2.0",
      "_view_name": "StyleView",
      "bar_color": null,
      "description_width": ""
     }
    },
    "cb16de3f5057446fa405b21532e3850d": {
     "model_module": "@jupyter-widgets/controls",
     "model_module_version": "1.5.0",
     "model_name": "HBoxModel",
     "state": {
      "_dom_classes": [],
      "_model_module": "@jupyter-widgets/controls",
      "_model_module_version": "1.5.0",
      "_model_name": "HBoxModel",
      "_view_count": null,
      "_view_module": "@jupyter-widgets/controls",
      "_view_module_version": "1.5.0",
      "_view_name": "HBoxView",
      "box_style": "",
      "children": [
       "IPY_MODEL_b1f8d00baab948d2bc251c90a07bdf7e",
       "IPY_MODEL_1f058655a55b451280c52d1c37076d4e",
       "IPY_MODEL_4ac700eb959e4dfda130c5cc5d262015"
      ],
      "layout": "IPY_MODEL_055ecbe31cf841b49d397f6e69ff1536"
     }
    },
    "ddc915d90d0445bdaa92e68809eb2c92": {
     "model_module": "@jupyter-widgets/controls",
     "model_module_version": "1.5.0",
     "model_name": "ProgressStyleModel",
     "state": {
      "_model_module": "@jupyter-widgets/controls",
      "_model_module_version": "1.5.0",
      "_model_name": "ProgressStyleModel",
      "_view_count": null,
      "_view_module": "@jupyter-widgets/base",
      "_view_module_version": "1.2.0",
      "_view_name": "StyleView",
      "bar_color": null,
      "description_width": ""
     }
    },
    "e47e075fefcc4f0893b36d10a3b12f6e": {
     "model_module": "@jupyter-widgets/controls",
     "model_module_version": "1.5.0",
     "model_name": "DescriptionStyleModel",
     "state": {
      "_model_module": "@jupyter-widgets/controls",
      "_model_module_version": "1.5.0",
      "_model_name": "DescriptionStyleModel",
      "_view_count": null,
      "_view_module": "@jupyter-widgets/base",
      "_view_module_version": "1.2.0",
      "_view_name": "StyleView",
      "description_width": ""
     }
    },
    "e8db3f06b38a41ff864c4ee95dd3137d": {
     "model_module": "@jupyter-widgets/base",
     "model_module_version": "1.2.0",
     "model_name": "LayoutModel",
     "state": {
      "_model_module": "@jupyter-widgets/base",
      "_model_module_version": "1.2.0",
      "_model_name": "LayoutModel",
      "_view_count": null,
      "_view_module": "@jupyter-widgets/base",
      "_view_module_version": "1.2.0",
      "_view_name": "LayoutView",
      "align_content": null,
      "align_items": null,
      "align_self": null,
      "border": null,
      "bottom": null,
      "display": null,
      "flex": null,
      "flex_flow": null,
      "grid_area": null,
      "grid_auto_columns": null,
      "grid_auto_flow": null,
      "grid_auto_rows": null,
      "grid_column": null,
      "grid_gap": null,
      "grid_row": null,
      "grid_template_areas": null,
      "grid_template_columns": null,
      "grid_template_rows": null,
      "height": null,
      "justify_content": null,
      "justify_items": null,
      "left": null,
      "margin": null,
      "max_height": null,
      "max_width": null,
      "min_height": null,
      "min_width": null,
      "object_fit": null,
      "object_position": null,
      "order": null,
      "overflow": null,
      "overflow_x": null,
      "overflow_y": null,
      "padding": null,
      "right": null,
      "top": null,
      "visibility": null,
      "width": null
     }
    },
    "e9534494314b425d8fc3c4b7b29a083a": {
     "model_module": "@jupyter-widgets/base",
     "model_module_version": "1.2.0",
     "model_name": "LayoutModel",
     "state": {
      "_model_module": "@jupyter-widgets/base",
      "_model_module_version": "1.2.0",
      "_model_name": "LayoutModel",
      "_view_count": null,
      "_view_module": "@jupyter-widgets/base",
      "_view_module_version": "1.2.0",
      "_view_name": "LayoutView",
      "align_content": null,
      "align_items": null,
      "align_self": null,
      "border": null,
      "bottom": null,
      "display": null,
      "flex": null,
      "flex_flow": null,
      "grid_area": null,
      "grid_auto_columns": null,
      "grid_auto_flow": null,
      "grid_auto_rows": null,
      "grid_column": null,
      "grid_gap": null,
      "grid_row": null,
      "grid_template_areas": null,
      "grid_template_columns": null,
      "grid_template_rows": null,
      "height": null,
      "justify_content": null,
      "justify_items": null,
      "left": null,
      "margin": null,
      "max_height": null,
      "max_width": null,
      "min_height": null,
      "min_width": null,
      "object_fit": null,
      "object_position": null,
      "order": null,
      "overflow": null,
      "overflow_x": null,
      "overflow_y": null,
      "padding": null,
      "right": null,
      "top": null,
      "visibility": null,
      "width": null
     }
    }
   }
  }
 },
 "nbformat": 4,
 "nbformat_minor": 4
}
