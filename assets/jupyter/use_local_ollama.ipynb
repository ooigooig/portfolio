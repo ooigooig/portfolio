{
 "cells": [
  {
   "cell_type": "code",
   "execution_count": 50,
   "id": "2eb27ec8-580b-4a95-bba6-8687a8e0b686",
   "metadata": {},
   "outputs": [],
   "source": [
    "#ollama open source model\n",
    "#can be an option for replacing paid-as-you-go openAI"
   ]
  },
  {
   "cell_type": "markdown",
   "id": "09944b49-c13c-445f-a223-df8c5f36d68e",
   "metadata": {},
   "source": [
    "There are 3 ways to run local ollama:\n",
    "1.api calling\n",
    "2.import ollama\n",
    "3.use the OpenAI client library to call Ollama"
   ]
  },
  {
   "cell_type": "code",
   "execution_count": 51,
   "id": "ce49d2b4-0c58-4a7e-9386-6022a0c6d359",
   "metadata": {},
   "outputs": [],
   "source": [
    "import requests\n",
    "from bs4 import BeautifulSoup\n",
    "from IPython.display import Markdown, display"
   ]
  },
  {
   "cell_type": "code",
   "execution_count": 52,
   "id": "f6e51853-eb32-4156-9167-5822bba8fda0",
   "metadata": {},
   "outputs": [],
   "source": [
    "# Constants\n",
    "\n",
    "OLLAMA_API = \"http://localhost:11434/api/chat\"\n",
    "HEADERS = {\"Content-Type\": \"application/json\"}\n",
    "MODEL = \"llama3.1\""
   ]
  },
  {
   "cell_type": "code",
   "execution_count": 53,
   "id": "a4d8c963-501c-46c1-96d0-2bc6274775ad",
   "metadata": {},
   "outputs": [],
   "source": [
    "messages = [\n",
    "    {\"role\": \"user\", \"content\": \"Describe some of the business applications of Generative AI\"}\n",
    "]"
   ]
  },
  {
   "cell_type": "code",
   "execution_count": 54,
   "id": "19a2d5e6-3876-4dd0-82c1-bf2f2a3290d4",
   "metadata": {},
   "outputs": [],
   "source": [
    "payload = {\n",
    "        \"model\": MODEL,\n",
    "        \"messages\": messages,\n",
    "        \"stream\": False\n",
    "    }"
   ]
  },
  {
   "cell_type": "markdown",
   "id": "a19bb416-a769-460f-b03f-6d6868dbb84e",
   "metadata": {},
   "source": [
    "## 1.api calling"
   ]
  },
  {
   "cell_type": "code",
   "execution_count": 55,
   "id": "ee36d2e0-0c17-4bd5-bcec-c27c2553dd6a",
   "metadata": {},
   "outputs": [
    {
     "data": {
      "text/markdown": [
       "Generative AI has a wide range of business applications across various industries. Here are some examples:\n",
       "\n",
       "1. **Content Generation**:\n",
       "\t* Automate content creation: blogs, articles, social media posts, product descriptions, and more.\n",
       "\t* Personalize customer experiences with tailored content.\n",
       "2. **Advertising and Marketing**:\n",
       "\t* Generate high-quality images and videos for ad campaigns.\n",
       "\t* Create dynamic, personalized ads based on user behavior and preferences.\n",
       "3. **Product Design and Development**:\n",
       "\t* Automate design tasks: generate product prototypes, layouts, and visualizations.\n",
       "\t* Use generative models to create new product designs or variants.\n",
       "4. **Customer Service and Support**:\n",
       "\t* Generate automated responses to frequently asked questions (FAQs).\n",
       "\t* Create personalized chatbots that simulate human-like conversations.\n",
       "5. **Predictive Maintenance and Quality Control**:\n",
       "\t* Generate predictive models for equipment maintenance and quality control.\n",
       "\t* Analyze sensor data to identify potential issues before they occur.\n",
       "6. **Data Augmentation and Enrichment**:\n",
       "\t* Generate synthetic data to supplement existing datasets, improving model performance and accuracy.\n",
       "\t* Create enriched data products (e.g., augmented reality experiences) that enhance customer engagement.\n",
       "7. **Creative Industries**:\n",
       "\t* Automate music composition, editing, and mixing.\n",
       "\t* Generate 3D models, animations, and special effects for film and gaming industries.\n",
       "8. **Healthcare and Medical Research**:\n",
       "\t* Develop personalized treatment plans based on patient data and medical research.\n",
       "\t* Use generative models to simulate disease progression and predict treatment outcomes.\n",
       "9. **Financial Modeling and Risk Management**:\n",
       "\t* Generate predictive models for financial forecasting, credit risk assessment, and market analysis.\n",
       "\t* Automate tasks such as portfolio optimization, stress testing, and scenario planning.\n",
       "10. **Supply Chain Optimization**:\n",
       "\t* Analyze demand patterns and optimize inventory management using generative models.\n",
       "\t* Predict supply chain disruptions and develop contingency plans.\n",
       "\n",
       "These are just a few examples of the many business applications of Generative AI. As the technology continues to evolve, we can expect even more innovative uses across various industries."
      ],
      "text/plain": [
       "<IPython.core.display.Markdown object>"
      ]
     },
     "metadata": {},
     "output_type": "display_data"
    }
   ],
   "source": [
    "response = requests.post(OLLAMA_API, json=payload, headers=HEADERS)\n",
    "display(Markdown(response.json()['message']['content']))"
   ]
  },
  {
   "cell_type": "markdown",
   "id": "2748032b-4728-4c5d-88d1-5b81b092a6f4",
   "metadata": {},
   "source": [
    "## 2.import ollama"
   ]
  },
  {
   "cell_type": "code",
   "execution_count": 56,
   "id": "0b4c5694-719b-43b8-bb5a-54d6ee8fee60",
   "metadata": {},
   "outputs": [
    {
     "data": {
      "text/markdown": [
       "Generative AI has a wide range of business applications across various industries. Here are some examples:\n",
       "\n",
       "1. **Content Generation**:\n",
       "\t* Automated content creation: blogs, articles, social media posts, product descriptions, and more.\n",
       "\t* Generating product reviews, customer testimonials, and FAQs to improve customer engagement.\n",
       "2. **Digital Experience**:\n",
       "\t* AI-powered chatbots for customer support, providing personalized interactions and reducing response times.\n",
       "\t* Generative models for generating 3D models, animations, and interactive experiences for e-commerce websites, games, and entertainment platforms.\n",
       "3. **Marketing and Advertising**:\n",
       "\t* Generating personalized product recommendations based on user behavior and preferences.\n",
       "\t* Creating customized marketing campaigns with AI-generated visuals, videos, and copywriting.\n",
       "4. **Product Design and Development**:\n",
       "\t* Using generative design to create optimized products, such as electronic components, furniture, or industrial equipment.\n",
       "\t* Automatically generating documentation, manuals, and technical specifications for complex products.\n",
       "5. **Sales and Revenue Growth**:\n",
       "\t* AI-powered sales forecasting and lead generation to identify potential customers and predict revenue growth.\n",
       "\t* Generating customized proposals, contracts, and quotes based on customer needs and preferences.\n",
       "6. **Customer Service and Support**:\n",
       "\t* Automated issue resolution using generative models that analyze user queries and provide relevant solutions.\n",
       "\t* Providing personalized support through AI-generated chatbots or virtual assistants.\n",
       "7. **Data Analysis and Visualization**:\n",
       "\t* Creating interactive dashboards, reports, and visualizations to help business users understand complex data insights.\n",
       "\t* Generating summaries of large datasets, identifying trends, and providing recommendations for decision-makers.\n",
       "8. **Creative Industries**:\n",
       "\t* AI-powered music composition, video editing, and image generation for film, TV, and advertising productions.\n",
       "\t* Collaborative tools for writers, artists, and designers to generate new ideas and explore creative possibilities.\n",
       "9. **Financial Services**:\n",
       "\t* Generating investment reports, forecasts, and recommendations based on market trends and user inputs.\n",
       "\t* Creating customized financial models and simulations to analyze business scenarios and optimize decision-making.\n",
       "10. **Cybersecurity**:\n",
       "\t* Identifying potential security threats and generating countermeasures using AI-powered threat detection systems.\n",
       "\t* Analyzing network traffic and logs to detect anomalies and provide predictive insights for incident response.\n",
       "\n",
       "These applications represent just a few examples of the many ways generative AI can be used in business settings. As the technology continues to evolve, we can expect even more innovative uses across various industries."
      ],
      "text/plain": [
       "<IPython.core.display.Markdown object>"
      ]
     },
     "metadata": {},
     "output_type": "display_data"
    }
   ],
   "source": [
    "import ollama\n",
    "\n",
    "response = ollama.chat(model=MODEL, messages=messages)\n",
    "display(Markdown(response['message']['content']))"
   ]
  },
  {
   "cell_type": "markdown",
   "id": "1960a1bf-983f-4db2-9a39-251edce870a2",
   "metadata": {},
   "source": [
    "## 3.use the OpenAI client library to call Ollama"
   ]
  },
  {
   "cell_type": "code",
   "execution_count": 57,
   "id": "59eb3551-fd61-456b-b277-9488a91d0299",
   "metadata": {},
   "outputs": [
    {
     "data": {
      "text/markdown": [
       "Generative AI has numerous business applications across various industries, and here are some examples:\n",
       "\n",
       "1. **Content Generation**:\n",
       "\t* Article and blog post generation for publications and websites.\n",
       "\t* Product descriptions, meta tags, and other content creation for e-commerce platforms.\n",
       "\t* Social media content generation to reduce content creation costs.\n",
       "2. **Product Design and Prototyping**:\n",
       "\t* Generating 3D product designs, animations, and renderings.\n",
       "\t* Creating virtual prototypes for testing and visualization purposes.\n",
       "\t* Designing and optimizing user interfaces (UI) and user experiences (UX).\n",
       "3. **Marketing and Advertising**:\n",
       "\t* Generative image and video creation for ad campaigns.\n",
       "\t* Developing targeted landing pages and website content.\n",
       "\t* Personalized product recommendations based on customer behavior.\n",
       "4. **Data Visualization**:\n",
       "\t* Creating informative charts, graphs, and tables from large datasets.\n",
       "\t* Interactive dashboards for data exploration and analysis.\n",
       "\t* Visualizing complex data to reveal trends and insights.\n",
       "5. **Human Resources and Learning and Development**:\n",
       "\t* Automated onboarding processes with personalized content and training materials.\n",
       "\t* Adaptive learning platforms generating customized learning paths for employees.\n",
       "\t* Assessments and evaluation tools using AI-generated test questions.\n",
       "6. **Customer Service and Support**:\n",
       "\t* Chatbots and virtual assistants to provide 24/7 customer support.\n",
       "\t* Answering frequently asked questions (FAQs) with contextually relevant information.\n",
       "\t* Automated troubleshooting processes using text-based dialogues.\n",
       "7. **Language Translation and Localization**:\n",
       "\t* Machine translation for real-time or batch processing.\n",
       "\t* Multilingual content creation for global audiences.\n",
       "\t* Adaptation of user interfaces and product experiences for various languages and cultures.\n",
       "8. **Data Annotation and Enrichment**:\n",
       "\t* Automated data annotation for training machine learning models.\n",
       "\t* Data fusion and integration from multiple sources and formats.\n",
       "\t* Enhanced data labeling with contextual relevance and importance scoring.\n",
       "9. **Predictive Maintenance and Quality Control**:\n",
       "\t* Generating inspection protocols using AI-enriched sensor data.\n",
       "\t* Predictive maintenance of industrial equipment using real-time monitoring.\n",
       "\t* Quality control processes for detecting anomalies in materials or manufacturing processes.\n",
       "10. **Research and Development and Innovation**:\n",
       "\t* Identifying new products, services, or business models through generative analytics.\n",
       "\t* Developing new materials or compounds by simulating their properties.\n",
       "\t* Rapid prototyping of experimental designs before physical construction.\n",
       "\n",
       "These examples demonstrate the versatility of Generative AI in various industries and applications. As the technology continues to evolve, we'll see even more innovative use cases emerge!"
      ],
      "text/plain": [
       "<IPython.core.display.Markdown object>"
      ]
     },
     "metadata": {},
     "output_type": "display_data"
    }
   ],
   "source": [
    "from openai import OpenAI\n",
    "ollama_via_openai = OpenAI(base_url='http://localhost:11434/v1', api_key='ollama')\n",
    "\n",
    "response = ollama_via_openai.chat.completions.create(\n",
    "    model=MODEL,\n",
    "    messages=messages\n",
    ")\n",
    "display(Markdown(response.choices[0].message.content))"
   ]
  },
  {
   "cell_type": "markdown",
   "id": "fce6ccc7-7950-45d1-b825-3df3919d1eec",
   "metadata": {},
   "source": [
    "## 4. We can try Summary my portfolio by Ollama\n",
    "### https://howardzhan2025.top/blog/2024/ga-summary-openai/ switch OpenAI to Ollama"
   ]
  },
  {
   "cell_type": "code",
   "execution_count": null,
   "id": "b41e1218-0196-44e7-b220-f8717aac2864",
   "metadata": {},
   "outputs": [],
   "source": []
  }
 ],
 "metadata": {
  "kernelspec": {
   "display_name": "Python 3 (ipykernel)",
   "language": "python",
   "name": "python3"
  },
  "language_info": {
   "codemirror_mode": {
    "name": "ipython",
    "version": 3
   },
   "file_extension": ".py",
   "mimetype": "text/x-python",
   "name": "python",
   "nbconvert_exporter": "python",
   "pygments_lexer": "ipython3",
   "version": "3.12.2"
  }
 },
 "nbformat": 4,
 "nbformat_minor": 5
}
