{
 "cells": [
  {
   "cell_type": "markdown",
   "id": "766eefac-0969-41f1-bbe6-353e61bbcd59",
   "metadata": {},
   "source": [
    "### interview\n",
    "### https://www.notion.so/garywhite/2024-Data-Scientist-Interview-Questions-Answers-c4a1aad2a417449c843ab615f3778ea7"
   ]
  },
  {
   "cell_type": "markdown",
   "id": "83952a04-dbd5-4af2-88ef-bc5266999265",
   "metadata": {},
   "source": []
  }
 ],
 "metadata": {
  "kernelspec": {
   "display_name": "Python 3 (ipykernel)",
   "language": "python",
   "name": "python3"
  },
  "language_info": {
   "name": ""
  }
 },
 "nbformat": 4,
 "nbformat_minor": 5
}
